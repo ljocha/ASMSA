{
 "cells": [
  {
   "cell_type": "code",
   "execution_count": null,
   "id": "c32bb83d-beb9-4669-ae7e-1ba8f5ae71a3",
   "metadata": {},
   "outputs": [],
   "source": []
  },
  {
   "cell_type": "code",
   "execution_count": null,
   "id": "d4023c37-9112-4298-aef8-d93cd5a1bd56",
   "metadata": {
    "tags": []
   },
   "outputs": [],
   "source": [
    "threads = 16\n",
    "import os\n",
    "os.environ['OMP_NUM_THREADS']=str(threads)\n",
    "import tensorflow as tf\n",
    "\n",
    "# Tensorflow needs explicit cofig calls\n",
    "tf.config.threading.set_inter_op_parallelism_threads(threads)\n",
    "tf.config.threading.set_intra_op_parallelism_threads(threads)"
   ]
  },
  {
   "cell_type": "code",
   "execution_count": null,
   "id": "e91e5e29-e503-4eb3-88bc-f66410a1c347",
   "metadata": {},
   "outputs": [],
   "source": [
    "# input conformation\n",
    "#conf = \"alaninedipeptide_H.pdb\"\n",
    "conf = \"trpcage_correct.pdb\"\n",
    "\n",
    "# input trajectory\n",
    "# atom numbering must be consistent with {conf}\n",
    "\n",
    "#traj = \"alaninedipeptide_reduced.xtc\"\n",
    "traj = \"trpcage_red.xtc\"\n",
    "\n",
    "# input topology\n",
    "# expected to be produced with \n",
    "#    gmx pdb2gmx -f {conf} -p {topol} -n {index} -o {gro}\n",
    "\n",
    "# Gromacs changes atom numbering, the index file must be generated and used as well\n",
    "# gro file is used to generate inverse indexing for plumed.dat\n",
    "\n",
    "#topol = \"topol.top\"\n",
    "topol = \"topol_correct.top\"\n",
    "index = 'index_correct.ndx'\n",
    "gro = 'trpcage_correct.gro'"
   ]
  },
  {
   "cell_type": "code",
   "execution_count": null,
   "id": "29fb2ae3-ab8c-4df8-b5dc-578d2ce14dd1",
   "metadata": {},
   "outputs": [],
   "source": [
    "import mdtraj as md\n",
    "import numpy as np\n",
    "import asmsa\n",
    "import tensorflow as tf\n",
    "from tensorflow import keras\n",
    "import matplotlib.pyplot as plt"
   ]
  },
  {
   "cell_type": "code",
   "execution_count": null,
   "id": "f4621224-d2ea-43b8-a0df-2f82622ff342",
   "metadata": {},
   "outputs": [],
   "source": [
    "tr = md.load(traj,top=conf)\n",
    "idx=tr[0].top.select(\"name CA\")\n",
    "#idx=tr[0].top.select(\"element != H\")\n",
    "tr.superpose(tr[0],atom_indices=idx)\n",
    "geom = np.moveaxis(tr.xyz ,0,-1)\n",
    "geom = np.moveaxis(tr.xyz ,0,-1)\n",
    "geom.shape"
   ]
  },
  {
   "cell_type": "code",
   "execution_count": null,
   "id": "66436869-e90b-404a-8c65-00380c0df6ce",
   "metadata": {},
   "outputs": [],
   "source": [
    "density = 2 # integer in [1, n_atoms-1]\n",
    "\n",
    "sparse_dists = asmsa.NBDistancesSparse(geom.shape[0], density=density)\n",
    "mol = asmsa.Molecule(pdb=conf,top=topol,ndx=index,fms=[sparse_dists])"
   ]
  },
  {
   "cell_type": "code",
   "execution_count": null,
   "id": "42b61821-07e1-415c-8fb9-99cb3d3b0f72",
   "metadata": {},
   "outputs": [],
   "source": [
    "X_train = mol.intcoord(geom).T\n",
    "X_train.shape"
   ]
  },
  {
   "cell_type": "code",
   "execution_count": null,
   "id": "d8efc496-f51e-4b27-a777-38fde0aa8e1d",
   "metadata": {},
   "outputs": [],
   "source": [
    "ds = tf.data.Dataset.from_tensor_slices(X_train).shuffle(2048).batch(256,drop_remainder=True)"
   ]
  },
  {
   "cell_type": "code",
   "execution_count": null,
   "id": "ef6627a9-bb65-4f07-ba64-39717ec1ea3d",
   "metadata": {},
   "outputs": [],
   "source": [
    "en = list(range(32,129,32))\n",
    "dn = list(range(64,257,64))\n",
    "el = len(en)\n",
    "dl = len(dn)\n",
    "en = en * dl\n",
    "dn = list(np.repeat(np.array(dn),el,axis=0))"
   ]
  },
  {
   "cell_type": "code",
   "execution_count": null,
   "id": "f2c62959-eeeb-4858-a315-a9d4b9a8ec2a",
   "metadata": {},
   "outputs": [],
   "source": [
    "list(en)"
   ]
  },
  {
   "cell_type": "code",
   "execution_count": null,
   "id": "630086c4-faa3-4a78-b98e-c92d4949b911",
   "metadata": {},
   "outputs": [],
   "source": [
    "dn"
   ]
  },
  {
   "cell_type": "code",
   "execution_count": null,
   "id": "b327d125-34b8-4af8-a90e-7f971dbd0664",
   "metadata": {},
   "outputs": [],
   "source": [
    "#m = asmsa.AAEModel((X_train.shape[1],),enc_seed=[32,32,64,64,128,128],disc_seed=[64,128,64,128,64,128])\n",
    "m = asmsa.AAEModel((X_train.shape[1],),enc_layers=3,disc_layers=3,enc_seed=en,disc_seed=dn)\n",
    "m.compile(optimizer='Adagrad')"
   ]
  },
  {
   "cell_type": "code",
   "execution_count": null,
   "id": "7a7162fd-144e-4b33-82a4-dfedf1335aa0",
   "metadata": {},
   "outputs": [],
   "source": [
    "m.fit(ds,epochs=10)"
   ]
  },
  {
   "cell_type": "code",
   "execution_count": null,
   "id": "dc1e05c6-2e38-4ec0-a948-c61b288dddeb",
   "metadata": {},
   "outputs": [],
   "source": [
    "lows = m.enc(X_train[::500]).numpy()\n",
    "#lows = m5.aes(X_train[::500])[1].numpy()\n",
    "\n",
    "plt.figure(figsize=(12,9))\n",
    "for mod in range(lows.shape[1]//2):\n",
    "    plows = lows[:,mod*2:(mod+1)*2]\n",
    "    plt.scatter(plows[:,0],plows[:,1],marker='.',label=str(mod))\n",
    "\n",
    "lim=2\n",
    "plt.legend()    \n",
    "plt.xlim((-lim,lim))\n",
    "plt.ylim((-lim,lim))\n",
    "plt.show()"
   ]
  },
  {
   "cell_type": "code",
   "execution_count": null,
   "id": "43fd9746-2e20-419e-948f-eb843b6093ab",
   "metadata": {},
   "outputs": [],
   "source": [
    "keras.optimizers.__dict__['Adam']"
   ]
  },
  {
   "cell_type": "code",
   "execution_count": null,
   "id": "6507b0ba-000d-4e5f-8fad-23d4651b4556",
   "metadata": {},
   "outputs": [],
   "source": []
  }
 ],
 "metadata": {
  "kernelspec": {
   "display_name": "Python 3 (ipykernel)",
   "language": "python",
   "name": "python3"
  },
  "language_info": {
   "codemirror_mode": {
    "name": "ipython",
    "version": 3
   },
   "file_extension": ".py",
   "mimetype": "text/x-python",
   "name": "python",
   "nbconvert_exporter": "python",
   "pygments_lexer": "ipython3",
   "version": "3.10.6"
  }
 },
 "nbformat": 4,
 "nbformat_minor": 5
}
