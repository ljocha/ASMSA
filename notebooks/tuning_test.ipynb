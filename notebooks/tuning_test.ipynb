{
 "cells": [
  {
   "cell_type": "code",
   "execution_count": null,
   "id": "b2421903",
   "metadata": {},
   "outputs": [],
   "source": [
    "!python -m pip install keras_tuner"
   ]
  },
  {
   "cell_type": "code",
   "execution_count": 1,
   "id": "583d3417",
   "metadata": {},
   "outputs": [],
   "source": [
    "import keras_tuner\n",
    "import tensorflow as tf\n",
    "from tensorflow import keras\n",
    "import numpy as np"
   ]
  },
  {
   "cell_type": "code",
   "execution_count": 2,
   "id": "48b0701d",
   "metadata": {},
   "outputs": [],
   "source": [
    "# generate random data for testing purposes\n",
    "\n",
    "x_train = np.random.rand(1000, 28, 28, 1)\n",
    "y_train = np.random.randint(0, 10, (1000, 1))\n",
    "x_val = np.random.rand(1000, 28, 28, 1)\n",
    "y_val = np.random.randint(0, 10, (1000, 1))"
   ]
  },
  {
   "cell_type": "code",
   "execution_count": 3,
   "id": "85d4126c",
   "metadata": {},
   "outputs": [],
   "source": [
    "# define hypermodel\n",
    "\n",
    "class MyHyperModel(keras_tuner.HyperModel):\n",
    "    def build(self, hp):\n",
    "        \"\"\"Builds a convolutional model.\"\"\"\n",
    "        inputs = keras.Input(shape=(28, 28, 1))\n",
    "        x = keras.layers.Flatten()(inputs)\n",
    "        x = keras.layers.Dense(\n",
    "            units=hp.Choice(\"units\", [32, 64, 128]), activation=\"relu\"\n",
    "        )(x)\n",
    "        outputs = keras.layers.Dense(10)(x)\n",
    "        return keras.Model(inputs=inputs, outputs=outputs)\n",
    "    \n",
    "\n",
    "    def fit(self, hp, model, x, y, validation_data, callbacks=None, **kwargs):\n",
    "        # Convert the datasets to tf.data.Dataset.\n",
    "        batch_size = hp.Int(\"batch_size\", 32, 128, step=32, default=64)\n",
    "        train_ds = tf.data.Dataset.from_tensor_slices((x_train, y_train)).batch(\n",
    "            batch_size\n",
    "        )\n",
    "        validation_data = tf.data.Dataset.from_tensor_slices(validation_data).batch(\n",
    "            batch_size\n",
    "        )\n",
    "\n",
    "        # Define the optimizer.\n",
    "        optimizer = keras.optimizers.Adam(\n",
    "            hp.Float(\"learning_rate\", 1e-4, 1e-2, sampling=\"log\", default=1e-3)\n",
    "        )\n",
    "        loss_fn = keras.losses.SparseCategoricalCrossentropy(from_logits=True)\n",
    "\n",
    "        # The metric to track validation loss.\n",
    "        epoch_loss_metric = keras.metrics.Mean()\n",
    "\n",
    "        # Function to run the train step.\n",
    "        @tf.function\n",
    "        def run_train_step(images, labels):\n",
    "            with tf.GradientTape() as tape:\n",
    "                logits = model(images)\n",
    "                loss = loss_fn(labels, logits)\n",
    "                # Add any regularization losses.\n",
    "                if model.losses:\n",
    "                    loss += tf.math.add_n(model.losses)\n",
    "            gradients = tape.gradient(loss, model.trainable_variables)\n",
    "            optimizer.apply_gradients(zip(gradients, model.trainable_variables))\n",
    "\n",
    "        # Function to run the validation step.\n",
    "        @tf.function\n",
    "        def run_val_step(images, labels):\n",
    "            logits = model(images)\n",
    "            loss = loss_fn(labels, logits)\n",
    "            # Update the metric.\n",
    "            epoch_loss_metric.update_state(loss)\n",
    "\n",
    "        # Assign the model to the callbacks.\n",
    "        for callback in callbacks:\n",
    "            callback.model = model\n",
    "\n",
    "        # Record the best validation loss value\n",
    "        best_epoch_loss = float(\"inf\")\n",
    "\n",
    "        # The custom training loop.\n",
    "        for epoch in range(2):\n",
    "            print(f\"Epoch: {epoch}\")\n",
    "\n",
    "            # Iterate the training data to run the training step.\n",
    "            for images, labels in train_ds:\n",
    "                run_train_step(images, labels)\n",
    "\n",
    "            # Iterate the validation data to run the validation step.\n",
    "            for images, labels in validation_data:\n",
    "                run_val_step(images, labels)\n",
    "\n",
    "            # Calling the callbacks after epoch.\n",
    "            epoch_loss = float(epoch_loss_metric.result().numpy())\n",
    "            for callback in callbacks:\n",
    "                # The \"my_metric\" is the objective passed to the tuner.\n",
    "                callback.on_epoch_end(epoch, logs={\"my_metric\": epoch_loss})\n",
    "            epoch_loss_metric.reset_states()\n",
    "\n",
    "            print(f\"Epoch loss: {epoch_loss}\")\n",
    "            best_epoch_loss = min(best_epoch_loss, epoch_loss)\n",
    "\n",
    "        # Return the evaluation metric value.\n",
    "        return best_epoch_loss"
   ]
  },
  {
   "cell_type": "code",
   "execution_count": 4,
   "id": "99b11fc1",
   "metadata": {},
   "outputs": [
    {
     "name": "stderr",
     "output_type": "stream",
     "text": [
      "2022-09-24 17:02:15.352188: I tensorflow/core/common_runtime/gpu/gpu_device.cc:1525] Created device /job:localhost/replica:0/task:0/device:GPU:0 with 43432 MB memory:  -> device: 0, name: NVIDIA A40, pci bus id: 0000:a3:00.0, compute capability: 8.6\n"
     ]
    }
   ],
   "source": [
    "# create tuner\n",
    "\n",
    "tuner = keras_tuner.RandomSearch(\n",
    "    objective=keras_tuner.Objective(\"my_metric\", \"min\"),\n",
    "    max_trials=4,\n",
    "    hypermodel=MyHyperModel(),\n",
    "    directory=\"results\",\n",
    "    project_name=\"custom_training\",\n",
    "    overwrite=True,\n",
    ")"
   ]
  },
  {
   "cell_type": "code",
   "execution_count": 5,
   "id": "9ee09a40",
   "metadata": {},
   "outputs": [
    {
     "name": "stdout",
     "output_type": "stream",
     "text": [
      "Trial 4 Complete [00h 00m 00s]\n",
      "my_metric: 2.334359645843506\n",
      "\n",
      "Best my_metric So Far: 2.3074400424957275\n",
      "Total elapsed time: 00h 00m 02s\n",
      "INFO:tensorflow:Oracle triggered exit\n"
     ]
    }
   ],
   "source": [
    "tuner.search(x=x_train, y=y_train, validation_data=(x_val, y_val))"
   ]
  },
  {
   "cell_type": "code",
   "execution_count": null,
   "id": "15b706da",
   "metadata": {},
   "outputs": [],
   "source": [
    "best_hps = tuner.get_best_hyperparameters()[0]\n",
    "print(best_hps.values)\n",
    "\n",
    "best_model = tuner.get_best_models()[0]\n",
    "best_model.summary()"
   ]
  }
 ],
 "metadata": {
  "kernelspec": {
   "display_name": "Python 3 (ipykernel)",
   "language": "python",
   "name": "python3"
  },
  "language_info": {
   "codemirror_mode": {
    "name": "ipython",
    "version": 3
   },
   "file_extension": ".py",
   "mimetype": "text/x-python",
   "name": "python",
   "nbconvert_exporter": "python",
   "pygments_lexer": "ipython3",
   "version": "3.8.10"
  }
 },
 "nbformat": 4,
 "nbformat_minor": 5
}
