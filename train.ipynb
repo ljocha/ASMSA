{
 "cells": [
  {
   "cell_type": "markdown",
   "id": "6851ea37",
   "metadata": {},
   "source": [
    "# ASMSA: Train AAE model with the tuned hyperparameters\n",
    "\n",
    "**Previous steps**\n",
    "- [prepare.ipynb](prepare.ipynb): Download and sanity check input files\n",
    "- [tune.ipynb](tune.ipynb): Perform initial hyperparameter tuning for this molecule\n",
    "\n",
    "**Next step**\n",
    "- [md.ipynb](md.ipynb): Use a trained model in MD simulation with Gromacs"
   ]
  },
  {
   "cell_type": "markdown",
   "id": "235ca1f6",
   "metadata": {},
   "source": [
    "## Notebook setup"
   ]
  },
  {
   "cell_type": "code",
   "execution_count": null,
   "id": "b4d8932e-711d-4789-b4c6-c9eb4893b7ab",
   "metadata": {},
   "outputs": [],
   "source": [
    "#%cd villin"
   ]
  },
  {
   "cell_type": "code",
   "execution_count": null,
   "id": "91559377-60e1-421a-a51e-5e78f0c1b99b",
   "metadata": {},
   "outputs": [],
   "source": [
    "threads = 2\n",
    "import os\n",
    "os.environ['OMP_NUM_THREADS']=str(threads)\n",
    "import tensorflow as tf\n",
    "\n",
    "# PyTorch favours OMP_NUM_THREADS in environment\n",
    "import torch\n",
    "\n",
    "# Tensorflow needs explicit cofig calls\n",
    "tf.config.threading.set_inter_op_parallelism_threads(threads)\n",
    "tf.config.threading.set_intra_op_parallelism_threads(threads)"
   ]
  },
  {
   "cell_type": "code",
   "execution_count": null,
   "id": "4b70ab11",
   "metadata": {},
   "outputs": [],
   "source": [
    "from asmsa.tuning_analyzer import TuningAnalyzer\n",
    "import tensorflow_probability as tfp\n",
    "import matplotlib.pyplot as plt\n",
    "import mdtraj as md\n",
    "import numpy as np\n",
    "import urllib.request\n",
    "from tensorflow import keras\n",
    "import keras_tuner\n",
    "import asmsa.visualizer as visualizer\n",
    "import asmsa\n",
    "\n",
    "\n",
    "from asmsa.plot_training import LiveTrainingPlot"
   ]
  },
  {
   "cell_type": "markdown",
   "id": "aaba1b8f-d0ff-4264-9712-d06ad9ac964f",
   "metadata": {},
   "source": [
    "## Input files\n",
    "\n",
    "All input files are prepared (up- or downloaded) in [prepare.ipynb](prepare.ipynb). \n"
   ]
  },
  {
   "cell_type": "code",
   "execution_count": null,
   "id": "fcd3c43e",
   "metadata": {},
   "outputs": [],
   "source": [
    "exec(open('inputs.py').read())"
   ]
  },
  {
   "cell_type": "code",
   "execution_count": null,
   "id": "2a38605e-761a-4135-bbe3-664379236d72",
   "metadata": {},
   "outputs": [],
   "source": [
    "#exec(open('inputs-des.py').read())"
   ]
  },
  {
   "cell_type": "markdown",
   "id": "149cc516-0303-47ea-8b73-b84666bed151",
   "metadata": {},
   "source": [
    "## Apply the tuning results"
   ]
  },
  {
   "cell_type": "code",
   "execution_count": null,
   "id": "a56f21c6-eeca-4268-bbb7-7232c9e1bd6d",
   "metadata": {},
   "outputs": [],
   "source": [
    "# pick from plots in tune.ipynb\n",
    "\n",
    "best_enc_seed=128\n",
    "best_disc_seed=32"
   ]
  },
  {
   "cell_type": "code",
   "execution_count": null,
   "id": "f2054d30-a16c-40ba-8369-cbd3d6ce2fba",
   "metadata": {
    "tags": []
   },
   "outputs": [],
   "source": [
    "# Get best HP from latest tuning\n",
    "analyzer = TuningAnalyzer()\n",
    "analyzer.get_best_hp(num_trials=3)"
   ]
  },
  {
   "cell_type": "code",
   "execution_count": null,
   "id": "6ff484e1-b334-491b-9179-1a9484fa0045",
   "metadata": {
    "tags": []
   },
   "outputs": [],
   "source": [
    "# Select HP to use by specifying trial_id\n",
    "#  e.g: trial_id = '483883b929b3445bff6dee9759c4d50ee3a4ba7f0db22e665c49b5f942d9693b'\n",
    "# ... or don't specify, by default use the trial with the lowest score\n",
    "trial_id = 'abae5f92717a95f68c7f7560850cef4a5fd75cd6ff0b0639ce6bb8324bf15efa'\n",
    "\n",
    "hps = None\n",
    "for trial in analyzer.sorted_trials:\n",
    "    if trial['trial_id'] == trial_id:\n",
    "        hps = trial['hp']\n",
    "    \n",
    "if not hps:\n",
    "    print(f'Could not find trial with specified ID, using one with the lowest score - {analyzer.sorted_trials[0][\"trial_id\"]}')\n",
    "    hps = analyzer.sorted_trials[0]['hp']\n",
    "    \n",
    "print(hps)"
   ]
  },
  {
   "cell_type": "markdown",
   "id": "69a77b87-93ed-4ed1-a613-666e268676d4",
   "metadata": {},
   "source": [
    "## Load datasets\n",
    "Load filtered trajectory datasets that were processed in **prepare.ipynb**. Trajectories are in internal coordinates format."
   ]
  },
  {
   "cell_type": "code",
   "execution_count": null,
   "id": "e9c602fd-a6c9-4e97-ad1c-d27e99bab9c6",
   "metadata": {},
   "outputs": [],
   "source": [
    "# load train dataset\n",
    "X_train = tf.data.Dataset.load('../Thermal-unfolding/datasets/intcoords/train')\n",
    "\n",
    "# get batched version of dataset to feed to AAE model for training\n",
    "X_train_batched = X_train.batch(hps['batch_size'],drop_remainder=True)\n",
    "\n",
    "# get numpy version for visualization purposes\n",
    "X_train_np = np.stack(list(X_train))\n",
    "X_train_np.shape"
   ]
  },
  {
   "cell_type": "code",
   "execution_count": null,
   "id": "b8bff1f9-7cd4-4369-ab22-63310897c4a3",
   "metadata": {},
   "outputs": [],
   "source": [
    "# load test dataset\n",
    "X_test = tf.data.Dataset.load('../Thermal-unfolding/datasets/intcoords/test')\n",
    "\n",
    "# get batched version of dataset to feed to AAE model for prediction\n",
    "X_test_batched = X_test.batch(hps['batch_size'],drop_remainder=True)\n",
    "\n",
    "# get numpy version for testing purposes\n",
    "X_test_np = np.stack(list(X_test))\n",
    "X_test_np.shape"
   ]
  },
  {
   "cell_type": "code",
   "execution_count": null,
   "id": "b7efd2bf-75d3-4d82-98a8-ad4cfc4c4c93",
   "metadata": {},
   "outputs": [],
   "source": [
    "X_val = tf.data.Dataset.load('../Thermal-unfolding/datasets/intcoords/validate').batch(hps['batch_size'],drop_remainder=True)\n",
    "X_val_np = np.stack(list(X_val))\n",
    "X_val_np.shape"
   ]
  },
  {
   "cell_type": "markdown",
   "id": "ea158bb9-8ccf-48ba-9cb7-ccd7ba8fdfd1",
   "metadata": {},
   "source": [
    "## Train"
   ]
  },
  {
   "cell_type": "markdown",
   "id": "967a2ec3-7104-4e4e-895b-dfb4b454913b",
   "metadata": {},
   "source": [
    "### Distribution prior\n",
    "Train with common prior distributions. See https://www.tensorflow.org/probability/api_docs/python/tfp/distributions for all available distributions. It is ideal to use tuned Hyperparameters for training."
   ]
  },
  {
   "cell_type": "code",
   "execution_count": null,
   "id": "7854a732-5841-4a4f-84d3-8239370fc5c4",
   "metadata": {},
   "outputs": [],
   "source": [
    "# set used prior\n",
    "\n",
    "# this one is (more or less) required to with the density alignment\n",
    "# prior = tfp.distributions.MultivariateNormalDiag(loc=[0.,0.])\n",
    "\n",
    "prior = tfp.distributions.Normal(loc=0, scale=1)\n",
    "# prior = tfp.distributions.Uniform()\n",
    "# prior = tfp.distributions.Weibull(1,0.5)\n",
    "# prior = tfp.distributions.Cauchy(loc=0, scale=1)"
   ]
  },
  {
   "cell_type": "code",
   "execution_count": null,
   "id": "ef728783-cfb4-4f5e-9dc5-ba23769496ab",
   "metadata": {
    "tags": []
   },
   "outputs": [],
   "source": [
    "# prepare model using the best hyperparameters\n",
    "testm = asmsa.AAEModel((X_train_np.shape[1],),\n",
    "                       prior=prior,\n",
    "                       hp=hps,\n",
    "                       enc_seed=best_enc_seed,\n",
    "                       disc_seed=best_disc_seed,\n",
    "                       with_density=False\n",
    "                      )\n",
    "testm.compile()"
   ]
  },
  {
   "cell_type": "code",
   "execution_count": null,
   "id": "9f95c599-aebb-4195-9e04-c66a33a0479e",
   "metadata": {},
   "outputs": [],
   "source": [
    "testm.summary()"
   ]
  },
  {
   "cell_type": "code",
   "execution_count": null,
   "id": "706f3e67-02ca-4671-9390-8c19b62ff5ee",
   "metadata": {},
   "outputs": [],
   "source": [
    "# specify earlystopping callback to avoid overfitting\n",
    "#monitored_metric = \"val_AE loss min\"\n",
    "#monitored_metric = 'val_loss'\n",
    "\n",
    "metric_groups = {\n",
    "    'Autoencoder Loss': ['AE loss min', 'val_val_AE loss min'],\n",
    "    'Discriminator Loss': ['disc loss min', 'val_val_disc loss min']\n",
    "}\n",
    "\n",
    "early_stop_cb = tf.keras.callbacks.EarlyStopping(\n",
    "    monitor=\"val_val_AE loss min\",\n",
    "    min_delta=0.0001,\n",
    "    patience=15,\n",
    "    verbose=1,\n",
    "    mode=\"min\",\n",
    "    restore_best_weights=True,\n",
    ")"
   ]
  },
  {
   "cell_type": "code",
   "execution_count": null,
   "id": "074bb15e-9c8c-4c57-b996-6b04beafb9e3",
   "metadata": {
    "tags": []
   },
   "outputs": [],
   "source": [
    "# train it (can be repeated several times to add more epochs)\n",
    "\n",
    "metric_groups = {\n",
    "    'Autoencoder Loss': ['AE loss min', 'val_val_AE loss min'],\n",
    "    'Discriminator Loss': ['disc loss min', 'val_val_disc loss min']\n",
    "}\n",
    "\n",
    "early_stop_cb = tf.keras.callbacks.EarlyStopping(\n",
    "    monitor=\"val_val_AE loss min\",\n",
    "    min_delta=0.0001,\n",
    "    patience=15,\n",
    "    verbose=1,\n",
    "    mode=\"min\",\n",
    "    restore_best_weights=True,\n",
    ")\n",
    "\n",
    "testm.fit(X_train_batched, # X_train_dens, # X_train_batched,\n",
    "          epochs=1000,\n",
    "          verbose=2, # this flag is essential due to connection with EarlyStopping callback (epoch vs batch)\n",
    "          validation_data=X_val,\n",
    "          callbacks=[\n",
    "              early_stop_cb,\n",
    "              LiveTrainingPlot(metric_groups=metric_groups, freq=1),\n",
    "              #visualizer.VisualizeCallback(testm,freq=25,inputs=X_train_np[15000:25000],figsize=(12,3))\n",
    "          ])"
   ]
  },
  {
   "cell_type": "code",
   "execution_count": null,
   "id": "94ed9886-43e7-470c-9d4f-8470673f0321",
   "metadata": {
    "scrolled": true
   },
   "outputs": [],
   "source": [
    "# whatever test\n",
    "''' \n",
    "batch_size = 256\n",
    "\n",
    "val_result = testm.predict(X_test_batched)\n",
    "mse = keras.losses.MeanSquaredError()\n",
    "dataset_size = X_test_np.shape[0]\n",
    "print(dataset_size)\n",
    "mse_result=[]\n",
    "for i in range(0, dataset_size, batch_size):\n",
    "    if i+batch_size > dataset_size:\n",
    "        batch_size = batch_size-(i+batch_size-dataset_size)\n",
    "    batch_mse = mse(X_test_np[i:i+batch_size],val_result[i:i+batch_size]).numpy()\n",
    "    mse_result.append(batch_mse)\n",
    "\n",
    "mse_result'''"
   ]
  },
  {
   "cell_type": "code",
   "execution_count": null,
   "id": "b11b211d-2c01-4b5c-ad35-9f641b3b4ff0",
   "metadata": {},
   "outputs": [],
   "source": [
    "# final visualization, pick a slice of the input data for demo purposes\n",
    "#visualizer.Visualizer(figsize=(12,3)).make_visualization(testm.call_enc(X_train_np[15000:20000]).numpy())\n",
    "\n",
    "# on test data\n",
    "visualizer.Visualizer(figsize=(12,3)).make_visualization(testm.call_enc(X_test_np).numpy())"
   ]
  },
  {
   "cell_type": "code",
   "execution_count": null,
   "id": "ef39d5b9-1ecc-455d-9fd3-2526e2be108b",
   "metadata": {},
   "outputs": [],
   "source": [
    "visualizer.Visualizer(figsize=(12,3)).make_visualization(testm.call_enc(X_train_np).numpy())"
   ]
  },
  {
   "cell_type": "code",
   "execution_count": null,
   "id": "16507e04-5671-4aa1-bea0-746130c0ca02",
   "metadata": {},
   "outputs": [],
   "source": [
    "# load testing trajectory for further visualizations and computations\n",
    "tr = md.load('../Thermal-unfolding/x_train.xtc',top=conf)\n",
    "idx=tr[0].top.select(\"name CA\")\n",
    "\n",
    "# for trivial cases like Ala-Ala, where superposing on CAs fails\n",
    "#idx=tr[0].top.select(\"element != H\") \n",
    "\n",
    "tr.superpose(tr[0],atom_indices=idx)\n",
    "\n",
    "# reshuffle the geometry to get frame last so that we can use vectorized calculations\n",
    "geom = np.moveaxis(tr.xyz ,0,-1)\n",
    "geom.shape"
   ]
  },
  {
   "cell_type": "code",
   "execution_count": null,
   "id": "fbbe19b1-ada7-4cb1-8757-6e7e532e81fb",
   "metadata": {},
   "outputs": [],
   "source": [
    "# Rgyr and rmsd color coded in low dim (rough view)\n",
    "\n",
    "lows = testm.call_enc(X_train_np).numpy()\n",
    "rg = md.compute_rg(tr)\n",
    "base = md.load(conf)\n",
    "rmsd = md.rmsd(tr,base[0])\n",
    "cmap = plt.get_cmap('rainbow')\n",
    "plt.figure(figsize=(12,4))\n",
    "plt.subplot(121)\n",
    "plt.scatter(lows[:,0],lows[:,1],marker='.',c=rg,cmap=cmap,s=1)\n",
    "plt.colorbar(cmap=cmap)\n",
    "plt.title(\"Rg\")\n",
    "plt.subplot(122)\n",
    "plt.scatter(lows[:,0],lows[:,1],marker='.',c=rmsd,cmap=cmap,s=1)\n",
    "plt.colorbar(cmap=cmap)\n",
    "plt.title(\"RMSD\")\n",
    "plt.show()"
   ]
  },
  {
   "cell_type": "markdown",
   "id": "54b29f3c-0702-41e8-8b57-1d8937d12134",
   "metadata": {
    "jp-MarkdownHeadingCollapsed": true
   },
   "source": [
    "### Image prior\n",
    "\n",
    "**Almost surely broken now with the density alignment**\n",
    "\n",
    "Use Image as a prior distribution. Again use tuned Hyperparameters for better training performance."
   ]
  },
  {
   "cell_type": "code",
   "execution_count": null,
   "id": "74a6eee1-7ac3-44f3-821b-11df13c83002",
   "metadata": {},
   "outputs": [],
   "source": [
    "urllib.request.urlretrieve(\"https://drive.google.com/uc?export=download&id=1I2WP92MMWS5s5vin_4cvmruuV-1W77Hl\", \"mushroom_bw.png\")"
   ]
  },
  {
   "cell_type": "code",
   "execution_count": null,
   "id": "dfb59272-f629-4aa3-9f8c-5c9c7b8e410e",
   "metadata": {},
   "outputs": [],
   "source": [
    "mmush = asmsa.AAEModel((X_train_np.shape[1],),\n",
    "                       hp=hps,\n",
    "                       enc_seed=best_enc_seed,\n",
    "                       disc_seed=best_disc_seed,\n",
    "                       prior='mushroom_bw.png'\n",
    "                      )\n",
    "mmush.compile()"
   ]
  },
  {
   "cell_type": "code",
   "execution_count": null,
   "id": "24273410-9893-41a3-b092-017bdb235313",
   "metadata": {},
   "outputs": [],
   "source": [
    "early_stop_cb = tf.keras.callbacks.EarlyStopping(\n",
    "    monitor=\"val_val_AE loss min\",\n",
    "    min_delta=0.0001,\n",
    "    patience=15,\n",
    "    verbose=1,\n",
    "    mode=\"min\",\n",
    "    restore_best_weights=True,\n",
    ")"
   ]
  },
  {
   "cell_type": "code",
   "execution_count": null,
   "id": "c5eb74e7-0123-41fc-88dd-91270ac533a7",
   "metadata": {},
   "outputs": [],
   "source": [
    "mmush.fit(X_train_batched, # X_train_dens, # X_train_batched,\n",
    "          epochs=1000,\n",
    "          verbose=2, # this flag is essential due to connection with EarlyStopping callback (epoch vs batch)\n",
    "          validation_data=X_val,\n",
    "          callbacks=[\n",
    "              early_stop_cb,\n",
    "              LiveTrainingPlot(metric_groups=metric_groups, freq=1),\n",
    "              #visualizer.VisualizeCallback(testm,freq=25,inputs=X_train_np[15000:25000],figsize=(12,3))\n",
    "          ])"
   ]
  },
  {
   "cell_type": "code",
   "execution_count": null,
   "id": "9c206ea3-5e10-4930-af49-45b1a35b92ed",
   "metadata": {},
   "outputs": [],
   "source": [
    "step=4\n",
    "tr2 = tr[::step]\n",
    "lows = mmush.call_enc(X_test_np[::step]).numpy()\n",
    "rg = md.compute_rg(tr2)\n",
    "base = md.load(conf)\n",
    "rmsd = md.rmsd(tr2,base[0])\n",
    "cmap = plt.get_cmap('rainbow')\n",
    "plt.figure(figsize=(12,4))\n",
    "plt.subplot(121)\n",
    "plt.scatter(lows[:,0],lows[:,1],marker='.',c=rg,cmap=cmap)\n",
    "plt.colorbar(cmap=cmap)\n",
    "plt.title(\"Rg\")\n",
    "plt.subplot(122)\n",
    "plt.scatter(lows[:,0],lows[:,1],marker='.',c=rmsd,cmap=cmap)\n",
    "plt.colorbar(cmap=cmap)\n",
    "plt.title(\"RMSD\")\n",
    "plt.show()"
   ]
  },
  {
   "cell_type": "markdown",
   "id": "6e9d3156-039e-4918-97d2-828a15970fe1",
   "metadata": {},
   "source": [
    "## Save the encoder and decoder models"
   ]
  },
  {
   "cell_type": "code",
   "execution_count": null,
   "id": "3e7d45a0-5bdd-4cce-913b-cdd2565e31d6",
   "metadata": {},
   "outputs": [],
   "source": [
    "import tf2onnx\n",
    "import onnx2torch\n",
    "import tempfile\n",
    "\n",
    "def _convert_to_onnx(model, destination_path):\n",
    "#    model = keras.models.load_model(source_path)\n",
    "\n",
    "    input_tensor = model.layers[0]._input_tensor\n",
    "#    input_tensor = model.inputs[0]\n",
    "    input_signature = tf.TensorSpec(\n",
    "        name=input_tensor.name, shape=input_tensor.shape, dtype=input_tensor.dtype\n",
    "    )\n",
    "    output_name = model.layers[-1].name\n",
    "\n",
    "    @tf.function(input_signature=[input_signature])\n",
    "    def _wrapped_model(input_data):\n",
    "        return {output_name: model(input_data)}\n",
    "\n",
    "    tf2onnx.convert.from_function(\n",
    "        _wrapped_model, input_signature=[input_signature], output_path=destination_path\n",
    "    )"
   ]
  },
  {
   "cell_type": "code",
   "execution_count": null,
   "id": "5916afd3-a4ec-4cd2-a961-a354bc988e24",
   "metadata": {},
   "outputs": [],
   "source": [
    "model = testm"
   ]
  },
  {
   "cell_type": "code",
   "execution_count": null,
   "id": "63987325-2b30-4960-ae21-e9533ead27b3",
   "metadata": {},
   "outputs": [],
   "source": [
    "with tempfile.NamedTemporaryFile() as onnx:\n",
    "    _convert_to_onnx(model.enc,onnx.name)\n",
    "    torch_enc = onnx2torch.convert(onnx.name)\n",
    "\n",
    "example_input = torch.randn([X_train_np.shape[1]])\n",
    "traced_script_module = torch.jit.trace(torch_enc, example_input)\n",
    "\n",
    "traced_script_module.save('encoder_therma-unf.pt')"
   ]
  },
  {
   "cell_type": "code",
   "execution_count": null,
   "id": "28a84ebb-e11d-40ad-af88-f029f24ef9e9",
   "metadata": {},
   "outputs": [],
   "source": [
    "example_input.shape"
   ]
  },
  {
   "cell_type": "code",
   "execution_count": null,
   "id": "abcae519-478c-47ee-a7d3-1dbc0ac94e62",
   "metadata": {},
   "outputs": [],
   "source": [
    "model.enc.summary()"
   ]
  },
  {
   "cell_type": "code",
   "execution_count": null,
   "id": "28a84ebb-e11d-40ad-af88-f029f24ef9e9",
   "metadata": {},
   "outputs": [],
   "source": [
    "example_input.shape"
   ]
  },
  {
   "cell_type": "code",
   "execution_count": null,
   "id": "abcae519-478c-47ee-a7d3-1dbc0ac94e62",
   "metadata": {},
   "outputs": [],
   "source": [
    "model.enc.summary()"
   ]
  },
  {
   "cell_type": "code",
   "execution_count": null,
   "id": "7097e35c-a6b2-4833-b59e-0e40fe6632b3",
   "metadata": {},
   "outputs": [],
   "source": [
    "lenc = torch.jit.load('encoder_therma-unf.pt')\n",
    "example_input = np.random.rand(10000,X_train_np.shape[1])\n",
    "rtf = model.enc(example_input)\n",
    "rpt = lenc(torch.tensor(example_input,dtype=torch.float32))"
   ]
  },
  {
   "cell_type": "code",
   "execution_count": null,
   "id": "01f55169-d93c-4905-bc79-b0109a919290",
   "metadata": {},
   "outputs": [],
   "source": [
    "maxerr = np.max(np.abs(rtf - rpt.detach().numpy()))\n",
    "maxerr"
   ]
  },
  {
   "cell_type": "code",
   "execution_count": null,
   "id": "39c80f40-cca7-4441-94f7-d74e32c12039",
   "metadata": {},
   "outputs": [],
   "source": [
    "with tempfile.NamedTemporaryFile() as onnx:\n",
    "    _convert_to_onnx(model.dec,onnx.name)\n",
    "    torch_dec = onnx2torch.convert(onnx.name)\n",
    "\n",
    "example_input = torch.randn([2])\n",
    "traced_script_module = torch.jit.trace(torch_dec, example_input)\n",
    "\n",
    "traced_script_module.save('decoder_therma-unf.pt')"
   ]
  },
  {
   "cell_type": "code",
   "execution_count": null,
   "id": "69f370e3-8037-418e-9121-461a195f19d7",
   "metadata": {},
   "outputs": [],
   "source": [
    "ldec = torch.jit.load('decoder_therma-unf.pt')\n",
    "example_input = np.random.rand(10000,2)\n",
    "rtf = model.dec(example_input)\n",
    "rpt = ldec(torch.tensor(example_input,dtype=torch.float32))"
   ]
  },
  {
   "cell_type": "code",
   "execution_count": null,
   "id": "94f4d3c9-73be-4836-b6ac-04f4ba0a825e",
   "metadata": {},
   "outputs": [],
   "source": [
    "err = np.abs(rtf - rpt.detach().numpy())\n",
    "train_mean = np.loadtxt('../Thermal-unfolding/datasets/intcoords/mean.txt',dtype=np.float32).reshape(1,1,-1)\n",
    "rerr = err/np.abs(train_mean)\n",
    "np.max(err),np.max(rerr)"
   ]
  },
  {
   "cell_type": "markdown",
   "id": "5b906533-cd7f-4ad4-83e5-fee078327bb5",
   "metadata": {},
   "source": [
    "# Vis"
   ]
  },
  {
   "cell_type": "code",
   "execution_count": null,
   "id": "303d2331-e358-4ba8-9f74-ceefe8b1df21",
   "metadata": {},
   "outputs": [],
   "source": [
    "exec(open('inputs.py').read())"
   ]
  },
  {
   "cell_type": "code",
   "execution_count": null,
   "id": "e2cd9b7a-a994-46f6-959c-fe34c6d0c2ea",
   "metadata": {},
   "outputs": [],
   "source": [
    "mol_model = torch.jit.load('features-thermal-unfolding.pt')\n",
    "torch_encoder = torch.jit.load('encoder_therma-unf.pt')"
   ]
  },
  {
   "cell_type": "code",
   "execution_count": null,
   "id": "919a64ee-28bc-4242-9ce3-eac7644e4348",
   "metadata": {},
   "outputs": [],
   "source": [
    "test_geom = np.moveaxis(np.stack(list(tf.data.Dataset.load('../Thermal-unfolding/datasets/geoms/test'))),2,0)\n",
    "test_geom.shape"
   ]
  },
  {
   "cell_type": "code",
   "execution_count": null,
   "id": "812c605c-8f66-4c11-adad-588f022ecc7a",
   "metadata": {},
   "outputs": [],
   "source": [
    "tr = md.load('../Thermal-unfoldingtrpcage_ds_nH.xtc', top='../Thermal-unfolding/trpcage_npt400_nH.pdb')\n",
    "tr.xyz.shape"
   ]
  },
  {
   "cell_type": "code",
   "execution_count": null,
   "id": "b2d9e7a2-6cdd-4911-be5e-3e6b96ebf999",
   "metadata": {},
   "outputs": [],
   "source": [
    "des = md.load('../DE-Shaw/trpcage_red.xtc', top='../DE-Shaw/trpcage_correct.pdb')\n",
    "des.xyz.shape"
   ]
  },
  {
   "cell_type": "code",
   "execution_count": null,
   "id": "7ea44ef6-9b40-48fe-9386-0f189007644a",
   "metadata": {},
   "outputs": [],
   "source": [
    "train_mean = np.loadtxt('../Thermal-unfolding/datasets/intcoords/mean.txt',dtype=np.float32)\n",
    "train_scale = np.loadtxt('../Thermal-unfolding/datasets/intcoords/scale.txt',dtype=np.float32)"
   ]
  },
  {
   "cell_type": "code",
   "execution_count": null,
   "id": "87c58ca5-5acf-4e1e-a9b5-8c209377aa40",
   "metadata": {},
   "outputs": [],
   "source": [
    "class CompleteModel(torch.nn.Module):\n",
    "    def __init__(self, mol_model, torch_encoder, train_mean, train_scale):\n",
    "        super(CompleteModel, self).__init__()\n",
    "        self.mol_model = mol_model\n",
    "        self.torch_encoder = torch_encoder\n",
    "        # Convert train_mean and train_scale from numpy to torch tensors\n",
    "        self.train_mean = torch.from_numpy(np.reshape(train_mean, (-1, 1)))\n",
    "        self.train_scale = torch.from_numpy(np.reshape(train_scale, (-1, 1)))\n",
    "\n",
    "    def forward(self, x):\n",
    "        mol_output = self.mol_model(x.moveaxis(0,-1))\n",
    "        normalized = (mol_output - self.train_mean) / self.train_scale\n",
    "#        reshaped = normalized.reshape(-1)\n",
    "        return self.torch_encoder(normalized.T)\n",
    "\n",
    "# Initialize the CompleteModel class with your components\n",
    "complete_model = CompleteModel(mol_model, torch_encoder, train_mean, train_scale)\n",
    "\n",
    "# Save the Torch model using TorchScript trace\n",
    "example_input = torch.randn([1,test_geom.shape[1], test_geom.shape[2]])\n",
    "traced_script_module = torch.jit.trace(complete_model, example_input)\n",
    "\n",
    "model_file_name = \"model_thermal-unf.pt\"\n",
    "traced_script_module.save(model_file_name)"
   ]
  },
  {
   "cell_type": "code",
   "execution_count": null,
   "id": "ffb6c523-ba0e-4220-b549-d10962dd44c4",
   "metadata": {},
   "outputs": [],
   "source": [
    "m = torch.jit.load('model_thermal-unf.pt')\n",
    "lows = m(torch.tensor(tr.xyz)).numpy()\n",
    "np.savetxt(\"lows_thermal_unfolding.txt\", lows)\n",
    "lows.shape"
   ]
  },
  {
   "cell_type": "code",
   "execution_count": null,
   "id": "a217ce3d-9595-4a47-9264-3d5f636cc741",
   "metadata": {},
   "outputs": [],
   "source": [
    "# visual check, should be the same as in train.ipynb\n",
    "rg = md.compute_rg(tr)\n",
    "base = md.load(conf)\n",
    "rmsd = md.rmsd(tr,base[0])\n",
    "cmap = plt.get_cmap('rainbow')\n",
    "plt.figure(figsize=(12,4))\n",
    "plt.subplot(121)\n",
    "plt.scatter(lows[:,0],lows[:,1],marker='.',c=rg,cmap=cmap,s=1)\n",
    "plt.colorbar(cmap=cmap)\n",
    "plt.title(\"Rg\")\n",
    "plt.subplot(122)\n",
    "plt.scatter(lows[:,0],lows[:,1],marker='.',c=rmsd,cmap=cmap,s=1)\n",
    "plt.colorbar(cmap=cmap)\n",
    "plt.title(\"RMSD\")\n",
    "plt.savefig(\"Thermal-unfolding.png\")\n"
   ]
  },
  {
   "cell_type": "markdown",
   "id": "5c691e95-998c-4284-ac9f-3a7db7e4e702",
   "metadata": {},
   "source": [
    "# Plumed"
   ]
  },
  {
   "cell_type": "raw",
   "id": "ab51c7c0-e919-4128-8107-aac4e0b080b9",
   "metadata": {},
   "source": [
    "Determine range of CVs for simulation\n",
    "Plumed maintains a grid to approximate accumulated bias potential, which size must be known in advance.\n",
    "\n",
    "Making it wider is safe, the simulation is less likely to escape and crash, but there is perfomance penalty.\n",
    "\n",
    "Calculate the CVs on the testset, determine their range, and add some margins"
   ]
  },
  {
   "cell_type": "code",
   "execution_count": null,
   "id": "16af22d5-ee66-4de4-9c30-b42e49a76e6b",
   "metadata": {},
   "outputs": [],
   "source": [
    "grid_margin = 3.  # that many times the actual computed size added on both sides\n",
    "\n",
    "lmin = np.min(lows,axis=0)\n",
    "lmax = np.max(lows,axis=0)\n",
    "llen = lmax-lmin\n",
    "lmin -= llen * grid_margin\n",
    "lmax += llen * grid_margin\n",
    "\n",
    "lmin, lmax"
   ]
  },
  {
   "cell_type": "code",
   "execution_count": null,
   "id": "9c32f766-71e6-4708-8fe0-4e897218afd0",
   "metadata": {},
   "outputs": [],
   "source": [
    "# Atom numbering magic with Gromacs, see above\n",
    "\n",
    "grotr = md.load(gro)\n",
    "nhs = grotr.topology.select('element != H')\n",
    "\n",
    "with open(index) as f:\n",
    "    f.readline()\n",
    "    ndx = np.fromstring(\" \".join(f),dtype=np.int32,sep=' ')-1\n",
    "\n",
    "pdb2gmx = nhs[np.argsort(ndx)]+1\n",
    "\n",
    "# maybe double check manually wrt. the files\n",
    "pdb2gmx"
   ]
  },
  {
   "cell_type": "code",
   "execution_count": null,
   "id": "080edba4-799e-4b24-971e-a475ba79741f",
   "metadata": {},
   "outputs": [],
   "source": [
    "with open(\"plumed.dat\",\"w\") as p:\n",
    "    p.write(f\"\"\"\\\n",
    "RESTART\n",
    "WHOLEMOLECULES ENTITY0=1-{grotr.xyz.shape[1]}\n",
    "model: PYTORCH_MODEL_CV FILE={model_file_name} ATOMS={','.join(map(str,pdb2gmx))}\n",
    "metad: METAD ARG=model.node-0,model.node-1 PACE=1000 HEIGHT=1 BIASFACTOR=15 SIGMA=0.1,0.1 GRID_MIN={lmin[0]},{lmin[1]} GRID_MAX={lmax[0]},{lmax[1]} FILE=HILLS\n",
    "PRINT FILE=COLVAR ARG=model.node-0,model.node-1,metad.bias STRIDE=100\n",
    "\"\"\")"
   ]
  },
  {
   "cell_type": "code",
   "execution_count": null,
   "id": "84db7d4b-801f-4e7f-8300-94ae3757d05c",
   "metadata": {},
   "outputs": [],
   "source": []
  }
 ],
 "metadata": {
  "kernelspec": {
   "display_name": "Python 3 (ipykernel)",
   "language": "python",
   "name": "python3"
  },
  "language_info": {
   "codemirror_mode": {
    "name": "ipython",
    "version": 3
   },
   "file_extension": ".py",
   "mimetype": "text/x-python",
   "name": "python",
   "nbconvert_exporter": "python",
   "pygments_lexer": "ipython3",
   "version": "3.10.11"
  }
 },
 "nbformat": 4,
 "nbformat_minor": 5
}
