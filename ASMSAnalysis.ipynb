{
 "cells": [
  {
   "cell_type": "code",
   "execution_count": null,
   "id": "1e0f2c6c-4b12-4df1-89e2-dc7add2b13e8",
   "metadata": {},
   "outputs": [],
   "source": [
    "#avoid TF to consume GPU memory\n",

    "import os\n",
    "import glob\n",


    "import tensorflow as tf\n",
    "tf.config.set_visible_devices([], 'GPU')\n",
    "tf.config.list_logical_devices()\n",
    "\n",
    "import ASMSAnalysis"
   ]
  },
  {
   "cell_type": "code",
   "execution_count": null,
   "id": "1f58639a-c2b3-4c5a-9aa9-784f384aa39e",
   "metadata": {},
   "outputs": [],
   "source": [
    "import numpy as np\n",
    "import matplotlib.pyplot as plt\n",
    "\n",
    "cv = np.loadtxt('HILLS')\n",
    "l = np.loadtxt('model.txt')\n",
    "\n",
    "cv1 = cv[:,1]\n",
    "l1 = l[:,0]\n",
    "\n",
    "cv2 = cv[:,2]\n",
    "l2 = l[:,1]\n",
    "\n",
    "bins = 100\n",
    "pop1 = np.histogram(l1, bins=bins, density=True)\n",
    "pop2 = np.histogram(cv1, bins=bins, density=True) # since it is mtd you have to reweight !!\n",
    "pop3 = np.histogram(l2, bins=bins, density=True)\n",
    "pop4 = np.histogram(cv2, bins=bins, density=True) # since it is mtd you have to reweight !!\n",
    "\n",
    "p_temp= 300\n",
    "\n",
    "fig, axes = plt.subplots(1, 2, figsize=(8,4))\n",
    "\n",
    "axes[0].plot(pop1[1][:-1], (-np.log(pop1[0])*8.314*p_temp)-np.min((-np.log(pop1[0])*8.314*p_temp)), color=\"green\", label='train-md')\n",
    "axes[0].plot(pop2[1][:-1], (-np.log(pop2[0])*8.314*p_temp)-np.min((-np.log(pop2[0])*8.314*p_temp)), color=\"blue\", label='mtd')\n",
    "axes[0].set_title=('cv1')\n",
    "axes[1].plot(pop3[1][:-1], (-np.log(pop1[0])*8.314*p_temp)-np.min((-np.log(pop1[0])*8.314*p_temp)), color=\"green\", label='train-md')\n",
    "axes[1].plot(pop4[1][:-1], (-np.log(pop2[0])*8.314*p_temp)-np.min((-np.log(pop2[0])*8.314*p_temp)), color=\"blue\", label='mtd')\n",
    "\n",
    "\n",
    "plt.legend()"
   ]
  },
  {
   "cell_type": "code",
   "execution_count": null,
   "id": "8a00fae1-c44c-4eac-a557-42370c6796b9",
   "metadata": {},
   "outputs": [],
   "source": [
    "h = np.loadtxt(\"HILLS\")\n",
    "t = np.arange(len(h))/1000\n",
    "plt.plot(t,h[:,5])\n",
    "plt.show()"
   ]
  },
  {
   "cell_type": "code",
   "execution_count": null,
   "id": "77df0315-0892-4198-a440-4a5bed0b103c",
   "metadata": {},
   "outputs": [],
   "source": [
    "conf = \"trpcage_npt400_nH.pdb\"\n",
    "traj = \"trpcage_ds_nH.xtc\"\n",
    "hills = \"HILLS\"\n",
    "lows_filename = \"model.txt\"\n",
    "\n",
    "analysis = ASMSAnalysis.Analysis(conf,traj,hills,lows_filename)"
   ]
  },
  {
   "cell_type": "code",
   "execution_count": null,
   "id": "fa285778-0777-445a-80fd-cba31e4a2466",
   "metadata": {},
   "outputs": [],
   "source": [
    "analysis.on_the_flight(interval=60)"
   ]
  },
  {
   "cell_type": "code",
   "execution_count": null,
   "id": "442b6544-6dcd-4473-8171-06ccd6e0d893",
   "metadata": {
    "scrolled": true
   },
   "outputs": [],
   "source": [
    "analysis.rmsd()"
   ]
  },
  {
   "cell_type": "code",
   "execution_count": null,
   "id": "70074c56-46ff-4eb6-b865-2239d5c63cf4",
   "metadata": {
    "scrolled": true
   },
   "outputs": [],
   "source": [
    "analysis.highlights_and_dynamic()"
   ]
  },
  {
   "cell_type": "code",
   "execution_count": null,
   "id": "ab6683fb-f745-4f43-8210-b3b09af22164",
   "metadata": {},
   "outputs": [],
   "source": [
    "directory = './'  \n",
    "files_to_delete = glob.glob(os.path.join(directory, '#*'))\n",
    "for file in files_to_delete:\n",
    "    os.remove(file)"
   ]
  },
  {
   "cell_type": "code",
   "execution_count": null,
   "id": "763549e1-873c-4f8b-a369-e98c79ac8a5d",
   "metadata": {},
   "outputs": [],
   "source": [
    "pip install metadynminer"
   ]
  },
  {
   "cell_type": "code",
   "execution_count": null,
   "id": "b82726b3-8c0c-405e-a916-dd052e3a3e22",
   "metadata": {},
   "outputs": [],
   "source": [
    "import metadynminer as m"
   ]
  },
  {
   "cell_type": "code",
   "execution_count": null,
   "id": "bc85f096-99fd-4ac7-8c47-108ed1d62b66",
   "metadata": {},
   "outputs": [],
   "source": [
    "hf = m.Hills(name=\"HILLS\")"
   ]
  },
  {
   "cell_type": "code",
   "execution_count": null,
   "id": "f184dc54-1d35-4d28-a6b8-726fbd01143e",
   "metadata": {},
   "outputs": [],
   "source": [
    "fes = m.Fes(hf)"
   ]
  },
  {
   "cell_type": "code",
   "execution_count": null,
   "id": "0b604969-5421-4fc7-a355-751cf27eb5de",
   "metadata": {},
   "outputs": [],
   "source": [
    "fes.plot()"
   ]
  },
  {
   "cell_type": "code",
   "execution_count": null,
   "id": "b7eb4f0d-3317-4666-a629-a79349382d05",
   "metadata": {},
   "outputs": [],
   "source": [
    "minima = m.Minima(fes)\n",
    "print(minima.minima)\n",
    "minima.plot()"
   ]
  },
  {
   "cell_type": "code",
   "execution_count": null,
   "id": "d0960fa3-b6e9-4d20-95c2-3ad2adc63ea2",
   "metadata": {},
   "outputs": [],
   "source": [
    "fep = m.FEProfile(minima, hf)\n",
    "fep.plot()"
   ]
  },
  {
   "cell_type": "code",
   "execution_count": null,
   "id": "873a0872-69b1-4da5-ab93-fee68d4a7292",
   "metadata": {},
   "outputs": [],
   "source": []
  }
 ],
 "metadata": {
  "kernelspec": {
   "display_name": "Python 3 (ipykernel)",
   "language": "python",
   "name": "python3"
  },
  "language_info": {
   "codemirror_mode": {
    "name": "ipython",
    "version": 3
   },
   "file_extension": ".py",
   "mimetype": "text/x-python",
   "name": "python",
   "nbconvert_exporter": "python",
   "pygments_lexer": "ipython3",
   "version": "3.10.11"
  }
 },
 "nbformat": 4,
 "nbformat_minor": 5
}
