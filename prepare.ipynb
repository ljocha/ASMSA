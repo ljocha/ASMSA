{
 "cells": [
  {
   "cell_type": "markdown",
   "id": "6851ea37",
   "metadata": {},
   "source": [
    "# ASMSA: Prepare and check input files\n",
    "\n",
    "**Next steps**\n",
    "- [tune.ipynb](tune.ipynb): Perform initial hyperparameter tuning for this molecule\n",
    "- [train.ipynb](train.ipynb): Use results of previous tuning in more thorough training\n",
    "- [md.ipynb](md.ipynb): Use a trained model in MD simulation with Gromacs"
   ]
  },
  {
   "cell_type": "code",
   "execution_count": 1,
   "id": "844fb758-65c0-4f1f-92fd-ec20e4fc63f7",
   "metadata": {},
   "outputs": [
    {
     "name": "stdout",
     "output_type": "stream",
     "text": [
      "/home/jovyan/ASMSA/p53\n"
     ]
    }
   ],
   "source": [
    "%cd p53"
   ]
  },
  {
   "cell_type": "code",
   "execution_count": 2,
   "id": "3c922b53-87a2-4018-8972-2707a06021c7",
   "metadata": {},
   "outputs": [
    {
     "name": "stderr",
     "output_type": "stream",
     "text": [
      "2024-10-24 14:09:02.019707: E external/local_xla/xla/stream_executor/cuda/cuda_fft.cc:485] Unable to register cuFFT factory: Attempting to register factory for plugin cuFFT when one has already been registered\n",
      "2024-10-24 14:09:02.031962: E external/local_xla/xla/stream_executor/cuda/cuda_dnn.cc:8454] Unable to register cuDNN factory: Attempting to register factory for plugin cuDNN when one has already been registered\n",
      "2024-10-24 14:09:02.035614: E external/local_xla/xla/stream_executor/cuda/cuda_blas.cc:1452] Unable to register cuBLAS factory: Attempting to register factory for plugin cuBLAS when one has already been registered\n",
      "2024-10-24 14:09:02.045320: I tensorflow/core/platform/cpu_feature_guard.cc:210] This TensorFlow binary is optimized to use available CPU instructions in performance-critical operations.\n",
      "To enable the following instructions: AVX2 FMA, in other operations, rebuild TensorFlow with the appropriate compiler flags.\n",
      "2024-10-24 14:09:02.735218: W tensorflow/compiler/tf2tensorrt/utils/py_utils.cc:38] TF-TRT Warning: Could not find TensorRT\n"
     ]
    },
    {
     "data": {
      "text/plain": [
       "[LogicalDevice(name='/device:CPU:0', device_type='CPU')]"
      ]
     },
     "execution_count": 2,
     "metadata": {},
     "output_type": "execute_result"
    }
   ],
   "source": [
    "#avoid TF to consume GPU memory\n",
    "import tensorflow as tf\n",
    "tf.config.set_visible_devices([], 'GPU')\n",
    "tf.config.list_logical_devices()"
   ]
  },
  {
   "cell_type": "code",
   "execution_count": 3,
   "id": "4b70ab11",
   "metadata": {},
   "outputs": [
    {
     "name": "stdout",
     "output_type": "stream",
     "text": [
      "NOTE: Some configuration directories are not set up yet: \n",
      "\t/home/jovyan/.gromacswrapper\n",
      "\t/home/jovyan/.gromacswrapper/qscripts\n",
      "\t/home/jovyan/.gromacswrapper/templates\n",
      "NOTE: You can create the configuration file and directories with:\n",
      "\t>>> import gromacs\n",
      "\t>>> gromacs.config.setup()\n"
     ]
    },
    {
     "name": "stderr",
     "output_type": "stream",
     "text": [
      "pod/asmsa-gmx-13210-c4vzn condition met\n"
     ]
    },
    {
     "data": {
      "application/vnd.jupyter.widget-view+json": {
       "model_id": "e4311687e23b42f5b5d6c91bbf3f837b",
       "version_major": 2,
       "version_minor": 0
      },
      "text/plain": []
     },
     "metadata": {},
     "output_type": "display_data"
    }
   ],
   "source": [
    "import mdtraj as md\n",
    "import numpy as np\n",
    "import urllib.request\n",
    "import asmsa\n",
    "import os\n",
    "import re\n",
    "import tensorflow as tf\n",
    "import gromacs as gmx\n",
    "import gromacs.fileformats as gf\n",
    "import matplotlib.pyplot as plt\n",
    "import numpy as np\n",
    "import nglview as nv"
   ]
  },
  {
   "cell_type": "markdown",
   "id": "aaba1b8f-d0ff-4264-9712-d06ad9ac964f",
   "metadata": {},
   "source": [
    "## Prepare input files\n",
    "\n",
    "Tryptophan cage files are downloaded in this section from our Google drive. \n",
    "\n",
    "This is for demonstration purpose, in real use the inputs should be placed here, and _conf, traj, topol, index_ variables set to their filenames names."
   ]
  },
  {
   "cell_type": "code",
   "execution_count": 4,
   "id": "f3b1a498-01db-4f56-8acc-fad309e987b8",
   "metadata": {},
   "outputs": [],
   "source": [
    "# Define input files\n",
    "\n",
    "base = 'p53'\n",
    "\n",
    "# input conformation, it should not contain hydrogens\n",
    "orig_conf = 'eq_nh.gro'\n",
    "conf = base + '.pdb'\n",
    "\n",
    "# input trajectory\n",
    "# atom numbering must be consistent with {conf}, no hydrogens as well\n",
    "\n",
    "orig_traj = \"traj_comp_nh.xtc\"\n",
    "traj = base + '-pdc.xtc'\n",
    "\n",
    "# everything else is generated with pdb2gmx to make sure the files are consistent"
   ]
  },
  {
   "cell_type": "code",
   "execution_count": 5,
   "id": "6a94e12a-d809-473f-b3a6-53f03f3b0b25",
   "metadata": {},
   "outputs": [
    {
     "data": {
      "application/vnd.jupyter.widget-view+json": {
       "model_id": "434b2703486342858d22ec86d7b31d54",
       "version_major": 2,
       "version_minor": 0
      },
      "text/plain": [
       "NGLWidget()"
      ]
     },
     "metadata": {},
     "output_type": "display_data"
    }
   ],
   "source": [
    "v=nv.show_file(orig_conf)\n",
    "v.clear()\n",
    "v.add_representation('licorice')\n",
    "v"
   ]
  },
  {
   "cell_type": "code",
   "execution_count": 6,
   "id": "78a87722-a926-416d-bb4c-2d71da358c36",
   "metadata": {},
   "outputs": [],
   "source": [
    "tr1 = md.load(orig_conf)\n",
    "tr1.atom_slice(tr1.topology.select('element != H')).save_pdb(conf)"
   ]
  },
  {
   "cell_type": "code",
   "execution_count": 7,
   "id": "919a144e-185f-4c83-b6bb-888854827003",
   "metadata": {},
   "outputs": [
    {
     "name": "stderr",
     "output_type": "stream",
     "text": [
      "pod/asmsa-gmx-13210-c4vzn condition met\n",
      "            :-) GROMACS - gmx trjconv, 2023.2-plumed_2.10.0_dev (-:\n",
      "\n",
      "Executable:   /gromacs/AVX2_256_ts/bin/gmx\n",
      "Data prefix:  /gromacs/AVX2_256_ts\n",
      "Working dir:  /mnt/ASMSA/p53\n",
      "Command line:\n",
      "  gmx trjconv -f traj_comp_nh.xtc -s p53.pdb -pbc nojump -o p53-pdc.xtc\n",
      "\n",
      "Will write xtc: Compressed trajectory (portable xdr format): xtc\n",
      "Group     0 (         System) has  1566 elements\n",
      "Group     1 (        Protein) has  1565 elements\n",
      "Group     2 (      Protein-H) has  1565 elements\n",
      "Group     3 (        C-alpha) has   199 elements\n",
      "Group     4 (       Backbone) has   597 elements\n",
      "Group     5 (      MainChain) has   797 elements\n",
      "Group     6 (   MainChain+Cb) has   983 elements\n",
      "Group     7 (    MainChain+H) has   797 elements\n",
      "Group     8 (      SideChain) has   768 elements\n",
      "Group     9 (    SideChain-H) has   768 elements\n",
      "Group    10 (    Prot-Masses) has  1565 elements\n",
      "Group    11 (    non-Protein) has     1 elements\n",
      "Group    12 (          Other) has     1 elements\n",
      "Group    13 (            ZN2) has     1 elements\n",
      "Reading frame       0 time    0.000   \n",
      "Precision of traj_comp_nh.xtc is 2e-05 (nm)\n",
      "Using output precision of 0.001 (nm)\n",
      "\n",
      "Back Off! I just backed up p53-pdc.xtc to ./#p53-pdc.xtc.1#\n",
      "Reading frame    1200 time 120000.000    ->  frame   1199 time 119900.000      \r"
     ]
    },
    {
     "name": "stdout",
     "output_type": "stream",
     "text": [
      "Note that major changes are planned in future for trjconv, to improve usability and utility.\n",
      "Select group for output\n",
      "Selected 0: 'System'\n"
     ]
    },
    {
     "name": "stderr",
     "output_type": "stream",
     "text": [
      "Last frame      10000 time 1000000.000    ->  frame   9999 time 999900.000      \n",
      " ->  frame  10000 time 1000000.000      \n",
      "Last written: frame  10000 time 1000000.000\n",
      "\n",
      "\n",
      "GROMACS reminds you: \"Only entropy comes easy.\" (Anton Chekov)\n",
      "\n"
     ]
    },
    {
     "data": {
      "text/plain": [
       "(0, None, None)"
      ]
     },
     "execution_count": 7,
     "metadata": {},
     "output_type": "execute_result"
    }
   ],
   "source": [
    "gmx.trjconv(f=orig_traj,s=conf,pbc='nojump',input='System System'.split(),o=traj)"
   ]
  },
  {
   "cell_type": "markdown",
   "id": "8316ea0f-936e-49ff-994b-59c89af73b95",
   "metadata": {},
   "source": [
    "#### Density of additional internal coordinates\n",
    "\n",
    "In how many randomly sampled distances from all atom-to-atom one atom should appear in average"
   ]
  },
  {
   "cell_type": "code",
   "execution_count": 8,
   "id": "d63d71f3-eef0-4875-b875-cbd9402be267",
   "metadata": {},
   "outputs": [],
   "source": [
    "nb_density = 2 # integer in [1, n_atoms-1]"
   ]
  },
  {
   "cell_type": "code",
   "execution_count": 9,
   "id": "52ab5846-7498-4e6e-88b3-9fc9c4ffd706",
   "metadata": {},
   "outputs": [],
   "source": [
    "topol = base + '.top'\n",
    "index = base + '.ndx'\n",
    "gro = base + '.gro'\n",
    "\n",
    "with open('inputs.py','w') as i:\n",
    "    i.write(f'''\n",
    "base = '{base}'\n",
    "conf = '{conf}'\n",
    "traj = '{traj}'\n",
    "topol = '{topol}'\n",
    "index = '{index}'\n",
    "gro = '{gro}'\n",
    "\n",
    "nb_density = {nb_density}\n",
    "''')"
   ]
  },
  {
   "cell_type": "code",
   "execution_count": 11,
   "id": "f4393cf6-7f51-4a0a-b627-7a510ef48737",
   "metadata": {},
   "outputs": [
    {
     "name": "stderr",
     "output_type": "stream",
     "text": [
      "pod/asmsa-gmx-13210-c4vzn condition met\n"
     ]
    },
    {
     "name": "stdout",
     "output_type": "stream",
     "text": [
      "Using the Charmm22st force field in directory ./charmm22st.ff\n",
      "\n",
      "going to rename ./charmm22st.ff/aminoacids.r2b\n",
      "\n",
      "going to rename ./charmm22st.ff/rna.r2b\n",
      "Reading eq_nh.gro...\n",
      "Read 'Protein in water', 1566 atoms\n",
      "\n",
      "Analyzing pdb file\n",
      "Splitting chemical chains based on TER records or chain id changing.\n",
      "\n",
      "There are 1 chains and 0 blocks of water and 200 residues with 1566 atoms\n",
      "\n",
      "  chain  #res #atoms\n",
      "\n",
      "  1 ' '   200   1566  \n",
      "\n",
      "No occupancies in eq_nh.gro\n",
      "\n",
      "Reading residue database... (Charmm22st)\n",
      "\n",
      "Processing chain 1 (1566 atoms, 200 residues)\n",
      "\n",
      "Identified residue TRP91 as a starting terminus.\n",
      "\n",
      "Identified residue LEU289 as a ending terminus.\n",
      "Start terminus TRP-91: NH3+\n",
      "End terminus LEU-289: COO-\n",
      "\n",
      "Checking for duplicate atoms....\n",
      "\n",
      "With the -remh option the generated index file (p53.ndx) might be useless (the index file is generated before hydrogens are added)\n",
      "\n",
      "Generating any missing hydrogen atoms and/or adding termini.\n",
      "\n",
      "Now there are 200 residues with 3087 atoms\n",
      "\n",
      "Making bonds...\n",
      "\n",
      "Number of bonds was 3124, now 3124\n",
      "\n",
      "Generating angles, dihedrals and pairs...\n",
      "\n",
      "Making cmap torsions...\n",
      "\n",
      "There are   28 cmap torsion pairs\n",
      "\n",
      "There are 8270 dihedrals,  539 impropers, 5623 angles\n",
      "          8105 pairs,     3124 bonds and     0 virtual sites\n",
      "\n",
      "Total mass 22465.845 a.m.u.\n",
      "\n",
      "Total charge 2.000 e\n",
      "\n",
      "Writing topology\n",
      "\n",
      "Writing coordinate file...\n",
      "\n",
      "\t\t--------- PLEASE NOTE ------------\n",
      "\n",
      "You have successfully generated a topology from: eq_nh.gro.\n",
      "\n",
      "The Charmm22st force field and the tip3p water model are used.\n",
      "\n",
      "\t\t--------- ETON ESAELP ------------\n"
     ]
    },
    {
     "name": "stderr",
     "output_type": "stream",
     "text": [
      "            :-) GROMACS - gmx pdb2gmx, 2023.2-plumed_2.10.0_dev (-:\n",
      "\n",
      "Executable:   /gromacs/AVX2_256_ts/bin/gmx\n",
      "Data prefix:  /gromacs/AVX2_256_ts\n",
      "Working dir:  /mnt/ASMSA/p53\n",
      "Command line:\n",
      "  gmx pdb2gmx -f eq_nh.gro -ignh -p p53.top -n p53.ndx -o p53.gro -water tip3p -ff charmm22st\n",
      "\n",
      "Opening force field file ./charmm22st.ff/aminoacids.r2b\n",
      "Opening force field file ./charmm22st.ff/rna.r2b\n",
      "No occupancies in eq_nh.gro\n",
      "Opening force field file ./charmm22st.ff/atomtypes.atp\n",
      "Opening force field file ./charmm22st.ff/aminoacids.rtp\n",
      "Opening force field file ./charmm22st.ff/dna.rtp\n",
      "Opening force field file ./charmm22st.ff/lipids.rtp\n",
      "Opening force field file ./charmm22st.ff/rna.rtp\n",
      "Opening force field file ./charmm22st.ff/aminoacids.hdb\n",
      "Opening force field file ./charmm22st.ff/dna.hdb\n",
      "Opening force field file ./charmm22st.ff/lipids.hdb\n",
      "Opening force field file ./charmm22st.ff/rna.hdb\n",
      "Opening force field file ./charmm22st.ff/aminoacids.n.tdb\n",
      "Opening force field file ./charmm22st.ff/dna.n.tdb\n",
      "Opening force field file ./charmm22st.ff/rna.n.tdb\n",
      "Opening force field file ./charmm22st.ff/aminoacids.c.tdb\n",
      "Opening force field file ./charmm22st.ff/dna.c.tdb\n",
      "Opening force field file ./charmm22st.ff/rna.c.tdb\n",
      "\n",
      "Back Off! I just backed up p53.top to ./#p53.top.4#\n",
      "Analysing hydrogen-bonding network for automated assignment of histidine\n",
      " protonation. 328 donors and 293 acceptors were found.\n",
      "There are 445 hydrogen bonds\n",
      "Will use HISE for residue 115\n",
      "Will use HISE for residue 168\n",
      "Will use HISE for residue 178\n",
      "Will use HISE for residue 179\n",
      "Will use HISE for residue 193\n",
      "Will use HISE for residue 214\n",
      "Will use HISE for residue 233\n",
      "8 out of 8 lines of specbond.dat converted successfully\n",
      "Special Atom Distance matrix:\n",
      "                  HIS115  CYS124  MET133  CYS135  CYS141  MET160  HIS168\n",
      "                  NE2199   SG257   SD326   SG344   SG388   SD534  NE2602\n",
      "  CYS124   SG257   1.411\n",
      "  MET133   SD326   1.527   0.362\n",
      "  CYS135   SG344   1.877   0.559   0.559\n",
      "  CYS141   SG388   1.849   0.443   0.544   0.417\n",
      "  MET160   SD534   3.118   2.037   1.722   1.774   1.838\n",
      "  HIS168  NE2602   3.356   2.468   2.255   1.998   2.367   1.856\n",
      "  MET169   SD610   3.087   2.297   1.978   1.974   2.248   1.198   1.035\n",
      "  CYM176   SG669   3.370   2.053   2.038   1.527   1.702   2.078   1.814\n",
      "  HIS178  NE2685   3.601   2.312   2.387   1.857   1.954   2.641   2.410\n",
      "  HIS179  NE2695   3.125   1.805   1.872   1.351   1.439   2.256   2.192\n",
      "  CYS182   SG722   3.555   2.190   2.237   1.765   1.780   2.351   2.484\n",
      "  HIS193  NE2799   3.027   1.685   1.522   1.397   1.310   1.048   2.240\n",
      "  HIS214  NE2983   3.741   2.413   2.216   2.002   2.051   1.106   1.998\n",
      "  CYS229  SG1093   1.547   1.436   1.387   1.902   1.643   2.413   3.502\n",
      "  HIS233 NE21124   1.982   1.151   1.229   1.497   1.098   2.248   3.335\n",
      "  MET237  SD1164   2.659   1.259   1.294   0.954   0.818   1.795   2.380\n",
      "  CYM238  SG1171   3.006   1.686   1.657   1.151   1.347   1.835   1.685\n",
      "  CYM242  SG1197   3.188   1.945   1.939   1.406   1.651   2.147   1.632\n",
      "  MET243  SD1204   3.512   2.451   2.454   1.929   2.244   2.685   1.588\n",
      "  MET246  SD1220   2.689   1.467   1.318   0.926   1.233   1.417   1.227\n",
      "  CYS275  SG1449   1.897   0.955   1.027   0.628   0.988   2.207   1.863\n",
      "  CYS277  SG1460   1.952   1.373   1.627   1.291   1.456   3.026   2.615\n",
      "                  MET169  CYM176  HIS178  HIS179  CYS182  HIS193  HIS214\n",
      "                   SD610   SG669  NE2685  NE2695   SG722  NE2799  NE2983\n",
      "  CYM176   SG669   2.299\n",
      "  HIS178  NE2685   2.931   0.642\n",
      "  HIS179  NE2695   2.584   0.519   0.518\n",
      "  CYS182   SG722   2.838   0.698   0.506   0.524\n",
      "  HIS193  NE2799   1.991   1.496   1.890   1.499   1.496\n",
      "  HIS214  NE2983   1.885   1.465   1.943   1.726   1.604   0.875\n",
      "  CYS229  SG1093   2.927   3.285   3.562   3.052   3.304   2.293   3.100\n",
      "  HIS233 NE21124   2.969   2.609   2.767   2.293   2.465   1.692   2.567\n",
      "  MET237  SD1164   2.408   1.162   1.343   0.870   1.036   0.904   1.547\n",
      "  CYM238  SG1171   2.060   0.385   0.905   0.533   0.875   1.282   1.418\n",
      "  CYM242  SG1197   2.200   0.355   0.805   0.633   0.988   1.670   1.690\n",
      "  MET243  SD1204   2.432   1.013   1.236   1.284   1.602   2.376   2.273\n",
      "  MET246  SD1220   1.442   0.985   1.559   1.162   1.505   1.244   1.408\n",
      "  CYS275  SG1449   2.087   1.579   1.871   1.444   1.947   1.928   2.381\n",
      "  CYS277  SG1460   2.950   2.006   2.029   1.712   2.207   2.567   3.075\n",
      "                  CYS229  HIS233  MET237  CYM238  CYM242  MET243  MET246\n",
      "                  SG1093 NE21124  SD1164  SG1171  SG1197  SD1204  SD1220\n",
      "  HIS233 NE21124   1.025\n",
      "  MET237  SD1164   2.268   1.471\n",
      "  CYM238  SG1171   2.924   2.299   0.916\n",
      "  CYM242  SG1197   3.255   2.648   1.274   0.399\n",
      "  MET243  SD1204   3.826   3.301   1.993   1.129   0.741\n",
      "  MET246  SD1220   2.633   2.227   1.161   0.660   0.866   1.365\n",
      "  CYS275  SG1449   2.357   2.043   1.407   1.253   1.332   1.625   1.048\n",
      "  CYS277  SG1460   2.710   2.313   1.817   1.777   1.762   1.921   1.824\n",
      "                  CYS275\n",
      "                  SG1449\n",
      "  CYS277  SG1460   0.870\n",
      "Opening force field file ./charmm22st.ff/aminoacids.arn\n",
      "Opening force field file ./charmm22st.ff/dna.arn\n",
      "Opening force field file ./charmm22st.ff/rna.arn\n",
      "\n",
      "With the -remh option the generated index file (p53.ndx) might be useless (the index file is generated before hydrogens are added)\n",
      "\n",
      "Back Off! I just backed up p53.ndx to ./#p53.ndx.1#\n",
      "Before cleaning: 8150 pairs\n",
      "Before cleaning: 8270 dihedrals\n",
      "\n",
      "Back Off! I just backed up posre.itp to ./#posre.itp.1#\n",
      "\n",
      "Back Off! I just backed up p53.gro to ./#p53.gro.1#\n",
      "\n",
      "GROMACS reminds you: \"Working in the Burger Kings, Spitting on your Onion Rings\" (Slim Shady)\n",
      "\n"
     ]
    },
    {
     "data": {
      "text/plain": [
       "(0, None, None)"
      ]
     },
     "execution_count": 11,
     "metadata": {},
     "output_type": "execute_result"
    }
   ],
   "source": [
    "# XXX: replaced OH with OH1 in charmm22st.ff/aminoacids.c.tdb\n",
    "gmx.pdb2gmx(f=orig_conf,ignh=True,p=topol,n=index,o=gro,water='tip3p',ff='charmm22st')"
   ]
  },
  {
   "cell_type": "markdown",
   "id": "46bad735-2917-4645-8d9b-32e0bf8bbcaf",
   "metadata": {},
   "source": [
    "## Sanity checks"
   ]
  },
  {
   "cell_type": "code",
   "execution_count": 13,
   "id": "ef96d527",
   "metadata": {},
   "outputs": [
    {
     "data": {
      "text/plain": [
       "<mdtraj.Trajectory with 10001 frames, 1566 atoms, 200 residues, and unitcells at 0x7f63f0761570>"
      ]
     },
     "execution_count": 13,
     "metadata": {},
     "output_type": "execute_result"
    }
   ],
   "source": [
    "# Load the trajectory, it should report expected numbers of frames and atoms/residua\n",
    "\n",
    "tr = md.load(traj,top=conf)\n",
    "idx=tr[0].top.select(\"name CA\")\n",
    "\n",
    "# for trivial cases like Ala-Ala, where superposing on CAs fails\n",
    "#idx=tr[0].top.select(\"element != H\")\n",
    "\n",
    "tr.superpose(tr[0],atom_indices=idx)"
   ]
  },
  {
   "cell_type": "code",
   "execution_count": 14,
   "id": "17683c42",
   "metadata": {},
   "outputs": [
    {
     "data": {
      "application/vnd.jupyter.widget-view+json": {
       "model_id": "288c09a531c54d2f93867b7c36a84864",
       "version_major": 2,
       "version_minor": 0
      },
      "text/plain": [
       "NGLWidget(max_frame=10000)"
      ]
     },
     "metadata": {},
     "output_type": "display_data"
    }
   ],
   "source": [
    "# Visual check, all frames should look \"reasonable\"\n",
    "\n",
    "# Because of different conventions of numbering atoms in proteins,\n",
    "# PDB file {conf} and the trajectory {traj} can become inconsistent, and this would appear here \n",
    "# as rather weird shapes of the molecule\n",
    "\n",
    "import nglview as nv\n",
    "\n",
    "v = nv.show_mdtraj(tr)\n",
    "v.clear()\n",
    "v.add_representation(\"licorice\")\n",
    "v"
   ]
  },
  {
   "cell_type": "markdown",
   "id": "875fb6f9-d5f7-457f-8362-f6eac58889ff",
   "metadata": {},
   "source": [
    "## Split datasets\n",
    "\n",
    "Split trajectory into 3 parts. Each part will represent training, validation and testing dataset respectively. The workflow is following:\n",
    "1. Shuffle configurations in trajectory\n",
    "2. Select proportions to divide the trajectory\n",
    "3. Divide the trajectory\n",
    "4. Compute RMSD between\n",
    "   * **train x validation** trajectory and filter similar structures in train trajectory\n",
    "   * **train x test** trajectory and filter similar structures in train trajectory\n",
    "   * **test x validation** trajectory and filter similar structures in test trajectory\n",
    "5. Transform into internal coordinates\n",
    "6. Save internal coordinates as datasets which can be loaded in **train.ipynb** and **tune.ipynb** notebooks"
   ]
  },
  {
   "cell_type": "code",
   "execution_count": 15,
   "id": "8e6439d8-3423-40a1-a98b-259e6d0b1446",
   "metadata": {},
   "outputs": [],
   "source": [
    "# shuffle the trajectory so the configurations are dispersed across all datasets\n",
    "np.random.shuffle(tr.xyz)"
   ]
  },
  {
   "cell_type": "code",
   "execution_count": 16,
   "id": "d742966c-94b3-475c-aecc-0c727e10e2a5",
   "metadata": {},
   "outputs": [
    {
     "data": {
      "text/plain": [
       "((7000, 1566, 3), (1500, 1566, 3), (1501, 1566, 3))"
      ]
     },
     "execution_count": 16,
     "metadata": {},
     "output_type": "execute_result"
    }
   ],
   "source": [
    "# - set proportions for train, validation and test datasets\n",
    "# - proportions must be equal to 1 when added together\n",
    "train = .7\n",
    "validation = .15\n",
    "test = .15\n",
    "\n",
    "assert train + validation + test == .9999999999999999 or 1\n",
    "\n",
    "tr_i = len(tr) * train\n",
    "X_train = tr.slice(slice(0,int(tr_i)))\n",
    "\n",
    "va_i = len(tr) * validation\n",
    "X_validate = tr.slice(slice(int(tr_i),int(tr_i)+int(va_i)))\n",
    "\n",
    "te_i = len(tr) * test\n",
    "X_test = tr.slice(slice(int(tr_i)+int(va_i),len(tr)))\n",
    "\n",
    "X_train.xyz.shape, X_validate.xyz.shape, X_test.xyz.shape"
   ]
  },
  {
   "cell_type": "code",
   "execution_count": 17,
   "id": "3ac9c322-9427-4771-8da1-0558b834c705",
   "metadata": {},
   "outputs": [],
   "source": [
    "X_train.save_xtc('train.xtc')\n",
    "X_validate.save_xtc('validate.xtc')\n",
    "X_test.save_xtc('test.xtc')"
   ]
  },
  {
   "cell_type": "code",
   "execution_count": null,
   "id": "2a15fec5-5e5f-4385-b043-728b8a36fd05",
   "metadata": {},
   "outputs": [],
   "source": [
    "# eventual recovery\n",
    "\"\"\"\n",
    "X_train = md.load_xtc('train.xtc',conf)\n",
    "X_validate = md.load_xtc('validate.xtc',conf)\n",
    "X_test = md.load_xtc('test.xtc',conf)\n",
    "\"\"\""
   ]
  },
  {
   "cell_type": "code",
   "execution_count": 31,
   "id": "0b0089b2-3b3c-4683-99a7-c4cc0bed26fc",
   "metadata": {},
   "outputs": [
    {
     "name": "stderr",
     "output_type": "stream",
     "text": [
      "pod/asmsa-gmx-13210-c4vzn condition met\n"
     ]
    },
    {
     "name": "stdout",
     "output_type": "stream",
     "text": [
      "\n",
      "WARNING: Masses and atomic (Van der Waals) radii will be guessed\n",
      "         based on residue and atom names, since they could not be\n",
      "         definitively assigned from the information in your input\n",
      "         files. These guessed numbers might deviate from the mass\n",
      "         and radius of the atom type. Please check the output\n",
      "         files if necessary. Note, that this functionality may\n",
      "         be removed in a future GROMACS version. Please, consider\n",
      "         using another file format for your input.\n",
      "\n"
     ]
    },
    {
     "name": "stderr",
     "output_type": "stream",
     "text": [
      "             :-) GROMACS - gmx select, 2023.2-plumed_2.10.0_dev (-:\n",
      "\n",
      "Executable:   /gromacs/AVX2_256_ts/bin/gmx\n",
      "Data prefix:  /gromacs/AVX2_256_ts\n",
      "Working dir:  /mnt/ASMSA/p53\n",
      "Command line:\n",
      "  gmx select -s p53.pdb -on backbone.ndx -select Backbone\n",
      "\n",
      "Analyzed topology coordinates\n",
      "\n",
      "GROMACS reminds you: \"Don't You Wish You Never Met Her, Dirty Blue Gene?\" (Captain Beefheart)\n",
      "\n"
     ]
    },
    {
     "data": {
      "text/plain": [
       "(0, None, None)"
      ]
     },
     "execution_count": 31,
     "metadata": {},
     "output_type": "execute_result"
    }
   ],
   "source": [
    "# get RMSD from train trajectory compared to validation trajectory\n",
    "gmx.select(s=conf,on='backbone.ndx',select='Backbone')"
   ]
  },
  {
   "cell_type": "code",
   "execution_count": null,
   "id": "2a1ca5b1-a885-46ae-a30d-fd2ff2fb63f0",
   "metadata": {},
   "outputs": [],
   "source": [
    "gmx.rms(s=conf,f='train.xtc',f2='validate.xtc',n='backbone.ndx',m='trainxval_rmsd.xpm')"
   ]
  },
  {
   "cell_type": "code",
   "execution_count": null,
   "id": "bda4330f-6e2f-4ded-a555-a9a164a1a467",
   "metadata": {},
   "outputs": [],
   "source": [
    "# load the RMDS matrix\n",
    "txv = gf.XPM('trainxval_rmsd.xpm')\n",
    "txv.array.shape"
   ]
  },
  {
   "cell_type": "code",
   "execution_count": null,
   "id": "e8e0259e-f166-4d3b-8e1b-70eb2a5741ba",
   "metadata": {},
   "outputs": [],
   "source": [
    "# minima per row -- for each configuration in train, how far is the nearest one from validation\n",
    "txv_min = np.min(txv.array,axis=1)\n",
    "txv_min.shape"
   ]
  },
  {
   "cell_type": "code",
   "execution_count": null,
   "id": "5fededfb-e5ce-43a3-85ea-4edec1e6c709",
   "metadata": {},
   "outputs": [],
   "source": [
    "plt.hist(txv_min,bins=50)\n",
    "plt.show()"
   ]
  },
  {
   "cell_type": "code",
   "execution_count": null,
   "id": "7f8d6f56-05c9-4b8b-aa2d-da67e16d77a2",
   "metadata": {},
   "outputs": [],
   "source": [
    "# drop similar structures (to validation trajectory) in train trajectory to avoid dataset being biased\n",
    "txv_difference = 0.05\n",
    "\n",
    "train_tr = X_train[np.argwhere(txv_min > txv_difference).flat]\n",
    "train_tr.xyz.shape"
   ]
  },
  {
   "cell_type": "code",
   "execution_count": null,
   "id": "22f7ca04-c7fe-4df5-b9fa-bfb64118ab3d",
   "metadata": {},
   "outputs": [],
   "source": [
    "train_tr.save_xtc('tmp_train.xtc')\n",
    "gmx.rms(s=conf,f='tmp_train.xtc',f2='test.xtc',n='backbone.ndx',m='trainxtest_rmsd.xpm')"
   ]
  },
  {
   "cell_type": "code",
   "execution_count": null,
   "id": "55c22d17-7bdd-4c4c-a0c1-c745ddacfe6f",
   "metadata": {},
   "outputs": [],
   "source": [
    "txt = gf.XPM('trainxtest_rmsd.xpm')\n",
    "txt.array.shape"
   ]
  },
  {
   "cell_type": "code",
   "execution_count": null,
   "id": "1b2d11b6-1ffe-41bb-a1e5-29856287cb5c",
   "metadata": {},
   "outputs": [],
   "source": [
    "txt_min = np.min(txt.array,axis=1)\n",
    "txt_min.shape"
   ]
  },
  {
   "cell_type": "code",
   "execution_count": null,
   "id": "a14e533f-f83f-41ed-8d4d-c20aafc67fba",
   "metadata": {},
   "outputs": [],
   "source": [
    "plt.hist(txt_min,bins=50)\n",
    "plt.show()"
   ]
  },
  {
   "cell_type": "code",
   "execution_count": null,
   "id": "17541f72-e8e5-400c-96ca-9d2372c4d3b8",
   "metadata": {},
   "outputs": [],
   "source": [
    "# ... one more time with test trajectory & test x validation...\n",
    "txt_difference = 0.05\n",
    "\n",
    "x_train = train_tr[np.argwhere(txt_min > txt_difference).flat]\n",
    "x_train.save_xtc('x_train.xtc')"
   ]
  },
  {
   "cell_type": "code",
   "execution_count": null,
   "id": "b027ccef-fd97-494b-bfce-d5769762336f",
   "metadata": {},
   "outputs": [],
   "source": [
    "# test x validation\n",
    "gmx.rms(f='test.xtc',f2='validate.xtc',s=conf,n='backbone.ndx',m='testxvalidate_rmsd.xpm')"
   ]
  },
  {
   "cell_type": "code",
   "execution_count": null,
   "id": "26d995e8-361f-441c-986d-f8235efe9a11",
   "metadata": {},
   "outputs": [],
   "source": [
    "txv = gf.XPM('testxvalidate_rmsd.xpm')\n",
    "txv.array.shape"
   ]
  },
  {
   "cell_type": "code",
   "execution_count": null,
   "id": "8d986593-432f-45c6-82e9-b3f6a3dbf031",
   "metadata": {},
   "outputs": [],
   "source": [
    "txv_min = np.min(txv.array,axis=1)\n",
    "txv_min.shape"
   ]
  },
  {
   "cell_type": "code",
   "execution_count": null,
   "id": "ea949db5-9b85-4508-8e51-414992e060e4",
   "metadata": {},
   "outputs": [],
   "source": [
    "plt.hist(txv_min,bins=50)\n",
    "plt.show()"
   ]
  },
  {
   "cell_type": "code",
   "execution_count": null,
   "id": "c6bf59b4-b974-4d22-bed7-9402aa296271",
   "metadata": {},
   "outputs": [],
   "source": [
    "# ... one more time with test trajectory & test x validation...\n",
    "txv_difference = 0.05\n",
    "\n",
    "x_test = X_test[np.argwhere(txv_min > txv_difference).flat]\n",
    "x_test.save_xtc('x_test.xtc')"
   ]
  },
  {
   "cell_type": "code",
   "execution_count": 18,
   "id": "007ffa64-16a8-4a8b-96db-6507eb733609",
   "metadata": {},
   "outputs": [],
   "source": [
    "# lazy man: if you dont want to wait for rmsd\n",
    "! ln -sf train.xtc x_train.xtc\n",
    "! ln -sf test.xtc x_test.xtc"
   ]
  },
  {
   "cell_type": "code",
   "execution_count": 19,
   "id": "0f294de0-0325-45f7-b14e-5715c5354c10",
   "metadata": {},
   "outputs": [],
   "source": [
    "# recovery\n",
    "\n",
    "x_train = md.load('x_train.xtc', top=conf)\n",
    "x_test = md.load('x_test.xtc', top=conf)\n"
   ]
  },
  {
   "cell_type": "code",
   "execution_count": 20,
   "id": "097a6ea9-58a6-47c6-a5d1-6464d53f946c",
   "metadata": {},
   "outputs": [
    {
     "data": {
      "text/plain": [
       "((7000, 1566, 3), (1500, 1566, 3), (1501, 1566, 3))"
      ]
     },
     "execution_count": 20,
     "metadata": {},
     "output_type": "execute_result"
    }
   ],
   "source": [
    "# get shapes of filtered trajectories that are to be used as datasets\n",
    "validate_tr = md.load('validate.xtc', top=conf)\n",
    "\n",
    "trajs = [x_train, validate_tr, x_test]\n",
    "x_train.xyz.shape, validate_tr.xyz.shape, x_test.xyz.shape"
   ]
  },
  {
   "cell_type": "code",
   "execution_count": 21,
   "id": "51e03cf1",
   "metadata": {},
   "outputs": [
    {
     "name": "stdout",
     "output_type": "stream",
     "text": [
      "(1566, 3, 7000)\n",
      "(1566, 3, 1500)\n",
      "(1566, 3, 1501)\n"
     ]
    }
   ],
   "source": [
    "# reshuffle the geometries to get frame last so that we can use vectorized calculations later on\n",
    "geoms = []\n",
    "\n",
    "for i in range(len(trajs)):\n",
    "    geoms.append(np.moveaxis(trajs[i].xyz,0,-1))\n",
    "    print(geoms[i].shape)"
   ]
  },
  {
   "cell_type": "code",
   "execution_count": 22,
   "id": "fff2ff1c-4222-45c9-b650-111d4f05c101",
   "metadata": {},
   "outputs": [],
   "source": [
    "# save geometries\n",
    "\n",
    "tf.data.Dataset.from_tensor_slices(geoms[0]).save('datasets/geoms/train')\n",
    "tf.data.Dataset.from_tensor_slices(geoms[1]).save('datasets/geoms/validate')\n",
    "tf.data.Dataset.from_tensor_slices(geoms[2]).save('datasets/geoms/test')"
   ]
  },
  {
   "cell_type": "markdown",
   "id": "ab4902fd-e2b9-4812-8b38-59bc444d7d1a",
   "metadata": {},
   "source": [
    "### Internal coordinates computation\n",
    "\n",
    "Exercise the ASMSA library on your input. Just check everything appears to work.\n",
    "\n",
    "There are multiple options that can be combined:\n",
    "- use traditional internal coordinates (bond distances, angles, and dihedrals) or not\n",
    "- include additional distances between atoms that may not be bound to express protein folding state more directly\n",
    "   - dense (all-to-all) atom distances, feasible for very small peptides only\n",
    "   - sparse atom distances (only some pairs are chosen)\n",
    "   \n",
    "**Choose the suitable one in the cell bellow, and copy the same to [tune.ipynb](tune.ipynb) and [train.ipynb](train.ipynb)**, they must be consistent\n"
   ]
  },
  {
   "cell_type": "code",
   "execution_count": 23,
   "id": "f16daa6b",
   "metadata": {},
   "outputs": [],
   "source": [
    "# traditional internal coordinates (bond distances, angles, and torsions) only\n",
    "\n",
    "# mol = asmsa.Molecule(conf,topol)\n",
    "\n",
    "# internal coordinates and sparse any-any atom distances (not restricted to bonds)\n",
    "# eventually, top (and index) can be left out to use sparse distances only\n",
    "\n",
    "\n",
    "mols = []\n",
    "for i in range(len(geoms)):\n",
    "    sparse_dists = asmsa.NBDistancesSparse(geoms[i].shape[0], density=nb_density)\n",
    "    mols.append(asmsa.Molecule(pdb=conf,top=topol,ndx=index,fms=[sparse_dists]))\n",
    "\n",
    "# dense distances are feasible for very small (upto 5 residua) peptides only\n",
    "\n",
    "# dense_dists = asmsa.NBDistancesDense(geom.shape[0])\n",
    "# mol = asmsa.Molecule(pdb=conf,top=topol,ndx=index,fms=[dense_dists])"
   ]
  },
  {
   "cell_type": "code",
   "execution_count": 24,
   "id": "14a5bb18",
   "metadata": {},
   "outputs": [
    {
     "name": "stdout",
     "output_type": "stream",
     "text": [
      "(7000, 13656)\n",
      "(1500, 13656)\n",
      "(1501, 13656)\n"
     ]
    }
   ],
   "source": [
    "intcoords = []\n",
    "for i in range(len(mols)):\n",
    "    intcoords.append(mols[i].intcoord(geoms[i]).T)\n",
    "    print(intcoords[i].shape)"
   ]
  },
  {
   "cell_type": "code",
   "execution_count": 25,
   "id": "8b239f0e-0cf2-42f8-a3e4-d35afe93ed8b",
   "metadata": {},
   "outputs": [],
   "source": [
    "[train,validate,test] = intcoords"
   ]
  },
  {
   "cell_type": "code",
   "execution_count": 26,
   "id": "1986bd6c-7f23-4925-bb34-9464032ab9d5",
   "metadata": {},
   "outputs": [],
   "source": [
    "# normalize training set\n",
    "train_mean = np.mean(train,axis=0)\n",
    "train -= train_mean\n",
    "train_scale = np.std(train,axis=0)\n",
    "train /= train_scale"
   ]
  },
  {
   "cell_type": "code",
   "execution_count": 27,
   "id": "68a06c84-0164-4f4d-a797-ca0a85153442",
   "metadata": {},
   "outputs": [],
   "source": [
    "# normalize test and validation sets\n",
    "test -= train_mean\n",
    "test /= train_scale\n",
    "validate -= train_mean\n",
    "validate /= train_scale"
   ]
  },
  {
   "cell_type": "code",
   "execution_count": 28,
   "id": "c9927a64-0e0b-457e-851d-156737a9c828",
   "metadata": {
    "scrolled": true
   },
   "outputs": [],
   "source": [
    "# save for usage in tune/train/test phase\n",
    "\n",
    "tf.data.Dataset.from_tensor_slices(train).save('datasets/intcoords/train')\n",
    "tf.data.Dataset.from_tensor_slices(validate).save('datasets/intcoords/validate')\n",
    "tf.data.Dataset.from_tensor_slices(test).save('datasets/intcoords/test')\n",
    "\n",
    "np.savetxt('datasets/intcoords/mean.txt',train_mean)\n",
    "np.savetxt('datasets/intcoords/scale.txt',train_scale)"
   ]
  },
  {
   "cell_type": "markdown",
   "id": "94748d7a-b868-4124-97f7-fed4e8fcc24b",
   "metadata": {},
   "source": [
    "### Density of the conformational space\n",
    "\n",
    "- Sample the training trajectory randomly\n",
    "- For each point in the trajectory:\n",
    "  - calculate RMSD to all points in the sample\n",
    "  - pick some number $n$ of nearest ones\n",
    "  - calculate the _density_ at this point as $$ d = \\sum_{i=1}^n e^{-d_i} / n $$  i.e. the nearer the sample points are, the higher the density\n",
    " \n",
    "Altogether, $d$ roughly corresponds to the probability that the molecule during simulation ends up in this area of the conformational space."
   ]
  },
  {
   "cell_type": "code",
   "execution_count": 29,
   "id": "ebb4eee9-eb63-4fdb-9926-3c0cb3b756cc",
   "metadata": {},
   "outputs": [],
   "source": [
    "sample_size = 5000\n",
    "x_train = md.load('x_train.xtc', top=conf)\n",
    "tr_sample = x_train[np.random.choice(len(x_train),sample_size,False)]\n",
    "tr_sample.save('sample.xtc')"
   ]
  },
  {
   "cell_type": "code",
   "execution_count": 32,
   "id": "3b91c4bc-62d5-4923-92dc-b1bf44a0e2b5",
   "metadata": {
    "scrolled": true
   },
   "outputs": [
    {
     "name": "stderr",
     "output_type": "stream",
     "text": [
      "pod/asmsa-gmx-13210-c4vzn condition met\n"
     ]
    },
    {
     "name": "stdout",
     "output_type": "stream",
     "text": [
      "\n",
      "WARNING: Masses and atomic (Van der Waals) radii will be guessed\n",
      "         based on residue and atom names, since they could not be\n",
      "         definitively assigned from the information in your input\n",
      "         files. These guessed numbers might deviate from the mass\n",
      "         and radius of the atom type. Please check the output\n",
      "         files if necessary. Note, that this functionality may\n",
      "         be removed in a future GROMACS version. Please, consider\n",
      "         using another file format for your input.\n",
      "\n"
     ]
    },
    {
     "name": "stderr",
     "output_type": "stream",
     "text": [
      "              :-) GROMACS - gmx rms, 2023.2-plumed_2.10.0_dev (-:\n",
      "\n",
      "Executable:   /gromacs/AVX2_256_ts/bin/gmx\n",
      "Data prefix:  /gromacs/AVX2_256_ts\n",
      "Working dir:  /mnt/ASMSA/p53\n",
      "Command line:\n",
      "  gmx rms -f x_train.xtc -f2 sample.xtc -s p53.pdb -n backbone.ndx -m sample_rmsd.xpm\n",
      "\n",
      "Can not find mass in database for atom ZN in residue 300 ZN2\n",
      "\n",
      "-------------------------------------------------------\n",
      "Program:     gmx rms, version 2023.2-plumed_2.10.0_dev\n",
      "Source file: src/gromacs/fileio/confio.cpp (line 522)\n",
      "\n",
      "Fatal error:\n",
      "Masses were requested, but for some atom(s) masses could not be found in the\n",
      "database. Use a tpr file as input, if possible, or add these atoms to the mass\n",
      "database.\n",
      "\n",
      "For more information and tips for troubleshooting, please check the GROMACS\n",
      "website at http://www.gromacs.org/Documentation/Errors\n",
      "-------------------------------------------------------\n",
      "Abort(1) on node 0 (rank 0 in comm 0): application called MPI_Abort(MPI_COMM_WORLD, 1) - process 0\n",
      "command terminated with exit code 1\n"
     ]
    },
    {
     "ename": "GromacsError",
     "evalue": "[Errno 1] Gromacs tool failed\nCommand invocation: gmx rms -f x_train.xtc -f2 sample.xtc -s p53.pdb -n backbone.ndx -m sample_rmsd.xpm",
     "output_type": "error",
     "traceback": [
      "\u001b[0;31m---------------------------------------------------------------------------\u001b[0m",
      "\u001b[0;31mGromacsError\u001b[0m                              Traceback (most recent call last)",
      "Cell \u001b[0;32mIn[32], line 1\u001b[0m\n\u001b[0;32m----> 1\u001b[0m \u001b[43mgmx\u001b[49m\u001b[38;5;241;43m.\u001b[39;49m\u001b[43mrms\u001b[49m\u001b[43m(\u001b[49m\u001b[43mf\u001b[49m\u001b[38;5;241;43m=\u001b[39;49m\u001b[38;5;124;43m'\u001b[39;49m\u001b[38;5;124;43mx_train.xtc\u001b[39;49m\u001b[38;5;124;43m'\u001b[39;49m\u001b[43m,\u001b[49m\u001b[43mf2\u001b[49m\u001b[38;5;241;43m=\u001b[39;49m\u001b[38;5;124;43m'\u001b[39;49m\u001b[38;5;124;43msample.xtc\u001b[39;49m\u001b[38;5;124;43m'\u001b[39;49m\u001b[43m,\u001b[49m\u001b[43ms\u001b[49m\u001b[38;5;241;43m=\u001b[39;49m\u001b[43mconf\u001b[49m\u001b[43m,\u001b[49m\u001b[43mn\u001b[49m\u001b[38;5;241;43m=\u001b[39;49m\u001b[38;5;124;43m'\u001b[39;49m\u001b[38;5;124;43mbackbone.ndx\u001b[39;49m\u001b[38;5;124;43m'\u001b[39;49m\u001b[43m,\u001b[49m\u001b[43mm\u001b[49m\u001b[38;5;241;43m=\u001b[39;49m\u001b[38;5;124;43m'\u001b[39;49m\u001b[38;5;124;43msample_rmsd.xpm\u001b[39;49m\u001b[38;5;124;43m'\u001b[39;49m\u001b[43m)\u001b[49m\n",
      "File \u001b[0;32m/opt/conda/lib/python3.10/site-packages/gromacs/core.py:417\u001b[0m, in \u001b[0;36mCommand.__call__\u001b[0;34m(self, *args, **kwargs)\u001b[0m\n\u001b[1;32m    351\u001b[0m \u001b[38;5;28;01mdef\u001b[39;00m \u001b[38;5;21m__call__\u001b[39m(\u001b[38;5;28mself\u001b[39m, \u001b[38;5;241m*\u001b[39margs, \u001b[38;5;241m*\u001b[39m\u001b[38;5;241m*\u001b[39mkwargs):\n\u001b[1;32m    352\u001b[0m \u001b[38;5;250m    \u001b[39m\u001b[38;5;124;03m\"\"\"Run command with the given arguments::\u001b[39;00m\n\u001b[1;32m    353\u001b[0m \n\u001b[1;32m    354\u001b[0m \u001b[38;5;124;03m       rc,stdout,stderr = command(*args, input=None, **kwargs)\u001b[39;00m\n\u001b[0;32m   (...)\u001b[0m\n\u001b[1;32m    415\u001b[0m \u001b[38;5;124;03m       (TODO: example for chaining commands)\u001b[39;00m\n\u001b[1;32m    416\u001b[0m \u001b[38;5;124;03m    \"\"\"\u001b[39;00m\n\u001b[0;32m--> 417\u001b[0m     \u001b[38;5;28;01mreturn\u001b[39;00m \u001b[38;5;28;43mself\u001b[39;49m\u001b[38;5;241;43m.\u001b[39;49m\u001b[43mrun\u001b[49m\u001b[43m(\u001b[49m\u001b[38;5;241;43m*\u001b[39;49m\u001b[43margs\u001b[49m\u001b[43m,\u001b[49m\u001b[43m \u001b[49m\u001b[38;5;241;43m*\u001b[39;49m\u001b[38;5;241;43m*\u001b[39;49m\u001b[43mkwargs\u001b[49m\u001b[43m)\u001b[49m\n",
      "File \u001b[0;32m/opt/conda/lib/python3.10/site-packages/gromacs/core.py:178\u001b[0m, in \u001b[0;36mCommand.run\u001b[0;34m(self, *args, **kwargs)\u001b[0m\n\u001b[1;32m    176\u001b[0m \u001b[38;5;250m\u001b[39m\u001b[38;5;124;03m\"\"\"Run the command; args/kwargs are added or replace the ones given to the constructor.\"\"\"\u001b[39;00m\n\u001b[1;32m    177\u001b[0m _args, _kwargs \u001b[38;5;241m=\u001b[39m \u001b[38;5;28mself\u001b[39m\u001b[38;5;241m.\u001b[39m_combine_arglist(args, kwargs)\n\u001b[0;32m--> 178\u001b[0m results, p \u001b[38;5;241m=\u001b[39m \u001b[38;5;28;43mself\u001b[39;49m\u001b[38;5;241;43m.\u001b[39;49m\u001b[43m_run_command\u001b[49m\u001b[43m(\u001b[49m\u001b[38;5;241;43m*\u001b[39;49m\u001b[43m_args\u001b[49m\u001b[43m,\u001b[49m\u001b[43m \u001b[49m\u001b[38;5;241;43m*\u001b[39;49m\u001b[38;5;241;43m*\u001b[39;49m\u001b[43m_kwargs\u001b[49m\u001b[43m)\u001b[49m\n\u001b[1;32m    179\u001b[0m \u001b[38;5;28;01mreturn\u001b[39;00m results\n",
      "File \u001b[0;32m/opt/conda/lib/python3.10/site-packages/gromacs/core.py:649\u001b[0m, in \u001b[0;36mGromacsCommand._run_command\u001b[0;34m(self, *args, **kwargs)\u001b[0m\n\u001b[1;32m    647\u001b[0m \u001b[38;5;250m\u001b[39m\u001b[38;5;124;03m\"\"\"Execute the gromacs command; see the docs for __call__.\"\"\"\u001b[39;00m\n\u001b[1;32m    648\u001b[0m result, p \u001b[38;5;241m=\u001b[39m \u001b[38;5;28msuper\u001b[39m(GromacsCommand, \u001b[38;5;28mself\u001b[39m)\u001b[38;5;241m.\u001b[39m_run_command(\u001b[38;5;241m*\u001b[39margs, \u001b[38;5;241m*\u001b[39m\u001b[38;5;241m*\u001b[39mkwargs)\n\u001b[0;32m--> 649\u001b[0m \u001b[38;5;28;43mself\u001b[39;49m\u001b[38;5;241;43m.\u001b[39;49m\u001b[43mcheck_failure\u001b[49m\u001b[43m(\u001b[49m\u001b[43mresult\u001b[49m\u001b[43m,\u001b[49m\u001b[43m \u001b[49m\u001b[43mcommand_string\u001b[49m\u001b[38;5;241;43m=\u001b[39;49m\u001b[43mp\u001b[49m\u001b[38;5;241;43m.\u001b[39;49m\u001b[43mcommand_string\u001b[49m\u001b[43m)\u001b[49m\n\u001b[1;32m    650\u001b[0m \u001b[38;5;28;01mreturn\u001b[39;00m result, p\n",
      "File \u001b[0;32m/opt/conda/lib/python3.10/site-packages/gromacs/core.py:599\u001b[0m, in \u001b[0;36mGromacsCommand.check_failure\u001b[0;34m(self, result, msg, command_string)\u001b[0m\n\u001b[1;32m    589\u001b[0m     msg \u001b[38;5;241m=\u001b[39m \u001b[38;5;124m\"\u001b[39m\u001b[38;5;130;01m\\n\u001b[39;00m\u001b[38;5;124m\"\u001b[39m\u001b[38;5;241m.\u001b[39mjoin(\n\u001b[1;32m    590\u001b[0m         [\n\u001b[1;32m    591\u001b[0m             msg,\n\u001b[0;32m   (...)\u001b[0m\n\u001b[1;32m    596\u001b[0m         \u001b[38;5;241m+\u001b[39m formatted_message\n\u001b[1;32m    597\u001b[0m     )\n\u001b[1;32m    598\u001b[0m \u001b[38;5;28;01mif\u001b[39;00m \u001b[38;5;28mself\u001b[39m\u001b[38;5;241m.\u001b[39mfailuremode \u001b[38;5;241m==\u001b[39m \u001b[38;5;124m\"\u001b[39m\u001b[38;5;124mraise\u001b[39m\u001b[38;5;124m\"\u001b[39m:\n\u001b[0;32m--> 599\u001b[0m     \u001b[38;5;28;01mraise\u001b[39;00m GromacsError(rc, msg)\n\u001b[1;32m    600\u001b[0m \u001b[38;5;28;01melif\u001b[39;00m \u001b[38;5;28mself\u001b[39m\u001b[38;5;241m.\u001b[39mfailuremode \u001b[38;5;241m==\u001b[39m \u001b[38;5;124m\"\u001b[39m\u001b[38;5;124mwarn\u001b[39m\u001b[38;5;124m\"\u001b[39m:\n\u001b[1;32m    601\u001b[0m     warnings\u001b[38;5;241m.\u001b[39mwarn(\n\u001b[1;32m    602\u001b[0m         msg \u001b[38;5;241m+\u001b[39m \u001b[38;5;124m\"\u001b[39m\u001b[38;5;130;01m\\n\u001b[39;00m\u001b[38;5;124mError code: \u001b[39m\u001b[38;5;132;01m{0!r}\u001b[39;00m\u001b[38;5;130;01m\\n\u001b[39;00m\u001b[38;5;124m\"\u001b[39m\u001b[38;5;241m.\u001b[39mformat(rc),\n\u001b[1;32m    603\u001b[0m         category\u001b[38;5;241m=\u001b[39mGromacsFailureWarning,\n\u001b[1;32m    604\u001b[0m     )\n",
      "\u001b[0;31mGromacsError\u001b[0m: [Errno 1] Gromacs tool failed\nCommand invocation: gmx rms -f x_train.xtc -f2 sample.xtc -s p53.pdb -n backbone.ndx -m sample_rmsd.xpm"
     ]
    }
   ],
   "source": [
    "# XXX: Broken with Zn\n",
    "gmx.rms(f='x_train.xtc',f2='sample.xtc',s=conf,n='backbone.ndx',m='sample_rmsd.xpm')"
   ]
  },
  {
   "cell_type": "code",
   "execution_count": null,
   "id": "d4ee579a-b896-4187-b693-7caf26c7daf8",
   "metadata": {},
   "outputs": [],
   "source": [
    "rms = gf.XPM('sample_rmsd.xpm')"
   ]
  },
  {
   "cell_type": "markdown",
   "id": "84024073-4300-4c10-8d97-c50c040c5091",
   "metadata": {},
   "source": [
    "#### Visual check to verify the sample size is representative\n",
    "- typically, not many distances should be less than 0.1 nm and more than 1 nm \n",
    "(the latter depends on the molecule, can be more for e.g. big disordered proteins)\n",
    "- the histogram should be semi-smooth"
   ]
  },
  {
   "cell_type": "code",
   "execution_count": null,
   "id": "688bdff2-1c1f-48b9-903c-3a119f7950c5",
   "metadata": {},
   "outputs": [],
   "source": [
    "plt.hist(rms.array.flatten(),bins=50)\n",
    "plt.show()"
   ]
  },
  {
   "cell_type": "code",
   "execution_count": null,
   "id": "6ebd6aae-f788-444b-809e-291556ad809a",
   "metadata": {},
   "outputs": [],
   "source": [
    "k_nearest = 200\n",
    "rms_sort = np.sort(rms.array.astype(np.float32))\n",
    "erms = np.exp(-rms_sort[:,:k_nearest])\n",
    "dens = (np.sum(erms,axis=1)-1.) / (erms.shape[1] - 1)"
   ]
  },
  {
   "cell_type": "markdown",
   "id": "d14e9e66-9bb8-42dd-b37d-7cd9f00b7b44",
   "metadata": {},
   "source": [
    "#### Histogram of densities\n",
    "- quite high number of points should fall above 0.8, those are low energy basins\n",
    "- the interval [0.5, 1.0] should be reasonably covered\n",
    "- on the contrary, too many points below 0.4 would indicate either insufficient sampling above or too sparse trajectory"
   ]
  },
  {
   "cell_type": "code",
   "execution_count": null,
   "id": "cc17812a-3fba-42cc-aec6-feab2f28a319",
   "metadata": {},
   "outputs": [],
   "source": [
    "plt.hist(dens,bins=20)\n",
    "plt.show()"
   ]
  },
  {
   "cell_type": "code",
   "execution_count": null,
   "id": "a483d963-10a7-401d-a053-0ce234abbddd",
   "metadata": {},
   "outputs": [],
   "source": [
    "len(dens),len(x_train)"
   ]
  },
  {
   "cell_type": "code",
   "execution_count": null,
   "id": "86054b3d-f79a-4e6b-af1f-f308043bf16c",
   "metadata": {},
   "outputs": [],
   "source": [
    "np.savetxt('datasets/train_density.txt',dens)"
   ]
  },
  {
   "cell_type": "code",
   "execution_count": null,
   "id": "93063ecd-f512-4350-9b86-01a0aeaa7234",
   "metadata": {},
   "outputs": [],
   "source": []
  }
 ],
 "metadata": {
  "kernelspec": {
   "display_name": "Python 3 (ipykernel)",
   "language": "python",
   "name": "python3"
  },
  "language_info": {
   "codemirror_mode": {
    "name": "ipython",
    "version": 3
   },
   "file_extension": ".py",
   "mimetype": "text/x-python",
   "name": "python",
   "nbconvert_exporter": "python",
   "pygments_lexer": "ipython3",
   "version": "3.10.11"
  }
 },
 "nbformat": 4,
 "nbformat_minor": 5
}
