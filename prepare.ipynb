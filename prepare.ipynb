{
 "cells": [
  {
   "cell_type": "markdown",
   "id": "6851ea37",
   "metadata": {},
   "source": [
    "# ASMSA: Prepare and check input files\n",
    "\n",
    "**Next steps**\n",
    "- [tune.ipynb](tune.ipynb): Perform initial hyperparameter tuning for this molecule\n",
    "- [train.ipynb](train.ipynb): Use results of previous tuning in more thorough training\n",
    "- [md.ipynb](md.ipynb): Use a trained model in MD simulation with Gromacs"
   ]
  },
  {
   "cell_type": "code",
   "execution_count": 3,
   "id": "3c922b53-87a2-4018-8972-2707a06021c7",
   "metadata": {},
   "outputs": [
    {
     "name": "stderr",
     "output_type": "stream",
     "text": [
      "2025-03-12 10:24:42.459084: E external/local_xla/xla/stream_executor/cuda/cuda_fft.cc:485] Unable to register cuFFT factory: Attempting to register factory for plugin cuFFT when one has already been registered\n",
      "2025-03-12 10:24:42.474305: E external/local_xla/xla/stream_executor/cuda/cuda_dnn.cc:8454] Unable to register cuDNN factory: Attempting to register factory for plugin cuDNN when one has already been registered\n",
      "2025-03-12 10:24:42.478870: E external/local_xla/xla/stream_executor/cuda/cuda_blas.cc:1452] Unable to register cuBLAS factory: Attempting to register factory for plugin cuBLAS when one has already been registered\n",
      "2025-03-12 10:24:42.492014: I tensorflow/core/platform/cpu_feature_guard.cc:210] This TensorFlow binary is optimized to use available CPU instructions in performance-critical operations.\n",
      "To enable the following instructions: AVX2 FMA, in other operations, rebuild TensorFlow with the appropriate compiler flags.\n",
      "2025-03-12 10:24:43.233672: W tensorflow/compiler/tf2tensorrt/utils/py_utils.cc:38] TF-TRT Warning: Could not find TensorRT\n"
     ]
    }
   ],
   "source": [
    "#avoid TF to consume GPU memory\n",
    "import tensorflow as tf\n",
    "\n",
    "tf.config.set_visible_devices([], 'GPU')\n",
    "tf.config.list_logical_devices()\n",
    "\n",
    "import torch"
   ]
  },
  {
   "cell_type": "code",
   "execution_count": 4,
   "id": "4b70ab11",
   "metadata": {},
   "outputs": [
    {
     "name": "stdout",
     "output_type": "stream",
     "text": [
      "NOTE: Some configuration directories are not set up yet: \n",
      "\t/home/jovyan/.gromacswrapper\n",
      "\t/home/jovyan/.gromacswrapper/qscripts\n",
      "\t/home/jovyan/.gromacswrapper/templates\n",
      "NOTE: You can create the configuration file and directories with:\n",
      "\t>>> import gromacs\n",
      "\t>>> gromacs.config.setup()\n"
     ]
    },
    {
     "name": "stderr",
     "output_type": "stream",
     "text": [
      "pod/asmsa-gmx-555-wkztg condition met\n"
     ]
    }
   ],
   "source": [
    "import mdtraj as md\n",
    "import numpy as np\n",
    "import urllib.request\n",
    "import asmsa\n",
    "import os\n",
    "import re\n",
    "import tensorflow as tf\n",
    "import gromacs as gmx\n",
    "import gromacs.fileformats as gf\n",
    "import matplotlib.pyplot as plt\n",
    "import numpy as np"
   ]
  },
  {
   "cell_type": "markdown",
   "id": "0c18899f-c606-40eb-9291-05fab7bf9658",
   "metadata": {
    "jp-MarkdownHeadingCollapsed": true
   },
   "source": [
    "## Prerocess p53 data"
   ]
  },
  {
   "cell_type": "markdown",
   "id": "2525e6c1-af08-4107-ab18-5939bddc4c08",
   "metadata": {},
   "source": [
    "conf_no_zn since \n",
    "'''\n",
    "Fatal error:\n",
    "Masses were requested, but for some atom(s) masses could not be found in the\n",
    "database. Use a tpr file as input, if possible, or add these atoms to the mass\n",
    "database.\n",
    "'''\n",
    "\n",
    "However the zinc should not influence the encoding"
   ]
  },
  {
   "cell_type": "code",
   "execution_count": 16,
   "id": "ad796e6d-59ce-4a78-b293-f1e9cbf066ef",
   "metadata": {
    "scrolled": true
   },
   "outputs": [
    {
     "name": "stderr",
     "output_type": "stream",
     "text": [
      "pod/asmsa-gmx-555-wkztg condition met\n",
      "            :-) GROMACS - gmx editconf, 2023.2-plumed_2.10.0_dev (-:\n",
      "\n",
      "Executable:   /gromacs/AVX2_256_ts/bin/gmx\n",
      "Data prefix:  /gromacs/AVX2_256_ts\n",
      "Working dir:  /mnt/ASMSA\n",
      "Command line:\n",
      "  gmx editconf -f data/p53/eq.gro -o data/p53/eq_nh.gro -ndef\n",
      "\n",
      "\n",
      "Select a group for output:\n",
      "Group     0 (         System) has  3087 elements\n",
      "Group     1 (        Protein) has  3086 elements\n",
      "Group     2 (      Protein-H) has  1565 elements\n",
      "Group     3 (        C-alpha) has   199 elements\n",
      "Group     4 (       Backbone) has   597 elements\n",
      "Group     5 (      MainChain) has   795 elements\n",
      "Group     6 (   MainChain+Cb) has   981 elements\n",
      "Group     7 (    MainChain+H) has   981 elements\n",
      "Group     8 (      SideChain) has  2105 elements\n",
      "Group     9 (    SideChain-H) has   770 elements\n",
      "Group    10 (    Prot-Masses) has  3086 elements\n",
      "Group    11 (    non-Protein) has     1 elements\n",
      "Group    12 (          Other) has     1 elements\n",
      "Group    13 (            ZN2) has     1 elements\n",
      "Select a group: \n",
      "Back Off! I just backed up data/p53/eq_nh.gro to data/p53/#eq_nh.gro.1#\n",
      "\n",
      "GROMACS reminds you: \"We must have perseverance and above all confidence in ourselves. We must believe that we are gifted for something and that this thing must be attained.\" (Marie Curie)\n",
      "\n"
     ]
    },
    {
     "name": "stdout",
     "output_type": "stream",
     "text": [
      "Note that major changes are planned in future for editconf, to improve usability and utility.\n",
      "Read 3087 atoms\n",
      "Volume: 399.207 nm^3, corresponds to roughly 179600 electrons\n",
      "No velocities found\n",
      "Selected 2: 'Protein-H'\n"
     ]
    },
    {
     "name": "stderr",
     "output_type": "stream",
     "text": [
      "pod/asmsa-gmx-555-wkztg condition met\n",
      "            :-) GROMACS - gmx editconf, 2023.2-plumed_2.10.0_dev (-:\n",
      "\n",
      "Executable:   /gromacs/AVX2_256_ts/bin/gmx\n",
      "Data prefix:  /gromacs/AVX2_256_ts\n",
      "Working dir:  /mnt/ASMSA\n",
      "Command line:\n",
      "  gmx editconf -f data/p53/eq.gro -o data/p53/eq_nh.pdb -ndef\n",
      "\n",
      "\n",
      "Select a group for output:\n",
      "Group     0 (         System) has  3087 elements\n",
      "Group     1 (        Protein) has  3086 elements\n",
      "Group     2 (      Protein-H) has  1565 elements\n",
      "Group     3 (        C-alpha) has   199 elements\n",
      "Group     4 (       Backbone) has   597 elements\n",
      "Group     5 (      MainChain) has   795 elements\n",
      "Group     6 (   MainChain+Cb) has   981 elements\n",
      "Group     7 (    MainChain+H) has   981 elements\n",
      "Group     8 (      SideChain) has  2105 elements\n",
      "Group     9 (    SideChain-H) has   770 elements\n",
      "Group    10 (    Prot-Masses) has  3086 elements\n",
      "Group    11 (    non-Protein) has     1 elements\n",
      "Group    12 (          Other) has     1 elements\n",
      "Group    13 (            ZN2) has     1 elements\n",
      "Select a group: \n",
      "Back Off! I just backed up data/p53/eq_nh.pdb to data/p53/#eq_nh.pdb.1#\n",
      "\n",
      "GROMACS reminds you: \"Yeah, a Wuzz, Or a Jerk\" (F. Black)\n",
      "\n"
     ]
    },
    {
     "name": "stdout",
     "output_type": "stream",
     "text": [
      "Note that major changes are planned in future for editconf, to improve usability and utility.\n",
      "Read 3087 atoms\n",
      "Volume: 399.207 nm^3, corresponds to roughly 179600 electrons\n",
      "No velocities found\n",
      "Selected 2: 'Protein-H'\n"
     ]
    },
    {
     "name": "stderr",
     "output_type": "stream",
     "text": [
      "pod/asmsa-gmx-555-wkztg condition met\n",
      "            :-) GROMACS - gmx editconf, 2023.2-plumed_2.10.0_dev (-:\n",
      "\n",
      "Executable:   /gromacs/AVX2_256_ts/bin/gmx\n",
      "Data prefix:  /gromacs/AVX2_256_ts\n",
      "Working dir:  /mnt/ASMSA\n",
      "Command line:\n",
      "  gmx editconf -f data/p53/eq_nh.gro -o data/p53/eq_nh.pdb\n",
      "\n",
      "\n",
      "Back Off! I just backed up data/p53/eq_nh.pdb to data/p53/#eq_nh.pdb.2#\n",
      "\n",
      "GROMACS reminds you: \"Science is a wonderful thing if one does not have to earn one's living at it.\" (Albert Einstein)\n",
      "\n"
     ]
    },
    {
     "name": "stdout",
     "output_type": "stream",
     "text": [
      "Note that major changes are planned in future for editconf, to improve usability and utility.\n",
      "Read 1565 atoms\n",
      "Volume: 399.207 nm^3, corresponds to roughly 179600 electrons\n",
      "No velocities found\n"
     ]
    },
    {
     "name": "stderr",
     "output_type": "stream",
     "text": [
      "pod/asmsa-gmx-555-wkztg condition met\n",
      "            :-) GROMACS - gmx trjconv, 2023.2-plumed_2.10.0_dev (-:\n",
      "\n",
      "Executable:   /gromacs/AVX2_256_ts/bin/gmx\n",
      "Data prefix:  /gromacs/AVX2_256_ts\n",
      "Working dir:  /mnt/ASMSA\n",
      "Command line:\n",
      "  gmx trjconv -f data/p53/traj_comp_nh.xtc -s data/p53/eq_nh.gro -o data/p53/traj_comp_nh.xtc\n",
      "\n",
      "Will write xtc: Compressed trajectory (portable xdr format): xtc\n",
      "Group     0 (         System) has  1565 elements\n",
      "Group     1 (        Protein) has  1565 elements\n",
      "Group     2 (      Protein-H) has  1565 elements\n",
      "Group     3 (        C-alpha) has   199 elements\n",
      "Group     4 (       Backbone) has   597 elements\n",
      "Group     5 (      MainChain) has   795 elements\n",
      "Group     6 (   MainChain+Cb) has   981 elements\n",
      "Group     7 (    MainChain+H) has   795 elements\n",
      "Group     8 (      SideChain) has   770 elements\n",
      "Group     9 (    SideChain-H) has   770 elements\n",
      "Reading frame       0 time    0.000   \n",
      "Precision of data/p53/traj_comp_nh.xtc is 2e-05 (nm)\n",
      "Using output precision of 0.001 (nm)\n",
      "\n",
      "Back Off! I just backed up data/p53/traj_comp_nh.xtc to data/p53/#traj_comp_nh.xtc.1#\n",
      "Reading frame     800 time 80000.000    ->  frame    799 time 79900.000      \r"
     ]
    },
    {
     "name": "stdout",
     "output_type": "stream",
     "text": [
      "Note that major changes are planned in future for trjconv, to improve usability and utility.\n",
      "Select group for output\n",
      "Selected 0: 'System'\n"
     ]
    },
    {
     "name": "stderr",
     "output_type": "stream",
     "text": [
      "Last frame      10000 time 1000000.000    ->  frame   9999 time 999900.000      \n",
      " ->  frame  10000 time 1000000.000      \n",
      "Last written: frame  10000 time 1000000.000\n",
      "\n",
      "\n",
      "GROMACS reminds you: \"We haven't the money, so we've got to think.\" (Ernest Rutherford)\n",
      "\n"
     ]
    },
    {
     "data": {
      "text/plain": [
       "(0, None, None)"
      ]
     },
     "execution_count": 16,
     "metadata": {},
     "output_type": "execute_result"
    }
   ],
   "source": [
    "#gmx.make_ndx(f='data/p53/eq.gro',input='2|13 q'.split(), o='data/p53/eq.ndx')\n",
    "#gmx.editconf(f='data/p53/eq.gro',input='14',n=\"data/p53/eq.ndx\",o='data/p53/eq_ndx.gro', ndef=True)\n",
    "#gmx.editconf(f='data/p53/eq.gro',input='14',n=\"data/p53/eq.ndx\", o='data/p53/eq_ndx.pdb', ndef=True)\n",
    "\n",
    "gmx.editconf(f='data/p53/eq.gro',input='2',o='data/p53/eq_nh.gro', ndef=True)\n",
    "gmx.editconf(f='data/p53/eq.gro',input='2',o='data/p53/eq_nh.pdb', ndef=True)\n",
    "gmx.editconf(f='data/p53/eq_nh.gro', o='data/p53/eq_nh.pdb')\n",
    "\n",
    "gmx.trjconv(f='data/p53/traj_comp_nh.xtc',s='data/p53/eq_nh.gro',o='data/p53/traj_comp_nh.xtc', input='System')"
   ]
  },
  {
   "cell_type": "markdown",
   "id": "aaba1b8f-d0ff-4264-9712-d06ad9ac964f",
   "metadata": {},
   "source": [
    "## Prepare input files\n",
    "\n",
    "Tryptophan cage files are downloaded in this section from our Google drive. \n",
    "\n",
    "This is for demonstration purpose, in real use the inputs should be placed here, and _conf, traj, topol, index_ variables set to their filenames names."
   ]
  },
  {
   "cell_type": "code",
   "execution_count": 6,
   "id": "f3b1a498-01db-4f56-8acc-fad309e987b8",
   "metadata": {},
   "outputs": [],
   "source": [
    "# Define input files\n",
    "\n",
    "base = 'data/p53/p53_wt'\n",
    "\n",
    "# input conformation, it should not contain hydrogens\n",
    "conf = 'data/p53/eq_nh' + '.pdb'\n",
    "\n",
    "# input trajectory\n",
    "# atom numbering must be consistent with {conf}, no hydrogens as well\n",
    "\n",
    "traj = 'data/p53/traj_comp_nh' + '.xtc'\n",
    "\n",
    "# everything else is generated with pdb2gmx to make sure the files are consistent"
   ]
  },
  {
   "cell_type": "markdown",
   "id": "8316ea0f-936e-49ff-994b-59c89af73b95",
   "metadata": {},
   "source": [
    "#### Density of additional internal coordinates\n",
    "\n",
    "In how many randomly sampled distances from all atom-to-atom one atom should appear in average"
   ]
  },
  {
   "cell_type": "code",
   "execution_count": 7,
   "id": "d63d71f3-eef0-4875-b875-cbd9402be267",
   "metadata": {},
   "outputs": [],
   "source": [
    "nb_density = 2 # integer in [1, n_atoms-1]"
   ]
  },
  {
   "cell_type": "code",
   "execution_count": 8,
   "id": "52ab5846-7498-4e6e-88b3-9fc9c4ffd706",
   "metadata": {},
   "outputs": [],
   "source": [
    "topol = base + '.top'\n",
    "index = base + '.ndx'\n",
    "gro = base + '.gro'\n",
    "\n",
    "with open('inputs.py','w') as i:\n",
    "    i.write(f'''\n",
    "base = '{base}'\n",
    "conf = '{conf}'\n",
    "traj = '{traj}'\n",
    "topol = '{topol}'\n",
    "index = '{index}'\n",
    "gro = '{gro}'\n",
    "\n",
    "nb_density = {nb_density}\n",
    "''')"
   ]
  },
  {
   "cell_type": "code",
   "execution_count": 14,
   "id": "f4393cf6-7f51-4a0a-b627-7a510ef48737",
   "metadata": {
    "scrolled": true
   },
   "outputs": [
    {
     "name": "stderr",
     "output_type": "stream",
     "text": [
      "pod/asmsa-gmx-555-wkztg condition met\n",
      "            :-) GROMACS - gmx pdb2gmx, 2023.2-plumed_2.10.0_dev (-:\n",
      "\n",
      "Executable:   /gromacs/AVX2_256_ts/bin/gmx\n",
      "Data prefix:  /gromacs/AVX2_256_ts\n",
      "Working dir:  /mnt/ASMSA\n",
      "Command line:\n",
      "  gmx pdb2gmx -f data/p53/eq_nh.pdb -ignh -p data/p53/p53_wt.top -n data/p53/p53_wt.ndx -o data/p53/p53_wt.gro -water tip3p -ff charmm22st\n",
      "\n",
      "Opening force field file ./charmm22st.ff/aminoacids.r2b\n",
      "Opening force field file ./charmm22st.ff/rna.r2b\n",
      "All occupancies are one\n",
      "Opening force field file ./charmm22st.ff/atomtypes.atp\n",
      "Opening force field file ./charmm22st.ff/aminoacids.rtp\n",
      "Opening force field file ./charmm22st.ff/dna.rtp\n",
      "Opening force field file ./charmm22st.ff/lipids.rtp\n",
      "Opening force field file ./charmm22st.ff/rna.rtp\n",
      "Opening force field file ./charmm22st.ff/aminoacids.hdb\n",
      "Opening force field file ./charmm22st.ff/dna.hdb\n",
      "Opening force field file ./charmm22st.ff/lipids.hdb\n",
      "Opening force field file ./charmm22st.ff/rna.hdb\n",
      "Opening force field file ./charmm22st.ff/aminoacids.n.tdb\n",
      "Opening force field file ./charmm22st.ff/dna.n.tdb\n",
      "Opening force field file ./charmm22st.ff/rna.n.tdb\n",
      "Opening force field file ./charmm22st.ff/aminoacids.c.tdb\n",
      "Opening force field file ./charmm22st.ff/dna.c.tdb\n",
      "Opening force field file ./charmm22st.ff/rna.c.tdb\n",
      "\n",
      "Back Off! I just backed up data/p53/p53_wt.top to data/p53/#p53_wt.top.1#\n",
      "Analysing hydrogen-bonding network for automated assignment of histidine\n",
      " protonation. 328 donors and 294 acceptors were found.\n",
      "There are 445 hydrogen bonds\n",
      "Will use HISE for residue 115\n",
      "Will use HISE for residue 168\n",
      "Will use HISE for residue 178\n",
      "Will use HISE for residue 179\n",
      "Will use HISE for residue 193\n",
      "Will use HISE for residue 214\n",
      "Will use HISE for residue 233\n",
      "8 out of 8 lines of specbond.dat converted successfully\n",
      "Special Atom Distance matrix:\n",
      "                  HIS115  CYS124  MET133  CYS135  CYS141  MET160  HIS168\n",
      "                  NE2199   SG257   SD326   SG344   SG388   SD534  NE2602\n",
      "  CYS124   SG257   1.411\n",
      "  MET133   SD326   1.527   0.362\n",
      "  CYS135   SG344   1.877   0.559   0.559\n",
      "  CYS141   SG388   1.849   0.443   0.544   0.417\n",
      "  MET160   SD534   3.118   2.037   1.722   1.774   1.838\n",
      "  HIS168  NE2602   3.356   2.468   2.255   1.998   2.367   1.856\n",
      "  MET169   SD610   3.087   2.297   1.978   1.974   2.248   1.198   1.035\n",
      "  CYM176   SG669   3.370   2.053   2.038   1.527   1.702   2.078   1.814\n",
      "  HIS178  NE2685   3.601   2.312   2.387   1.857   1.954   2.641   2.410\n",
      "  HIS179  NE2695   3.125   1.805   1.872   1.351   1.439   2.256   2.192\n",
      "  CYS182   SG722   3.555   2.190   2.237   1.765   1.780   2.351   2.484\n",
      "  HIS193  NE2799   3.027   1.685   1.522   1.397   1.310   1.048   2.240\n",
      "  HIS214  NE2983   3.741   2.413   2.216   2.002   2.051   1.106   1.998\n",
      "  CYS229  SG1093   1.547   1.436   1.387   1.902   1.643   2.413   3.502\n",
      "  HIS233 NE21124   1.982   1.151   1.229   1.497   1.098   2.248   3.335\n",
      "  MET237  SD1164   2.659   1.259   1.294   0.954   0.818   1.795   2.380\n",
      "  CYM238  SG1171   3.006   1.686   1.657   1.151   1.347   1.835   1.685\n",
      "  CYM242  SG1197   3.188   1.945   1.939   1.406   1.651   2.147   1.632\n",
      "  MET243  SD1204   3.512   2.451   2.454   1.929   2.244   2.685   1.588\n",
      "  MET246  SD1220   2.689   1.467   1.318   0.926   1.233   1.417   1.227\n",
      "  CYS275  SG1449   1.897   0.955   1.027   0.628   0.988   2.207   1.863\n",
      "  CYS277  SG1460   1.952   1.373   1.627   1.291   1.456   3.026   2.615\n",
      "                  MET169  CYM176  HIS178  HIS179  CYS182  HIS193  HIS214\n",
      "                   SD610   SG669  NE2685  NE2695   SG722  NE2799  NE2983\n",
      "  CYM176   SG669   2.299\n",
      "  HIS178  NE2685   2.931   0.642\n",
      "  HIS179  NE2695   2.584   0.519   0.518\n",
      "  CYS182   SG722   2.838   0.698   0.506   0.524\n",
      "  HIS193  NE2799   1.991   1.496   1.890   1.499   1.496\n",
      "  HIS214  NE2983   1.885   1.465   1.943   1.726   1.604   0.875\n",
      "  CYS229  SG1093   2.927   3.285   3.562   3.052   3.304   2.293   3.100\n",
      "  HIS233 NE21124   2.969   2.609   2.767   2.293   2.465   1.692   2.567\n",
      "  MET237  SD1164   2.408   1.162   1.343   0.870   1.036   0.904   1.547\n",
      "  CYM238  SG1171   2.060   0.385   0.905   0.533   0.875   1.282   1.418\n",
      "  CYM242  SG1197   2.200   0.355   0.805   0.633   0.988   1.670   1.690\n",
      "  MET243  SD1204   2.432   1.013   1.236   1.284   1.602   2.376   2.273\n",
      "  MET246  SD1220   1.442   0.985   1.559   1.162   1.505   1.244   1.408\n",
      "  CYS275  SG1449   2.087   1.579   1.871   1.444   1.947   1.928   2.381\n",
      "  CYS277  SG1460   2.950   2.006   2.029   1.712   2.207   2.567   3.075\n",
      "                  CYS229  HIS233  MET237  CYM238  CYM242  MET243  MET246\n",
      "                  SG1093 NE21124  SD1164  SG1171  SG1197  SD1204  SD1220\n",
      "  HIS233 NE21124   1.025\n",
      "  MET237  SD1164   2.268   1.471\n",
      "  CYM238  SG1171   2.924   2.299   0.916\n",
      "  CYM242  SG1197   3.255   2.648   1.274   0.399\n",
      "  MET243  SD1204   3.826   3.301   1.993   1.129   0.741\n",
      "  MET246  SD1220   2.633   2.227   1.161   0.660   0.866   1.365\n",
      "  CYS275  SG1449   2.357   2.043   1.407   1.253   1.332   1.625   1.048\n",
      "  CYS277  SG1460   2.710   2.313   1.817   1.777   1.762   1.921   1.824\n",
      "                  CYS275\n",
      "                  SG1449\n",
      "  CYS277  SG1460   0.870\n",
      "Opening force field file ./charmm22st.ff/aminoacids.arn\n",
      "Opening force field file ./charmm22st.ff/dna.arn\n",
      "Opening force field file ./charmm22st.ff/rna.arn\n",
      "\n",
      "With the -remh option the generated index file (data/p53/p53_wt.ndx) might be useless (the index file is generated before hydrogens are added)\n",
      "Before cleaning: 8150 pairs\n",
      "Before cleaning: 8270 dihedrals\n",
      "\n",
      "Back Off! I just backed up posre.itp to ./#posre.itp.1#\n",
      "\n",
      "Back Off! I just backed up data/p53/p53_wt.gro to data/p53/#p53_wt.gro.1#\n",
      "\n",
      "GROMACS reminds you: \"Weaseling out of things is important to learn. It's what separates us from the animals... except the weasels.\" (Homer Simpson)\n",
      "\n"
     ]
    },
    {
     "name": "stdout",
     "output_type": "stream",
     "text": [
      "Using the Charmm22st force field in directory ./charmm22st.ff\n",
      "\n",
      "going to rename ./charmm22st.ff/aminoacids.r2b\n",
      "\n",
      "going to rename ./charmm22st.ff/rna.r2b\n",
      "Reading data/p53/eq_nh.pdb...\n",
      "Read 'Protein in water', 1565 atoms\n",
      "\n",
      "Analyzing pdb file\n",
      "Splitting chemical chains based on TER records or chain id changing.\n",
      "\n",
      "There are 1 chains and 0 blocks of water and 199 residues with 1565 atoms\n",
      "\n",
      "  chain  #res #atoms\n",
      "\n",
      "  1 ' '   199   1565  \n",
      "\n",
      "All occupancies are one\n",
      "\n",
      "Reading residue database... (Charmm22st)\n",
      "\n",
      "Processing chain 1 (1565 atoms, 199 residues)\n",
      "\n",
      "Identified residue TRP91 as a starting terminus.\n",
      "\n",
      "Identified residue LEU289 as a ending terminus.\n",
      "Start terminus TRP-91: NH3+\n",
      "End terminus LEU-289: COO-\n",
      "\n",
      "Checking for duplicate atoms....\n",
      "\n",
      "With the -remh option the generated index file (data/p53/p53_wt.ndx) might be useless (the index file is generated before hydrogens are added)\n",
      "\n",
      "Generating any missing hydrogen atoms and/or adding termini.\n",
      "\n",
      "Now there are 199 residues with 3086 atoms\n",
      "\n",
      "Making bonds...\n",
      "\n",
      "Number of bonds was 3124, now 3124\n",
      "\n",
      "Generating angles, dihedrals and pairs...\n",
      "\n",
      "Making cmap torsions...\n",
      "\n",
      "There are   28 cmap torsion pairs\n",
      "\n",
      "There are 8270 dihedrals,  539 impropers, 5623 angles\n",
      "          8105 pairs,     3124 bonds and     0 virtual sites\n",
      "\n",
      "Total mass 22400.475 a.m.u.\n",
      "\n",
      "Total charge 0.000 e\n",
      "\n",
      "Writing topology\n",
      "\n",
      "Writing coordinate file...\n",
      "\n",
      "\t\t--------- PLEASE NOTE ------------\n",
      "\n",
      "You have successfully generated a topology from: data/p53/eq_nh.pdb.\n",
      "\n",
      "The Charmm22st force field and the tip3p water model are used.\n",
      "\n",
      "\t\t--------- ETON ESAELP ------------\n"
     ]
    },
    {
     "data": {
      "text/plain": [
       "(0, None, None)"
      ]
     },
     "execution_count": 14,
     "metadata": {},
     "output_type": "execute_result"
    }
   ],
   "source": [
    "gmx.pdb2gmx(f=conf, ignh=True,p=topol,n=index,o=gro,water='tip3p',ff='charmm22st')"
   ]
  },
  {
   "cell_type": "markdown",
   "id": "46bad735-2917-4645-8d9b-32e0bf8bbcaf",
   "metadata": {},
   "source": [
    "## Sanity checks"
   ]
  },
  {
   "cell_type": "code",
   "execution_count": 17,
   "id": "ef96d527",
   "metadata": {},
   "outputs": [
    {
     "data": {
      "text/plain": [
       "<mdtraj.Trajectory with 10001 frames, 1565 atoms, 199 residues, and unitcells at 0x7cfc80d723b0>"
      ]
     },
     "execution_count": 17,
     "metadata": {},
     "output_type": "execute_result"
    }
   ],
   "source": [
    "# Load the trajectory, it should report expected numbers of frames and atoms/residua\n",
    "\n",
    "tr = md.load(traj,top=conf)\n",
    "idx=tr[0].top.select(\"name CA\")\n",
    "\n",
    "# for trivial cases like Ala-Ala, where superposing on CAs fails\n",
    "#idx=tr[0].top.select(\"element != H\")\n",
    "\n",
    "tr.superpose(tr[0],atom_indices=idx)"
   ]
  },
  {
   "cell_type": "code",
   "execution_count": 18,
   "id": "17683c42",
   "metadata": {},
   "outputs": [
    {
     "data": {
      "application/vnd.jupyter.widget-view+json": {
       "model_id": "2f2168d092ec4d3494cf76cd8ede9847",
       "version_major": 2,
       "version_minor": 0
      },
      "text/plain": []
     },
     "metadata": {},
     "output_type": "display_data"
    },
    {
     "data": {
      "application/vnd.jupyter.widget-view+json": {
       "model_id": "1fc4224201b7478689e6c8e4386d4826",
       "version_major": 2,
       "version_minor": 0
      },
      "text/plain": [
       "NGLWidget(max_frame=10000)"
      ]
     },
     "metadata": {},
     "output_type": "display_data"
    }
   ],
   "source": [
    "# Visual check, all frames should look \"reasonable\"\n",
    "\n",
    "# Because of different conventions of numbering atoms in proteins,\n",
    "# PDB file {conf} and the trajectory {traj} can become inconsistent, and this would appear here \n",
    "# as rather weird shapes of the molecule\n",
    "\n",
    "import nglview as nv\n",
    "\n",
    "v = nv.show_mdtraj(tr)\n",
    "v.clear()\n",
    "v.add_representation(\"licorice\")\n",
    "#v.add_representation('ball+stick', selection='ZN2', radius=0.5, color=\"green\") no Zn :(\n",
    "v"
   ]
  },
  {
   "cell_type": "markdown",
   "id": "875fb6f9-d5f7-457f-8362-f6eac58889ff",
   "metadata": {},
   "source": [
    "## Split datasets\n",
    "\n",
    "Split trajectory into 3 parts. Each part will represent training, validation and testing dataset respectively. The workflow is following:\n",
    "1. Shuffle configurations in trajectory\n",
    "2. Select proportions to divide the trajectory\n",
    "3. Divide the trajectory\n",
    "4. Compute RMSD between\n",
    "   * **train x validation** trajectory and filter similar structures in train trajectory\n",
    "   * **train x test** trajectory and filter similar structures in train trajectory\n",
    "   * **test x validation** trajectory and filter similar structures in test trajectory\n",
    "5. Transform into internal coordinates\n",
    "6. Save internal coordinates as datasets which can be loaded in **train.ipynb** and **tune.ipynb** notebooks"
   ]
  },
  {
   "cell_type": "code",
   "execution_count": 19,
   "id": "8e6439d8-3423-40a1-a98b-259e6d0b1446",
   "metadata": {},
   "outputs": [],
   "source": [
    "# shuffle the trajectory so the configurations are dispersed across all datasets\n",
    "np.random.shuffle(tr.xyz)"
   ]
  },
  {
   "cell_type": "code",
   "execution_count": 20,
   "id": "d742966c-94b3-475c-aecc-0c727e10e2a5",
   "metadata": {},
   "outputs": [
    {
     "data": {
      "text/plain": [
       "((7000, 1565, 3), (1500, 1565, 3), (1501, 1565, 3))"
      ]
     },
     "execution_count": 20,
     "metadata": {},
     "output_type": "execute_result"
    }
   ],
   "source": [
    "# - set proportions for train, validation and test datasets\n",
    "# - proportions must be equal to 1 when added together\n",
    "train = .7\n",
    "validation = .15\n",
    "test = .15\n",
    "\n",
    "assert train + validation + test == .9999999999999999 or 1\n",
    "\n",
    "tr_i = len(tr) * train\n",
    "X_train = tr.slice(slice(0,int(tr_i)))\n",
    "\n",
    "va_i = len(tr) * validation\n",
    "X_validate = tr.slice(slice(int(tr_i),int(tr_i)+int(va_i)))\n",
    "\n",
    "te_i = len(tr) * test\n",
    "X_test = tr.slice(slice(int(tr_i)+int(va_i),len(tr)))\n",
    "\n",
    "X_train.xyz.shape, X_validate.xyz.shape, X_test.xyz.shape"
   ]
  },
  {
   "cell_type": "code",
   "execution_count": 21,
   "id": "3ac9c322-9427-4771-8da1-0558b834c705",
   "metadata": {},
   "outputs": [],
   "source": [
    "X_train.save_xtc('train.xtc')\n",
    "X_validate.save_xtc('validate.xtc')\n",
    "X_test.save_xtc('test.xtc')"
   ]
  },
  {
   "cell_type": "code",
   "execution_count": 22,
   "id": "2a15fec5-5e5f-4385-b043-728b8a36fd05",
   "metadata": {},
   "outputs": [
    {
     "data": {
      "text/plain": [
       "\"\\nX_train = md.load_xtc('train.xtc',conf)\\nX_validate = md.load_xtc('validate.xtc',conf)\\nX_test = md.load_xtc('test.xtc',conf)\\n\""
      ]
     },
     "execution_count": 22,
     "metadata": {},
     "output_type": "execute_result"
    }
   ],
   "source": [
    "# eventual recovery\n",
    "\"\"\"\n",
    "X_train = md.load_xtc('train.xtc',conf)\n",
    "X_validate = md.load_xtc('validate.xtc',conf)\n",
    "X_test = md.load_xtc('test.xtc',conf)\n",
    "\"\"\""
   ]
  },
  {
   "cell_type": "code",
   "execution_count": 23,
   "id": "0b0089b2-3b3c-4683-99a7-c4cc0bed26fc",
   "metadata": {},
   "outputs": [
    {
     "name": "stderr",
     "output_type": "stream",
     "text": [
      "pod/asmsa-gmx-555-wkztg condition met\n"
     ]
    },
    {
     "name": "stdout",
     "output_type": "stream",
     "text": [
      "\n",
      "WARNING: Masses and atomic (Van der Waals) radii will be guessed\n",
      "         based on residue and atom names, since they could not be\n",
      "         definitively assigned from the information in your input\n",
      "         files. These guessed numbers might deviate from the mass\n",
      "         and radius of the atom type. Please check the output\n",
      "         files if necessary. Note, that this functionality may\n",
      "         be removed in a future GROMACS version. Please, consider\n",
      "         using another file format for your input.\n",
      "\n"
     ]
    },
    {
     "name": "stderr",
     "output_type": "stream",
     "text": [
      "             :-) GROMACS - gmx select, 2023.2-plumed_2.10.0_dev (-:\n",
      "\n",
      "Executable:   /gromacs/AVX2_256_ts/bin/gmx\n",
      "Data prefix:  /gromacs/AVX2_256_ts\n",
      "Working dir:  /mnt/ASMSA\n",
      "Command line:\n",
      "  gmx select -s data/p53/eq_nh.pdb -on backbone.ndx -select Backbone\n",
      "\n",
      "\n",
      "Back Off! I just backed up backbone.ndx to ./#backbone.ndx.1#\n",
      "Analyzed topology coordinates\n",
      "\n",
      "GROMACS reminds you: \"Don't Follow Me Home\" (Throwing Muses)\n",
      "\n"
     ]
    },
    {
     "data": {
      "text/plain": [
       "(0, None, None)"
      ]
     },
     "execution_count": 23,
     "metadata": {},
     "output_type": "execute_result"
    }
   ],
   "source": [
    "# get RMSD from train trajectory compared to validation trajectory\n",
    "gmx.select(s=conf,on='backbone.ndx',select='Backbone')"
   ]
  },
  {
   "cell_type": "code",
   "execution_count": 24,
   "id": "2a1ca5b1-a885-46ae-a30d-fd2ff2fb63f0",
   "metadata": {},
   "outputs": [
    {
     "name": "stderr",
     "output_type": "stream",
     "text": [
      "pod/asmsa-gmx-555-wkztg condition met\n",
      "              :-) GROMACS - gmx rms, 2023.2-plumed_2.10.0_dev (-:\n",
      "\n",
      "Executable:   /gromacs/AVX2_256_ts/bin/gmx\n",
      "Data prefix:  /gromacs/AVX2_256_ts\n",
      "Working dir:  /mnt/ASMSA\n",
      "Command line:\n",
      "  gmx rms -s data/p53/eq_nh.pdb -f train.xtc -f2 validate.xtc -n backbone.ndx -m trainxval_rmsd.xpm\n",
      "\n",
      "Select group for least squares fit\n",
      "Group     0 (       Backbone) has   597 elements\n",
      "There is one group in the index\n",
      "Select group for RMSD calculation\n",
      "Group     0 (       Backbone) has   597 elements\n",
      "There is one group in the index\n",
      "\n",
      "WARNING: If there are molecules in the input trajectory file\n",
      "         that are broken across periodic boundaries, they\n",
      "         cannot be made whole (or treated as whole) without\n",
      "         you providing a run input file.\n",
      "\n",
      "Reading frame    2000 time 200000.000   "
     ]
    },
    {
     "name": "stdout",
     "output_type": "stream",
     "text": [
      "\n",
      "WARNING: Masses and atomic (Van der Waals) radii will be guessed\n",
      "         based on residue and atom names, since they could not be\n",
      "         definitively assigned from the information in your input\n",
      "         files. These guessed numbers might deviate from the mass\n",
      "         and radius of the atom type. Please check the output\n",
      "         files if necessary. Note, that this functionality may\n",
      "         be removed in a future GROMACS version. Please, consider\n",
      "         using another file format for your input.\n",
      "\n"
     ]
    },
    {
     "name": "stderr",
     "output_type": "stream",
     "text": [
      "Reading frame    6000 time 600000.000   \n",
      "\n",
      "Will read second trajectory file\n",
      "Reading frame    1400 time 840000.000   \n",
      "\n",
      "Building RMSD matrix, 7000x1500 elements\n",
      " element  6999; time 699900.00  \n",
      "RMSD: Min 0.054119, Max 0.451813, Avg 0.217836\n",
      "                   1 1 1 1 1 1 1 1 1 2 2 2 2 2 2 2 2 2 2 3 3 3 3 3 3 3 3 3 4 4 4 4 4 4 4 4 4 4 5 5 5 5 5 5 5 5 5 6 6 6 6 6 6 6 6 6 7 7 7 7 7 7 7 7 7 7 8 8 8 8 8 8 8 8 8 9 9 9 9 9 9 9 9 910\n",
      "GROMACS reminds you: \"Teaching quantum computing is like teaching computer science at Hogwarts.\" (Thomas Sterling, ISC2018 keynote)\n",
      "\n"
     ]
    },
    {
     "data": {
      "text/plain": [
       "(0, None, None)"
      ]
     },
     "execution_count": 24,
     "metadata": {},
     "output_type": "execute_result"
    }
   ],
   "source": [
    "gmx.rms(s=conf_no_zn,f='train.xtc',f2='validate.xtc',n='backbone.ndx',m='trainxval_rmsd.xpm')"
   ]
  },
  {
   "cell_type": "code",
   "execution_count": 25,
   "id": "bda4330f-6e2f-4ded-a555-a9a164a1a467",
   "metadata": {},
   "outputs": [
    {
     "data": {
      "text/plain": [
       "(7000, 1500)"
      ]
     },
     "execution_count": 25,
     "metadata": {},
     "output_type": "execute_result"
    }
   ],
   "source": [
    "# load the RMDS matrix\n",
    "txv = gf.XPM('trainxval_rmsd.xpm')\n",
    "txv.array.shape"
   ]
  },
  {
   "cell_type": "code",
   "execution_count": 26,
   "id": "e8e0259e-f166-4d3b-8e1b-70eb2a5741ba",
   "metadata": {},
   "outputs": [
    {
     "data": {
      "text/plain": [
       "(7000,)"
      ]
     },
     "execution_count": 26,
     "metadata": {},
     "output_type": "execute_result"
    }
   ],
   "source": [
    "# minima per row -- for each configuration in train, how far is the nearest one from validation\n",
    "txv_min = np.min(txv.array,axis=1)\n",
    "txv_min.shape"
   ]
  },
  {
   "cell_type": "code",
   "execution_count": 27,
   "id": "5fededfb-e5ce-43a3-85ea-4edec1e6c709",
   "metadata": {},
   "outputs": [
    {
     "data": {
      "image/png": "[encoded data removed]",
      "text/plain": [
       "<Figure size 640x480 with 1 Axes>"
      ]
     },
     "metadata": {},
     "output_type": "display_data"
    }
   ],
   "source": [
    "plt.hist(txv_min,bins=50)\n",
    "plt.show()"
   ]
  },
  {
   "cell_type": "code",
   "execution_count": 28,
   "id": "7f8d6f56-05c9-4b8b-aa2d-da67e16d77a2",
   "metadata": {},
   "outputs": [
    {
     "data": {
      "text/plain": [
       "(7000, 1565, 3)"
      ]
     },
     "execution_count": 28,
     "metadata": {},
     "output_type": "execute_result"
    }
   ],
   "source": [
    "# drop similar structures (to validation trajectory) in train trajectory to avoid dataset being biased\n",
    "txv_difference = 0.05\n",
    "\n",
    "train_tr = X_train[np.argwhere(txv_min > txv_difference).flat]\n",
    "train_tr.xyz.shape"
   ]
  },
  {
   "cell_type": "code",
   "execution_count": 29,
   "id": "22f7ca04-c7fe-4df5-b9fa-bfb64118ab3d",
   "metadata": {},
   "outputs": [
    {
     "name": "stderr",
     "output_type": "stream",
     "text": [
      "pod/asmsa-gmx-555-wkztg condition met\n",
      "              :-) GROMACS - gmx rms, 2023.2-plumed_2.10.0_dev (-:\n",
      "\n",
      "Executable:   /gromacs/AVX2_256_ts/bin/gmx\n",
      "Data prefix:  /gromacs/AVX2_256_ts\n",
      "Working dir:  /mnt/ASMSA\n",
      "Command line:\n",
      "  gmx rms -s data/p53/eq_nh.pdb -f tmp_train.xtc -f2 test.xtc -n backbone.ndx -m trainxtest_rmsd.xpm\n",
      "\n",
      "Select group for least squares fit\n",
      "Group     0 (       Backbone) has   597 elements\n",
      "There is one group in the index\n",
      "Select group for RMSD calculation\n",
      "Group     0 (       Backbone) has   597 elements\n",
      "There is one group in the index\n",
      "\n",
      "WARNING: If there are molecules in the input trajectory file\n",
      "         that are broken across periodic boundaries, they\n",
      "         cannot be made whole (or treated as whole) without\n",
      "         you providing a run input file.\n",
      "\n",
      "Reading frame    2000 time 200000.000   "
     ]
    },
    {
     "name": "stdout",
     "output_type": "stream",
     "text": [
      "\n",
      "WARNING: Masses and atomic (Van der Waals) radii will be guessed\n",
      "         based on residue and atom names, since they could not be\n",
      "         definitively assigned from the information in your input\n",
      "         files. These guessed numbers might deviate from the mass\n",
      "         and radius of the atom type. Please check the output\n",
      "         files if necessary. Note, that this functionality may\n",
      "         be removed in a future GROMACS version. Please, consider\n",
      "         using another file format for your input.\n",
      "\n"
     ]
    },
    {
     "name": "stderr",
     "output_type": "stream",
     "text": [
      "Reading frame    6000 time 600000.000   \n",
      "\n",
      "Will read second trajectory file\n",
      "Last frame       1500 time 1000000.000   \n",
      "\n",
      "Building RMSD matrix, 7000x1501 elements\n",
      " element  6999; time 699900.00  \n",
      "RMSD: Min 0.058627, Max 0.446351, Avg 0.219797\n",
      "                   1 1 1 1 1 1 1 1 1 2 2 2 2 2 2 2 2 2 2 3 3 3 3 3 3 3 3 3 4 4 4 4 4 4 4 4 4 4 5 5 5 5 5 5 5 5 5 6 6 6 6 6 6 6 6 6 7 7 7 7 7 7 7 7 7 7 8 8 8 8 8 8 8 8 8 9 9 9 9 9 9 9 9 910\n",
      "Back Off! I just backed up rmsd.xvg to ./#rmsd.xvg.1#\n",
      "\n",
      "GROMACS reminds you: \"The scientist is not the person who always gives the right answers, he is the one who asks the right questions.\" (Claude Levi-Strauss)\n",
      "\n"
     ]
    },
    {
     "data": {
      "text/plain": [
       "(0, None, None)"
      ]
     },
     "execution_count": 29,
     "metadata": {},
     "output_type": "execute_result"
    }
   ],
   "source": [
    "train_tr.save_xtc('tmp_train.xtc')\n",
    "gmx.rms(s=conf,f='tmp_train.xtc',f2='test.xtc',n='backbone.ndx',m='trainxtest_rmsd.xpm')"
   ]
  },
  {
   "cell_type": "code",
   "execution_count": 30,
   "id": "55c22d17-7bdd-4c4c-a0c1-c745ddacfe6f",
   "metadata": {},
   "outputs": [
    {
     "data": {
      "text/plain": [
       "(7000, 1501)"
      ]
     },
     "execution_count": 30,
     "metadata": {},
     "output_type": "execute_result"
    }
   ],
   "source": [
    "txt = gf.XPM('trainxtest_rmsd.xpm')\n",
    "txt.array.shape"
   ]
  },
  {
   "cell_type": "code",
   "execution_count": 31,
   "id": "1b2d11b6-1ffe-41bb-a1e5-29856287cb5c",
   "metadata": {},
   "outputs": [
    {
     "data": {
      "text/plain": [
       "(7000,)"
      ]
     },
     "execution_count": 31,
     "metadata": {},
     "output_type": "execute_result"
    }
   ],
   "source": [
    "txt_min = np.min(txt.array,axis=1)\n",
    "txt_min.shape"
   ]
  },
  {
   "cell_type": "code",
   "execution_count": 32,
   "id": "a14e533f-f83f-41ed-8d4d-c20aafc67fba",
   "metadata": {},
   "outputs": [
    {
     "data": {
      "image/png": "[encoded data removed]",
      "text/plain": [
       "<Figure size 640x480 with 1 Axes>"
      ]
     },
     "metadata": {},
     "output_type": "display_data"
    }
   ],
   "source": [
    "plt.hist(txt_min,bins=50)\n",
    "plt.show()"
   ]
  },
  {
   "cell_type": "code",
   "execution_count": 33,
   "id": "17541f72-e8e5-400c-96ca-9d2372c4d3b8",
   "metadata": {},
   "outputs": [],
   "source": [
    "# ... one more time with test trajectory & test x validation...\n",
    "txt_difference = 0.05\n",
    "\n",
    "x_train = train_tr[np.argwhere(txt_min > txt_difference).flat]\n",
    "x_train.save_xtc('x_train.xtc')"
   ]
  },
  {
   "cell_type": "code",
   "execution_count": 34,
   "id": "b027ccef-fd97-494b-bfce-d5769762336f",
   "metadata": {},
   "outputs": [
    {
     "name": "stderr",
     "output_type": "stream",
     "text": [
      "pod/asmsa-gmx-555-wkztg condition met\n",
      "              :-) GROMACS - gmx rms, 2023.2-plumed_2.10.0_dev (-:\n",
      "\n",
      "Executable:   /gromacs/AVX2_256_ts/bin/gmx\n",
      "Data prefix:  /gromacs/AVX2_256_ts\n",
      "Working dir:  /mnt/ASMSA\n",
      "Command line:\n",
      "  gmx rms -f test.xtc -f2 validate.xtc -s data/p53/eq_nh.pdb -n backbone.ndx -m testxvalidate_rmsd.xpm\n",
      "\n",
      "Select group for least squares fit\n",
      "Group     0 (       Backbone) has   597 elements\n",
      "There is one group in the index\n",
      "Select group for RMSD calculation\n",
      "Group     0 (       Backbone) has   597 elements\n",
      "There is one group in the index\n",
      "\n",
      "WARNING: If there are molecules in the input trajectory file\n",
      "         that are broken across periodic boundaries, they\n",
      "         cannot be made whole (or treated as whole) without\n",
      "         you providing a run input file.\n",
      "\n",
      "Last frame       1500 time 1000000.000   \n",
      "\n",
      "Will read second trajectory file\n",
      "Reading frame    1000 time 800000.000   "
     ]
    },
    {
     "name": "stdout",
     "output_type": "stream",
     "text": [
      "\n",
      "WARNING: Masses and atomic (Van der Waals) radii will be guessed\n",
      "         based on residue and atom names, since they could not be\n",
      "         definitively assigned from the information in your input\n",
      "         files. These guessed numbers might deviate from the mass\n",
      "         and radius of the atom type. Please check the output\n",
      "         files if necessary. Note, that this functionality may\n",
      "         be removed in a future GROMACS version. Please, consider\n",
      "         using another file format for your input.\n",
      "\n"
     ]
    },
    {
     "name": "stderr",
     "output_type": "stream",
     "text": [
      "Reading frame    1400 time 840000.000   \n",
      "\n",
      "Building RMSD matrix, 1501x1500 elements\n",
      " element  1500; time 1000000.00  \n",
      "RMSD: Min 0.056950, Max 0.429559, Avg 0.217343\n",
      "                   1 1 1 1 1 1 1 1 1 2 2 2 2 2 2 2 2 2 2 3 3 3 3 3 3 3 3 3 4 4 4 4 4 4 4 4 4 4 5 5 5 5 5 5 5 5 5 6 6 6 6 6 6 6 6 6 7 7 7 7 7 7 7 7 7 7 8 8 8 8 8 8 8 8 8 9 9 9 9 9 9 9 9 910\n",
      "Back Off! I just backed up rmsd.xvg to ./#rmsd.xvg.2#\n",
      "\n",
      "GROMACS reminds you: \"Move about like a Scientist, lay down, get kissed\" (Red Hot Chili Peppars)\n",
      "\n"
     ]
    },
    {
     "data": {
      "text/plain": [
       "(0, None, None)"
      ]
     },
     "execution_count": 34,
     "metadata": {},
     "output_type": "execute_result"
    }
   ],
   "source": [
    "# test x validation\n",
    "gmx.rms(f='test.xtc',f2='validate.xtc',s=conf,n='backbone.ndx',m='testxvalidate_rmsd.xpm')"
   ]
  },
  {
   "cell_type": "code",
   "execution_count": 35,
   "id": "26d995e8-361f-441c-986d-f8235efe9a11",
   "metadata": {},
   "outputs": [
    {
     "data": {
      "text/plain": [
       "(1501, 1500)"
      ]
     },
     "execution_count": 35,
     "metadata": {},
     "output_type": "execute_result"
    }
   ],
   "source": [
    "txv = gf.XPM('testxvalidate_rmsd.xpm')\n",
    "txv.array.shape"
   ]
  },
  {
   "cell_type": "code",
   "execution_count": 36,
   "id": "8d986593-432f-45c6-82e9-b3f6a3dbf031",
   "metadata": {},
   "outputs": [
    {
     "data": {
      "text/plain": [
       "(1501,)"
      ]
     },
     "execution_count": 36,
     "metadata": {},
     "output_type": "execute_result"
    }
   ],
   "source": [
    "txv_min = np.min(txv.array,axis=1)\n",
    "txv_min.shape"
   ]
  },
  {
   "cell_type": "code",
   "execution_count": 37,
   "id": "ea949db5-9b85-4508-8e51-414992e060e4",
   "metadata": {},
   "outputs": [
    {
     "data": {
      "image/png": "[encoded data removed]",
      "text/plain": [
       "<Figure size 640x480 with 1 Axes>"
      ]
     },
     "metadata": {},
     "output_type": "display_data"
    }
   ],
   "source": [
    "plt.hist(txv_min,bins=50)\n",
    "plt.show()"
   ]
  },
  {
   "cell_type": "code",
   "execution_count": 38,
   "id": "c6bf59b4-b974-4d22-bed7-9402aa296271",
   "metadata": {},
   "outputs": [],
   "source": [
    "# ... one more time with test trajectory & test x validation...\n",
    "txv_difference = 0.05\n",
    "\n",
    "x_test = X_test[np.argwhere(txv_min > txv_difference).flat]\n",
    "x_test.save_xtc('x_test.xtc')"
   ]
  },
  {
   "cell_type": "code",
   "execution_count": 39,
   "id": "8479d8fa-fcaf-4d6f-b888-654ca112fcc2",
   "metadata": {},
   "outputs": [
    {
     "name": "stdout",
     "output_type": "stream",
     "text": [
      "ln: failed to create hard link 'x_train.xtc': File exists\n",
      "ln: failed to create hard link 'x_test.xtc': File exists\n"
     ]
    }
   ],
   "source": [
    "# skip thorough RMS\n",
    "! ln train.xtc x_train.xtc\n",
    "! ln test.xtc x_test.xtc"
   ]
  },
  {
   "cell_type": "code",
   "execution_count": 9,
   "id": "0f294de0-0325-45f7-b14e-5715c5354c10",
   "metadata": {},
   "outputs": [],
   "source": [
    "# recovery\n",
    "\n",
    "x_train = md.load('prepare_data/x_train.xtc', top=conf)\n",
    "x_test = md.load('prepare_data/x_test.xtc', top=conf)\n"
   ]
  },
  {
   "cell_type": "code",
   "execution_count": 10,
   "id": "097a6ea9-58a6-47c6-a5d1-6464d53f946c",
   "metadata": {},
   "outputs": [
    {
     "data": {
      "text/plain": [
       "((7000, 1565, 3), (1500, 1565, 3), (1501, 1565, 3))"
      ]
     },
     "execution_count": 10,
     "metadata": {},
     "output_type": "execute_result"
    }
   ],
   "source": [
    "# get shapes of filtered trajectories that are to be used as datasets\n",
    "validate_tr = md.load('prepare_data/validate.xtc', top=conf)\n",
    "\n",
    "trajs = [x_train, validate_tr, x_test]\n",
    "x_train.xyz.shape, validate_tr.xyz.shape, x_test.xyz.shape"
   ]
  },
  {
   "cell_type": "code",
   "execution_count": 11,
   "id": "51e03cf1",
   "metadata": {},
   "outputs": [
    {
     "name": "stdout",
     "output_type": "stream",
     "text": [
      "[(1565, 3, 7000), (1565, 3, 1500), (1565, 3, 1501)]\n"
     ]
    }
   ],
   "source": [
    "# reshuffle the geometries to get frame last so that we can use vectorized calculations later on\n",
    "geoms = [ np.moveaxis(t.xyz,0,-1) for t in trajs]\n",
    "print ([ g.shape for g in geoms ])"
   ]
  },
  {
   "cell_type": "code",
   "execution_count": 44,
   "id": "fff2ff1c-4222-45c9-b650-111d4f05c101",
   "metadata": {},
   "outputs": [],
   "source": [
    "# save geometries\n",
    "\n",
    "tf.data.Dataset.from_tensor_slices(geoms[0]).save('datasets/geoms/train')\n",
    "tf.data.Dataset.from_tensor_slices(geoms[1]).save('datasets/geoms/validate')\n",
    "tf.data.Dataset.from_tensor_slices(geoms[2]).save('datasets/geoms/test')"
   ]
  },
  {
   "cell_type": "markdown",
   "id": "ab4902fd-e2b9-4812-8b38-59bc444d7d1a",
   "metadata": {},
   "source": [
    "### Internal coordinates computation\n",
    "\n",
    "Exercise the ASMSA library on your input. Just check everything appears to work.\n",
    "\n",
    "There are multiple options that can be combined:\n",
    "- use traditional internal coordinates (bond distances, angles, and dihedrals) or not\n",
    "- include additional distances between atoms that may not be bound to express protein folding state more directly\n",
    "   - dense (all-to-all) atom distances, feasible for very small peptides only\n",
    "   - sparse atom distances (only some pairs are chosen)\n",
    "   \n",
    "\n",
    "We save the computed internal coordinates for training, and a feature extraction model here, therefore everything in the other notebooks should work too.\n"
   ]
  },
  {
   "cell_type": "markdown",
   "id": "618a9460-8d2a-4420-b711-180f7e4e3772",
   "metadata": {},
   "source": [
    "#### Traditional internal coordinates (all bond distances, angles, and torsions)\n"
   ]
  },
  {
   "cell_type": "code",
   "execution_count": null,
   "id": "f16daa6b",
   "metadata": {},
   "outputs": [],
   "source": [
    "\n",
    "# mol = asmsa.Molecule(conf,topol)\n",
    "\n",
    "# internal coordinates and sparse any-any atom distances (not restricted to bonds)\n",
    "# eventually, top (and index) can be left out to use sparse distances only\n",
    "\n",
    "sparse_dists = asmsa.NBDistancesSparse(geoms[0].shape[0], density=nb_density)\n",
    "mol=asmsa.Molecule(pdb=conf,top=topol,ndx=index,fms=[sparse_dists])\n",
    "\n",
    "# dense distances are feasible for very small (upto 5 residua) peptides only\n",
    "\n",
    "# dense_dists = asmsa.NBDistancesDense(geom.shape[0])\n",
    "# mol = asmsa.Molecule(pdb=conf,top=topol,ndx=index,fms=[dense_dists])"
   ]
  },
  {
   "cell_type": "markdown",
   "id": "64cca5a7-4cc0-4639-b9ad-6d91379d99f8",
   "metadata": {},
   "source": [
    "#### Alternative: only backbone + Cbeta anlges and dihedrals"
   ]
  },
  {
   "cell_type": "code",
   "execution_count": 13,
   "id": "79a3b126-8b0d-401c-bfe0-1698394af071",
   "metadata": {},
   "outputs": [],
   "source": [
    "with open('prepare_data/backbone.ndx') as i:\n",
    "    i.readline()\n",
    "    bb = np.array([ int(j)-1 for j in \" \".join(i.readlines()).split() ])"
   ]
  },
  {
   "cell_type": "code",
   "execution_count": 14,
   "id": "7374ae77-2afb-4a1b-91a1-9f6d6b6ae7d8",
   "metadata": {},
   "outputs": [
    {
     "data": {
      "text/plain": [
       "array([   0,    1,   12,   14,   16,   19,   21,   22,   27,   29,   30,\n",
       "         33,   35,   36,   39,   41,   42,   45,   47,   48,   52,   54,\n",
       "         56,   59,   61,   62,   65,   67,   68,   74,   76,   77,   83,\n",
       "         85,   86,   90,   92,   93,  102,  104,  105,  111,  113,  114,\n",
       "        115,  117,  118,  121,  123,  124,  133,  135,  136,  137,  139,\n",
       "        140,  148,  150,  151,  159,  161,  162,  167,  169,  170,  171,\n",
       "        173,  174,  182,  184,  185,  190,  192,  193,  200,  202,  203,\n",
       "        206,  208,  209,  210,  212,  213,  217,  219,  220,  222,  224,\n",
       "        225,  231,  233,  234,  237,  239,  240,  244,  246,  247,  251,\n",
       "        253,  254,  257,  259,  260,  264,  266,  267,  276,  278,  279,\n",
       "        282,  284,  286,  289,  291,  292,  294,  296,  297,  302,  304,\n",
       "        305,  310,  312,  313,  319,  321,  322,  327,  329,  330,  338,\n",
       "        340,  341,  344,  346,  347,  353,  355,  356,  361,  363,  364,\n",
       "        366,  368,  369,  375,  377,  378,  382,  384,  385,  388,  390,\n",
       "        392,  395,  397,  398,  402,  404,  405,  411,  413,  414,  419,\n",
       "        421,  422,  433,  435,  436,  440,  442,  443,  448,  450,  451,\n",
       "        454,  456,  457,  461,  463,  465,  468,  470,  472,  475,  477,\n",
       "        479,  482,  484,  485,  486,  488,  489,  493,  495,  496,  504,\n",
       "        506,  507,  511,  513,  514,  522,  524,  525,  527,  529,  530,\n",
       "        535,  537,  538,  540,  542,  543,  548,  550,  551,  560,  562,\n",
       "        563,  569,  571,  572,  578,  580,  581,  584,  586,  587,  593,\n",
       "        595,  596,  603,  605,  606,  611,  613,  614,  618,  620,  621,\n",
       "        627,  629,  630,  634,  636,  637,  641,  643,  644,  652,  654,\n",
       "        655,  663,  665,  666,  669,  671,  673,  676,  678,  679,  686,\n",
       "        688,  689,  696,  698,  699,  705,  707,  708,  716,  718,  719,\n",
       "        722,  724,  725,  728,  730,  731,  736,  738,  739,  742,  744,\n",
       "        745,  750,  752,  753,  754,  756,  757,  762,  764,  765,  767,\n",
       "        769,  771,  774,  776,  778,  781,  783,  784,  790,  792,  793,\n",
       "        800,  802,  803,  808,  810,  811,  816,  818,  819,  827,  829,\n",
       "        830,  834,  836,  837,  843,  845,  846,  847,  849,  850,  855,\n",
       "        857,  858,  863,  865,  866,  874,  876,  877,  881,  883,  884,\n",
       "        890,  892,  893,  902,  904,  905,  910,  912,  913,  918,  920,\n",
       "        921,  926,  928,  929,  937,  939,  940,  945,  947,  948,  952,\n",
       "        954,  955,  963,  965,  966,  974,  976,  977,  984,  986,  987,\n",
       "        990,  992,  993,  997,  999, 1000, 1004, 1006, 1007, 1011, 1013,\n",
       "       1015, 1018, 1020, 1021, 1030, 1032, 1033, 1039, 1041, 1043, 1046,\n",
       "       1048, 1050, 1053, 1055, 1056, 1062, 1064, 1065, 1069, 1071, 1072,\n",
       "       1073, 1075, 1076, 1079, 1081, 1082, 1087, 1089, 1090, 1093, 1095,\n",
       "       1096, 1100, 1102, 1103, 1107, 1109, 1110, 1115, 1117, 1118, 1125,\n",
       "       1127, 1128, 1137, 1139, 1140, 1145, 1147, 1148, 1157, 1159, 1160,\n",
       "       1165, 1167, 1168, 1171, 1173, 1174, 1179, 1181, 1182, 1185, 1187,\n",
       "       1188, 1191, 1193, 1194, 1197, 1199, 1200, 1205, 1207, 1208, 1209,\n",
       "       1211, 1212, 1213, 1215, 1216, 1221, 1223, 1224, 1229, 1231, 1232,\n",
       "       1240, 1242, 1243, 1251, 1253, 1255, 1258, 1260, 1261, 1266, 1268,\n",
       "       1269, 1274, 1276, 1277, 1281, 1283, 1284, 1289, 1291, 1292, 1297,\n",
       "       1299, 1300, 1304, 1306, 1307, 1312, 1314, 1315, 1321, 1323, 1324,\n",
       "       1329, 1331, 1332, 1335, 1337, 1338, 1341, 1343, 1344, 1345, 1347,\n",
       "       1348, 1353, 1355, 1356, 1361, 1363, 1364, 1369, 1371, 1372, 1373,\n",
       "       1375, 1376, 1384, 1386, 1387, 1392, 1394, 1395, 1398, 1400, 1401,\n",
       "       1409, 1411, 1412, 1418, 1420, 1421, 1425, 1427, 1428, 1436, 1438,\n",
       "       1439, 1443, 1445, 1446, 1449, 1451, 1452, 1454, 1456, 1457, 1460,\n",
       "       1462, 1464, 1467, 1469, 1470, 1471, 1473, 1474, 1482, 1484, 1485,\n",
       "       1490, 1492, 1493, 1501, 1503, 1504, 1512, 1514, 1515, 1519, 1521,\n",
       "       1522, 1528, 1530, 1531, 1537, 1539, 1540, 1546, 1548, 1549, 1554,\n",
       "       1556, 1557, 1562])"
      ]
     },
     "execution_count": 14,
     "metadata": {},
     "output_type": "execute_result"
    }
   ],
   "source": [
    "bb"
   ]
  },
  {
   "cell_type": "code",
   "execution_count": 15,
   "id": "22ded00b-3cd4-42c3-abfe-87710c30c60d",
   "metadata": {
    "scrolled": true
   },
   "outputs": [
    {
     "data": {
      "text/plain": [
       "(array([[   0,    1,   12],\n",
       "        [   1,   12,   14],\n",
       "        [  12,   14,   16],\n",
       "        ...,\n",
       "        [1548, 1549, 1554],\n",
       "        [1549, 1554, 1556],\n",
       "        [1554, 1556, 1557]]),\n",
       " array([[   0,    1,   12,   14],\n",
       "        [   1,   12,   14,   16],\n",
       "        [  12,   14,   16,   19],\n",
       "        ...,\n",
       "        [1546, 1548, 1549, 1554],\n",
       "        [1548, 1549, 1554, 1556],\n",
       "        [1549, 1554, 1556, 1557]]))"
      ]
     },
     "execution_count": 15,
     "metadata": {},
     "output_type": "execute_result"
    }
   ],
   "source": [
    "# backbone angles and dihedrals\n",
    "angles = np.array([ bb[i:i+3] for i in range(0,len(bb)-3) ])\n",
    "diheds = np.array([ bb[i:i+4] for i in range(0,len(bb)-4) ])\n",
    "angles, diheds"
   ]
  },
  {
   "cell_type": "code",
   "execution_count": 16,
   "id": "7117b655-f07d-4b5f-9aa2-49586bc758dd",
   "metadata": {},
   "outputs": [],
   "source": [
    "# XXX: select alpha carbons and matching betas\n",
    "tr1 = md.load(conf)\n",
    "cas = tr1.topology.select('name CA and not resname GLY')\n",
    "cbs = tr1.topology.select('name CB')\n",
    "assert(len(cas) == len(cbs))"
   ]
  },
  {
   "cell_type": "code",
   "execution_count": 17,
   "id": "219439bb-2569-40c2-a0ea-9bb03129dcac",
   "metadata": {},
   "outputs": [
    {
     "data": {
      "text/plain": [
       "array([   1,   16,   22,   30,   36,   42,   48,   56,   62,   68,   77,\n",
       "         86,   93,  105,  118,  124,  140,  151,  162,  174,  185,  193,\n",
       "        203,  213,  220,  225,  234,  240,  247,  254,  260,  267,  279,\n",
       "        286,  292,  297,  305,  313,  322,  330,  341,  347,  356,  364,\n",
       "        369,  378,  385,  392,  398,  405,  414,  422,  436,  443,  451,\n",
       "        457,  465,  472,  479,  489,  496,  507,  514,  525,  530,  538,\n",
       "        543,  551,  563,  572,  581,  587,  596,  606,  614,  621,  630,\n",
       "        637,  644,  655,  666,  673,  679,  689,  699,  708,  719,  725,\n",
       "        731,  739,  745,  757,  765,  771,  778,  784,  793,  803,  811,\n",
       "        819,  830,  837,  850,  858,  866,  877,  884,  893,  905,  913,\n",
       "        921,  929,  940,  948,  955,  966,  977,  987,  993, 1000, 1007,\n",
       "       1015, 1021, 1033, 1043, 1050, 1056, 1065, 1076, 1082, 1090, 1096,\n",
       "       1103, 1110, 1118, 1128, 1140, 1148, 1160, 1168, 1174, 1182, 1188,\n",
       "       1194, 1200, 1216, 1224, 1232, 1243, 1255, 1261, 1269, 1277, 1284,\n",
       "       1292, 1300, 1307, 1315, 1324, 1332, 1338, 1348, 1356, 1364, 1376,\n",
       "       1387, 1395, 1401, 1412, 1421, 1428, 1439, 1446, 1452, 1457, 1464,\n",
       "       1474, 1485, 1493, 1504, 1515, 1522, 1531, 1540, 1549, 1557])"
      ]
     },
     "execution_count": 17,
     "metadata": {},
     "output_type": "execute_result"
    }
   ],
   "source": [
    "cas"
   ]
  },
  {
   "cell_type": "code",
   "execution_count": 18,
   "id": "44bbb6ff-1c42-492d-b1ff-70b78213d8ca",
   "metadata": {},
   "outputs": [
    {
     "data": {
      "text/plain": [
       "array([  1,   4,   7,  10,  13,  16,  19,  22,  25,  28,  31,  34,  37,\n",
       "        40,  46,  49,  55,  58,  61,  67,  70,  73,  76,  82,  85,  88,\n",
       "        91,  94,  97, 100, 103, 106, 109, 112, 115, 118, 121, 124, 127,\n",
       "       130, 133, 136, 139, 142, 145, 148, 151, 154, 157, 160, 163, 166,\n",
       "       169, 172, 175, 178, 181, 184, 187, 193, 196, 199, 202, 205, 208,\n",
       "       211, 214, 217, 220, 223, 226, 229, 232, 235, 238, 241, 244, 247,\n",
       "       250, 253, 256, 259, 262, 265, 268, 271, 274, 277, 280, 283, 286,\n",
       "       292, 295, 298, 301, 304, 307, 310, 313, 316, 319, 322, 328, 331,\n",
       "       334, 337, 340, 343, 346, 349, 352, 355, 358, 361, 364, 367, 370,\n",
       "       373, 376, 379, 382, 385, 388, 391, 394, 397, 400, 403, 409, 412,\n",
       "       415, 418, 421, 424, 427, 430, 433, 436, 439, 442, 445, 448, 451,\n",
       "       454, 457, 466, 469, 472, 475, 478, 481, 484, 487, 490, 493, 496,\n",
       "       499, 502, 505, 508, 511, 517, 520, 523, 529, 532, 535, 538, 541,\n",
       "       544, 547, 550, 553, 556, 559, 562, 568, 571, 574, 577, 580, 583,\n",
       "       586, 589, 592, 595])"
      ]
     },
     "execution_count": 18,
     "metadata": {},
     "output_type": "execute_result"
    }
   ],
   "source": [
    "# indices of CAs (non-GLY) on the backbone\n",
    "cai = np.argwhere(bb.reshape(1,-1) == cas.reshape(-1,1))[:,1]\n",
    "cai"
   ]
  },
  {
   "cell_type": "code",
   "execution_count": 19,
   "id": "cd0b4104-1705-465a-b936-a26aa83a3ff9",
   "metadata": {
    "scrolled": true
   },
   "outputs": [
    {
     "data": {
      "text/plain": [
       "array([[   3,    2,   13],\n",
       "       [  18,   17,   15],\n",
       "       [  24,   23,   22],\n",
       "       [  32,   31,   30],\n",
       "       [  38,   37,   36],\n",
       "       [  44,   43,   42],\n",
       "       [  50,   49,   48],\n",
       "       [  58,   57,   55],\n",
       "       [  64,   63,   62],\n",
       "       [  70,   69,   68],\n",
       "       [  79,   78,   77],\n",
       "       [  88,   87,   86],\n",
       "       [  95,   94,   93],\n",
       "       [ 107,  106,  105],\n",
       "       [ 120,  119,  118],\n",
       "       [ 126,  125,  124],\n",
       "       [ 142,  141,  140],\n",
       "       [ 153,  152,  151],\n",
       "       [ 164,  163,  162],\n",
       "       [ 176,  175,  174],\n",
       "       [ 187,  186,  185],\n",
       "       [ 195,  194,  193],\n",
       "       [ 205,  204,  203],\n",
       "       [ 215,  214,  213],\n",
       "       [ 222,  221,  220],\n",
       "       [ 227,  226,  225],\n",
       "       [ 236,  235,  234],\n",
       "       [ 242,  241,  240],\n",
       "       [ 249,  248,  247],\n",
       "       [ 256,  255,  254],\n",
       "       [ 262,  261,  260],\n",
       "       [ 269,  268,  267],\n",
       "       [ 281,  280,  279],\n",
       "       [ 288,  287,  285],\n",
       "       [ 294,  293,  292],\n",
       "       [ 299,  298,  297],\n",
       "       [ 307,  306,  305],\n",
       "       [ 315,  314,  313],\n",
       "       [ 324,  323,  322],\n",
       "       [ 332,  331,  330],\n",
       "       [ 343,  342,  341],\n",
       "       [ 349,  348,  347],\n",
       "       [ 358,  357,  356],\n",
       "       [ 366,  365,  364],\n",
       "       [ 371,  370,  369],\n",
       "       [ 380,  379,  378],\n",
       "       [ 387,  386,  385],\n",
       "       [ 394,  393,  391],\n",
       "       [ 400,  399,  398],\n",
       "       [ 407,  406,  405],\n",
       "       [ 416,  415,  414],\n",
       "       [ 424,  423,  422],\n",
       "       [ 438,  437,  436],\n",
       "       [ 445,  444,  443],\n",
       "       [ 453,  452,  451],\n",
       "       [ 459,  458,  457],\n",
       "       [ 467,  466,  464],\n",
       "       [ 474,  473,  471],\n",
       "       [ 481,  480,  478],\n",
       "       [ 491,  490,  489],\n",
       "       [ 498,  497,  496],\n",
       "       [ 509,  508,  507],\n",
       "       [ 516,  515,  514],\n",
       "       [ 527,  526,  525],\n",
       "       [ 532,  531,  530],\n",
       "       [ 540,  539,  538],\n",
       "       [ 545,  544,  543],\n",
       "       [ 553,  552,  551],\n",
       "       [ 565,  564,  563],\n",
       "       [ 574,  573,  572],\n",
       "       [ 583,  582,  581],\n",
       "       [ 589,  588,  587],\n",
       "       [ 598,  597,  596],\n",
       "       [ 608,  607,  606],\n",
       "       [ 616,  615,  614],\n",
       "       [ 623,  622,  621],\n",
       "       [ 632,  631,  630],\n",
       "       [ 639,  638,  637],\n",
       "       [ 646,  645,  644],\n",
       "       [ 657,  656,  655],\n",
       "       [ 668,  667,  666],\n",
       "       [ 675,  674,  672],\n",
       "       [ 681,  680,  679],\n",
       "       [ 691,  690,  689],\n",
       "       [ 701,  700,  699],\n",
       "       [ 710,  709,  708],\n",
       "       [ 721,  720,  719],\n",
       "       [ 727,  726,  725],\n",
       "       [ 733,  732,  731],\n",
       "       [ 741,  740,  739],\n",
       "       [ 747,  746,  745],\n",
       "       [ 759,  758,  757],\n",
       "       [ 767,  766,  765],\n",
       "       [ 773,  772,  770],\n",
       "       [ 780,  779,  777],\n",
       "       [ 786,  785,  784],\n",
       "       [ 795,  794,  793],\n",
       "       [ 805,  804,  803],\n",
       "       [ 813,  812,  811],\n",
       "       [ 821,  820,  819],\n",
       "       [ 832,  831,  830],\n",
       "       [ 839,  838,  837],\n",
       "       [ 852,  851,  850],\n",
       "       [ 860,  859,  858],\n",
       "       [ 868,  867,  866],\n",
       "       [ 879,  878,  877],\n",
       "       [ 886,  885,  884],\n",
       "       [ 895,  894,  893],\n",
       "       [ 907,  906,  905],\n",
       "       [ 915,  914,  913],\n",
       "       [ 923,  922,  921],\n",
       "       [ 931,  930,  929],\n",
       "       [ 942,  941,  940],\n",
       "       [ 950,  949,  948],\n",
       "       [ 957,  956,  955],\n",
       "       [ 968,  967,  966],\n",
       "       [ 979,  978,  977],\n",
       "       [ 989,  988,  987],\n",
       "       [ 995,  994,  993],\n",
       "       [1002, 1001, 1000],\n",
       "       [1009, 1008, 1007],\n",
       "       [1017, 1016, 1014],\n",
       "       [1023, 1022, 1021],\n",
       "       [1035, 1034, 1033],\n",
       "       [1045, 1044, 1042],\n",
       "       [1052, 1051, 1049],\n",
       "       [1058, 1057, 1056],\n",
       "       [1067, 1066, 1065],\n",
       "       [1078, 1077, 1076],\n",
       "       [1084, 1083, 1082],\n",
       "       [1092, 1091, 1090],\n",
       "       [1098, 1097, 1096],\n",
       "       [1105, 1104, 1103],\n",
       "       [1112, 1111, 1110],\n",
       "       [1120, 1119, 1118],\n",
       "       [1130, 1129, 1128],\n",
       "       [1142, 1141, 1140],\n",
       "       [1150, 1149, 1148],\n",
       "       [1162, 1161, 1160],\n",
       "       [1170, 1169, 1168],\n",
       "       [1176, 1175, 1174],\n",
       "       [1184, 1183, 1182],\n",
       "       [1190, 1189, 1188],\n",
       "       [1196, 1195, 1194],\n",
       "       [1202, 1201, 1200],\n",
       "       [1218, 1217, 1216],\n",
       "       [1226, 1225, 1224],\n",
       "       [1234, 1233, 1232],\n",
       "       [1245, 1244, 1243],\n",
       "       [1257, 1256, 1254],\n",
       "       [1263, 1262, 1261],\n",
       "       [1271, 1270, 1269],\n",
       "       [1279, 1278, 1277],\n",
       "       [1286, 1285, 1284],\n",
       "       [1294, 1293, 1292],\n",
       "       [1302, 1301, 1300],\n",
       "       [1309, 1308, 1307],\n",
       "       [1317, 1316, 1315],\n",
       "       [1326, 1325, 1324],\n",
       "       [1334, 1333, 1332],\n",
       "       [1340, 1339, 1338],\n",
       "       [1350, 1349, 1348],\n",
       "       [1358, 1357, 1356],\n",
       "       [1366, 1365, 1364],\n",
       "       [1378, 1377, 1376],\n",
       "       [1389, 1388, 1387],\n",
       "       [1397, 1396, 1395],\n",
       "       [1403, 1402, 1401],\n",
       "       [1414, 1413, 1412],\n",
       "       [1423, 1422, 1421],\n",
       "       [1430, 1429, 1428],\n",
       "       [1441, 1440, 1439],\n",
       "       [1448, 1447, 1446],\n",
       "       [1454, 1453, 1452],\n",
       "       [1459, 1458, 1457],\n",
       "       [1466, 1465, 1463],\n",
       "       [1476, 1475, 1474],\n",
       "       [1487, 1486, 1485],\n",
       "       [1495, 1494, 1493],\n",
       "       [1506, 1505, 1504],\n",
       "       [1517, 1516, 1515],\n",
       "       [1524, 1523, 1522],\n",
       "       [1533, 1532, 1531],\n",
       "       [1542, 1541, 1540],\n",
       "       [1551, 1550, 1549],\n",
       "       [1559, 1558, 1557]])"
      ]
     },
     "execution_count": 19,
     "metadata": {},
     "output_type": "execute_result"
    }
   ],
   "source": [
    "# angles of CB-CA-X, where X is the next atom on the backbone\n",
    "cbangles = np.array([[ cbs[0], cas[0], bb[cai[0]+1] ]] +\n",
    "                   [[cbs[i], bb[cai[i]], bb[cai[i]-1] ] for i in range(1,len(cbs))])\n",
    "# just check \n",
    "cbangles+1"
   ]
  },
  {
   "cell_type": "code",
   "execution_count": 20,
   "id": "0d31b6d2-1f2a-4e1d-bdcf-2cdc4322394a",
   "metadata": {
    "scrolled": true
   },
   "outputs": [
    {
     "data": {
      "text/plain": [
       "array([[   3,    2,   13,   15],\n",
       "       [  18,   17,   15,   13],\n",
       "       [  24,   23,   22,   20],\n",
       "       [  32,   31,   30,   28],\n",
       "       [  38,   37,   36,   34],\n",
       "       [  44,   43,   42,   40],\n",
       "       [  50,   49,   48,   46],\n",
       "       [  58,   57,   55,   53],\n",
       "       [  64,   63,   62,   60],\n",
       "       [  70,   69,   68,   66],\n",
       "       [  79,   78,   77,   75],\n",
       "       [  88,   87,   86,   84],\n",
       "       [  95,   94,   93,   91],\n",
       "       [ 107,  106,  105,  103],\n",
       "       [ 120,  119,  118,  116],\n",
       "       [ 126,  125,  124,  122],\n",
       "       [ 142,  141,  140,  138],\n",
       "       [ 153,  152,  151,  149],\n",
       "       [ 164,  163,  162,  160],\n",
       "       [ 176,  175,  174,  172],\n",
       "       [ 187,  186,  185,  183],\n",
       "       [ 195,  194,  193,  191],\n",
       "       [ 205,  204,  203,  201],\n",
       "       [ 215,  214,  213,  211],\n",
       "       [ 222,  221,  220,  218],\n",
       "       [ 227,  226,  225,  223],\n",
       "       [ 236,  235,  234,  232],\n",
       "       [ 242,  241,  240,  238],\n",
       "       [ 249,  248,  247,  245],\n",
       "       [ 256,  255,  254,  252],\n",
       "       [ 262,  261,  260,  258],\n",
       "       [ 269,  268,  267,  265],\n",
       "       [ 281,  280,  279,  277],\n",
       "       [ 288,  287,  285,  283],\n",
       "       [ 294,  293,  292,  290],\n",
       "       [ 299,  298,  297,  295],\n",
       "       [ 307,  306,  305,  303],\n",
       "       [ 315,  314,  313,  311],\n",
       "       [ 324,  323,  322,  320],\n",
       "       [ 332,  331,  330,  328],\n",
       "       [ 343,  342,  341,  339],\n",
       "       [ 349,  348,  347,  345],\n",
       "       [ 358,  357,  356,  354],\n",
       "       [ 366,  365,  364,  362],\n",
       "       [ 371,  370,  369,  367],\n",
       "       [ 380,  379,  378,  376],\n",
       "       [ 387,  386,  385,  383],\n",
       "       [ 394,  393,  391,  389],\n",
       "       [ 400,  399,  398,  396],\n",
       "       [ 407,  406,  405,  403],\n",
       "       [ 416,  415,  414,  412],\n",
       "       [ 424,  423,  422,  420],\n",
       "       [ 438,  437,  436,  434],\n",
       "       [ 445,  444,  443,  441],\n",
       "       [ 453,  452,  451,  449],\n",
       "       [ 459,  458,  457,  455],\n",
       "       [ 467,  466,  464,  462],\n",
       "       [ 474,  473,  471,  469],\n",
       "       [ 481,  480,  478,  476],\n",
       "       [ 491,  490,  489,  487],\n",
       "       [ 498,  497,  496,  494],\n",
       "       [ 509,  508,  507,  505],\n",
       "       [ 516,  515,  514,  512],\n",
       "       [ 527,  526,  525,  523],\n",
       "       [ 532,  531,  530,  528],\n",
       "       [ 540,  539,  538,  536],\n",
       "       [ 545,  544,  543,  541],\n",
       "       [ 553,  552,  551,  549],\n",
       "       [ 565,  564,  563,  561],\n",
       "       [ 574,  573,  572,  570],\n",
       "       [ 583,  582,  581,  579],\n",
       "       [ 589,  588,  587,  585],\n",
       "       [ 598,  597,  596,  594],\n",
       "       [ 608,  607,  606,  604],\n",
       "       [ 616,  615,  614,  612],\n",
       "       [ 623,  622,  621,  619],\n",
       "       [ 632,  631,  630,  628],\n",
       "       [ 639,  638,  637,  635],\n",
       "       [ 646,  645,  644,  642],\n",
       "       [ 657,  656,  655,  653],\n",
       "       [ 668,  667,  666,  664],\n",
       "       [ 675,  674,  672,  670],\n",
       "       [ 681,  680,  679,  677],\n",
       "       [ 691,  690,  689,  687],\n",
       "       [ 701,  700,  699,  697],\n",
       "       [ 710,  709,  708,  706],\n",
       "       [ 721,  720,  719,  717],\n",
       "       [ 727,  726,  725,  723],\n",
       "       [ 733,  732,  731,  729],\n",
       "       [ 741,  740,  739,  737],\n",
       "       [ 747,  746,  745,  743],\n",
       "       [ 759,  758,  757,  755],\n",
       "       [ 767,  766,  765,  763],\n",
       "       [ 773,  772,  770,  768],\n",
       "       [ 780,  779,  777,  775],\n",
       "       [ 786,  785,  784,  782],\n",
       "       [ 795,  794,  793,  791],\n",
       "       [ 805,  804,  803,  801],\n",
       "       [ 813,  812,  811,  809],\n",
       "       [ 821,  820,  819,  817],\n",
       "       [ 832,  831,  830,  828],\n",
       "       [ 839,  838,  837,  835],\n",
       "       [ 852,  851,  850,  848],\n",
       "       [ 860,  859,  858,  856],\n",
       "       [ 868,  867,  866,  864],\n",
       "       [ 879,  878,  877,  875],\n",
       "       [ 886,  885,  884,  882],\n",
       "       [ 895,  894,  893,  891],\n",
       "       [ 907,  906,  905,  903],\n",
       "       [ 915,  914,  913,  911],\n",
       "       [ 923,  922,  921,  919],\n",
       "       [ 931,  930,  929,  927],\n",
       "       [ 942,  941,  940,  938],\n",
       "       [ 950,  949,  948,  946],\n",
       "       [ 957,  956,  955,  953],\n",
       "       [ 968,  967,  966,  964],\n",
       "       [ 979,  978,  977,  975],\n",
       "       [ 989,  988,  987,  985],\n",
       "       [ 995,  994,  993,  991],\n",
       "       [1002, 1001, 1000,  998],\n",
       "       [1009, 1008, 1007, 1005],\n",
       "       [1017, 1016, 1014, 1012],\n",
       "       [1023, 1022, 1021, 1019],\n",
       "       [1035, 1034, 1033, 1031],\n",
       "       [1045, 1044, 1042, 1040],\n",
       "       [1052, 1051, 1049, 1047],\n",
       "       [1058, 1057, 1056, 1054],\n",
       "       [1067, 1066, 1065, 1063],\n",
       "       [1078, 1077, 1076, 1074],\n",
       "       [1084, 1083, 1082, 1080],\n",
       "       [1092, 1091, 1090, 1088],\n",
       "       [1098, 1097, 1096, 1094],\n",
       "       [1105, 1104, 1103, 1101],\n",
       "       [1112, 1111, 1110, 1108],\n",
       "       [1120, 1119, 1118, 1116],\n",
       "       [1130, 1129, 1128, 1126],\n",
       "       [1142, 1141, 1140, 1138],\n",
       "       [1150, 1149, 1148, 1146],\n",
       "       [1162, 1161, 1160, 1158],\n",
       "       [1170, 1169, 1168, 1166],\n",
       "       [1176, 1175, 1174, 1172],\n",
       "       [1184, 1183, 1182, 1180],\n",
       "       [1190, 1189, 1188, 1186],\n",
       "       [1196, 1195, 1194, 1192],\n",
       "       [1202, 1201, 1200, 1198],\n",
       "       [1218, 1217, 1216, 1214],\n",
       "       [1226, 1225, 1224, 1222],\n",
       "       [1234, 1233, 1232, 1230],\n",
       "       [1245, 1244, 1243, 1241],\n",
       "       [1257, 1256, 1254, 1252],\n",
       "       [1263, 1262, 1261, 1259],\n",
       "       [1271, 1270, 1269, 1267],\n",
       "       [1279, 1278, 1277, 1275],\n",
       "       [1286, 1285, 1284, 1282],\n",
       "       [1294, 1293, 1292, 1290],\n",
       "       [1302, 1301, 1300, 1298],\n",
       "       [1309, 1308, 1307, 1305],\n",
       "       [1317, 1316, 1315, 1313],\n",
       "       [1326, 1325, 1324, 1322],\n",
       "       [1334, 1333, 1332, 1330],\n",
       "       [1340, 1339, 1338, 1336],\n",
       "       [1350, 1349, 1348, 1346],\n",
       "       [1358, 1357, 1356, 1354],\n",
       "       [1366, 1365, 1364, 1362],\n",
       "       [1378, 1377, 1376, 1374],\n",
       "       [1389, 1388, 1387, 1385],\n",
       "       [1397, 1396, 1395, 1393],\n",
       "       [1403, 1402, 1401, 1399],\n",
       "       [1414, 1413, 1412, 1410],\n",
       "       [1423, 1422, 1421, 1419],\n",
       "       [1430, 1429, 1428, 1426],\n",
       "       [1441, 1440, 1439, 1437],\n",
       "       [1448, 1447, 1446, 1444],\n",
       "       [1454, 1453, 1452, 1450],\n",
       "       [1459, 1458, 1457, 1455],\n",
       "       [1466, 1465, 1463, 1461],\n",
       "       [1476, 1475, 1474, 1472],\n",
       "       [1487, 1486, 1485, 1483],\n",
       "       [1495, 1494, 1493, 1491],\n",
       "       [1506, 1505, 1504, 1502],\n",
       "       [1517, 1516, 1515, 1513],\n",
       "       [1524, 1523, 1522, 1520],\n",
       "       [1533, 1532, 1531, 1529],\n",
       "       [1542, 1541, 1540, 1538],\n",
       "       [1551, 1550, 1549, 1547],\n",
       "       [1559, 1558, 1557, 1555]])"
      ]
     },
     "execution_count": 20,
     "metadata": {},
     "output_type": "execute_result"
    }
   ],
   "source": [
    "cbdiheds = np.array([[ cbs[0], cas[0], bb[cai[0]+1], bb[cai[0]+2] ]] +\n",
    "                   [[cbs[i], bb[cai[i]], bb[cai[i]-1], bb[cai[i]-2]] for i in range(1,len(cbs))])\n",
    "cbdiheds+1"
   ]
  },
  {
   "cell_type": "code",
   "execution_count": 53,
   "id": "665b1ad7-3129-428c-960c-35404ba953c0",
   "metadata": {},
   "outputs": [],
   "source": [
    "# just angles\n",
    "mol=asmsa.Molecule(pdb=conf,n_atoms=geoms[0].shape[0],\n",
    "                   angles=np.concatenate((angles,cbangles)),\n",
    "                   diheds=np.concatenate((diheds,cbdiheds)))"
   ]
  },
  {
   "cell_type": "code",
   "execution_count": 21,
   "id": "5c5009c7-1196-400f-a5d6-dc4f93c2f9fa",
   "metadata": {},
   "outputs": [],
   "source": [
    "# molecule model with explicit angles and dihedrals, and sparse distances from among Calpha and Cbetas\n",
    "# (don't bother with distances now)\n",
    "sparse_dists = asmsa.NBDistancesSparse(geoms[0].shape[0], density=nb_density, atoms = np.concatenate((cas,cbs)))\n",
    "mol=asmsa.Molecule(pdb=conf,n_atoms=geoms[0].shape[0],\n",
    "                   angles=np.concatenate((angles,cbangles)),\n",
    "                   diheds=np.concatenate((diheds,cbdiheds)),\n",
    "                   fms=[sparse_dists]) "
   ]
  },
  {
   "cell_type": "code",
   "execution_count": 22,
   "id": "f2fe87e3-20c4-4e41-a372-f71841b7b374",
   "metadata": {},
   "outputs": [],
   "source": [
    "mol_model = mol.get_model()\n",
    "\n",
    "example_input = torch.randn((*geoms[0].shape[:2],1))"
   ]
  },
  {
   "cell_type": "code",
   "execution_count": 23,
   "id": "2b53a95f-6031-4c79-997a-d6de512f985b",
   "metadata": {
    "scrolled": true
   },
   "outputs": [
    {
     "data": {
      "text/plain": [
       "array([[   0,    1,   12],\n",
       "       [   1,   12,   14],\n",
       "       [   2,    1,   12],\n",
       "       ...,\n",
       "       [1550, 1549, 1548],\n",
       "       [1554, 1556, 1557],\n",
       "       [1558, 1557, 1556]])"
      ]
     },
     "execution_count": 23,
     "metadata": {},
     "output_type": "execute_result"
    }
   ],
   "source": [
    "mol_model.angles"
   ]
  },
  {
   "cell_type": "code",
   "execution_count": 24,
   "id": "a83d7409-b94d-4c80-bdc7-54ffd42316a5",
   "metadata": {},
   "outputs": [
    {
     "data": {
      "text/plain": [
       "{'bonds': (0, 0), 'angles': (0, 780), 'dihed4': (780, 1559)}"
      ]
     },
     "execution_count": 24,
     "metadata": {},
     "output_type": "execute_result"
    }
   ],
   "source": [
    "mol_model.get_indices()"
   ]
  },
  {
   "cell_type": "code",
   "execution_count": 25,
   "id": "38f2a8f3-afbb-4b4d-acb3-ac719edf3b22",
   "metadata": {
    "scrolled": true
   },
   "outputs": [
    {
     "data": {
      "text/plain": [
       "array([[ 457,  472],\n",
       "       [ 667,  680],\n",
       "       [ 551,  563],\n",
       "       ...,\n",
       "       [ 765,  314],\n",
       "       [ 858, 1118],\n",
       "       [  56,   62]])"
      ]
     },
     "execution_count": 25,
     "metadata": {},
     "output_type": "execute_result"
    }
   ],
   "source": [
    "sparse_dists.bonds"
   ]
  },
  {
   "cell_type": "markdown",
   "id": "ef077fa4-bc50-4843-ab1d-05d66c64ef0a",
   "metadata": {},
   "source": [
    "#### Save the features (molecule) model"
   ]
  },
  {
   "cell_type": "code",
   "execution_count": null,
   "id": "43f59770-f5fc-4ccd-b4ea-bf77786b7f70",
   "metadata": {},
   "outputs": [],
   "source": [
    "mol_model = mol.get_model()\n",
    "\n",
    "example_input = torch.randn((*geoms[0].shape[:2],1))\n",
    "traced_script_module = torch.jit.trace(mol_model, example_input)\n",
    "\n",
    "traced_script_module.save('features.pt')"
   ]
  },
  {
   "cell_type": "markdown",
   "id": "995bf3c1-57fc-4be1-8924-8dc7659c91bb",
   "metadata": {},
   "source": [
    "#### Compute the interanal coordinates now"
   ]
  },
  {
   "cell_type": "code",
   "execution_count": 60,
   "id": "14a5bb18",
   "metadata": {},
   "outputs": [
    {
     "name": "stdout",
     "output_type": "stream",
     "text": [
      "[(1565, 3, 7000), (1565, 3, 1500), (1565, 3, 1501)] [(7000, 3448), (1500, 3448), (1501, 3448)]\n"
     ]
    }
   ],
   "source": [
    "intcoords = [ mol.intcoord(g).T for g in geoms]\n",
    "print(\n",
    "    [ g.shape for g in geoms ],\n",
    "    [ i.shape for i in intcoords ]\n",
    ")"
   ]
  },
  {
   "cell_type": "code",
   "execution_count": 61,
   "id": "8b239f0e-0cf2-42f8-a3e4-d35afe93ed8b",
   "metadata": {},
   "outputs": [],
   "source": [
    "[train,validate,test] = intcoords"
   ]
  },
  {
   "cell_type": "code",
   "execution_count": 62,
   "id": "2992698f-bb1e-4890-b449-6b7b043aa7c4",
   "metadata": {},
   "outputs": [
    {
     "data": {
      "text/plain": [
       "0.0"
      ]
     },
     "execution_count": 62,
     "metadata": {},
     "output_type": "execute_result"
    }
   ],
   "source": [
    "# validate the saved model -- should yield nearly 0.\n",
    "\n",
    "test_from_model = mol_model(torch.from_numpy(geoms[2])).numpy()\n",
    "np.max(test - test_from_model.T)"
   ]
  },
  {
   "cell_type": "code",
   "execution_count": 63,
   "id": "1986bd6c-7f23-4925-bb34-9464032ab9d5",
   "metadata": {},
   "outputs": [],
   "source": [
    "# normalize training set\n",
    "train_mean = np.mean(train,axis=0)\n",
    "train -= train_mean\n",
    "train_scale = np.std(train,axis=0)\n",
    "train /= train_scale"
   ]
  },
  {
   "cell_type": "code",
   "execution_count": 64,
   "id": "68a06c84-0164-4f4d-a797-ca0a85153442",
   "metadata": {},
   "outputs": [],
   "source": [
    "# normalize test and validation sets\n",
    "test -= train_mean\n",
    "test /= train_scale\n",
    "validate -= train_mean\n",
    "validate /= train_scale"
   ]
  },
  {
   "cell_type": "code",
   "execution_count": 65,
   "id": "c9927a64-0e0b-457e-851d-156737a9c828",
   "metadata": {
    "scrolled": true
   },
   "outputs": [],
   "source": [
    "# save for usage in tune/train/test phase\n",
    "\n",
    "tf.data.Dataset.from_tensor_slices(train).save('datasets/intcoords/train')\n",
    "tf.data.Dataset.from_tensor_slices(validate).save('datasets/intcoords/validate')\n",
    "tf.data.Dataset.from_tensor_slices(test).save('datasets/intcoords/test')\n",
    "\n",
    "np.savetxt('datasets/intcoords/mean.txt',train_mean)\n",
    "np.savetxt('datasets/intcoords/scale.txt',train_scale)"
   ]
  },
  {
   "cell_type": "markdown",
   "id": "94748d7a-b868-4124-97f7-fed4e8fcc24b",
   "metadata": {
    "jp-MarkdownHeadingCollapsed": true
   },
   "source": [
    "### Density of the conformational space\n",
    "\n",
    "- Sample the training trajectory randomly\n",
    "- For each point in the trajectory:\n",
    "  - calculate RMSD to all points in the sample\n",
    "  - pick some number $n$ of nearest ones\n",
    "  - calculate the _density_ at this point as $$ d = \\sum_{i=1}^n e^{-d_i} / n $$  i.e. the nearer the sample points are, the higher the density\n",
    " \n",
    "Altogether, $d$ roughly corresponds to the probability that the molecule during simulation ends up in this area of the conformational space."
   ]
  },
  {
   "cell_type": "code",
   "execution_count": null,
   "id": "ebb4eee9-eb63-4fdb-9926-3c0cb3b756cc",
   "metadata": {},
   "outputs": [],
   "source": [
    "sample_size = 5000\n",
    "x_train = md.load('x_train.xtc', top=conf)\n",
    "tr_sample = x_train[np.random.choice(len(x_train),sample_size,False)]\n",
    "tr_sample.save('sample.xtc')"
   ]
  },
  {
   "cell_type": "code",
   "execution_count": null,
   "id": "3b91c4bc-62d5-4923-92dc-b1bf44a0e2b5",
   "metadata": {},
   "outputs": [],
   "source": [
    "gmx.rms(f='x_train.xtc',f2='sample.xtc',s=conf,n='backbone.ndx',m='sample_rmsd.xpm')"
   ]
  },
  {
   "cell_type": "code",
   "execution_count": null,
   "id": "d4ee579a-b896-4187-b693-7caf26c7daf8",
   "metadata": {},
   "outputs": [],
   "source": [
    "rms = gf.XPM('sample_rmsd.xpm')"
   ]
  },
  {
   "cell_type": "markdown",
   "id": "84024073-4300-4c10-8d97-c50c040c5091",
   "metadata": {},
   "source": [
    "#### Visual check to verify the sample size is representative\n",
    "- typically, not many distances should be less than 0.1 nm and more than 1 nm \n",
    "(the latter depends on the molecule, can be more for e.g. big disordered proteins)\n",
    "- the histogram should be semi-smooth"
   ]
  },
  {
   "cell_type": "code",
   "execution_count": null,
   "id": "688bdff2-1c1f-48b9-903c-3a119f7950c5",
   "metadata": {},
   "outputs": [],
   "source": [
    "plt.hist(rms.array.flatten(),bins=50)\n",
    "plt.show()"
   ]
  },
  {
   "cell_type": "code",
   "execution_count": null,
   "id": "6ebd6aae-f788-444b-809e-291556ad809a",
   "metadata": {},
   "outputs": [],
   "source": [
    "k_nearest = 200\n",
    "rms_sort = np.sort(rms.array.astype(np.float32))\n",
    "erms = np.exp(-rms_sort[:,:k_nearest])\n",
    "dens = (np.sum(erms,axis=1)-1.) / (erms.shape[1] - 1)"
   ]
  },
  {
   "cell_type": "markdown",
   "id": "d14e9e66-9bb8-42dd-b37d-7cd9f00b7b44",
   "metadata": {},
   "source": [
    "#### Histogram of densities\n",
    "- quite high number of points should fall above 0.8, those are low energy basins\n",
    "- the interval [0.5, 1.0] should be reasonably covered\n",
    "- on the contrary, too many points below 0.4 would indicate either insufficient sampling above or too sparse trajectory"
   ]
  },
  {
   "cell_type": "code",
   "execution_count": null,
   "id": "cc17812a-3fba-42cc-aec6-feab2f28a319",
   "metadata": {},
   "outputs": [],
   "source": [
    "plt.hist(dens,bins=20)\n",
    "plt.show()"
   ]
  },
  {
   "cell_type": "code",
   "execution_count": null,
   "id": "a483d963-10a7-401d-a053-0ce234abbddd",
   "metadata": {},
   "outputs": [],
   "source": [
    "len(dens),len(x_train)"
   ]
  },
  {
   "cell_type": "code",
   "execution_count": null,
   "id": "86054b3d-f79a-4e6b-af1f-f308043bf16c",
   "metadata": {},
   "outputs": [],
   "source": [
    "np.savetxt('datasets/train_density.txt',dens)"
   ]
  },
  {
   "cell_type": "code",
   "execution_count": null,
   "id": "c03cc608-ca0b-409f-9c07-d729ad2a6567",
   "metadata": {},
   "outputs": [],
   "source": []
  }
 ],
 "metadata": {
  "kernelspec": {
   "display_name": "Python 3 (ipykernel)",
   "language": "python",
   "name": "python3"
  },
  "language_info": {
   "codemirror_mode": {
    "name": "ipython",
    "version": 3
   },
   "file_extension": ".py",
   "mimetype": "text/x-python",
   "name": "python",
   "nbconvert_exporter": "python",
   "pygments_lexer": "ipython3",
   "version": "3.10.11"
  }
 },
 "nbformat": 4,
 "nbformat_minor": 5
}
