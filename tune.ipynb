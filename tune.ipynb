{
 "cells": [
  {
   "cell_type": "markdown",
   "id": "6851ea37",
   "metadata": {},
   "source": [
    "# ASMSA: Tune AAE model hyperparameters\n",
    "\n",
    "**Previous step**\n",
    "- [prepare.ipynb](prepare.ipynb): Download and sanity check input files\n",
    "\n",
    "**Next steps**\n",
    "- [train.ipynb](train.ipynb): Use results of previous tuning in more thorough training\n",
    "- [md.ipynb](md.ipynb): Use a trained model in MD simulation with Gromacs"
   ]
  },
  {
   "cell_type": "markdown",
   "id": "235ca1f6",
   "metadata": {},
   "source": [
    "## Notebook setup"
   ]
  },
  {
   "cell_type": "code",
   "execution_count": 1,
   "id": "c9d37017-705e-493d-8a3a-798da6b340b8",
   "metadata": {},
   "outputs": [],
   "source": [
    "#%cd villin"
   ]
  },
  {
   "cell_type": "code",
   "execution_count": 2,
   "id": "91559377-60e1-421a-a51e-5e78f0c1b99b",
   "metadata": {
    "tags": []
   },
   "outputs": [
    {
     "name": "stderr",
     "output_type": "stream",
     "text": [
      "2025-04-14 14:20:37.039328: E external/local_xla/xla/stream_executor/cuda/cuda_fft.cc:485] Unable to register cuFFT factory: Attempting to register factory for plugin cuFFT when one has already been registered\n",
      "2025-04-14 14:20:37.054224: E external/local_xla/xla/stream_executor/cuda/cuda_dnn.cc:8454] Unable to register cuDNN factory: Attempting to register factory for plugin cuDNN when one has already been registered\n",
      "2025-04-14 14:20:37.058703: E external/local_xla/xla/stream_executor/cuda/cuda_blas.cc:1452] Unable to register cuBLAS factory: Attempting to register factory for plugin cuBLAS when one has already been registered\n",
      "2025-04-14 14:20:37.071726: I tensorflow/core/platform/cpu_feature_guard.cc:210] This TensorFlow binary is optimized to use available CPU instructions in performance-critical operations.\n",
      "To enable the following instructions: AVX2 FMA, in other operations, rebuild TensorFlow with the appropriate compiler flags.\n",
      "2025-04-14 14:20:37.828927: W tensorflow/compiler/tf2tensorrt/utils/py_utils.cc:38] TF-TRT Warning: Could not find TensorRT\n"
     ]
    }
   ],
   "source": [
    "threads = 2\n",
    "import os\n",
    "os.environ['OMP_NUM_THREADS']=str(threads)\n",
    "import tensorflow as tf\n",
    "\n",
    "# PyTorch favours OMP_NUM_THREADS in environment\n",
    "import torch\n",
    "\n",
    "# Tensorflow needs explicit cofig calls\n",
    "tf.config.threading.set_inter_op_parallelism_threads(threads)\n",
    "tf.config.threading.set_intra_op_parallelism_threads(threads)"
   ]
  },
  {
   "cell_type": "code",
   "execution_count": 3,
   "id": "4b70ab11",
   "metadata": {
    "tags": []
   },
   "outputs": [
    {
     "name": "stderr",
     "output_type": "stream",
     "text": [
      "2025-04-14 14:20:40.472373: I tensorflow/core/common_runtime/gpu/gpu_device.cc:2021] Created device /job:localhost/replica:0/task:0/device:GPU:0 with 1204 MB memory:  -> device: 0, name: NVIDIA A100 80GB PCIe MIG 1g.10gb, pci bus id: 0000:61:00.0, compute capability: 8.0\n"
     ]
    }
   ],
   "source": [
    "import tensorflow_probability as tfp\n",
    "import matplotlib.pyplot as plt\n",
    "import mdtraj as md\n",
    "import numpy as np\n",
    "import urllib.request\n",
    "from tensorflow import keras\n",
    "import keras_tuner\n",
    "import asmsa\n",
    "from datetime import datetime\n",
    "import tensorflow as tf"
   ]
  },
  {
   "cell_type": "markdown",
   "id": "aaba1b8f-d0ff-4264-9712-d06ad9ac964f",
   "metadata": {},
   "source": [
    "## Input files\n",
    "\n",
    "All input files are prepared (up- or downloaded) in [prepare.ipynb](prepare.ipynb). \n"
   ]
  },
  {
   "cell_type": "code",
   "execution_count": 4,
   "id": "fcd3c43e",
   "metadata": {
    "tags": []
   },
   "outputs": [],
   "source": [
    "exec(open('inputs-des.py').read())"
   ]
  },
  {
   "cell_type": "markdown",
   "id": "0100f507",
   "metadata": {},
   "source": [
    "## Load dataset"
   ]
  },
  {
   "cell_type": "code",
   "execution_count": 5,
   "id": "ef96d527",
   "metadata": {
    "tags": []
   },
   "outputs": [
    {
     "name": "stderr",
     "output_type": "stream",
     "text": [
      "2025-04-14 14:20:45.964989: I tensorflow/core/framework/local_rendezvous.cc:404] Local rendezvous is aborting with status: OUT_OF_RANGE: End of sequence\n",
      "2025-04-14 14:20:46.841494: I tensorflow/core/framework/local_rendezvous.cc:404] Local rendezvous is aborting with status: OUT_OF_RANGE: End of sequence\n"
     ]
    },
    {
     "data": {
      "text/plain": [
       "((15532, 1355), (7830, 1355))"
      ]
     },
     "execution_count": 5,
     "metadata": {},
     "output_type": "execute_result"
    }
   ],
   "source": [
    "# load train dataset\n",
    "X_train = tf.data.Dataset.load('datasets/intcoords/train')\n",
    "X_train_np = np.stack(list(X_train))\n",
    "X_train_np = X_train_np[:int(0.5*len(X_train_np))]\n",
    "\n",
    "# load validation dataset\n",
    "X_validate = tf.data.Dataset.load('datasets/intcoords/validate')\n",
    "X_validate_np = np.stack(list(X_validate))\n",
    "\n",
    "X_train_np.shape, X_validate_np.shape"
   ]
  },
  {
   "cell_type": "markdown",
   "id": "665a3d4e-86dc-4c14-840d-78a81c1e7d33",
   "metadata": {},
   "source": [
    "## Hyperparameter definition\n",
    "Specify hyperparameter ranges"
   ]
  },
  {
   "cell_type": "code",
   "execution_count": 10,
   "id": "d372c4d8-f319-4f28-9290-6d0c633da890",
   "metadata": {},
   "outputs": [],
   "source": [
    "medium_hp = {\n",
    "    'activation' : ['selu'],\n",
    "    'ae_neuron_number_seed' : [32,64,96,128],\n",
    "    'disc_neuron_number_seed' : [32,64,96],\n",
    "    'ae_number_of_layers' : [2,3,5],\n",
    "    'disc_number_of_layers' : [2,3,5],\n",
    "    'batch_size' : [64,128],\n",
    "    'optimizer' : ['Adam'],\n",
    "    'learning_rate' : 0.0002,\n",
    "    'ae_loss_fn' : ['MeanSquaredError'],\n",
    "    'disc_loss_fn' : ['BinaryCrossentropy']\n",
    "}"
   ]
  },
  {
   "cell_type": "markdown",
   "id": "e3092061-7a90-4a37-b2b4-4606a9fadef1",
   "metadata": {},
   "source": [
    "## Sequential hyperparameter tuning\n",
    "\n",
    "This is robust, it does not require Kubernetes environment for additional job submission but GPU is strongly recommended in the notebook itself to get reasonable speed, not requiring the following (currently broken) parallel tuning section.\n"
   ]
  },
  {
   "cell_type": "code",
   "execution_count": 11,
   "id": "f2a2080a",
   "metadata": {
    "tags": []
   },
   "outputs": [],
   "source": [
    "# Just testing numbers of epochs and hyperparameter setting trials\n",
    "# Don't expect anything meaningful\n",
    "trials=50\n",
    "epochs=30\n",
    "\n",
    "# Set RESULTS_DIR env variable for results of tuning\n",
    "os.environ['RESULTS_DIR'] = datetime.today().strftime(\"%m%d%Y-%H%M%S\")\n",
    "tuner = keras_tuner.RandomSearch(\n",
    "    max_trials=trials,\n",
    "    hypermodel=\n",
    "        asmsa.AAEHyperModel(\n",
    "            (X_validate_np.shape[1],),\n",
    "            hp=medium_hp,\n",
    "            prior=tfp.distributions.Normal(loc=0, scale=1)),\n",
    "    objective=keras_tuner.Objective(\"score\", direction=\"min\"),\n",
    "    directory=\"./results\",\n",
    "    project_name=\"Random\",\n",
    "    overwrite=True\n",
    ")"
   ]
  },
  {
   "cell_type": "code",
   "execution_count": 12,
   "id": "6141ae3a",
   "metadata": {
    "scrolled": true,
    "tags": []
   },
   "outputs": [
    {
     "name": "stdout",
     "output_type": "stream",
     "text": [
      "Trial 2 Complete [00h 00m 12s]\n",
      "\n",
      "Best score So Far: None\n",
      "Total elapsed time: 00h 00m 24s\n",
      "\n",
      "Search: Running Trial #3\n",
      "\n",
      "Value             |Best Value So Far |Hyperparameter\n",
      "selu              |selu              |activation\n",
      "3                 |5                 |ae_number_of_layers\n",
      "2                 |2                 |disc_number_of_layers\n",
      "128               |128               |batch_size\n",
      "Adam              |Adam              |optimizer\n",
      "0.0002            |0.0002            |learning_rate\n",
      "MeanSquaredError  |MeanSquaredError  |ae_loss_fn\n",
      "BinaryCrossentropy|BinaryCrossentropy|disc_loss_fn\n",
      "\n",
      "Trial ID: bda123c7238d4cf34987bb34685e25a9749df4734052d01ef3e14b3710d3ad7d\n"
     ]
    },
    {
     "name": "stderr",
     "output_type": "stream",
     "text": [
      "2025-04-14 14:22:21.471507: W external/local_tsl/tsl/framework/bfc_allocator.cc:482] Allocator (GPU_0_bfc) ran out of memory trying to allocate 485.67MiB (rounded to 509263360)requested by op Pack\n",
      "If the cause is memory fragmentation maybe the environment variable 'TF_GPU_ALLOCATOR=cuda_malloc_async' will improve the situation. \n",
      "Current allocation summary follows.\n",
      "Current allocation summary follows.\n",
      "2025-04-14 14:22:21.471559: I external/local_tsl/tsl/framework/bfc_allocator.cc:1039] BFCAllocator dump for GPU_0_bfc\n",
      "2025-04-14 14:22:21.471575: I external/local_tsl/tsl/framework/bfc_allocator.cc:1046] Bin (256): \tTotal Chunks: 83, Chunks in use: 83. 20.8KiB allocated for chunks. 20.8KiB in use in bin. 765B client-requested in use in bin.\n",
      "2025-04-14 14:22:21.471585: I external/local_tsl/tsl/framework/bfc_allocator.cc:1046] Bin (512): \tTotal Chunks: 25, Chunks in use: 25. 13.2KiB allocated for chunks. 13.2KiB in use in bin. 12.6KiB client-requested in use in bin.\n",
      "2025-04-14 14:22:21.471592: I external/local_tsl/tsl/framework/bfc_allocator.cc:1046] Bin (1024): \tTotal Chunks: 26, Chunks in use: 26. 27.8KiB allocated for chunks. 27.8KiB in use in bin. 26.1KiB client-requested in use in bin.\n",
      "2025-04-14 14:22:21.471599: I external/local_tsl/tsl/framework/bfc_allocator.cc:1046] Bin (2048): \tTotal Chunks: 45, Chunks in use: 45. 128.0KiB allocated for chunks. 128.0KiB in use in bin. 125.2KiB client-requested in use in bin.\n",
      "2025-04-14 14:22:21.471605: I external/local_tsl/tsl/framework/bfc_allocator.cc:1046] Bin (4096): \tTotal Chunks: 2, Chunks in use: 2. 9.5KiB allocated for chunks. 9.5KiB in use in bin. 7.5KiB client-requested in use in bin.\n",
      "2025-04-14 14:22:21.471611: I external/local_tsl/tsl/framework/bfc_allocator.cc:1046] Bin (8192): \tTotal Chunks: 10, Chunks in use: 10. 103.5KiB allocated for chunks. 103.5KiB in use in bin. 103.5KiB client-requested in use in bin.\n",
      "2025-04-14 14:22:21.471618: I external/local_tsl/tsl/framework/bfc_allocator.cc:1046] Bin (16384): \tTotal Chunks: 2, Chunks in use: 2. 37.5KiB allocated for chunks. 37.5KiB in use in bin. 22.5KiB client-requested in use in bin.\n",
      "2025-04-14 14:22:21.471624: I external/local_tsl/tsl/framework/bfc_allocator.cc:1046] Bin (32768): \tTotal Chunks: 3, Chunks in use: 3. 191.2KiB allocated for chunks. 191.2KiB in use in bin. 190.5KiB client-requested in use in bin.\n",
      "2025-04-14 14:22:21.471630: I external/local_tsl/tsl/framework/bfc_allocator.cc:1046] Bin (65536): \tTotal Chunks: 11, Chunks in use: 11. 1.05MiB allocated for chunks. 1.05MiB in use in bin. 1.05MiB client-requested in use in bin.\n",
      "2025-04-14 14:22:21.471637: I external/local_tsl/tsl/framework/bfc_allocator.cc:1046] Bin (131072): \tTotal Chunks: 1, Chunks in use: 1. 143.2KiB allocated for chunks. 143.2KiB in use in bin. 112.5KiB client-requested in use in bin.\n",
      "2025-04-14 14:22:21.471642: I external/local_tsl/tsl/framework/bfc_allocator.cc:1046] Bin (262144): \tTotal Chunks: 11, Chunks in use: 11. 4.23MiB allocated for chunks. 4.23MiB in use in bin. 4.20MiB client-requested in use in bin.\n",
      "2025-04-14 14:22:21.471649: I external/local_tsl/tsl/framework/bfc_allocator.cc:1046] Bin (524288): \tTotal Chunks: 1, Chunks in use: 1. 567.5KiB allocated for chunks. 567.5KiB in use in bin. 450.0KiB client-requested in use in bin.\n",
      "2025-04-14 14:22:21.471655: I external/local_tsl/tsl/framework/bfc_allocator.cc:1046] Bin (1048576): \tTotal Chunks: 8, Chunks in use: 8. 12.34MiB allocated for chunks. 12.34MiB in use in bin. 11.53MiB client-requested in use in bin.\n",
      "2025-04-14 14:22:21.471661: I external/local_tsl/tsl/framework/bfc_allocator.cc:1046] Bin (2097152): \tTotal Chunks: 4, Chunks in use: 4. 10.40MiB allocated for chunks. 10.40MiB in use in bin. 7.03MiB client-requested in use in bin.\n",
      "2025-04-14 14:22:21.471668: I external/local_tsl/tsl/framework/bfc_allocator.cc:1046] Bin (4194304): \tTotal Chunks: 3, Chunks in use: 3. 15.88MiB allocated for chunks. 15.88MiB in use in bin. 14.89MiB client-requested in use in bin.\n",
      "2025-04-14 14:22:21.471673: I external/local_tsl/tsl/framework/bfc_allocator.cc:1046] Bin (8388608): \tTotal Chunks: 0, Chunks in use: 0. 0B allocated for chunks. 0B in use in bin. 0B client-requested in use in bin.\n",
      "2025-04-14 14:22:21.471679: I external/local_tsl/tsl/framework/bfc_allocator.cc:1046] Bin (16777216): \tTotal Chunks: 1, Chunks in use: 0. 21.94MiB allocated for chunks. 0B in use in bin. 0B client-requested in use in bin.\n",
      "2025-04-14 14:22:21.471687: I external/local_tsl/tsl/framework/bfc_allocator.cc:1046] Bin (33554432): \tTotal Chunks: 14, Chunks in use: 14. 604.76MiB allocated for chunks. 604.76MiB in use in bin. 604.76MiB client-requested in use in bin.\n",
      "2025-04-14 14:22:21.471710: I external/local_tsl/tsl/framework/bfc_allocator.cc:1046] Bin (67108864): \tTotal Chunks: 3, Chunks in use: 3. 231.81MiB allocated for chunks. 231.81MiB in use in bin. 199.38MiB client-requested in use in bin.\n",
      "2025-04-14 14:22:21.471715: I external/local_tsl/tsl/framework/bfc_allocator.cc:1046] Bin (134217728): \tTotal Chunks: 0, Chunks in use: 0. 0B allocated for chunks. 0B in use in bin. 0B client-requested in use in bin.\n",
      "2025-04-14 14:22:21.471721: I external/local_tsl/tsl/framework/bfc_allocator.cc:1046] Bin (268435456): \tTotal Chunks: 1, Chunks in use: 0. 301.25MiB allocated for chunks. 0B in use in bin. 0B client-requested in use in bin.\n",
      "2025-04-14 14:22:21.471727: I external/local_tsl/tsl/framework/bfc_allocator.cc:1062] Bin for 485.67MiB was 256.00MiB, Chunk State: \n",
      "2025-04-14 14:22:21.471738: I external/local_tsl/tsl/framework/bfc_allocator.cc:1068]   Size: 301.25MiB | Requested Size: 40.47MiB | in_use: 0 | bin_num: 20, prev:   Size: 40.47MiB | Requested Size: 40.47MiB | in_use: 1 | bin_num: -1\n",
      "2025-04-14 14:22:21.471743: I external/local_tsl/tsl/framework/bfc_allocator.cc:1075] Next region of size 1263403008\n",
      "2025-04-14 14:22:21.471751: I external/local_tsl/tsl/framework/bfc_allocator.cc:1095] InUse at 7df1fa000000 of size 256 next 1\n",
      "2025-04-14 14:22:21.471756: I external/local_tsl/tsl/framework/bfc_allocator.cc:1095] InUse at 7df1fa000100 of size 1280 next 2\n",
      "2025-04-14 14:22:21.471761: I external/local_tsl/tsl/framework/bfc_allocator.cc:1095] InUse at 7df1fa000600 of size 256 next 3\n",
      "2025-04-14 14:22:21.471765: I external/local_tsl/tsl/framework/bfc_allocator.cc:1095] InUse at 7df1fa000700 of size 256 next 4\n",
      "2025-04-14 14:22:21.471769: I external/local_tsl/tsl/framework/bfc_allocator.cc:1095] InUse at 7df1fa000800 of size 256 next 5\n",
      "2025-04-14 14:22:21.471773: I external/local_tsl/tsl/framework/bfc_allocator.cc:1095] InUse at 7df1fa000900 of size 256 next 6\n",
      "2025-04-14 14:22:21.471777: I external/local_tsl/tsl/framework/bfc_allocator.cc:1095] InUse at 7df1fa000a00 of size 1862400 next 14\n",
      "2025-04-14 14:22:21.471781: I external/local_tsl/tsl/framework/bfc_allocator.cc:1095] InUse at 7df1fa1c7500 of size 256 next 15\n",
      "2025-04-14 14:22:21.471785: I external/local_tsl/tsl/framework/bfc_allocator.cc:1095] InUse at 7df1fa1c7600 of size 256 next 16\n",
      "2025-04-14 14:22:21.471789: I external/local_tsl/tsl/framework/bfc_allocator.cc:1095] InUse at 7df1fa1c7700 of size 256 next 22\n",
      "2025-04-14 14:22:21.471793: I external/local_tsl/tsl/framework/bfc_allocator.cc:1095] InUse at 7df1fa1c7800 of size 256 next 23\n",
      "2025-04-14 14:22:21.471797: I external/local_tsl/tsl/framework/bfc_allocator.cc:1095] InUse at 7df1fa1c7900 of size 256 next 24\n",
      "2025-04-14 14:22:21.471800: I external/local_tsl/tsl/framework/bfc_allocator.cc:1095] InUse at 7df1fa1c7a00 of size 256 next 25\n",
      "2025-04-14 14:22:21.471804: I external/local_tsl/tsl/framework/bfc_allocator.cc:1095] InUse at 7df1fa1c7b00 of size 256 next 26\n",
      "2025-04-14 14:22:21.471808: I external/local_tsl/tsl/framework/bfc_allocator.cc:1095] InUse at 7df1fa1c7c00 of size 256 next 27\n",
      "2025-04-14 14:22:21.471813: I external/local_tsl/tsl/framework/bfc_allocator.cc:1095] InUse at 7df1fa1c7d00 of size 115200 next 96\n",
      "2025-04-14 14:22:21.471817: I external/local_tsl/tsl/framework/bfc_allocator.cc:1095] InUse at 7df1fa1e3f00 of size 256 next 90\n",
      "2025-04-14 14:22:21.471821: I external/local_tsl/tsl/framework/bfc_allocator.cc:1095] InUse at 7df1fa1e4000 of size 256 next 166\n",
      "2025-04-14 14:22:21.471825: I external/local_tsl/tsl/framework/bfc_allocator.cc:1095] InUse at 7df1fa1e4100 of size 2198528 next 17\n",
      "2025-04-14 14:22:21.471829: I external/local_tsl/tsl/framework/bfc_allocator.cc:1095] InUse at 7df1fa3fcd00 of size 256 next 30\n",
      "2025-04-14 14:22:21.471833: I external/local_tsl/tsl/framework/bfc_allocator.cc:1095] InUse at 7df1fa3fce00 of size 256 next 31\n",
      "2025-04-14 14:22:21.471837: I external/local_tsl/tsl/framework/bfc_allocator.cc:1095] InUse at 7df1fa3fcf00 of size 256 next 33\n",
      "2025-04-14 14:22:21.471842: I external/local_tsl/tsl/framework/bfc_allocator.cc:1095] InUse at 7df1fa3fd000 of size 256 next 36\n",
      "2025-04-14 14:22:21.471847: I external/local_tsl/tsl/framework/bfc_allocator.cc:1095] InUse at 7df1fa3fd100 of size 488960 next 40\n",
      "2025-04-14 14:22:21.471851: I external/local_tsl/tsl/framework/bfc_allocator.cc:1095] InUse at 7df1fa474700 of size 256 next 41\n",
      "2025-04-14 14:22:21.471855: I external/local_tsl/tsl/framework/bfc_allocator.cc:1095] InUse at 7df1fa474800 of size 256 next 42\n",
      "2025-04-14 14:22:21.471858: I external/local_tsl/tsl/framework/bfc_allocator.cc:1095] InUse at 7df1fa474900 of size 256 next 46\n",
      "2025-04-14 14:22:21.471862: I external/local_tsl/tsl/framework/bfc_allocator.cc:1095] InUse at 7df1fa474a00 of size 256 next 47\n",
      "2025-04-14 14:22:21.471866: I external/local_tsl/tsl/framework/bfc_allocator.cc:1095] InUse at 7df1fa474b00 of size 256 next 48\n",
      "2025-04-14 14:22:21.471870: I external/local_tsl/tsl/framework/bfc_allocator.cc:1095] InUse at 7df1fa474c00 of size 256 next 49\n",
      "2025-04-14 14:22:21.471874: I external/local_tsl/tsl/framework/bfc_allocator.cc:1095] InUse at 7df1fa474d00 of size 256 next 50\n",
      "2025-04-14 14:22:21.471878: I external/local_tsl/tsl/framework/bfc_allocator.cc:1095] InUse at 7df1fa474e00 of size 256 next 51\n",
      "2025-04-14 14:22:21.471882: I external/local_tsl/tsl/framework/bfc_allocator.cc:1095] InUse at 7df1fa474f00 of size 73397504 next 71\n",
      "2025-04-14 14:22:21.471886: I external/local_tsl/tsl/framework/bfc_allocator.cc:1095] InUse at 7df1fea74400 of size 256 next 69\n",
      "2025-04-14 14:22:21.471889: I external/local_tsl/tsl/framework/bfc_allocator.cc:1095] InUse at 7df1fea74500 of size 256 next 73\n",
      "2025-04-14 14:22:21.471893: I external/local_tsl/tsl/framework/bfc_allocator.cc:1095] InUse at 7df1fea74600 of size 256 next 79\n",
      "2025-04-14 14:22:21.471897: I external/local_tsl/tsl/framework/bfc_allocator.cc:1095] InUse at 7df1fea74700 of size 256 next 80\n",
      "2025-04-14 14:22:21.471901: I external/local_tsl/tsl/framework/bfc_allocator.cc:1095] InUse at 7df1fea74800 of size 256 next 81\n",
      "2025-04-14 14:22:21.471905: I external/local_tsl/tsl/framework/bfc_allocator.cc:1095] InUse at 7df1fea74900 of size 256 next 82\n",
      "2025-04-14 14:22:21.471909: I external/local_tsl/tsl/framework/bfc_allocator.cc:1095] InUse at 7df1fea74a00 of size 256 next 83\n",
      "2025-04-14 14:22:21.471912: I external/local_tsl/tsl/framework/bfc_allocator.cc:1095] InUse at 7df1fea74b00 of size 256 next 84\n",
      "2025-04-14 14:22:21.471917: I external/local_tsl/tsl/framework/bfc_allocator.cc:1095] InUse at 7df1fea74c00 of size 6242304 next 168\n",
      "2025-04-14 14:22:21.471921: I external/local_tsl/tsl/framework/bfc_allocator.cc:1095] InUse at 7df1ff068c00 of size 256 next 167\n",
      "2025-04-14 14:22:21.471925: I external/local_tsl/tsl/framework/bfc_allocator.cc:1095] InUse at 7df1ff068d00 of size 256 next 161\n",
      "2025-04-14 14:22:21.471930: I external/local_tsl/tsl/framework/bfc_allocator.cc:1095] InUse at 7df1ff068e00 of size 3280896 next 229\n",
      "2025-04-14 14:22:21.471934: I external/local_tsl/tsl/framework/bfc_allocator.cc:1095] InUse at 7df1ff389e00 of size 256 next 231\n",
      "2025-04-14 14:22:21.471938: I external/local_tsl/tsl/framework/bfc_allocator.cc:1095] InUse at 7df1ff389f00 of size 1843200 next 193\n",
      "2025-04-14 14:22:21.471942: I external/local_tsl/tsl/framework/bfc_allocator.cc:1095] InUse at 7df1ff54bf00 of size 1848320 next 310\n",
      "2025-04-14 14:22:21.471947: I external/local_tsl/tsl/framework/bfc_allocator.cc:1095] InUse at 7df1ff70f300 of size 256 next 291\n",
      "2025-04-14 14:22:21.471951: I external/local_tsl/tsl/framework/bfc_allocator.cc:1095] InUse at 7df1ff70f400 of size 256 next 287\n",
      "2025-04-14 14:22:21.471955: I external/local_tsl/tsl/framework/bfc_allocator.cc:1095] InUse at 7df1ff70f500 of size 294912 next 228\n",
      "2025-04-14 14:22:21.471959: I external/local_tsl/tsl/framework/bfc_allocator.cc:1095] InUse at 7df1ff757500 of size 294912 next 133\n",
      "2025-04-14 14:22:21.471963: I external/local_tsl/tsl/framework/bfc_allocator.cc:1095] InUse at 7df1ff79f500 of size 1843200 next 20\n",
      "2025-04-14 14:22:21.471969: I external/local_tsl/tsl/framework/bfc_allocator.cc:1095] InUse at 7df1ff961500 of size 2770176 next 151\n",
      "2025-04-14 14:22:21.471973: I external/local_tsl/tsl/framework/bfc_allocator.cc:1095] InUse at 7df1ffc05a00 of size 5203200 next 288\n",
      "2025-04-14 14:22:21.471977: I external/local_tsl/tsl/framework/bfc_allocator.cc:1095] InUse at 7df2000fbf00 of size 5203200 next 52\n",
      "2025-04-14 14:22:21.471981: I external/local_tsl/tsl/framework/bfc_allocator.cc:1095] InUse at 7df2005f2400 of size 460800 next 106\n",
      "2025-04-14 14:22:21.471985: I external/local_tsl/tsl/framework/bfc_allocator.cc:1095] InUse at 7df200662c00 of size 460800 next 157\n",
      "2025-04-14 14:22:21.471989: I external/local_tsl/tsl/framework/bfc_allocator.cc:1095] InUse at 7df2006d3400 of size 115200 next 65\n",
      "2025-04-14 14:22:21.471993: I external/local_tsl/tsl/framework/bfc_allocator.cc:1095] InUse at 7df2006ef600 of size 115200 next 62\n",
      "2025-04-14 14:22:21.471997: I external/local_tsl/tsl/framework/bfc_allocator.cc:1095] InUse at 7df20070b800 of size 256 next 13\n",
      "2025-04-14 14:22:21.472001: I external/local_tsl/tsl/framework/bfc_allocator.cc:1095] InUse at 7df20070b900 of size 256 next 10\n",
      "2025-04-14 14:22:21.472005: I external/local_tsl/tsl/framework/bfc_allocator.cc:1095] InUse at 7df20070ba00 of size 11520 next 89\n",
      "2025-04-14 14:22:21.472010: I external/local_tsl/tsl/framework/bfc_allocator.cc:1095] InUse at 7df20070e700 of size 11520 next 91\n",
      "2025-04-14 14:22:21.472014: I external/local_tsl/tsl/framework/bfc_allocator.cc:1095] InUse at 7df200711400 of size 512 next 8\n",
      "2025-04-14 14:22:21.472019: I external/local_tsl/tsl/framework/bfc_allocator.cc:1095] InUse at 7df200711600 of size 512 next 74\n",
      "2025-04-14 14:22:21.472023: I external/local_tsl/tsl/framework/bfc_allocator.cc:1095] InUse at 7df200711800 of size 512 next 94\n",
      "2025-04-14 14:22:21.472027: I external/local_tsl/tsl/framework/bfc_allocator.cc:1095] InUse at 7df200711a00 of size 512 next 172\n",
      "2025-04-14 14:22:21.472031: I external/local_tsl/tsl/framework/bfc_allocator.cc:1095] InUse at 7df200711c00 of size 512 next 174\n",
      "2025-04-14 14:22:21.472035: I external/local_tsl/tsl/framework/bfc_allocator.cc:1095] InUse at 7df200711e00 of size 512 next 175\n",
      "2025-04-14 14:22:21.472039: I external/local_tsl/tsl/framework/bfc_allocator.cc:1095] InUse at 7df200712000 of size 115200 next 176\n",
      "2025-04-14 14:22:21.472043: I external/local_tsl/tsl/framework/bfc_allocator.cc:1095] InUse at 7df20072e200 of size 115200 next 177\n",
      "2025-04-14 14:22:21.472047: I external/local_tsl/tsl/framework/bfc_allocator.cc:1095] InUse at 7df20074a400 of size 1024 next 178\n",
      "2025-04-14 14:22:21.472050: I external/local_tsl/tsl/framework/bfc_allocator.cc:1095] InUse at 7df20074a800 of size 1024 next 179\n",
      "2025-04-14 14:22:21.472054: I external/local_tsl/tsl/framework/bfc_allocator.cc:1095] InUse at 7df20074ac00 of size 1024 next 103\n",
      "2025-04-14 14:22:21.472058: I external/local_tsl/tsl/framework/bfc_allocator.cc:1095] InUse at 7df20074b000 of size 1024 next 186\n",
      "2025-04-14 14:22:21.472062: I external/local_tsl/tsl/framework/bfc_allocator.cc:1095] InUse at 7df20074b400 of size 1024 next 187\n",
      "2025-04-14 14:22:21.472066: I external/local_tsl/tsl/framework/bfc_allocator.cc:1095] InUse at 7df20074b800 of size 1024 next 137\n",
      "2025-04-14 14:22:21.472070: I external/local_tsl/tsl/framework/bfc_allocator.cc:1095] InUse at 7df20074bc00 of size 460800 next 308\n",
      "2025-04-14 14:22:21.472074: I external/local_tsl/tsl/framework/bfc_allocator.cc:1095] InUse at 7df2007bc400 of size 460800 next 44\n",
      "2025-04-14 14:22:21.472078: I external/local_tsl/tsl/framework/bfc_allocator.cc:1095] InUse at 7df20082cc00 of size 2048 next 32\n",
      "2025-04-14 14:22:21.472082: I external/local_tsl/tsl/framework/bfc_allocator.cc:1095] InUse at 7df20082d400 of size 2048 next 191\n",
      "2025-04-14 14:22:21.472086: I external/local_tsl/tsl/framework/bfc_allocator.cc:1095] InUse at 7df20082dc00 of size 2048 next 190\n",
      "2025-04-14 14:22:21.472090: I external/local_tsl/tsl/framework/bfc_allocator.cc:1095] InUse at 7df20082e400 of size 2048 next 189\n",
      "2025-04-14 14:22:21.472095: I external/local_tsl/tsl/framework/bfc_allocator.cc:1095] InUse at 7df20082ec00 of size 2048 next 188\n",
      "2025-04-14 14:22:21.472099: I external/local_tsl/tsl/framework/bfc_allocator.cc:1095] InUse at 7df20082f400 of size 2048 next 197\n",
      "2025-04-14 14:22:21.472103: I external/local_tsl/tsl/framework/bfc_allocator.cc:1095] InUse at 7df20082fc00 of size 1843200 next 209\n",
      "2025-04-14 14:22:21.472108: I external/local_tsl/tsl/framework/bfc_allocator.cc:1095] InUse at 7df2009f1c00 of size 2656512 next 311\n",
      "2025-04-14 14:22:21.472112: I external/local_tsl/tsl/framework/bfc_allocator.cc:1095] InUse at 7df200c7a500 of size 256 next 313\n",
      "2025-04-14 14:22:21.472116: I external/local_tsl/tsl/framework/bfc_allocator.cc:1095] InUse at 7df200c7a600 of size 256 next 314\n",
      "2025-04-14 14:22:21.472121: I external/local_tsl/tsl/framework/bfc_allocator.cc:1095] InUse at 7df200c7a700 of size 256 next 315\n",
      "2025-04-14 14:22:21.472125: I external/local_tsl/tsl/framework/bfc_allocator.cc:1095] InUse at 7df200c7a800 of size 256 next 316\n",
      "2025-04-14 14:22:21.472129: I external/local_tsl/tsl/framework/bfc_allocator.cc:1095] InUse at 7df200c7a900 of size 11520 next 76\n",
      "2025-04-14 14:22:21.472132: I external/local_tsl/tsl/framework/bfc_allocator.cc:1095] InUse at 7df200c7d600 of size 256 next 150\n",
      "2025-04-14 14:22:21.472137: I external/local_tsl/tsl/framework/bfc_allocator.cc:1095] InUse at 7df200c7d700 of size 11520 next 123\n",
      "2025-04-14 14:22:21.472141: I external/local_tsl/tsl/framework/bfc_allocator.cc:1095] InUse at 7df200c80400 of size 11520 next 12\n",
      "2025-04-14 14:22:21.472144: I external/local_tsl/tsl/framework/bfc_allocator.cc:1095] InUse at 7df200c83100 of size 512 next 135\n",
      "2025-04-14 14:22:21.472148: I external/local_tsl/tsl/framework/bfc_allocator.cc:1095] InUse at 7df200c83300 of size 512 next 143\n",
      "2025-04-14 14:22:21.472152: I external/local_tsl/tsl/framework/bfc_allocator.cc:1095] InUse at 7df200c83500 of size 512 next 155\n",
      "2025-04-14 14:22:21.472156: I external/local_tsl/tsl/framework/bfc_allocator.cc:1095] InUse at 7df200c83700 of size 512 next 163\n",
      "2025-04-14 14:22:21.472160: I external/local_tsl/tsl/framework/bfc_allocator.cc:1095] InUse at 7df200c83900 of size 512 next 165\n",
      "2025-04-14 14:22:21.472164: I external/local_tsl/tsl/framework/bfc_allocator.cc:1095] InUse at 7df200c83b00 of size 115200 next 144\n",
      "2025-04-14 14:22:21.472168: I external/local_tsl/tsl/framework/bfc_allocator.cc:1095] InUse at 7df200c9fd00 of size 115200 next 67\n",
      "2025-04-14 14:22:21.472172: I external/local_tsl/tsl/framework/bfc_allocator.cc:1095] InUse at 7df200cbbf00 of size 1024 next 136\n",
      "2025-04-14 14:22:21.472176: I external/local_tsl/tsl/framework/bfc_allocator.cc:1095] InUse at 7df200cbc300 of size 1024 next 64\n",
      "2025-04-14 14:22:21.472179: I external/local_tsl/tsl/framework/bfc_allocator.cc:1095] InUse at 7df200cbc700 of size 1024 next 116\n",
      "2025-04-14 14:22:21.472183: I external/local_tsl/tsl/framework/bfc_allocator.cc:1095] InUse at 7df200cbcb00 of size 1024 next 225\n",
      "2025-04-14 14:22:21.472187: I external/local_tsl/tsl/framework/bfc_allocator.cc:1095] InUse at 7df200cbcf00 of size 1024 next 7\n",
      "2025-04-14 14:22:21.472191: I external/local_tsl/tsl/framework/bfc_allocator.cc:1095] InUse at 7df200cbd300 of size 2048 next 111\n",
      "2025-04-14 14:22:21.472195: I external/local_tsl/tsl/framework/bfc_allocator.cc:1095] InUse at 7df200cbdb00 of size 2048 next 142\n",
      "2025-04-14 14:22:21.472199: I external/local_tsl/tsl/framework/bfc_allocator.cc:1095] InUse at 7df200cbe300 of size 2048 next 194\n",
      "2025-04-14 14:22:21.472203: I external/local_tsl/tsl/framework/bfc_allocator.cc:1095] InUse at 7df200cbeb00 of size 2048 next 18\n",
      "2025-04-14 14:22:21.472207: I external/local_tsl/tsl/framework/bfc_allocator.cc:1095] InUse at 7df200cbf300 of size 2048 next 146\n",
      "2025-04-14 14:22:21.472211: I external/local_tsl/tsl/framework/bfc_allocator.cc:1095] InUse at 7df200cbfb00 of size 3840 next 9\n",
      "2025-04-14 14:22:21.472215: I external/local_tsl/tsl/framework/bfc_allocator.cc:1095] InUse at 7df200cc0a00 of size 3840 next 130\n",
      "2025-04-14 14:22:21.472219: I external/local_tsl/tsl/framework/bfc_allocator.cc:1095] InUse at 7df200cc1900 of size 3840 next 66\n",
      "2025-04-14 14:22:21.472223: I external/local_tsl/tsl/framework/bfc_allocator.cc:1095] InUse at 7df200cc2800 of size 3840 next 97\n",
      "2025-04-14 14:22:21.472227: I external/local_tsl/tsl/framework/bfc_allocator.cc:1095] InUse at 7df200cc3700 of size 3840 next 68\n",
      "2025-04-14 14:22:21.472231: I external/local_tsl/tsl/framework/bfc_allocator.cc:1095] InUse at 7df200cc4600 of size 65280 next 60\n",
      "2025-04-14 14:22:21.472235: I external/local_tsl/tsl/framework/bfc_allocator.cc:1095] InUse at 7df200cd4500 of size 73728 next 156\n",
      "2025-04-14 14:22:21.472241: I external/local_tsl/tsl/framework/bfc_allocator.cc:1095] InUse at 7df200ce6500 of size 73728 next 227\n",
      "2025-04-14 14:22:21.472245: I external/local_tsl/tsl/framework/bfc_allocator.cc:1095] InUse at 7df200cf8500 of size 3072 next 113\n",
      "2025-04-14 14:22:21.472249: I external/local_tsl/tsl/framework/bfc_allocator.cc:1095] InUse at 7df200cf9100 of size 1536 next 61\n",
      "2025-04-14 14:22:21.472254: I external/local_tsl/tsl/framework/bfc_allocator.cc:1095] InUse at 7df200cf9700 of size 768 next 58\n",
      "2025-04-14 14:22:21.472259: I external/local_tsl/tsl/framework/bfc_allocator.cc:1095] InUse at 7df200cf9a00 of size 9216 next 53\n",
      "2025-04-14 14:22:21.472264: I external/local_tsl/tsl/framework/bfc_allocator.cc:1095] InUse at 7df200cfbe00 of size 9216 next 154\n",
      "2025-04-14 14:22:21.472268: I external/local_tsl/tsl/framework/bfc_allocator.cc:1095] InUse at 7df200cfe200 of size 256 next 117\n",
      "2025-04-14 14:22:21.472272: I external/local_tsl/tsl/framework/bfc_allocator.cc:1095] InUse at 7df200cfe300 of size 256 next 121\n",
      "2025-04-14 14:22:21.472276: I external/local_tsl/tsl/framework/bfc_allocator.cc:1095] InUse at 7df200cfe400 of size 256 next 147\n",
      "2025-04-14 14:22:21.472280: I external/local_tsl/tsl/framework/bfc_allocator.cc:1095] InUse at 7df200cfe500 of size 3840 next 153\n",
      "2025-04-14 14:22:21.472284: I external/local_tsl/tsl/framework/bfc_allocator.cc:1095] InUse at 7df200cff400 of size 3840 next 141\n",
      "2025-04-14 14:22:21.472291: I external/local_tsl/tsl/framework/bfc_allocator.cc:1095] InUse at 7df200d00300 of size 3840 next 149\n",
      "2025-04-14 14:22:21.472295: I external/local_tsl/tsl/framework/bfc_allocator.cc:1095] InUse at 7df200d01200 of size 3840 next 160\n",
      "2025-04-14 14:22:21.472299: I external/local_tsl/tsl/framework/bfc_allocator.cc:1095] InUse at 7df200d02100 of size 3840 next 159\n",
      "2025-04-14 14:22:21.472302: I external/local_tsl/tsl/framework/bfc_allocator.cc:1095] InUse at 7df200d03000 of size 3840 next 127\n",
      "2025-04-14 14:22:21.472306: I external/local_tsl/tsl/framework/bfc_allocator.cc:1095] InUse at 7df200d03f00 of size 2048 next 125\n",
      "2025-04-14 14:22:21.472310: I external/local_tsl/tsl/framework/bfc_allocator.cc:1095] InUse at 7df200d04700 of size 2048 next 195\n",
      "2025-04-14 14:22:21.472314: I external/local_tsl/tsl/framework/bfc_allocator.cc:1095] InUse at 7df200d04f00 of size 2048 next 171\n",
      "2025-04-14 14:22:21.472318: I external/local_tsl/tsl/framework/bfc_allocator.cc:1095] InUse at 7df200d05700 of size 2048 next 93\n",
      "2025-04-14 14:22:21.472322: I external/local_tsl/tsl/framework/bfc_allocator.cc:1095] InUse at 7df200d05f00 of size 2048 next 139\n",
      "2025-04-14 14:22:21.472326: I external/local_tsl/tsl/framework/bfc_allocator.cc:1095] InUse at 7df200d06700 of size 2048 next 183\n",
      "2025-04-14 14:22:21.472330: I external/local_tsl/tsl/framework/bfc_allocator.cc:1095] InUse at 7df200d06f00 of size 1024 next 192\n",
      "2025-04-14 14:22:21.472334: I external/local_tsl/tsl/framework/bfc_allocator.cc:1095] InUse at 7df200d07300 of size 1024 next 129\n",
      "2025-04-14 14:22:21.472338: I external/local_tsl/tsl/framework/bfc_allocator.cc:1095] InUse at 7df200d07700 of size 1024 next 109\n",
      "2025-04-14 14:22:21.472342: I external/local_tsl/tsl/framework/bfc_allocator.cc:1095] InUse at 7df200d07b00 of size 1024 next 118\n",
      "2025-04-14 14:22:21.472346: I external/local_tsl/tsl/framework/bfc_allocator.cc:1095] InUse at 7df200d07f00 of size 1024 next 43\n",
      "2025-04-14 14:22:21.472350: I external/local_tsl/tsl/framework/bfc_allocator.cc:1095] InUse at 7df200d08300 of size 1024 next 131\n",
      "2025-04-14 14:22:21.472354: I external/local_tsl/tsl/framework/bfc_allocator.cc:1095] InUse at 7df200d08700 of size 512 next 120\n",
      "2025-04-14 14:22:21.472358: I external/local_tsl/tsl/framework/bfc_allocator.cc:1095] InUse at 7df200d08900 of size 512 next 112\n",
      "2025-04-14 14:22:21.472384: I external/local_tsl/tsl/framework/bfc_allocator.cc:1095] InUse at 7df200d08b00 of size 512 next 115\n",
      "2025-04-14 14:22:21.472389: I external/local_tsl/tsl/framework/bfc_allocator.cc:1095] InUse at 7df200d08d00 of size 512 next 182\n",
      "2025-04-14 14:22:21.472393: I external/local_tsl/tsl/framework/bfc_allocator.cc:1095] InUse at 7df200d08f00 of size 512 next 39\n",
      "2025-04-14 14:22:21.472397: I external/local_tsl/tsl/framework/bfc_allocator.cc:1095] InUse at 7df200d09100 of size 512 next 29\n",
      "2025-04-14 14:22:21.472401: I external/local_tsl/tsl/framework/bfc_allocator.cc:1095] InUse at 7df200d09300 of size 11520 next 38\n",
      "2025-04-14 14:22:21.472405: I external/local_tsl/tsl/framework/bfc_allocator.cc:1095] InUse at 7df200d0c000 of size 18688 next 196\n",
      "2025-04-14 14:22:21.472409: I external/local_tsl/tsl/framework/bfc_allocator.cc:1095] InUse at 7df200d10900 of size 256 next 198\n",
      "2025-04-14 14:22:21.472413: I external/local_tsl/tsl/framework/bfc_allocator.cc:1095] InUse at 7df200d10a00 of size 3840 next 210\n",
      "2025-04-14 14:22:21.472417: I external/local_tsl/tsl/framework/bfc_allocator.cc:1095] InUse at 7df200d11900 of size 3840 next 208\n",
      "2025-04-14 14:22:21.472421: I external/local_tsl/tsl/framework/bfc_allocator.cc:1095] InUse at 7df200d12800 of size 3840 next 207\n",
      "2025-04-14 14:22:21.472426: I external/local_tsl/tsl/framework/bfc_allocator.cc:1095] InUse at 7df200d13700 of size 3840 next 206\n",
      "2025-04-14 14:22:21.472430: I external/local_tsl/tsl/framework/bfc_allocator.cc:1095] InUse at 7df200d14600 of size 3840 next 205\n",
      "2025-04-14 14:22:21.472434: I external/local_tsl/tsl/framework/bfc_allocator.cc:1095] InUse at 7df200d15500 of size 3840 next 204\n",
      "2025-04-14 14:22:21.472438: I external/local_tsl/tsl/framework/bfc_allocator.cc:1095] InUse at 7df200d16400 of size 65280 next 202\n",
      "2025-04-14 14:22:21.472442: I external/local_tsl/tsl/framework/bfc_allocator.cc:1095] InUse at 7df200d26300 of size 65280 next 201\n",
      "2025-04-14 14:22:21.472446: I external/local_tsl/tsl/framework/bfc_allocator.cc:1095] InUse at 7df200d36200 of size 73728 next 200\n",
      "2025-04-14 14:22:21.472450: I external/local_tsl/tsl/framework/bfc_allocator.cc:1095] InUse at 7df200d48200 of size 73728 next 199\n",
      "2025-04-14 14:22:21.472454: I external/local_tsl/tsl/framework/bfc_allocator.cc:1095] InUse at 7df200d5a200 of size 3072 next 211\n",
      "2025-04-14 14:22:21.472458: I external/local_tsl/tsl/framework/bfc_allocator.cc:1095] InUse at 7df200d5ae00 of size 3072 next 212\n",
      "2025-04-14 14:22:21.472463: I external/local_tsl/tsl/framework/bfc_allocator.cc:1095] InUse at 7df200d5ba00 of size 1179648 next 213\n",
      "2025-04-14 14:22:21.472467: I external/local_tsl/tsl/framework/bfc_allocator.cc:1095] InUse at 7df200e7ba00 of size 1179648 next 214\n",
      "2025-04-14 14:22:21.472471: I external/local_tsl/tsl/framework/bfc_allocator.cc:1095] InUse at 7df200f9ba00 of size 1536 next 215\n",
      "2025-04-14 14:22:21.472475: I external/local_tsl/tsl/framework/bfc_allocator.cc:1095] InUse at 7df200f9c000 of size 1536 next 216\n",
      "2025-04-14 14:22:21.472479: I external/local_tsl/tsl/framework/bfc_allocator.cc:1095] InUse at 7df200f9c600 of size 294912 next 217\n",
      "2025-04-14 14:22:21.472483: I external/local_tsl/tsl/framework/bfc_allocator.cc:1095] InUse at 7df200fe4600 of size 294912 next 218\n",
      "2025-04-14 14:22:21.472488: I external/local_tsl/tsl/framework/bfc_allocator.cc:1095] InUse at 7df20102c600 of size 768 next 219\n",
      "2025-04-14 14:22:21.472491: I external/local_tsl/tsl/framework/bfc_allocator.cc:1095] InUse at 7df20102c900 of size 768 next 220\n",
      "2025-04-14 14:22:21.472496: I external/local_tsl/tsl/framework/bfc_allocator.cc:1095] InUse at 7df20102cc00 of size 9216 next 221\n",
      "2025-04-14 14:22:21.472500: I external/local_tsl/tsl/framework/bfc_allocator.cc:1095] InUse at 7df20102f000 of size 9216 next 222\n",
      "2025-04-14 14:22:21.472504: I external/local_tsl/tsl/framework/bfc_allocator.cc:1095] InUse at 7df201031400 of size 256 next 223\n",
      "2025-04-14 14:22:21.472508: I external/local_tsl/tsl/framework/bfc_allocator.cc:1095] InUse at 7df201031500 of size 256 next 224\n",
      "2025-04-14 14:22:21.472512: I external/local_tsl/tsl/framework/bfc_allocator.cc:1095] InUse at 7df201031600 of size 256 next 119\n",
      "2025-04-14 14:22:21.472517: I external/local_tsl/tsl/framework/bfc_allocator.cc:1095] InUse at 7df201031700 of size 256 next 128\n",
      "2025-04-14 14:22:21.472520: I external/local_tsl/tsl/framework/bfc_allocator.cc:1095] InUse at 7df201031800 of size 256 next 230\n",
      "2025-04-14 14:22:21.472525: I external/local_tsl/tsl/framework/bfc_allocator.cc:1095] InUse at 7df201031900 of size 256 next 242\n",
      "2025-04-14 14:22:21.472529: I external/local_tsl/tsl/framework/bfc_allocator.cc:1095] Free  at 7df201031a00 of size 23006464 next 77\n",
      "2025-04-14 14:22:21.472533: I external/local_tsl/tsl/framework/bfc_allocator.cc:1095] InUse at 7df202622700 of size 256 next 87\n",
      "2025-04-14 14:22:21.472536: I external/local_tsl/tsl/framework/bfc_allocator.cc:1095] InUse at 7df202622800 of size 256 next 75\n",
      "2025-04-14 14:22:21.472539: I external/local_tsl/tsl/framework/bfc_allocator.cc:1095] InUse at 7df202622900 of size 256 next 78\n",
      "2025-04-14 14:22:21.472541: I external/local_tsl/tsl/framework/bfc_allocator.cc:1095] InUse at 7df202622a00 of size 256 next 86\n",
      "2025-04-14 14:22:21.472543: I external/local_tsl/tsl/framework/bfc_allocator.cc:1095] InUse at 7df202622b00 of size 581120 next 19\n",
      "2025-04-14 14:22:21.472546: I external/local_tsl/tsl/framework/bfc_allocator.cc:1095] InUse at 7df2026b0900 of size 256 next 37\n",
      "2025-04-14 14:22:21.472547: I external/local_tsl/tsl/framework/bfc_allocator.cc:1095] InUse at 7df2026b0a00 of size 256 next 35\n",
      "2025-04-14 14:22:21.472550: I external/local_tsl/tsl/framework/bfc_allocator.cc:1095] InUse at 7df2026b0b00 of size 146688 next 34\n",
      "2025-04-14 14:22:21.472552: I external/local_tsl/tsl/framework/bfc_allocator.cc:1095] InUse at 7df2026d4800 of size 256 next 59\n",
      "2025-04-14 14:22:21.472554: I external/local_tsl/tsl/framework/bfc_allocator.cc:1095] InUse at 7df2026d4900 of size 256 next 63\n",
      "2025-04-14 14:22:21.472555: I external/local_tsl/tsl/framework/bfc_allocator.cc:1095] InUse at 7df2026d4a00 of size 2048 next 162\n",
      "2025-04-14 14:22:21.472557: I external/local_tsl/tsl/framework/bfc_allocator.cc:1095] InUse at 7df2026d5200 of size 2048 next 11\n",
      "2025-04-14 14:22:21.472559: I external/local_tsl/tsl/framework/bfc_allocator.cc:1095] InUse at 7df2026d5a00 of size 2048 next 124\n",
      "2025-04-14 14:22:21.472561: I external/local_tsl/tsl/framework/bfc_allocator.cc:1095] InUse at 7df2026d6200 of size 2048 next 126\n",
      "2025-04-14 14:22:21.472563: I external/local_tsl/tsl/framework/bfc_allocator.cc:1095] InUse at 7df2026d6a00 of size 2048 next 170\n",
      "2025-04-14 14:22:21.472565: I external/local_tsl/tsl/framework/bfc_allocator.cc:1095] InUse at 7df2026d7200 of size 1024 next 132\n",
      "2025-04-14 14:22:21.472567: I external/local_tsl/tsl/framework/bfc_allocator.cc:1095] InUse at 7df2026d7600 of size 1024 next 28\n",
      "2025-04-14 14:22:21.472569: I external/local_tsl/tsl/framework/bfc_allocator.cc:1095] InUse at 7df2026d7a00 of size 1024 next 152\n",
      "2025-04-14 14:22:21.472571: I external/local_tsl/tsl/framework/bfc_allocator.cc:1095] InUse at 7df2026d7e00 of size 1024 next 289\n",
      "2025-04-14 14:22:21.472573: I external/local_tsl/tsl/framework/bfc_allocator.cc:1095] InUse at 7df2026d8200 of size 1024 next 134\n",
      "2025-04-14 14:22:21.472575: I external/local_tsl/tsl/framework/bfc_allocator.cc:1095] InUse at 7df2026d8600 of size 512 next 307\n",
      "2025-04-14 14:22:21.472577: I external/local_tsl/tsl/framework/bfc_allocator.cc:1095] InUse at 7df2026d8800 of size 512 next 164\n",
      "2025-04-14 14:22:21.472579: I external/local_tsl/tsl/framework/bfc_allocator.cc:1095] InUse at 7df2026d8a00 of size 512 next 158\n",
      "2025-04-14 14:22:21.472581: I external/local_tsl/tsl/framework/bfc_allocator.cc:1095] InUse at 7df2026d8c00 of size 512 next 148\n",
      "2025-04-14 14:22:21.472583: I external/local_tsl/tsl/framework/bfc_allocator.cc:1095] InUse at 7df2026d8e00 of size 512 next 309\n",
      "2025-04-14 14:22:21.472585: I external/local_tsl/tsl/framework/bfc_allocator.cc:1095] InUse at 7df2026d9000 of size 19712 next 57\n",
      "2025-04-14 14:22:21.472587: I external/local_tsl/tsl/framework/bfc_allocator.cc:1095] InUse at 7df2026ddd00 of size 256 next 184\n",
      "2025-04-14 14:22:21.472589: I external/local_tsl/tsl/framework/bfc_allocator.cc:1095] InUse at 7df2026dde00 of size 256 next 185\n",
      "2025-04-14 14:22:21.472591: I external/local_tsl/tsl/framework/bfc_allocator.cc:1095] InUse at 7df2026ddf00 of size 3840 next 290\n",
      "2025-04-14 14:22:21.472593: I external/local_tsl/tsl/framework/bfc_allocator.cc:1095] InUse at 7df2026dee00 of size 3840 next 226\n",
      "2025-04-14 14:22:21.472595: I external/local_tsl/tsl/framework/bfc_allocator.cc:1095] InUse at 7df2026dfd00 of size 4096 next 70\n",
      "2025-04-14 14:22:21.472597: I external/local_tsl/tsl/framework/bfc_allocator.cc:1095] InUse at 7df2026e0d00 of size 256 next 55\n",
      "2025-04-14 14:22:21.472599: I external/local_tsl/tsl/framework/bfc_allocator.cc:1095] InUse at 7df2026e0e00 of size 256 next 45\n",
      "2025-04-14 14:22:21.472601: I external/local_tsl/tsl/framework/bfc_allocator.cc:1095] InUse at 7df2026e0f00 of size 256 next 56\n",
      "2025-04-14 14:22:21.472603: I external/local_tsl/tsl/framework/bfc_allocator.cc:1095] InUse at 7df2026e1000 of size 256 next 54\n",
      "2025-04-14 14:22:21.472605: I external/local_tsl/tsl/framework/bfc_allocator.cc:1095] InUse at 7df2026e1100 of size 460800 next 138\n",
      "2025-04-14 14:22:21.472607: I external/local_tsl/tsl/framework/bfc_allocator.cc:1095] InUse at 7df202751900 of size 460800 next 114\n",
      "2025-04-14 14:22:21.472609: I external/local_tsl/tsl/framework/bfc_allocator.cc:1095] InUse at 7df2027c2100 of size 1336064 next 99\n",
      "2025-04-14 14:22:21.472611: I external/local_tsl/tsl/framework/bfc_allocator.cc:1095] InUse at 7df202908400 of size 256 next 92\n",
      "2025-04-14 14:22:21.472613: I external/local_tsl/tsl/framework/bfc_allocator.cc:1095] InUse at 7df202908500 of size 256 next 95\n",
      "2025-04-14 14:22:21.472615: I external/local_tsl/tsl/framework/bfc_allocator.cc:1095] InUse at 7df202908600 of size 256 next 102\n",
      "2025-04-14 14:22:21.472617: I external/local_tsl/tsl/framework/bfc_allocator.cc:1095] InUse at 7df202908700 of size 256 next 100\n",
      "2025-04-14 14:22:21.472619: I external/local_tsl/tsl/framework/bfc_allocator.cc:1095] InUse at 7df202908800 of size 256 next 104\n",
      "2025-04-14 14:22:21.472621: I external/local_tsl/tsl/framework/bfc_allocator.cc:1095] InUse at 7df202908900 of size 256 next 98\n",
      "2025-04-14 14:22:21.472623: I external/local_tsl/tsl/framework/bfc_allocator.cc:1095] InUse at 7df202908a00 of size 3840 next 122\n",
      "2025-04-14 14:22:21.472625: I external/local_tsl/tsl/framework/bfc_allocator.cc:1095] InUse at 7df202909900 of size 5632 next 101\n",
      "2025-04-14 14:22:21.472627: I external/local_tsl/tsl/framework/bfc_allocator.cc:1095] InUse at 7df20290af00 of size 256 next 105\n",
      "2025-04-14 14:22:21.472629: I external/local_tsl/tsl/framework/bfc_allocator.cc:1095] InUse at 7df20290b000 of size 256 next 88\n",
      "2025-04-14 14:22:21.472631: I external/local_tsl/tsl/framework/bfc_allocator.cc:1095] InUse at 7df20290b100 of size 256 next 21\n",
      "2025-04-14 14:22:21.472633: I external/local_tsl/tsl/framework/bfc_allocator.cc:1095] InUse at 7df20290b200 of size 256 next 107\n",
      "2025-04-14 14:22:21.472635: I external/local_tsl/tsl/framework/bfc_allocator.cc:1095] InUse at 7df20290b300 of size 256 next 108\n",
      "2025-04-14 14:22:21.472637: I external/local_tsl/tsl/framework/bfc_allocator.cc:1095] InUse at 7df20290b400 of size 62438400 next 110\n",
      "2025-04-14 14:22:21.472639: I external/local_tsl/tsl/framework/bfc_allocator.cc:1095] InUse at 7df206497000 of size 85493248 next 180\n",
      "2025-04-14 14:22:21.472641: I external/local_tsl/tsl/framework/bfc_allocator.cc:1095] InUse at 7df20b61f600 of size 256 next 181\n",
      "2025-04-14 14:22:21.472643: I external/local_tsl/tsl/framework/bfc_allocator.cc:1095] InUse at 7df20b61f700 of size 62438400 next 203\n",
      "2025-04-14 14:22:21.472645: I external/local_tsl/tsl/framework/bfc_allocator.cc:1095] InUse at 7df20f1ab300 of size 84183552 next 243\n",
      "2025-04-14 14:22:21.472647: I external/local_tsl/tsl/framework/bfc_allocator.cc:1095] InUse at 7df2141f3d00 of size 42438656 next 140\n",
      "2025-04-14 14:22:21.472649: I external/local_tsl/tsl/framework/bfc_allocator.cc:1095] InUse at 7df216a6cd00 of size 42438656 next 145\n",
      "2025-04-14 14:22:21.472651: I external/local_tsl/tsl/framework/bfc_allocator.cc:1095] InUse at 7df2192e5d00 of size 42438656 next 239\n",
      "2025-04-14 14:22:21.472653: I external/local_tsl/tsl/framework/bfc_allocator.cc:1095] InUse at 7df21bb5ed00 of size 42438656 next 238\n",
      "2025-04-14 14:22:21.472655: I external/local_tsl/tsl/framework/bfc_allocator.cc:1095] InUse at 7df21e3d7d00 of size 42438656 next 240\n",
      "2025-04-14 14:22:21.472657: I external/local_tsl/tsl/framework/bfc_allocator.cc:1095] InUse at 7df220c50d00 of size 42438656 next 241\n",
      "2025-04-14 14:22:21.472659: I external/local_tsl/tsl/framework/bfc_allocator.cc:1095] InUse at 7df2234c9d00 of size 42438656 next 237\n",
      "2025-04-14 14:22:21.472661: I external/local_tsl/tsl/framework/bfc_allocator.cc:1095] InUse at 7df225d42d00 of size 42438656 next 249\n",
      "2025-04-14 14:22:21.472663: I external/local_tsl/tsl/framework/bfc_allocator.cc:1095] InUse at 7df2285bbd00 of size 42438656 next 250\n",
      "2025-04-14 14:22:21.472665: I external/local_tsl/tsl/framework/bfc_allocator.cc:1095] InUse at 7df22ae34d00 of size 42438656 next 248\n",
      "2025-04-14 14:22:21.472667: I external/local_tsl/tsl/framework/bfc_allocator.cc:1095] InUse at 7df22d6add00 of size 42438656 next 247\n",
      "2025-04-14 14:22:21.472669: I external/local_tsl/tsl/framework/bfc_allocator.cc:1095] InUse at 7df22ff26d00 of size 42438656 next 246\n",
      "2025-04-14 14:22:21.472671: I external/local_tsl/tsl/framework/bfc_allocator.cc:1095] Free  at 7df23279fd00 of size 315884288 next 18446744073709551615\n",
      "2025-04-14 14:22:21.472673: I external/local_tsl/tsl/framework/bfc_allocator.cc:1100]      Summary of in-use Chunks by size: \n",
      "2025-04-14 14:22:21.472678: I external/local_tsl/tsl/framework/bfc_allocator.cc:1103] 83 Chunks of size 256 totalling 20.8KiB\n",
      "2025-04-14 14:22:21.472681: I external/local_tsl/tsl/framework/bfc_allocator.cc:1103] 22 Chunks of size 512 totalling 11.0KiB\n",
      "2025-04-14 14:22:21.472683: I external/local_tsl/tsl/framework/bfc_allocator.cc:1103] 3 Chunks of size 768 totalling 2.2KiB\n",
      "2025-04-14 14:22:21.472686: I external/local_tsl/tsl/framework/bfc_allocator.cc:1103] 22 Chunks of size 1024 totalling 22.0KiB\n",
      "2025-04-14 14:22:21.472688: I external/local_tsl/tsl/framework/bfc_allocator.cc:1103] 1 Chunks of size 1280 totalling 1.2KiB\n",
      "2025-04-14 14:22:21.472690: I external/local_tsl/tsl/framework/bfc_allocator.cc:1103] 3 Chunks of size 1536 totalling 4.5KiB\n",
      "2025-04-14 14:22:21.472693: I external/local_tsl/tsl/framework/bfc_allocator.cc:1103] 22 Chunks of size 2048 totalling 44.0KiB\n",
      "2025-04-14 14:22:21.472695: I external/local_tsl/tsl/framework/bfc_allocator.cc:1103] 3 Chunks of size 3072 totalling 9.0KiB\n",
      "2025-04-14 14:22:21.472697: I external/local_tsl/tsl/framework/bfc_allocator.cc:1103] 20 Chunks of size 3840 totalling 75.0KiB\n",
      "2025-04-14 14:22:21.472700: I external/local_tsl/tsl/framework/bfc_allocator.cc:1103] 1 Chunks of size 4096 totalling 4.0KiB\n",
      "2025-04-14 14:22:21.472702: I external/local_tsl/tsl/framework/bfc_allocator.cc:1103] 1 Chunks of size 5632 totalling 5.5KiB\n",
      "2025-04-14 14:22:21.472704: I external/local_tsl/tsl/framework/bfc_allocator.cc:1103] 4 Chunks of size 9216 totalling 36.0KiB\n",
      "2025-04-14 14:22:21.472706: I external/local_tsl/tsl/framework/bfc_allocator.cc:1103] 6 Chunks of size 11520 totalling 67.5KiB\n",
      "2025-04-14 14:22:21.472709: I external/local_tsl/tsl/framework/bfc_allocator.cc:1103] 1 Chunks of size 18688 totalling 18.2KiB\n",
      "2025-04-14 14:22:21.472711: I external/local_tsl/tsl/framework/bfc_allocator.cc:1103] 1 Chunks of size 19712 totalling 19.2KiB\n",
      "2025-04-14 14:22:21.472714: I external/local_tsl/tsl/framework/bfc_allocator.cc:1103] 3 Chunks of size 65280 totalling 191.2KiB\n",
      "2025-04-14 14:22:21.472716: I external/local_tsl/tsl/framework/bfc_allocator.cc:1103] 4 Chunks of size 73728 totalling 288.0KiB\n",
      "2025-04-14 14:22:21.472718: I external/local_tsl/tsl/framework/bfc_allocator.cc:1103] 7 Chunks of size 115200 totalling 787.5KiB\n",
      "2025-04-14 14:22:21.472721: I external/local_tsl/tsl/framework/bfc_allocator.cc:1103] 1 Chunks of size 146688 totalling 143.2KiB\n",
      "2025-04-14 14:22:21.472723: I external/local_tsl/tsl/framework/bfc_allocator.cc:1103] 4 Chunks of size 294912 totalling 1.12MiB\n",
      "2025-04-14 14:22:21.472725: I external/local_tsl/tsl/framework/bfc_allocator.cc:1103] 6 Chunks of size 460800 totalling 2.64MiB\n",
      "2025-04-14 14:22:21.472728: I external/local_tsl/tsl/framework/bfc_allocator.cc:1103] 1 Chunks of size 488960 totalling 477.5KiB\n",
      "2025-04-14 14:22:21.472730: I external/local_tsl/tsl/framework/bfc_allocator.cc:1103] 1 Chunks of size 581120 totalling 567.5KiB\n",
      "2025-04-14 14:22:21.472732: I external/local_tsl/tsl/framework/bfc_allocator.cc:1103] 2 Chunks of size 1179648 totalling 2.25MiB\n",
      "2025-04-14 14:22:21.472734: I external/local_tsl/tsl/framework/bfc_allocator.cc:1103] 1 Chunks of size 1336064 totalling 1.27MiB\n",
      "2025-04-14 14:22:21.472737: I external/local_tsl/tsl/framework/bfc_allocator.cc:1103] 3 Chunks of size 1843200 totalling 5.27MiB\n",
      "2025-04-14 14:22:21.472739: I external/local_tsl/tsl/framework/bfc_allocator.cc:1103] 1 Chunks of size 1848320 totalling 1.76MiB\n",
      "2025-04-14 14:22:21.472741: I external/local_tsl/tsl/framework/bfc_allocator.cc:1103] 1 Chunks of size 1862400 totalling 1.78MiB\n",
      "2025-04-14 14:22:21.472743: I external/local_tsl/tsl/framework/bfc_allocator.cc:1103] 1 Chunks of size 2198528 totalling 2.10MiB\n",
      "2025-04-14 14:22:21.472746: I external/local_tsl/tsl/framework/bfc_allocator.cc:1103] 1 Chunks of size 2656512 totalling 2.53MiB\n",
      "2025-04-14 14:22:21.472748: I external/local_tsl/tsl/framework/bfc_allocator.cc:1103] 1 Chunks of size 2770176 totalling 2.64MiB\n",
      "2025-04-14 14:22:21.472750: I external/local_tsl/tsl/framework/bfc_allocator.cc:1103] 1 Chunks of size 3280896 totalling 3.13MiB\n",
      "2025-04-14 14:22:21.472752: I external/local_tsl/tsl/framework/bfc_allocator.cc:1103] 2 Chunks of size 5203200 totalling 9.92MiB\n",
      "2025-04-14 14:22:21.472755: I external/local_tsl/tsl/framework/bfc_allocator.cc:1103] 1 Chunks of size 6242304 totalling 5.95MiB\n",
      "2025-04-14 14:22:21.472757: I external/local_tsl/tsl/framework/bfc_allocator.cc:1103] 12 Chunks of size 42438656 totalling 485.67MiB\n",
      "2025-04-14 14:22:21.472759: I external/local_tsl/tsl/framework/bfc_allocator.cc:1103] 2 Chunks of size 62438400 totalling 119.09MiB\n",
      "2025-04-14 14:22:21.472762: I external/local_tsl/tsl/framework/bfc_allocator.cc:1103] 1 Chunks of size 73397504 totalling 70.00MiB\n",
      "2025-04-14 14:22:21.472764: I external/local_tsl/tsl/framework/bfc_allocator.cc:1103] 1 Chunks of size 84183552 totalling 80.28MiB\n",
      "2025-04-14 14:22:21.472767: I external/local_tsl/tsl/framework/bfc_allocator.cc:1103] 1 Chunks of size 85493248 totalling 81.53MiB\n",
      "2025-04-14 14:22:21.472769: I external/local_tsl/tsl/framework/bfc_allocator.cc:1107] Sum Total of in-use chunks: 881.68MiB\n",
      "2025-04-14 14:22:21.472772: I external/local_tsl/tsl/framework/bfc_allocator.cc:1109] Total bytes in pool: 1263403008 memory_limit_: 1263403008 available bytes: 0 curr_region_allocation_bytes_: 2526806016\n",
      "2025-04-14 14:22:21.472781: I external/local_tsl/tsl/framework/bfc_allocator.cc:1114] Stats: \n",
      "Limit:                      1263403008\n",
      "InUse:                       924512256\n",
      "MaxInUse:                    924512256\n",
      "NumAllocs:                       13494\n",
      "MaxAllocSize:                 85493248\n",
      "Reserved:                            0\n",
      "PeakReserved:                        0\n",
      "LargestFreeBlock:                    0\n",
      "\n",
      "2025-04-14 14:22:21.472794: W external/local_tsl/tsl/framework/bfc_allocator.cc:494] **********_***********x****************************************************_________________________\n",
      "2025-04-14 14:22:21.472821: W tensorflow/core/framework/op_kernel.cc:1840] OP_REQUIRES failed at pack_op.cc:81 : RESOURCE_EXHAUSTED: OOM when allocating tensor with shape[7830,12,1355] and type float on /job:localhost/replica:0/task:0/device:GPU:0 by allocator GPU_0_bfc\n",
      "2025-04-14 14:22:21.472842: I tensorflow/core/framework/local_rendezvous.cc:404] Local rendezvous is aborting with status: RESOURCE_EXHAUSTED: OOM when allocating tensor with shape[7830,12,1355] and type float on /job:localhost/replica:0/task:0/device:GPU:0 by allocator GPU_0_bfc\n",
      "Traceback (most recent call last):\n",
      "  File \"/opt/conda/lib/python3.10/site-packages/keras_tuner/src/engine/base_tuner.py\", line 274, in _try_run_and_update_trial\n",
      "    self._run_and_update_trial(trial, *fit_args, **fit_kwargs)\n",
      "  File \"/opt/conda/lib/python3.10/site-packages/keras_tuner/src/engine/base_tuner.py\", line 239, in _run_and_update_trial\n",
      "    results = self.run_trial(trial, *fit_args, **fit_kwargs)\n",
      "  File \"/opt/conda/lib/python3.10/site-packages/keras_tuner/src/engine/tuner.py\", line 314, in run_trial\n",
      "    obj_value = self._build_and_fit_model(trial, *args, **copied_kwargs)\n",
      "  File \"/opt/conda/lib/python3.10/site-packages/keras_tuner/src/engine/tuner.py\", line 233, in _build_and_fit_model\n",
      "    results = self.hypermodel.fit(hp, model, *args, **kwargs)\n",
      "  File \"/opt/conda/lib/python3.10/site-packages/asmsa/aae_hyper_model.py\", line 212, in fit\n",
      "    super().fit(hp, model, train, callbacks=callbacks + [logcb], **kwargs)\n",
      "  File \"/opt/conda/lib/python3.10/site-packages/keras_tuner/src/engine/hypermodel.py\", line 149, in fit\n",
      "    return model.fit(*args, **kwargs)\n",
      "  File \"/opt/conda/lib/python3.10/site-packages/keras/src/utils/traceback_utils.py\", line 122, in error_handler\n",
      "    raise e.with_traceback(filtered_tb) from None\n",
      "  File \"/opt/conda/lib/python3.10/site-packages/asmsa/aae_hyper_model.py\", line 89, in on_train_begin\n",
      "    self.multibatch = tf.stack([self.valdata]*self.model.n_models,axis=1)\n",
      "tensorflow.python.framework.errors_impl.ResourceExhaustedError: {{function_node __wrapped__Pack_N_12_device_/job:localhost/replica:0/task:0/device:GPU:0}} OOM when allocating tensor with shape[7830,12,1355] and type float on /job:localhost/replica:0/task:0/device:GPU:0 by allocator GPU_0_bfc [Op:Pack] name: stack\n"
     ]
    },
    {
     "ename": "RuntimeError",
     "evalue": "Number of consecutive failures exceeded the limit of 3.\nTraceback (most recent call last):\n  File \"/opt/conda/lib/python3.10/site-packages/keras_tuner/src/engine/base_tuner.py\", line 274, in _try_run_and_update_trial\n    self._run_and_update_trial(trial, *fit_args, **fit_kwargs)\n  File \"/opt/conda/lib/python3.10/site-packages/keras_tuner/src/engine/base_tuner.py\", line 239, in _run_and_update_trial\n    results = self.run_trial(trial, *fit_args, **fit_kwargs)\n  File \"/opt/conda/lib/python3.10/site-packages/keras_tuner/src/engine/tuner.py\", line 314, in run_trial\n    obj_value = self._build_and_fit_model(trial, *args, **copied_kwargs)\n  File \"/opt/conda/lib/python3.10/site-packages/keras_tuner/src/engine/tuner.py\", line 233, in _build_and_fit_model\n    results = self.hypermodel.fit(hp, model, *args, **kwargs)\n  File \"/opt/conda/lib/python3.10/site-packages/asmsa/aae_hyper_model.py\", line 212, in fit\n    super().fit(hp, model, train, callbacks=callbacks + [logcb], **kwargs)\n  File \"/opt/conda/lib/python3.10/site-packages/keras_tuner/src/engine/hypermodel.py\", line 149, in fit\n    return model.fit(*args, **kwargs)\n  File \"/opt/conda/lib/python3.10/site-packages/keras/src/utils/traceback_utils.py\", line 122, in error_handler\n    raise e.with_traceback(filtered_tb) from None\n  File \"/opt/conda/lib/python3.10/site-packages/asmsa/aae_hyper_model.py\", line 89, in on_train_begin\n    self.multibatch = tf.stack([self.valdata]*self.model.n_models,axis=1)\ntensorflow.python.framework.errors_impl.ResourceExhaustedError: {{function_node __wrapped__Pack_N_12_device_/job:localhost/replica:0/task:0/device:GPU:0}} OOM when allocating tensor with shape[7830,12,1355] and type float on /job:localhost/replica:0/task:0/device:GPU:0 by allocator GPU_0_bfc [Op:Pack] name: stack\n",
     "output_type": "error",
     "traceback": [
      "\u001b[0;31m---------------------------------------------------------------------------\u001b[0m",
      "\u001b[0;31mRuntimeError\u001b[0m                              Traceback (most recent call last)",
      "Cell \u001b[0;32mIn[12], line 1\u001b[0m\n\u001b[0;32m----> 1\u001b[0m \u001b[43mtuner\u001b[49m\u001b[38;5;241;43m.\u001b[39;49m\u001b[43msearch\u001b[49m\u001b[43m(\u001b[49m\u001b[43mtrain\u001b[49m\u001b[38;5;241;43m=\u001b[39;49m\u001b[43mX_train_np\u001b[49m\u001b[43m,\u001b[49m\u001b[43mvalidation\u001b[49m\u001b[38;5;241;43m=\u001b[39;49m\u001b[43mX_validate_np\u001b[49m\u001b[43m,\u001b[49m\u001b[43mepochs\u001b[49m\u001b[38;5;241;43m=\u001b[39;49m\u001b[43mepochs\u001b[49m\u001b[43m,\u001b[49m\u001b[43mverbose\u001b[49m\u001b[38;5;241;43m=\u001b[39;49m\u001b[38;5;241;43m2\u001b[39;49m\u001b[43m)\u001b[49m\n",
      "File \u001b[0;32m/opt/conda/lib/python3.10/site-packages/keras_tuner/src/engine/base_tuner.py:235\u001b[0m, in \u001b[0;36mBaseTuner.search\u001b[0;34m(self, *fit_args, **fit_kwargs)\u001b[0m\n\u001b[1;32m    233\u001b[0m     \u001b[38;5;28mself\u001b[39m\u001b[38;5;241m.\u001b[39mon_trial_begin(trial)\n\u001b[1;32m    234\u001b[0m     \u001b[38;5;28mself\u001b[39m\u001b[38;5;241m.\u001b[39m_try_run_and_update_trial(trial, \u001b[38;5;241m*\u001b[39mfit_args, \u001b[38;5;241m*\u001b[39m\u001b[38;5;241m*\u001b[39mfit_kwargs)\n\u001b[0;32m--> 235\u001b[0m     \u001b[38;5;28;43mself\u001b[39;49m\u001b[38;5;241;43m.\u001b[39;49m\u001b[43mon_trial_end\u001b[49m\u001b[43m(\u001b[49m\u001b[43mtrial\u001b[49m\u001b[43m)\u001b[49m\n\u001b[1;32m    236\u001b[0m \u001b[38;5;28mself\u001b[39m\u001b[38;5;241m.\u001b[39mon_search_end()\n",
      "File \u001b[0;32m/opt/conda/lib/python3.10/site-packages/keras_tuner/src/engine/base_tuner.py:339\u001b[0m, in \u001b[0;36mBaseTuner.on_trial_end\u001b[0;34m(self, trial)\u001b[0m\n\u001b[1;32m    333\u001b[0m \u001b[38;5;28;01mdef\u001b[39;00m \u001b[38;5;21mon_trial_end\u001b[39m(\u001b[38;5;28mself\u001b[39m, trial):\n\u001b[1;32m    334\u001b[0m \u001b[38;5;250m    \u001b[39m\u001b[38;5;124;03m\"\"\"Called at the end of a trial.\u001b[39;00m\n\u001b[1;32m    335\u001b[0m \n\u001b[1;32m    336\u001b[0m \u001b[38;5;124;03m    Args:\u001b[39;00m\n\u001b[1;32m    337\u001b[0m \u001b[38;5;124;03m        trial: A `Trial` instance.\u001b[39;00m\n\u001b[1;32m    338\u001b[0m \u001b[38;5;124;03m    \"\"\"\u001b[39;00m\n\u001b[0;32m--> 339\u001b[0m     \u001b[38;5;28;43mself\u001b[39;49m\u001b[38;5;241;43m.\u001b[39;49m\u001b[43moracle\u001b[49m\u001b[38;5;241;43m.\u001b[39;49m\u001b[43mend_trial\u001b[49m\u001b[43m(\u001b[49m\u001b[43mtrial\u001b[49m\u001b[43m)\u001b[49m\n\u001b[1;32m    340\u001b[0m     \u001b[38;5;28mself\u001b[39m\u001b[38;5;241m.\u001b[39msave()\n",
      "File \u001b[0;32m/opt/conda/lib/python3.10/site-packages/keras_tuner/src/engine/oracle.py:108\u001b[0m, in \u001b[0;36msynchronized.<locals>.wrapped_func\u001b[0;34m(*args, **kwargs)\u001b[0m\n\u001b[1;32m    106\u001b[0m     LOCKS[oracle]\u001b[38;5;241m.\u001b[39macquire()\n\u001b[1;32m    107\u001b[0m     THREADS[oracle] \u001b[38;5;241m=\u001b[39m thread_name\n\u001b[0;32m--> 108\u001b[0m ret_val \u001b[38;5;241m=\u001b[39m \u001b[43mfunc\u001b[49m\u001b[43m(\u001b[49m\u001b[38;5;241;43m*\u001b[39;49m\u001b[43margs\u001b[49m\u001b[43m,\u001b[49m\u001b[43m \u001b[49m\u001b[38;5;241;43m*\u001b[39;49m\u001b[38;5;241;43m*\u001b[39;49m\u001b[43mkwargs\u001b[49m\u001b[43m)\u001b[49m\n\u001b[1;32m    109\u001b[0m \u001b[38;5;28;01mif\u001b[39;00m need_acquire:\n\u001b[1;32m    110\u001b[0m     THREADS[oracle] \u001b[38;5;241m=\u001b[39m \u001b[38;5;28;01mNone\u001b[39;00m\n",
      "File \u001b[0;32m/opt/conda/lib/python3.10/site-packages/keras_tuner/src/engine/oracle.py:588\u001b[0m, in \u001b[0;36mOracle.end_trial\u001b[0;34m(self, trial)\u001b[0m\n\u001b[1;32m    586\u001b[0m \u001b[38;5;28;01mif\u001b[39;00m \u001b[38;5;129;01mnot\u001b[39;00m \u001b[38;5;28mself\u001b[39m\u001b[38;5;241m.\u001b[39m_retry(trial):\n\u001b[1;32m    587\u001b[0m     \u001b[38;5;28mself\u001b[39m\u001b[38;5;241m.\u001b[39mend_order\u001b[38;5;241m.\u001b[39mappend(trial\u001b[38;5;241m.\u001b[39mtrial_id)\n\u001b[0;32m--> 588\u001b[0m     \u001b[38;5;28;43mself\u001b[39;49m\u001b[38;5;241;43m.\u001b[39;49m\u001b[43m_check_consecutive_failures\u001b[49m\u001b[43m(\u001b[49m\u001b[43m)\u001b[49m\n\u001b[1;32m    590\u001b[0m \u001b[38;5;28mself\u001b[39m\u001b[38;5;241m.\u001b[39m_save_trial(trial)\n\u001b[1;32m    591\u001b[0m \u001b[38;5;28mself\u001b[39m\u001b[38;5;241m.\u001b[39msave()\n",
      "File \u001b[0;32m/opt/conda/lib/python3.10/site-packages/keras_tuner/src/engine/oracle.py:545\u001b[0m, in \u001b[0;36mOracle._check_consecutive_failures\u001b[0;34m(self)\u001b[0m\n\u001b[1;32m    543\u001b[0m     consecutive_failures \u001b[38;5;241m=\u001b[39m \u001b[38;5;241m0\u001b[39m\n\u001b[1;32m    544\u001b[0m \u001b[38;5;28;01mif\u001b[39;00m consecutive_failures \u001b[38;5;241m==\u001b[39m \u001b[38;5;28mself\u001b[39m\u001b[38;5;241m.\u001b[39mmax_consecutive_failed_trials:\n\u001b[0;32m--> 545\u001b[0m     \u001b[38;5;28;01mraise\u001b[39;00m \u001b[38;5;167;01mRuntimeError\u001b[39;00m(\n\u001b[1;32m    546\u001b[0m         \u001b[38;5;124m\"\u001b[39m\u001b[38;5;124mNumber of consecutive failures exceeded the limit \u001b[39m\u001b[38;5;124m\"\u001b[39m\n\u001b[1;32m    547\u001b[0m         \u001b[38;5;124mf\u001b[39m\u001b[38;5;124m\"\u001b[39m\u001b[38;5;124mof \u001b[39m\u001b[38;5;132;01m{\u001b[39;00m\u001b[38;5;28mself\u001b[39m\u001b[38;5;241m.\u001b[39mmax_consecutive_failed_trials\u001b[38;5;132;01m}\u001b[39;00m\u001b[38;5;124m.\u001b[39m\u001b[38;5;130;01m\\n\u001b[39;00m\u001b[38;5;124m\"\u001b[39m\n\u001b[1;32m    548\u001b[0m         \u001b[38;5;241m+\u001b[39m (trial\u001b[38;5;241m.\u001b[39mmessage \u001b[38;5;129;01mor\u001b[39;00m \u001b[38;5;124m\"\u001b[39m\u001b[38;5;124m\"\u001b[39m)\n\u001b[1;32m    549\u001b[0m     )\n",
      "\u001b[0;31mRuntimeError\u001b[0m: Number of consecutive failures exceeded the limit of 3.\nTraceback (most recent call last):\n  File \"/opt/conda/lib/python3.10/site-packages/keras_tuner/src/engine/base_tuner.py\", line 274, in _try_run_and_update_trial\n    self._run_and_update_trial(trial, *fit_args, **fit_kwargs)\n  File \"/opt/conda/lib/python3.10/site-packages/keras_tuner/src/engine/base_tuner.py\", line 239, in _run_and_update_trial\n    results = self.run_trial(trial, *fit_args, **fit_kwargs)\n  File \"/opt/conda/lib/python3.10/site-packages/keras_tuner/src/engine/tuner.py\", line 314, in run_trial\n    obj_value = self._build_and_fit_model(trial, *args, **copied_kwargs)\n  File \"/opt/conda/lib/python3.10/site-packages/keras_tuner/src/engine/tuner.py\", line 233, in _build_and_fit_model\n    results = self.hypermodel.fit(hp, model, *args, **kwargs)\n  File \"/opt/conda/lib/python3.10/site-packages/asmsa/aae_hyper_model.py\", line 212, in fit\n    super().fit(hp, model, train, callbacks=callbacks + [logcb], **kwargs)\n  File \"/opt/conda/lib/python3.10/site-packages/keras_tuner/src/engine/hypermodel.py\", line 149, in fit\n    return model.fit(*args, **kwargs)\n  File \"/opt/conda/lib/python3.10/site-packages/keras/src/utils/traceback_utils.py\", line 122, in error_handler\n    raise e.with_traceback(filtered_tb) from None\n  File \"/opt/conda/lib/python3.10/site-packages/asmsa/aae_hyper_model.py\", line 89, in on_train_begin\n    self.multibatch = tf.stack([self.valdata]*self.model.n_models,axis=1)\ntensorflow.python.framework.errors_impl.ResourceExhaustedError: {{function_node __wrapped__Pack_N_12_device_/job:localhost/replica:0/task:0/device:GPU:0}} OOM when allocating tensor with shape[7830,12,1355] and type float on /job:localhost/replica:0/task:0/device:GPU:0 by allocator GPU_0_bfc [Op:Pack] name: stack\n"
     ]
    }
   ],
   "source": [
    "tuner.search(train=X_train_np,validation=X_validate_np,epochs=epochs,verbose=2)"
   ]
  },
  {
   "cell_type": "code",
   "execution_count": null,
   "id": "df31d980-e476-4956-9151-66d4433c3fa6",
   "metadata": {
    "tags": []
   },
   "outputs": [],
   "source": [
    "from asmsa.tuning_analyzer import TuningAnalyzer\n",
    "\n",
    "# Create analyzer object that analyses results of tuning\n",
    "# By default it is the latest tuning, but can by choosen with tuning flag,\n",
    "#  e.g TuningAnalyzer(tuning='analysis/05092023-135249')\n",
    "analyzer = TuningAnalyzer()"
   ]
  },
  {
   "cell_type": "code",
   "execution_count": null,
   "id": "21acdf17-9123-44ff-8b30-12c3115064ca",
   "metadata": {
    "tags": []
   },
   "outputs": [],
   "source": [
    "# Get sorted hyperparameters by score, by default 10 best HP, for different number:\n",
    "#  analyzer.get_best_hp(num_trials=3)\n",
    "analyzer.get_best_hp()"
   ]
  },
  {
   "cell_type": "code",
   "execution_count": null,
   "id": "9a540e35-2d13-44b2-bc14-86427ded9338",
   "metadata": {
    "tags": []
   },
   "outputs": [],
   "source": [
    "# Matplotlib visualization - not recommended way, does not look that good and does not scale \n",
    "#  that well but at least the colors are consistent accross measures. After more work could look better\n",
    "# - By default visualizing best 10 trials\n",
    "# - Can specify only one specific trial... analyzer.visualize_tuning(trial='15d9fa928a7517004bcb28771bb6e5f17ad66dd7013c6aa1572a84773d91393c')\n",
    "# - Can specify number of best trials to be visualized... analyzer.visualize_tuning(num_trials=3)\n",
    "analyzer.visualize_tuning()"
   ]
  },
  {
   "cell_type": "code",
   "execution_count": null,
   "id": "2829d890-6ab3-490a-b6d4-308ad809492a",
   "metadata": {
    "tags": []
   },
   "outputs": [],
   "source": [
    "# Recommended option via Tensorboard. This function populates TB event\n",
    "#  which can be viewed in native way via Tensorboard. \n",
    "# May not work in all Jupyterhub setups, though.\n",
    "\n",
    "# By default it chooses latest tuning and populates into its directory _TB, e.g: analysis/05092023-135249/_TB\n",
    "# - Can override directory where to populate... analyzer.populate_TB(out_dir='MyTBeventDir')\n",
    "# - Can choose only specific trials via list... analyzer.populate_TB(trials=['15d9fa928a7517004bcb28771bb6e5f17ad66dd7013c6aa1572a84773d91393c']),\n",
    "# - Can select how many best trials to be visualized... analyzer.populate_TB(num_trials=3)\n",
    "analyzer.populate_TB(num_trials=3)"
   ]
  },
  {
   "cell_type": "code",
   "execution_count": null,
   "id": "01cd9b4a-f5cd-4627-b379-51836ae3f9ea",
   "metadata": {
    "tags": []
   },
   "outputs": [],
   "source": [
    "%load_ext tensorboard\n",
    "%tensorboard --logdir analysis"
   ]
  },
  {
   "cell_type": "markdown",
   "id": "b7401d7d-35b1-43db-9446-7f1e3714994a",
   "metadata": {},
   "source": [
    "## Parallel hyperparameter tuning\n",
    "\n",
    "**BROKEN**, ignore the rest of this notebook for the time being"
   ]
  },
  {
   "cell_type": "code",
   "execution_count": null,
   "id": "88e992cd-368e-4162-9eeb-8295b9478e15",
   "metadata": {
    "tags": []
   },
   "outputs": [],
   "source": [
    "# Finally, this is the real stuff\n",
    "# medium settings known to be working for trpcage\n",
    "\n",
    "epochs=15\n",
    "trials=3\n",
    "hp=medium_hp\n",
    "\n",
    "# testing only\n",
    "#epochs=8\n",
    "#trials=6\n",
    "#hp=tiny_hp"
   ]
  },
  {
   "cell_type": "code",
   "execution_count": null,
   "id": "7e1ee1d0-ae41-4e3c-91de-9910eca8b3c6",
   "metadata": {
    "tags": []
   },
   "outputs": [],
   "source": [
    "# number of parallel workers, each runs a single trial at time\n",
    "# balance between resource availability and size of the problem\n",
    "# currently each slave runs on 4 cores and 4 GB RAM (hardcoded in src/asmsa/tunewrapper.py)\n",
    "\n",
    "slaves=3"
   ]
  },
  {
   "cell_type": "code",
   "execution_count": null,
   "id": "775255db-6e7e-4042-9e29-4a6a38705459",
   "metadata": {
    "tags": []
   },
   "outputs": [],
   "source": [
    "# XXX: Kubernetes magic: find out names of container image and volume\n",
    "# check the result, it can go wrong\n",
    "\n",
    "with open('IMAGE') as img:\n",
    "    image=img.read().rstrip()\n",
    "\n",
    "import re\n",
    "mnt=os.popen('mount | grep /home/jovyan').read()\n",
    "pvcid=re.search('pvc-[0-9a-z-]+',mnt).group(0)\n",
    "pvc=os.popen(f'kubectl get pvc | grep {pvcid} | cut -f1 -d\" \"').read().rstrip()\n",
    "\n",
    "print(f\"\"\"\\\n",
    "image: {image}\n",
    "volume: {pvc}\n",
    "\"\"\")"
   ]
  },
  {
   "cell_type": "code",
   "execution_count": null,
   "id": "2d954868-09bd-427a-ae6a-4334c6ab55d1",
   "metadata": {
    "tags": []
   },
   "outputs": [],
   "source": [
    "# Python wrapper around scripts that prepare and execute parellel Keras Tuner in Kubernetes\n",
    "from asmsa.tunewrapper import TuneWrapper\n",
    "\n",
    "wrapper = TuneWrapper(ds=X_validate_np,hp=hp,output=datetime.today().strftime(\"%m%d%Y-%H%M%S\"),epochs=epochs,trials=trials,pdb=conf,top=topol,xtc=traj,ndx=index, pvc=pvc)"
   ]
  },
  {
   "cell_type": "code",
   "execution_count": null,
   "id": "153d894e-b03f-490a-8c8d-cd5310ab2ab8",
   "metadata": {
    "tags": []
   },
   "outputs": [],
   "source": [
    "# Necessary but destructive cleanup before hyperparameter tuning\n",
    "\n",
    "# DON'T RUN THIS CELL BLINDLY\n",
    "# it kills any running processes including the workers, and it purges previous results\n",
    "\n",
    "!kubectl delete job/tuner\n",
    "!kill $(ps ax | grep tuning.py | awk '{print $1}')\n",
    "!rm -rf results"
   ]
  },
  {
   "cell_type": "code",
   "execution_count": null,
   "id": "666446de-eb9f-487e-860a-6efadd2ae065",
   "metadata": {
    "tags": []
   },
   "outputs": [],
   "source": [
    "# start the master (chief) of tuners in background\n",
    "# the computation takes rather long, this is a more robust approach then keeping it in the notebook\n",
    "\n",
    "wrapper.master_start()"
   ]
  },
  {
   "cell_type": "code",
   "execution_count": null,
   "id": "f576a47a-23c6-46b8-b0ba-d184e8598390",
   "metadata": {
    "tags": []
   },
   "outputs": [],
   "source": [
    "# therefore one should check the status ocassionally; it should show a tuning.py process running\n",
    "print(wrapper.master_status())"
   ]
  },
  {
   "cell_type": "code",
   "execution_count": null,
   "id": "3cb5eb38-fb24-4236-8349-7f694bea3f3e",
   "metadata": {
    "tags": []
   },
   "outputs": [],
   "source": [
    "# spawn the requested number of workers as separate Kubernetes job with several pods \n",
    "# they receive work from \n",
    "\n",
    "wrapper.workers_start(num=slaves)"
   ]
  },
  {
   "cell_type": "code",
   "execution_count": null,
   "id": "3f752369-13d2-4ed0-be1e-115b446dc35c",
   "metadata": {
    "tags": []
   },
   "outputs": [],
   "source": [
    "# This status should show {slaves} number of pods, all of them start in Pending state, and follow through ContainerCreating \n",
    "# to Running, and Completed finally\n",
    "\n",
    "# This takes time, minutes to hours depending on size of the model, number of trials, and number of slaves\n",
    "# Run this cell repeatedly, waiting until all the pods are completed\n",
    "\n",
    "wrapper.workers_status()"
   ]
  },
  {
   "cell_type": "code",
   "execution_count": null,
   "id": "5ec269b7-0096-4861-9c86-3e7f87bce9f9",
   "metadata": {
    "tags": []
   },
   "outputs": [],
   "source": [
    "# Same steps for analysis as with serial tuning\n",
    "analyzer = TuningAnalyzer()\n",
    "analyzer.get_best_hp()"
   ]
  },
  {
   "cell_type": "code",
   "execution_count": null,
   "id": "4536d3cf-109b-4719-a88f-42031becd2b2",
   "metadata": {
    "tags": []
   },
   "outputs": [],
   "source": [
    "# We can choose output dir for TB event this time\n",
    "out = 'dist_tuning'\n",
    "\n",
    "analyzer.populate_TB(out_dir=out)"
   ]
  },
  {
   "cell_type": "code",
   "execution_count": null,
   "id": "1683eb5f-6d7e-4b02-89f5-ea6f7c8b0130",
   "metadata": {
    "tags": []
   },
   "outputs": [],
   "source": [
    "# Might need to kill previous tensorboard instance to change logdir\n",
    "!pkill -f 'tensorboard'\n",
    "\n",
    "%load_ext tensorboard\n",
    "%tensorboard --logdir $out"
   ]
  },
  {
   "cell_type": "code",
   "execution_count": null,
   "id": "f22452d5-a5ac-4ccf-8231-c9b1a2835613",
   "metadata": {},
   "outputs": [],
   "source": []
  }
 ],
 "metadata": {
  "kernelspec": {
   "display_name": "Python 3 (ipykernel)",
   "language": "python",
   "name": "python3"
  },
  "language_info": {
   "codemirror_mode": {
    "name": "ipython",
    "version": 3
   },
   "file_extension": ".py",
   "mimetype": "text/x-python",
   "name": "python",
   "nbconvert_exporter": "python",
   "pygments_lexer": "ipython3",
   "version": "3.10.11"
  }
 },
 "nbformat": 4,
 "nbformat_minor": 5
}
