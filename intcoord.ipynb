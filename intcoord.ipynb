{
 "cells": [
  {
   "cell_type": "code",
   "execution_count": null,
   "id": "0e18308e-4ec8-49ed-b9e8-26da077321ca",
   "metadata": {},
   "outputs": [],
   "source": [
    "import asmsa\n",
    "import mdtraj as md\n",
    "import nglview as nv\n",
    "import numpy as np\n",
    "from tensorflow.keras.saving import load_model\n",
    "import torch\n",
    "import gromacs as gmx\n",
    "from gromacs import formats as gmf\n",
    "import matplotlib.pyplot as plt"
   ]
  },
  {
   "cell_type": "code",
   "execution_count": null,
   "id": "c35332a9-d80f-400c-9e07-7d7bfd0a5045",
   "metadata": {},
   "outputs": [],
   "source": [
    "exec(open('inputs.py').read())"
   ]
  },
  {
   "cell_type": "code",
   "execution_count": null,
   "id": "e0d61813-e6b2-4bce-aadb-2565e06715fb",
   "metadata": {},
   "outputs": [],
   "source": [
    "test_tr = md.load('test.xtc',top=conf)\n",
    "train_tr = md.load('train.xtc',top=conf)"
   ]
  },
  {
   "cell_type": "code",
   "execution_count": null,
   "id": "e01a9335-af5e-4566-a507-95f990d9ad81",
   "metadata": {},
   "outputs": [],
   "source": [
    "test_g = np.moveaxis(test_tr.xyz,0,-1)\n",
    "train_g = np.moveaxis(train_tr.xyz,0,-1)"
   ]
  },
  {
   "cell_type": "code",
   "execution_count": null,
   "id": "d3623457-84d9-48aa-87aa-c4a85747325c",
   "metadata": {},
   "outputs": [],
   "source": [
    "sparse_dists = asmsa.NBDistancesSparse(train_g.shape[0], density=2)\n",
    "mol = asmsa.Molecule(pdb=conf,top=topol,ndx=index,fms=[sparse_dists])"
   ]
  },
  {
   "cell_type": "code",
   "execution_count": null,
   "id": "a241db57-568c-44b8-b87e-33599e424ef0",
   "metadata": {},
   "outputs": [],
   "source": [
    "with open('dih4.ndx','w') as a:\n",
    "    a.write('[ dihedrals ]\\n')\n",
    "    for d in mol.dihed4+1:\n",
    "        a.write('  '.join(map(str,d)))\n",
    "        a.write('\\n')"
   ]
  },
  {
   "cell_type": "code",
   "execution_count": null,
   "id": "65403f21-1974-4982-b5e6-5487e0e77d8e",
   "metadata": {},
   "outputs": [],
   "source": [
    "gmx.gangle(f='test.xtc',n='dih4.ndx',g1='dihedral',group1='dihedrals',oall='dih4.xvg')"
   ]
  },
  {
   "cell_type": "code",
   "execution_count": null,
   "id": "8498d69f-995c-4cf6-9a24-cfed00daf61a",
   "metadata": {},
   "outputs": [],
   "source": [
    "dihs = gmf.XVG('dih4.xvg').array[1:] * np.pi / 180."
   ]
  },
  {
   "cell_type": "code",
   "execution_count": null,
   "id": "873b9230-e8a3-4504-8545-b80c6a74280c",
   "metadata": {},
   "outputs": [],
   "source": [
    "dihs.shape"
   ]
  },
  {
   "cell_type": "code",
   "execution_count": null,
   "id": "9368d526-da85-43f2-9c4e-4edc6760a006",
   "metadata": {},
   "outputs": [],
   "source": [
    "ic = mol.intcoord(test_g)\n",
    "ic.shape"
   ]
  },
  {
   "cell_type": "code",
   "execution_count": null,
   "id": "be702ee3-b92d-4e44-8c6d-1d5b0aa5a71e",
   "metadata": {},
   "outputs": [],
   "source": [
    "off = mol.angles.shape[0]+mol.bonds.shape[0]\n",
    "ndih4 = mol.dihed4.shape[0]"
   ]
  },
  {
   "cell_type": "code",
   "execution_count": null,
   "id": "6918d5e1-8f1c-4933-8dff-fe02cd776d89",
   "metadata": {},
   "outputs": [],
   "source": [
    "ic[off]"
   ]
  },
  {
   "cell_type": "code",
   "execution_count": null,
   "id": "032d4687-fa3b-462e-a0f9-e23d97da7c7d",
   "metadata": {},
   "outputs": [],
   "source": [
    "a = 27\n",
    "plt.plot(np.sin(dihs[a])[::100],label='gmx sin')\n",
    "plt.plot(ic[a+off][::100],label='ic sin')\n",
    "\n",
    "plt.legend()\n",
    "plt.show()"
   ]
  },
  {
   "cell_type": "code",
   "execution_count": null,
   "id": "409032ae-61e5-46c5-9935-0f2987c2c54b",
   "metadata": {},
   "outputs": [],
   "source": [
    "plt.plot(np.cos(dihs[a])[::100],label='gmx cos')\n",
    "plt.plot(ic[a+off+ndih4][::100],label='ic cos')\n",
    "plt.legend()\n",
    "plt.show()"
   ]
  },
  {
   "cell_type": "code",
   "execution_count": null,
   "id": "f5a94c98-7842-453f-bbbf-9112cd4c1fa4",
   "metadata": {},
   "outputs": [],
   "source": [
    "dih_ic = np.arctan2(ic[off:off+ndih4],ic[off+ndih4:off+2*ndih4])"
   ]
  },
  {
   "cell_type": "code",
   "execution_count": null,
   "id": "432d8088-6dff-4ee6-a95e-93a04b05093e",
   "metadata": {},
   "outputs": [],
   "source": [
    "diff = dihs - dih_ic\n",
    "diff[diff >= 2*np.pi] -= 2*np.pi\n",
    "diff[diff <= -2*np.pi] += 2*np.pi"
   ]
  },
  {
   "cell_type": "code",
   "execution_count": null,
   "id": "fd0e9e22-42fa-4106-b005-5dca6053b853",
   "metadata": {},
   "outputs": [],
   "source": [
    "np.max(np.abs(diff))"
   ]
  },
  {
   "cell_type": "code",
   "execution_count": null,
   "id": "9c24e9be-f2d4-4357-929a-2b7a742a2e93",
   "metadata": {},
   "outputs": [],
   "source": [
    "with open('angle.ndx','w') as a:\n",
    "    a.write('[ angles ]\\n')\n",
    "    for d in mol.angles + 1:\n",
    "        a.write('  '.join(map(str,d)))\n",
    "        a.write('\\n')"
   ]
  },
  {
   "cell_type": "code",
   "execution_count": null,
   "id": "eb090cd0-42bb-4e91-8c5e-2515bb0a3959",
   "metadata": {},
   "outputs": [],
   "source": [
    "gmx.gangle(f='test.xtc',n='angle.ndx',g1='angle',group1='angles',oall='angles.xvg')"
   ]
  },
  {
   "cell_type": "code",
   "execution_count": null,
   "id": "e7b0627a-a819-4759-af5f-8e1a3f1d5782",
   "metadata": {},
   "outputs": [],
   "source": [
    "angles = gmf.XVG('angles.xvg').array[1:] * np.pi / 180."
   ]
  },
  {
   "cell_type": "code",
   "execution_count": null,
   "id": "667a90e5-5e23-4e71-abe8-fe2413c40ed2",
   "metadata": {},
   "outputs": [],
   "source": [
    "aoff = mol.bonds.shape[0]"
   ]
  },
  {
   "cell_type": "code",
   "execution_count": null,
   "id": "4e97aca2-2551-4b08-bdec-030f601acd9b",
   "metadata": {},
   "outputs": [],
   "source": [
    "a = 28\n",
    "plt.plot(np.cos(angles[a])[::100],label='gmx cos')\n",
    "plt.plot(ic[a+aoff][::100],label='ic cos')\n",
    "\n",
    "plt.legend()\n",
    "plt.show()"
   ]
  },
  {
   "cell_type": "code",
   "execution_count": null,
   "id": "eec22136-5fca-461a-93f3-6510902f0276",
   "metadata": {},
   "outputs": [],
   "source": [
    "np.unique(mol.angles,axis=0).shape, mol.angles.shape"
   ]
  },
  {
   "cell_type": "code",
   "execution_count": null,
   "id": "49a38130-63ec-4a54-80c5-71a2fabc8965",
   "metadata": {},
   "outputs": [],
   "source": [
    "np.unique(mol.dihed4,axis=0).shape, mol.dihed4.shape"
   ]
  },
  {
   "cell_type": "code",
   "execution_count": null,
   "id": "1d933404-42b4-4350-b4b0-3bec7516f85d",
   "metadata": {},
   "outputs": [],
   "source": [
    "np.unique(mol.dihed9,axis=0).shape, mol.dihed9.shape"
   ]
  },
  {
   "cell_type": "code",
   "execution_count": null,
   "id": "8ade4dc8-1d94-4274-be98-93d2455b23e2",
   "metadata": {},
   "outputs": [],
   "source": [
    "np.unique(mol.dihed9,axis=0)"
   ]
  },
  {
   "cell_type": "code",
   "execution_count": null,
   "id": "c374e70a-1ff4-4658-ab05-9789a2afba42",
   "metadata": {},
   "outputs": [],
   "source": []
  }
 ],
 "metadata": {
  "kernelspec": {
   "display_name": "Python 3 (ipykernel)",
   "language": "python",
   "name": "python3"
  },
  "language_info": {
   "codemirror_mode": {
    "name": "ipython",
    "version": 3
   },
   "file_extension": ".py",
   "mimetype": "text/x-python",
   "name": "python",
   "nbconvert_exporter": "python",
   "pygments_lexer": "ipython3",
   "version": "3.10.11"
  }
 },
 "nbformat": 4,
 "nbformat_minor": 5
}
