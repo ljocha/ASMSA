{
 "cells": [
  {
   "cell_type": "code",
   "execution_count": 140,
   "id": "1aa28469-d6ee-4b2d-8268-e294041f3b43",
   "metadata": {},
   "outputs": [],
   "source": [
    "import asmsa\n",
    "import mdtraj as md\n",
    "import nglview as nv\n",
    "import numpy as np\n",
    "from tensorflow.keras.saving import load_model\n",
    "import torch\n",
    "import gromacs as gmx\n",
    "from gromacs import formats as gmf\n",
    "import os\n",
    "import matplotlib.pyplot as plt"
   ]
  },
  {
   "cell_type": "code",
   "execution_count": null,
   "id": "5eb6a3b1-21ea-4df6-920f-4c6c32dff337",
   "metadata": {},
   "outputs": [],
   "source": [
    "os.environ['REQUEST_CPU'] = '8'\n",
    "os.environ['REQUEST_RAM'] = '32'"
   ]
  },
  {
   "cell_type": "code",
   "execution_count": null,
   "id": "19e6b9ad-0462-4aa3-b847-c4adeb0f7fbe",
   "metadata": {},
   "outputs": [],
   "source": [
    "\"\"\"conf = \"trpcage_correct.pdb\"\n",
    "topol = \"topol_correct.top\"\n",
    "index = 'index_correct.ndx'\n",
    "gro = 'trpcage_correct.gro' \"\"\"\n",
    "exec(open('inputs.py').read())"
   ]
  },
  {
   "cell_type": "code",
   "execution_count": null,
   "id": "a6a06f60-3791-4f12-8f07-f5bcd8eee09a",
   "metadata": {},
   "outputs": [],
   "source": [
    "# outputs of prepare.ipynb\n",
    "\n",
    "#train_tr = md.load('x_train.xtc',top=conf)\n",
    "#test_tr = md.load('x_test.xtc',top=conf)\n",
    "\n",
    "train_tr = md.load('train.xtc',top=conf)\n",
    "test_tr = md.load('test.xtc',top=conf)"
   ]
  },
  {
   "cell_type": "code",
   "execution_count": null,
   "id": "03926d18-1a73-41c3-9c27-cc21ac2a506a",
   "metadata": {},
   "outputs": [],
   "source": [
    "train_g = np.moveaxis(train_tr.xyz,0,-1)\n",
    "test_g = np.moveaxis(test_tr.xyz,0,-1)"
   ]
  },
  {
   "cell_type": "code",
   "execution_count": null,
   "id": "3c4d1412-192e-456f-a7ee-d266161cd4f3",
   "metadata": {},
   "outputs": [],
   "source": [
    "train_g.shape"
   ]
  },
  {
   "cell_type": "code",
   "execution_count": null,
   "id": "a989797d-4fa5-4b26-9727-015a6709460e",
   "metadata": {},
   "outputs": [],
   "source": [
    "sparse_dists = asmsa.NBDistancesSparse(train_g.shape[0], density=2)\n",
    "mol = asmsa.Molecule(pdb=conf,top=topol,ndx=index,fms=[sparse_dists])"
   ]
  },
  {
   "cell_type": "code",
   "execution_count": null,
   "id": "ba11905f-09be-4267-972d-5d095b26c07b",
   "metadata": {},
   "outputs": [],
   "source": [
    "mol.model.dihed4_model.forward(torch.tensor(test_g)).shape"
   ]
  },
  {
   "cell_type": "code",
   "execution_count": null,
   "id": "35704c30-55b3-4677-beb7-4358ecaf5d8e",
   "metadata": {},
   "outputs": [],
   "source": [
    "train_int = mol.intcoord(train_g)\n",
    "train_int.shape"
   ]
  },
  {
   "cell_type": "code",
   "execution_count": null,
   "id": "6cb6b80b-e7da-448f-8982-2d36eb93d7cd",
   "metadata": {},
   "outputs": [],
   "source": [
    "test_int = mol.intcoord(test_g)\n",
    "test_int.shape"
   ]
  },
  {
   "cell_type": "code",
   "execution_count": null,
   "id": "01907b6c-247e-46b8-a19c-c4e8ec653bb7",
   "metadata": {},
   "outputs": [],
   "source": [
    "topol"
   ]
  },
  {
   "cell_type": "code",
   "execution_count": null,
   "id": "e6a077b7-7b5e-4218-a482-0ff0e089eb10",
   "metadata": {
    "scrolled": true
   },
   "outputs": [],
   "source": [
    "mol.dihed4"
   ]
  },
  {
   "cell_type": "code",
   "execution_count": null,
   "id": "8a23ffc5-a1b9-4707-a372-56cc21e0c243",
   "metadata": {},
   "outputs": [],
   "source": [
    "mol.dihed9"
   ]
  },
  {
   "cell_type": "code",
   "execution_count": 183,
   "id": "8ec0ba28-5ff2-4ebb-8101-106dd55b3e7e",
   "metadata": {},
   "outputs": [],
   "source": [
    "latent = np.loadtxt('sample_latent.txt')\n",
    "decout = np.loadtxt('sample_int.txt')"
   ]
  },
  {
   "cell_type": "code",
   "execution_count": 184,
   "id": "0b45e628-4e8c-4d38-9135-d7bfcede87dd",
   "metadata": {},
   "outputs": [
    {
     "data": {
      "text/plain": [
       "(2048, 2)"
      ]
     },
     "execution_count": 184,
     "metadata": {},
     "output_type": "execute_result"
    }
   ],
   "source": [
    "latent.shape"
   ]
  },
  {
   "cell_type": "code",
   "execution_count": null,
   "id": "f2008aeb-ea3b-472b-a5bc-c2cb30448ace",
   "metadata": {},
   "outputs": [],
   "source": []
  },
  {
   "cell_type": "code",
   "execution_count": null,
   "id": "4ebfe027-47a4-4053-a71b-9be366e61bcd",
   "metadata": {},
   "outputs": [],
   "source": [
    "train_mean = np.loadtxt('datasets/intcoords/mean.txt',dtype=np.float32)\n",
    "train_scale = np.loadtxt('datasets/intcoords/scale.txt',dtype=np.float32)"
   ]
  },
  {
   "cell_type": "code",
   "execution_count": 185,
   "id": "a3cfa128-ee10-46e1-b02b-58bc903dc953",
   "metadata": {},
   "outputs": [
    {
     "data": {
      "text/plain": [
       "(2048, 1355)"
      ]
     },
     "execution_count": 185,
     "metadata": {},
     "output_type": "execute_result"
    }
   ],
   "source": [
    "decout_scaled = decout * train_scale + train_mean\n",
    "decout_scaled.shape"
   ]
  },
  {
   "cell_type": "code",
   "execution_count": null,
   "id": "e91c8399-4e5b-49bc-be93-a57ab654dacb",
   "metadata": {},
   "outputs": [],
   "source": [
    "# see train.ipynb\n",
    "grotr = md.load(gro)\n",
    "nhs = grotr.topology.select('element != H')\n",
    "\n",
    "with open(index) as f:\n",
    "    f.readline()\n",
    "    ndx = np.fromstring(\" \".join(f),dtype=np.int32,sep=' ')-1\n",
    "\n",
    "pdb2gmx = nhs[np.argsort(ndx)]+1\n"
   ]
  },
  {
   "cell_type": "code",
   "execution_count": null,
   "id": "09e7de53-8b63-459a-b59e-60097dde07d6",
   "metadata": {},
   "outputs": [],
   "source": [
    "pdb2gmx"
   ]
  },
  {
   "cell_type": "code",
   "execution_count": 186,
   "id": "11155cbd-f570-4359-a59a-fecc3d96d1cb",
   "metadata": {},
   "outputs": [],
   "source": [
    "dihed9_gmx = [\n",
    "    [ pdb2gmx[a] for a in d ]\n",
    "    for d in mol.dihed9\n",
    "]\n",
    "dihed4_gmx = [\n",
    "    [ pdb2gmx[a] for a in d ]\n",
    "    for d in mol.dihed4\n",
    "]"
   ]
  },
  {
   "cell_type": "code",
   "execution_count": 187,
   "id": "e9f82726-e6d1-4587-a265-b8e83aac0688",
   "metadata": {
    "scrolled": true
   },
   "outputs": [
    {
     "data": {
      "text/plain": [
       "[[1, 5, 13, 14],\n",
       " [1, 5, 13, 15],\n",
       " [1, 5, 7, 10],\n",
       " [5, 13, 15, 17],\n",
       " [5, 7, 10, 11],\n",
       " [5, 7, 10, 12],\n",
       " [13, 5, 7, 10],\n",
       " [13, 15, 17, 23],\n",
       " [13, 15, 17, 19],\n",
       " [14, 13, 15, 17],\n",
       " [7, 5, 13, 14],\n",
       " [7, 5, 13, 15],\n",
       " [15, 17, 23, 24],\n",
       " [15, 17, 23, 25],\n",
       " [17, 23, 25, 27],\n",
       " [23, 25, 27, 44],\n",
       " [23, 25, 27, 29],\n",
       " [24, 23, 25, 27],\n",
       " [19, 17, 23, 24],\n",
       " [19, 17, 23, 25],\n",
       " [25, 27, 44, 45],\n",
       " [25, 27, 44, 46],\n",
       " [25, 27, 29, 32],\n",
       " [27, 44, 46, 48],\n",
       " [27, 29, 32, 33],\n",
       " [27, 29, 32, 42],\n",
       " [44, 27, 29, 32],\n",
       " [44, 46, 48, 54],\n",
       " [44, 46, 48, 50],\n",
       " [45, 44, 46, 48],\n",
       " [29, 27, 44, 45],\n",
       " [29, 27, 44, 46],\n",
       " [29, 32, 33, 35],\n",
       " [29, 32, 42, 40],\n",
       " [32, 33, 35, 37],\n",
       " [33, 32, 42, 40],\n",
       " [33, 35, 37, 40],\n",
       " [33, 35, 37, 38],\n",
       " [42, 32, 33, 35],\n",
       " [35, 37, 40, 42],\n",
       " [37, 40, 42, 32],\n",
       " [38, 37, 40, 42],\n",
       " [46, 48, 54, 55],\n",
       " [46, 48, 54, 56],\n",
       " [48, 54, 56, 58],\n",
       " [54, 56, 58, 71],\n",
       " [54, 56, 58, 60],\n",
       " [55, 54, 56, 58],\n",
       " [50, 48, 54, 55],\n",
       " [50, 48, 54, 56],\n",
       " [56, 58, 71, 72],\n",
       " [56, 58, 71, 73],\n",
       " [56, 58, 60, 63],\n",
       " [58, 71, 73, 75],\n",
       " [58, 60, 63, 66],\n",
       " [71, 58, 60, 63],\n",
       " [71, 73, 75, 95],\n",
       " [71, 73, 75, 77],\n",
       " [72, 71, 73, 75],\n",
       " [60, 58, 71, 72],\n",
       " [60, 58, 71, 73],\n",
       " [60, 63, 66, 67],\n",
       " [60, 63, 66, 68],\n",
       " [73, 75, 95, 96],\n",
       " [73, 75, 95, 97],\n",
       " [73, 75, 77, 80],\n",
       " [75, 95, 97, 99],\n",
       " [75, 77, 80, 81],\n",
       " [75, 77, 80, 94],\n",
       " [95, 75, 77, 80],\n",
       " [95, 97, 99, 114],\n",
       " [95, 97, 99, 101],\n",
       " [96, 95, 97, 99],\n",
       " [77, 75, 95, 96],\n",
       " [77, 75, 95, 97],\n",
       " [77, 80, 81, 83],\n",
       " [77, 80, 94, 85],\n",
       " [77, 80, 94, 92],\n",
       " [80, 81, 83, 85],\n",
       " [81, 80, 94, 85],\n",
       " [81, 80, 94, 92],\n",
       " [81, 83, 85, 94],\n",
       " [81, 83, 85, 86],\n",
       " [94, 80, 81, 83],\n",
       " [94, 85, 86, 88],\n",
       " [83, 85, 94, 80],\n",
       " [83, 85, 94, 92],\n",
       " [83, 85, 86, 88],\n",
       " [85, 86, 88, 90],\n",
       " [86, 85, 94, 80],\n",
       " [86, 85, 94, 92],\n",
       " [86, 88, 90, 92],\n",
       " [90, 92, 94, 80],\n",
       " [90, 92, 94, 85],\n",
       " [88, 90, 92, 94],\n",
       " [97, 99, 114, 115],\n",
       " [97, 99, 114, 116],\n",
       " [97, 99, 101, 104],\n",
       " [99, 114, 116, 118],\n",
       " [99, 101, 104, 106],\n",
       " [99, 101, 104, 110],\n",
       " [114, 99, 101, 104],\n",
       " [114, 116, 118, 124],\n",
       " [114, 116, 118, 120],\n",
       " [115, 114, 116, 118],\n",
       " [101, 99, 114, 115],\n",
       " [101, 99, 114, 116],\n",
       " [116, 118, 124, 125],\n",
       " [116, 118, 124, 126],\n",
       " [118, 124, 126, 128],\n",
       " [124, 126, 128, 136],\n",
       " [124, 126, 128, 130],\n",
       " [125, 124, 126, 128],\n",
       " [120, 118, 124, 125],\n",
       " [120, 118, 124, 126],\n",
       " [126, 128, 136, 137],\n",
       " [126, 128, 136, 138],\n",
       " [126, 128, 130, 133],\n",
       " [128, 136, 138, 140],\n",
       " [128, 130, 133, 134],\n",
       " [128, 130, 133, 135],\n",
       " [136, 128, 130, 133],\n",
       " [136, 138, 140, 143],\n",
       " [137, 136, 138, 140],\n",
       " [130, 128, 136, 137],\n",
       " [130, 128, 136, 138],\n",
       " [138, 140, 143, 144],\n",
       " [138, 140, 143, 145],\n",
       " [140, 143, 145, 147],\n",
       " [143, 145, 147, 150],\n",
       " [144, 143, 145, 147],\n",
       " [145, 147, 150, 151],\n",
       " [145, 147, 150, 152],\n",
       " [147, 150, 152, 162],\n",
       " [147, 150, 152, 153],\n",
       " [150, 152, 162, 164],\n",
       " [150, 152, 162, 159],\n",
       " [150, 152, 153, 156],\n",
       " [151, 150, 152, 162],\n",
       " [151, 150, 152, 153],\n",
       " [152, 162, 164, 165],\n",
       " [152, 162, 164, 166],\n",
       " [152, 153, 156, 159],\n",
       " [162, 152, 153, 156],\n",
       " [162, 164, 166, 168],\n",
       " [164, 166, 168, 175],\n",
       " [164, 166, 168, 170],\n",
       " [165, 164, 166, 168],\n",
       " [159, 162, 164, 165],\n",
       " [159, 162, 164, 166],\n",
       " [156, 159, 162, 152],\n",
       " [156, 159, 162, 164],\n",
       " [153, 152, 162, 164],\n",
       " [153, 152, 162, 159],\n",
       " [153, 156, 159, 162],\n",
       " [166, 168, 175, 176],\n",
       " [166, 168, 175, 177],\n",
       " [166, 168, 170, 173],\n",
       " [168, 175, 177, 179],\n",
       " [175, 168, 170, 173],\n",
       " [175, 177, 179, 186],\n",
       " [175, 177, 179, 181],\n",
       " [176, 175, 177, 179],\n",
       " [170, 168, 175, 176],\n",
       " [170, 168, 175, 177],\n",
       " [177, 179, 186, 187],\n",
       " [177, 179, 186, 188],\n",
       " [177, 179, 181, 184],\n",
       " [179, 186, 188, 190],\n",
       " [186, 179, 181, 184],\n",
       " [186, 188, 190, 193],\n",
       " [187, 186, 188, 190],\n",
       " [181, 179, 186, 187],\n",
       " [181, 179, 186, 188],\n",
       " [188, 190, 193, 194],\n",
       " [188, 190, 193, 195],\n",
       " [190, 193, 195, 197],\n",
       " [193, 195, 197, 217],\n",
       " [193, 195, 197, 199],\n",
       " [194, 193, 195, 197],\n",
       " [195, 197, 217, 218],\n",
       " [195, 197, 217, 219],\n",
       " [195, 197, 199, 202],\n",
       " [197, 217, 219, 229],\n",
       " [197, 217, 219, 220],\n",
       " [197, 199, 202, 205],\n",
       " [217, 197, 199, 202],\n",
       " [217, 219, 229, 231],\n",
       " [217, 219, 229, 226],\n",
       " [217, 219, 220, 223],\n",
       " [218, 217, 219, 229],\n",
       " [218, 217, 219, 220],\n",
       " [199, 197, 217, 218],\n",
       " [199, 197, 217, 219],\n",
       " [199, 202, 205, 208],\n",
       " [202, 205, 208, 210],\n",
       " [205, 208, 210, 211],\n",
       " [205, 208, 210, 214],\n",
       " [219, 229, 231, 232],\n",
       " [219, 229, 231, 233],\n",
       " [219, 220, 223, 226],\n",
       " [229, 219, 220, 223],\n",
       " [229, 231, 233, 243],\n",
       " [229, 231, 233, 234],\n",
       " [231, 233, 243, 245],\n",
       " [231, 233, 243, 240],\n",
       " [231, 233, 234, 237],\n",
       " [232, 231, 233, 243],\n",
       " [232, 231, 233, 234],\n",
       " [226, 229, 231, 232],\n",
       " [226, 229, 231, 233],\n",
       " [223, 226, 229, 219],\n",
       " [223, 226, 229, 231],\n",
       " [220, 219, 229, 231],\n",
       " [220, 219, 229, 226],\n",
       " [220, 223, 226, 229],\n",
       " [233, 243, 245, 246],\n",
       " [233, 243, 245, 247],\n",
       " [233, 234, 237, 240],\n",
       " [243, 233, 234, 237],\n",
       " [243, 245, 247, 257],\n",
       " [243, 245, 247, 248],\n",
       " [245, 247, 257, 259],\n",
       " [245, 247, 257, 254],\n",
       " [245, 247, 248, 251],\n",
       " [246, 245, 247, 257],\n",
       " [246, 245, 247, 248],\n",
       " [240, 243, 245, 246],\n",
       " [240, 243, 245, 247],\n",
       " [237, 240, 243, 233],\n",
       " [237, 240, 243, 245],\n",
       " [234, 233, 243, 245],\n",
       " [234, 233, 243, 240],\n",
       " [234, 237, 240, 243],\n",
       " [247, 257, 259, 260],\n",
       " [247, 257, 259, 261],\n",
       " [247, 248, 251, 254],\n",
       " [257, 247, 248, 251],\n",
       " [257, 259, 261, 263],\n",
       " [259, 261, 263, 270],\n",
       " [259, 261, 263, 265],\n",
       " [260, 259, 261, 263],\n",
       " [254, 257, 259, 260],\n",
       " [254, 257, 259, 261],\n",
       " [251, 254, 257, 247],\n",
       " [251, 254, 257, 259],\n",
       " [248, 247, 257, 259],\n",
       " [248, 247, 257, 254],\n",
       " [248, 251, 254, 257],\n",
       " [261, 263, 270, 272],\n",
       " [261, 263, 270, 271],\n",
       " [261, 263, 265, 268],\n",
       " [270, 263, 265, 268],\n",
       " [265, 263, 270, 272],\n",
       " [265, 263, 270, 271]]"
      ]
     },
     "execution_count": 187,
     "metadata": {},
     "output_type": "execute_result"
    }
   ],
   "source": [
    "dihed9_gmx"
   ]
  },
  {
   "cell_type": "code",
   "execution_count": null,
   "id": "b806c27e-526a-4524-a640-be093145a2ba",
   "metadata": {},
   "outputs": [],
   "source": []
  },
  {
   "cell_type": "code",
   "execution_count": null,
   "id": "66235a25-c9a3-4da9-ab2f-3d3c648041b2",
   "metadata": {},
   "outputs": [],
   "source": [
    "gmx.select(s=gro,on='bb.ndx',select='Backbone')"
   ]
  },
  {
   "cell_type": "code",
   "execution_count": null,
   "id": "dcb1b93a-8f40-46b0-8a6a-880d53fd88b5",
   "metadata": {},
   "outputs": [],
   "source": [
    "with open('bb.ndx') as bb:\n",
    "    bb.readline()\n",
    "    l = \" \".join(bb.readlines())\n",
    "    bbndx = np.array(l.split(),np.int32)"
   ]
  },
  {
   "cell_type": "code",
   "execution_count": 188,
   "id": "10fdf0ef-74dc-4c13-9f85-8b785fb570a8",
   "metadata": {},
   "outputs": [],
   "source": [
    "dih9_ndx = [ np.where(np.all(dihed9_gmx == bbndx[i:i+4],axis=1))[0][0] for i in range(len(bbndx)-3) ]\n",
    "\n",
    "# XXX: backbone dihedrals seem to be all in dih9 and none in dih4"
   ]
  },
  {
   "cell_type": "code",
   "execution_count": 189,
   "id": "3478d817-5aef-4621-89fc-31a02334df3f",
   "metadata": {},
   "outputs": [
    {
     "data": {
      "text/plain": [
       "(57, (60,))"
      ]
     },
     "execution_count": 189,
     "metadata": {},
     "output_type": "execute_result"
    }
   ],
   "source": [
    "len(dih9_ndx), bbndx.shape"
   ]
  },
  {
   "cell_type": "code",
   "execution_count": 190,
   "id": "725339f1-ab69-48ad-8f1b-6d5dcb14b860",
   "metadata": {},
   "outputs": [],
   "source": [
    "off = mol.dihed4.shape[0]*2+mol.angles.shape[0]+mol.bonds.shape[0]\n",
    "size = mol.dihed9.shape[0]"
   ]
  },
  {
   "cell_type": "code",
   "execution_count": 191,
   "id": "6a9bcb9a-35fb-4923-ab4e-ca90e4d0f3f8",
   "metadata": {},
   "outputs": [
    {
     "name": "stdout",
     "output_type": "stream",
     "text": [
      "/home/jovyan/ASMSA\n"
     ]
    }
   ],
   "source": [
    "%cd ~/ASMSA"
   ]
  },
  {
   "cell_type": "code",
   "execution_count": 192,
   "id": "f396e1e2-169f-4f2d-bcc2-f8a30a320326",
   "metadata": {},
   "outputs": [],
   "source": [
    "\n",
    "for out_idx in range(decout.shape[0]):\n",
    "# for out_idx in range(3):\n",
    "    dec_out = decout[out_idx,:]\n",
    "    # dec_out.shape\n",
    "    \n",
    "    os.system(f'rm -rf min_{out_idx} && mkdir min_{out_idx}')\n",
    "    os.chdir(f'min_{out_idx}')\n",
    "    \n",
    "    \n",
    "    diff = train_int.T - dec_out\n",
    "    msd = np.sum(diff * diff,axis=1)\n",
    "    \n",
    "    minidx = np.argmin(msd)\n",
    "    \n",
    "    mintr = train_tr[minidx]\n",
    "    mintr.save('min.pdb')\n",
    "\n",
    "    dec_dih9_sc = decout_scaled[out_idx][off:off+size*2]\n",
    "    #dec_dih9_sc.shape\n",
    "    \n",
    "    dec_dih9 = np.arctan2(dec_dih9_sc[0:size],dec_dih9_sc[size:]) / np.pi * 180.\n",
    "    \n",
    "    bb_angles = [ dec_dih9[i] for i in dih9_ndx ]\n",
    "    \n",
    "    with open('dihre.itp','w') as p:\n",
    "        p.write('[ dihedral_restraints ]\\n')\n",
    "        for i in range(0,len(bbndx)-3):\n",
    "            p.write('  '.join(map(str,bbndx[i:i+4])))\n",
    "            p.write(f' 1 {bb_angles[i]} 0 5000\\n')\n",
    "\n",
    "    os.chdir('..')\n"
   ]
  },
  {
   "cell_type": "code",
   "execution_count": null,
   "id": "3637b401-8503-4ca2-a23a-bd6fe6b9dd8f",
   "metadata": {},
   "outputs": [],
   "source": []
  },
  {
   "cell_type": "code",
   "execution_count": null,
   "id": "b8504e04-cea2-4703-8f75-c43a0328f543",
   "metadata": {},
   "outputs": [],
   "source": []
  },
  {
   "cell_type": "code",
   "execution_count": null,
   "id": "d6fd5f9f-470a-425c-94a0-8bd78e9293f4",
   "metadata": {},
   "outputs": [],
   "source": []
  },
  {
   "cell_type": "code",
   "execution_count": 124,
   "id": "b5e508fc-24ed-4578-96df-261a7725aa54",
   "metadata": {},
   "outputs": [],
   "source": [
    "def onemin(out_idx):\n",
    "    # dec_out = test_int[:,out_idx]\n",
    "    dec_out = decout[out_idx,:]\n",
    "    # dec_out.shape\n",
    "    \n",
    "    os.system(f'rm -rf min_{out_idx} && mkdir min_{out_idx}')\n",
    "    os.chdir(f'min_{out_idx}')\n",
    "\n",
    "\n",
    "    diff = train_int.T - dec_out\n",
    "    msd = np.sum(diff * diff,axis=1)\n",
    "    \n",
    "    minidx = np.argmin(msd)\n",
    "    \n",
    "    mintr = train_tr[minidx]\n",
    "    mintr.save('min.pdb')\n",
    "    \n",
    "    # nv.show_mdtraj(mintr)\n",
    "    \n",
    "    gmx.pdb2gmx(f='min.pdb',o='min.gro',p='min.top',water='tip3p',ff='amber94')\n",
    "    \n",
    "    mdbox=2.0\n",
    "    gmx.editconf(f='min.gro',o=\"min-box.gro\",c=True,d=str(mdbox),bt=\"dodecahedron\")\n",
    "    \n",
    "    dec_dih9_sc = decout_scaled[out_idx][off:off+size*2]\n",
    "    #dec_dih9_sc.shape\n",
    "    \n",
    "    dec_dih9 = np.arctan2(dec_dih9_sc[0:size],dec_dih9_sc[size:]) / np.pi * 180.\n",
    "    \n",
    "    bb_angles = [ dec_dih9[i] for i in dih9_ndx ]\n",
    "    \n",
    "    with open('posre.itp','w') as p:\n",
    "        p.write('[ dihedral_restraints ]\\n')\n",
    "        for i in range(0,len(bbndx)-3):\n",
    "            p.write('  '.join(map(str,bbndx[i:i+4])))\n",
    "            p.write(f' 1 {bb_angles[i]} 0 5000\\n')\n",
    "    \n",
    "    \n",
    "    with open('min.mdp','w') as m:\n",
    "        m.write('''\n",
    "integrator  = steep         ; Algorithm (steep = steepest descent minimization)\n",
    "emtol       = 1000.0        ; Stop minimization when the maximum force < 1000.0 kJ/mol/nm\n",
    "emstep      = 0.01          ; Minimization step size\n",
    "nsteps      = 50000         ; Maximum number of (minimization) steps to perform\n",
    "\n",
    "nstxout                 = 1         \n",
    "nstvout                 = 0         \n",
    "nstfout                 = 0         \n",
    "nstlog                  = 5\n",
    "nstxout-compressed      = 1\n",
    "\n",
    "; Parameters describing how to find the neighbors of each atom and how to calculate the interactions\n",
    "nstlist         = 1         ; Frequency to update the neighbor list and long range forces\n",
    "cutoff-scheme   = Verlet    ; Buffered neighbor searching\n",
    "ns_type         = grid      ; Method to determine neighbor list (simple, grid)\n",
    "coulombtype     = Cut-off   ; Treatment of long range electrostatic interactions\n",
    "rcoulomb        = 1.0       ; Short-range electrostatic cut-off\n",
    "rvdw            = 1.0       ; Short-range Van der Waals cut-off\n",
    "pbc             = xyz       ; Periodic Boundary Conditions in all 3 dimensions\n",
    "\n",
    "disre           = Simple\n",
    "define                  = -DPOSRES \n",
    "''')\n",
    "            \n",
    "    gmx.grompp(f='min.mdp',c='min-box.gro',p='min.top',o='min.tpr')\n",
    "    \n",
    "    res = gmx.mdrun(deffnm='min')\n",
    "    os.chdir('..')\n",
    "    return res"
   ]
  },
  {
   "cell_type": "markdown",
   "id": "a970987f-21d3-40e6-b81a-67ac51db0e81",
   "metadata": {
    "collapsed": true,
    "jupyter": {
     "outputs_hidden": true
    }
   },
   "source": [
    "'''moved to run-min.sh to avoid kubectl exec overhead'''\n",
    "\n",
    "from concurrent.futures import ProcessPoolExecutor\n",
    "with ProcessPoolExecutor(max_workers=8) as executor:\n",
    "    results = list(executor.map(onemin, range(latent.shape[0])))\n"
   ]
  },
  {
   "cell_type": "code",
   "execution_count": 129,
   "id": "a09015c6-5389-4971-9922-827e2c7d102c",
   "metadata": {},
   "outputs": [
    {
     "data": {
      "text/plain": [
       "2048"
      ]
     },
     "execution_count": 129,
     "metadata": {},
     "output_type": "execute_result"
    }
   ],
   "source": [
    "len(results)"
   ]
  },
  {
   "cell_type": "code",
   "execution_count": null,
   "id": "1759a08f-6f52-4b8c-8a6e-b032a444c2f1",
   "metadata": {},
   "outputs": [],
   "source": [
    "# run final-energies.sh directly in the gromacs container"
   ]
  },
  {
   "cell_type": "code",
   "execution_count": 137,
   "id": "5903e402-8498-4aa9-bb4c-cf9e209281b1",
   "metadata": {},
   "outputs": [],
   "source": [
    "def final_e(i):\n",
    "    x = gmf.XVG(f'min_{i}/min.xvg')\n",
    "    return x.array[1:,-1]\n",
    "\n",
    "energ = np.array([ final_e(i) for i in range(latent.shape[0]) ])"
   ]
  },
  {
   "cell_type": "code",
   "execution_count": 138,
   "id": "a901d344-194a-4c52-8757-9d70488a258a",
   "metadata": {},
   "outputs": [
    {
     "data": {
      "text/plain": [
       "(2048, 2)"
      ]
     },
     "execution_count": 138,
     "metadata": {},
     "output_type": "execute_result"
    }
   ],
   "source": [
    "gmx.tr"
   ]
  },
  {
   "cell_type": "code",
   "execution_count": 196,
   "id": "1ae65fd9-f633-41e2-a038-91dfd4c15f2c",
   "metadata": {},
   "outputs": [],
   "source": [
    "final_tr = md.load([ f'min_{i}/min.gro' for i in range(latent.shape[0]) ])"
   ]
  },
  {
   "cell_type": "code",
   "execution_count": 150,
   "id": "3a568ca9-bf4c-421a-bd37-5531d9346fbc",
   "metadata": {},
   "outputs": [],
   "source": [
    "base_tr = md.load(gro)"
   ]
  },
  {
   "cell_type": "code",
   "execution_count": 197,
   "id": "ca837420-5ebe-468a-9ba1-0159a84e98af",
   "metadata": {},
   "outputs": [
    {
     "data": {
      "text/plain": [
       "<mdtraj.Trajectory with 2048 frames, 272 atoms, 20 residues, and unitcells at 0x7f927462eb60>"
      ]
     },
     "execution_count": 197,
     "metadata": {},
     "output_type": "execute_result"
    }
   ],
   "source": [
    "final_tr.superpose(base_tr)"
   ]
  },
  {
   "cell_type": "code",
   "execution_count": 198,
   "id": "3b40a696-ce00-4331-869b-3474d005adb3",
   "metadata": {},
   "outputs": [],
   "source": [
    "rmsd = md.rmsd(final_tr,base_tr)"
   ]
  },
  {
   "cell_type": "code",
   "execution_count": 170,
   "id": "c513871c-d3cf-43e0-b7c2-f0faf6c789e2",
   "metadata": {},
   "outputs": [
    {
     "data": {
      "image/png": "[encoded data removed]",
      "text/plain": [
       "<Figure size 2000x2000 with 1 Axes>"
      ]
     },
     "metadata": {},
     "output_type": "display_data"
    }
   ],
   "source": [
    "plt.figure(figsize=(20,20))\n",
    "#plt.scatter(rmsd,energ[:,0]-energ[:,1],marker='.')\n",
    "plt.scatter(rmsd,energ[:,1],marker='.')\n",
    "plt.show()"
   ]
  },
  {
   "cell_type": "code",
   "execution_count": 153,
   "id": "01e1e65e-5aff-4c6f-ae3d-dc050074cc4e",
   "metadata": {},
   "outputs": [
    {
     "data": {
      "text/plain": [
       "(2048, 2)"
      ]
     },
     "execution_count": 153,
     "metadata": {},
     "output_type": "execute_result"
    }
   ],
   "source": [
    "energ.shape"
   ]
  },
  {
   "cell_type": "code",
   "execution_count": 171,
   "id": "7ac1c133-b740-4d6c-bee1-7f4212e3f97d",
   "metadata": {},
   "outputs": [
    {
     "data": {
      "image/png": "[encoded data removed]",
      "text/plain": [
       "<Figure size 640x480 with 1 Axes>"
      ]
     },
     "metadata": {},
     "output_type": "display_data"
    }
   ],
   "source": [
    "plt.hist(rmsd,bins=100)\n",
    "plt.show()"
   ]
  },
  {
   "cell_type": "code",
   "execution_count": 173,
   "id": "5de51b39-db6d-4a8c-969f-59bd558388c1",
   "metadata": {},
   "outputs": [
    {
     "data": {
      "text/plain": [
       "((1, 272, 3), (2048, 272, 3))"
      ]
     },
     "execution_count": 173,
     "metadata": {},
     "output_type": "execute_result"
    }
   ],
   "source": [
    "base_tr.xyz.shape, final_tr.xyz.shape"
   ]
  },
  {
   "cell_type": "code",
   "execution_count": 202,
   "id": "37cf7542-f0e4-4e35-9989-8171d3779af1",
   "metadata": {},
   "outputs": [
    {
     "data": {
      "image/png": "[encoded data removed]",
      "text/plain": [
       "<Figure size 500x350 with 2 Axes>"
      ]
     },
     "metadata": {},
     "output_type": "display_data"
    }
   ],
   "source": [
    "plt.figure(figsize=(5,3.5))\n",
    "plt.scatter(latent[:,0],latent[:,1],marker='.',c=rmsd,cmap=plt.get_cmap('rainbow'))\n",
    "plt.colorbar().set_label('RMSD')\n",
    "plt.savefig('fig2.pdf')\n",
    "plt.show()"
   ]
  },
  {
   "cell_type": "code",
   "execution_count": null,
   "id": "d58f0bf5-e6e9-490f-875c-346088bb13e4",
   "metadata": {},
   "outputs": [],
   "source": []
  },
  {
   "cell_type": "code",
   "execution_count": null,
   "id": "38d05f95-6b72-4959-98d8-eef1a56cfd40",
   "metadata": {},
   "outputs": [],
   "source": []
  },
  {
   "cell_type": "code",
   "execution_count": null,
   "id": "d9802c81-9b86-48f3-8b5d-eaaeea859682",
   "metadata": {},
   "outputs": [],
   "source": []
  },
  {
   "cell_type": "code",
   "execution_count": null,
   "id": "a3f9c3ed-e561-499e-b61e-93121b382f84",
   "metadata": {},
   "outputs": [],
   "source": []
  },
  {
   "cell_type": "code",
   "execution_count": null,
   "id": "51e41325-883f-4273-9a87-a99663e106ff",
   "metadata": {},
   "outputs": [],
   "source": []
  },
  {
   "cell_type": "code",
   "execution_count": null,
   "id": "350bec90-3eaa-496d-aa57-9b859f8d71a1",
   "metadata": {},
   "outputs": [],
   "source": []
  },
  {
   "cell_type": "code",
   "execution_count": null,
   "id": "1afc1d1e-854e-46f3-86ce-03c18c380c43",
   "metadata": {},
   "outputs": [],
   "source": []
  },
  {
   "cell_type": "code",
   "execution_count": null,
   "id": "fe831450-2811-4bbd-8f87-26974d5fc044",
   "metadata": {},
   "outputs": [],
   "source": [
    "tr = md.load('min.trr',top='min-box.gro')[:100]\n",
    "v=nv.show_mdtraj(tr)\n",
    "#v.clear()\n",
    "v.add_representation('licorice')\n",
    "v"
   ]
  },
  {
   "cell_type": "code",
   "execution_count": null,
   "id": "b5a344d9-ddf7-43f6-ac77-43ed2c6a8331",
   "metadata": {},
   "outputs": [],
   "source": [
    "nv.show_file('min-box.gro')"
   ]
  },
  {
   "cell_type": "code",
   "execution_count": null,
   "id": "79a5ada6-590a-42d2-b80d-cba1eae09e0e",
   "metadata": {},
   "outputs": [],
   "source": [
    "!cp min.top restrained.top\n",
    "\n",
    "off = mol.dihed4.shape[0]*2+mol.dihed9.shape[0]*2+mol.angles.shape[0]+mol.bonds.shape[0]\n",
    "\n",
    "dec_dist = dec_out_scaled[off:]\n",
    "\n",
    "\n",
    "with open('restrained.top','a') as t:\n",
    "    t.write('''\n",
    "[ distance_restraints ]\n",
    "''')\n",
    "    for i,d in enumerate(sparse_dists.bonds):\n",
    "        t.write(f'{pdb2gmx[d[0]]} {pdb2gmx[d[1]]} 1 {i} 2 {dec_dist[i]*.99} {dec_dist[i]*1.01} 42.0 10.0\\n')"
   ]
  },
  {
   "cell_type": "code",
   "execution_count": null,
   "id": "63dc1616-971a-4096-aea4-6d574bd38624",
   "metadata": {},
   "outputs": [],
   "source": [
    "with open('min.mdp','w') as m:\n",
    "    m.write('''\n",
    "integrator  = steep         ; Algorithm (steep = steepest descent minimization)\n",
    "emtol       = 1000.0        ; Stop minimization when the maximum force < 1000.0 kJ/mol/nm\n",
    "emstep      = 0.01          ; Minimization step size\n",
    "nsteps      = 50000         ; Maximum number of (minimization) steps to perform\n",
    "\n",
    "nstxout                 = 0         \n",
    "nstvout                 = 0         \n",
    "nstfout                 = 0         \n",
    "nstlog                  = 5\n",
    "nstxout-compressed      = 0\n",
    "\n",
    "; Parameters describing how to find the neighbors of each atom and how to calculate the interactions\n",
    "nstlist         = 1         ; Frequency to update the neighbor list and long range forces\n",
    "cutoff-scheme   = Verlet    ; Buffered neighbor searching\n",
    "ns_type         = grid      ; Method to determine neighbor list (simple, grid)\n",
    "coulombtype     = Cut-off   ; Treatment of long range electrostatic interactions\n",
    "rcoulomb        = 1.0       ; Short-range electrostatic cut-off\n",
    "rvdw            = 1.0       ; Short-range Van der Waals cut-off\n",
    "pbc             = xyz       ; Periodic Boundary Conditions in all 3 dimensions\n",
    "\n",
    "disre           = Simple\n",
    "''')"
   ]
  },
  {
   "cell_type": "code",
   "execution_count": null,
   "id": "a5f5fb2a-3741-4790-a4a9-300c25301d15",
   "metadata": {},
   "outputs": [],
   "source": [
    "gmx.grompp(f=\"min.mdp\",c=\"min-box.gro\",p='restrained.top',o=\"min.tpr\")"
   ]
  },
  {
   "cell_type": "code",
   "execution_count": null,
   "id": "e33821ba-a6e4-4d19-94d1-768e1fd422fe",
   "metadata": {},
   "outputs": [],
   "source": [
    "mdrun(deffnm=\"min\")"
   ]
  },
  {
   "cell_type": "code",
   "execution_count": null,
   "id": "5168f4f1-78f4-4c5e-bb1f-c5eb09688e35",
   "metadata": {},
   "outputs": [],
   "source": [
    "solm = md.load('min.gro')\n",
    "nhs = solm.topology.select('element != H')\n",
    "solm.atom_slice(nhs,inplace=True)\n",
    "v = nv.show_mdtraj(solm)\n",
    "\n",
    "refm = md.load_pdb(conf)\n",
    "refm.xyz = train_g[:,:,minidx]\n",
    "refm.superpose(solm)\n",
    "\n",
    "v.add_component(refm)\n",
    "v.clear(component=0)\n",
    "v.clear(component=1)\n",
    "\n",
    "v.add_representation('licorice',color='green',component=1)\n",
    "v.add_representation('licorice',color='red',component=0)\n",
    "\n",
    "v"
   ]
  },
  {
   "cell_type": "code",
   "execution_count": null,
   "id": "bb6f1bf1-4318-4faf-bb98-5594d2a18da5",
   "metadata": {},
   "outputs": [],
   "source": [
    "gmx.energy(f='min.edr',input=['Potential','Dis.-Rest.'],o='min.xvg')"
   ]
  },
  {
   "cell_type": "code",
   "execution_count": null,
   "id": "084963a7-c147-468d-8607-2d8fe6e77de0",
   "metadata": {},
   "outputs": [],
   "source": [
    "import matplotlib.pyplot as plt\n",
    "energ = np.loadtxt('min.xvg',comments=['#','@'])\n",
    "plt.plot(energ[:,1],label='Dis.-Rest.')\n",
    "plt.plot(energ[:,2],label='Potential')\n",
    "plt.plot(energ[:,2]-energ[:,1],label='Net')\n",
    "plt.yscale('log')\n",
    "plt.legend()\n",
    "plt.show()\n"
   ]
  },
  {
   "cell_type": "code",
   "execution_count": null,
   "id": "65805c1f-8e9c-4636-b1bf-4d1681ee7333",
   "metadata": {},
   "outputs": [],
   "source": []
  },
  {
   "cell_type": "code",
   "execution_count": null,
   "id": "e28f8664-1499-4ae6-9a09-ecde9a0ad84b",
   "metadata": {},
   "outputs": [],
   "source": []
  }
 ],
 "metadata": {
  "kernelspec": {
   "display_name": "Python 3 (ipykernel)",
   "language": "python",
   "name": "python3"
  },
  "language_info": {
   "codemirror_mode": {
    "name": "ipython",
    "version": 3
   },
   "file_extension": ".py",
   "mimetype": "text/x-python",
   "name": "python",
   "nbconvert_exporter": "python",
   "pygments_lexer": "ipython3",
   "version": "3.10.11"
  }
 },
 "nbformat": 4,
 "nbformat_minor": 5
}
