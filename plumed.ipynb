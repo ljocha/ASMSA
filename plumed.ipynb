{
 "cells": [
  {
   "cell_type": "code",
   "execution_count": null,
   "id": "6dceae22-5cc2-4c10-8676-036384ced9ab",
   "metadata": {},
   "outputs": [],
   "source": [
    "import tf2onnx\n",
    "import onnx2torch\n",
    "import tempfile\n",
    "\n",
    "import torch\n",
    "import numpy as np\n",
    "import tensorflow as tf"
   ]
  },
  {
   "cell_type": "markdown",
   "id": "8721f687-922b-450a-aa11-2c8d480e9fcf",
   "metadata": {},
   "source": [
    "## Input files\n",
    "\n",
    "All input files are prepared (up- or downloaded) in [prepare.ipynb](prepare.ipynb). \n"
   ]
  },
  {
   "cell_type": "code",
   "execution_count": null,
   "id": "7c014edf-3a5c-44e3-a6fd-87a80603cc05",
   "metadata": {},
   "outputs": [],
   "source": [
    "exec(open('inputs.py').read())"
   ]
  },
  {
   "cell_type": "markdown",
   "id": "19755ebb-a9d9-4e71-8675-f5a2b46fb85a",
   "metadata": {},
   "source": [
    "## Save the model for Gromacs\n",
    "\n",
    "*Another wave of magics ...*\n",
    "\n",
    "There are multiple ways how atoms are numbered in PDB, GRO, etc. files. \n",
    "\n",
    "So far we worked with atoms numbered as in the `conf` PDB file, assuming `traj` XTC file was consistent with those.\n",
    "If the topology was used, it might have had different numbering, as Gromacs likes. \n",
    "\n",
    "In the subsequent simulations, we assume the usual protocol starting with `pdb2gmx` to generate topology,\n",
    "hence Gromacsish atom numbering will be followed afterwards.\n",
    "Therefore we need `plumed.dat` to pick the atoms according to the PDB file order, and skip hydrogens added by Gromacs. \n",
    "\n",
    "Many things can go wrong, therefore we strongly encorage to check the results manually. For example, the first residuum (ASP) of tryptophan cage may look like the following in PDB file:\n",
    "\n",
    "    ATOM      1  N   ASP     1      28.538  39.747  31.722  1.00  1.00           N\n",
    "    ATOM      2  CA  ASP     1      28.463  39.427  33.168  1.00  1.00           C\n",
    "    ATOM      3  C   ASP     1      29.059  37.987  33.422  1.00  1.00           C\n",
    "    ATOM      4  O   ASP     1      30.226  37.748  33.735  1.00  1.00           O\n",
    "    ATOM      5  CB  ASP     1      26.995  39.482  33.630  1.00  1.00           C\n",
    "    ATOM      6  CG  ASP     1      26.889  39.307  35.101  1.00  1.00           C\n",
    "    ATOM      7  OD1 ASP     1      27.749  39.962  35.773  1.00  1.00           O\n",
    "    ATOM      8  OD2 ASP     1      26.012  38.510  35.611  1.00  1.00           O\n",
    "    \n",
    "Which turns Gromacs topology: \n",
    "\n",
    "     1         N3      1    ASP      N      1     0.0782      14.01   ; qtot 0.0782\n",
    "     2          H      1    ASP     H1      2       0.22      1.008   ; qtot 0.2982\n",
    "     3          H      1    ASP     H2      3       0.22      1.008   ; qtot 0.5182\n",
    "     4          H      1    ASP     H3      4       0.22      1.008   ; qtot 0.7382\n",
    "     5         CT      1    ASP     CA      5     0.0292      12.01   ; qtot 0.7674\n",
    "     6         HP      1    ASP     HA      6     0.1141      1.008   ; qtot 0.8815\n",
    "     7         CT      1    ASP     CB      7    -0.0235      12.01   ; qtot 0.858\n",
    "     8         HC      1    ASP    HB1      8    -0.0169      1.008   ; qtot 0.8411\n",
    "     9         HC      1    ASP    HB2      9    -0.0169      1.008   ; qtot 0.8242\n",
    "    10          C      1    ASP     CG     10     0.8194      12.01   ; qtot 1.644\n",
    "    11         O2      1    ASP    OD1     11    -0.8084         16   ; qtot 0.8352\n",
    "    12         O2      1    ASP    OD2     12    -0.8084         16   ; qtot 0.0268\n",
    "    13          C      1    ASP      C     13     0.5621      12.01   ; qtot 0.5889\n",
    "    14          O      1    ASP      O     14    -0.5889         16   ; qtot 0\n",
    "    \n",
    "Besides adding hydrogens, the carboxyl group of the protein backbone (atoms 3,4 in PDB) is pushed down (to become 13,14 in the topology).\n",
    "\n",
    "Consequently, the ATOMS setting in the generated `plumed.dat` must be:\n",
    "\n",
    "    model: PYTORCH_MODEL_CV FILE=model.pt ATOMS=1,5,13,14,7,10,11,12, ...\n",
    "    \n",
    "i.e., the atoms are enumerated *in the order* of PDB file but *referring to numbers* of topology file. \n",
    "\n",
    "If there is any mismatch, the MD simulations are likely to fail, or at least to produce meaningless results.\n",
    "\n",
    "It's also **critical** that `{conf}`, `{top}`, and `{gro}` correspond to one another, and that `{gro}` **includes hydrogens**.\n"
   ]
  },
  {
   "cell_type": "code",
   "execution_count": null,
   "id": "0f21e0f7-23b5-4441-a8ae-a6a20d51c031",
   "metadata": {},
   "outputs": [],
   "source": [
    "import tf2onnx\n",
    "import onnx2torch\n",
    "import tempfile\n",
    "\n",
    "def _convert_to_onnx(model, destination_path):\n",
    "#    model = keras.models.load_model(source_path)\n",
    "\n",
    "    input_tensor = model.layers[0]._input_tensor\n",
    "#    input_tensor = model.inputs[0]\n",
    "    input_signature = tf.TensorSpec(\n",
    "        name=input_tensor.name, shape=input_tensor.shape, dtype=input_tensor.dtype\n",
    "    )\n",
    "    output_name = model.layers[-1].name\n",
    "\n",
    "    @tf.function(input_signature=[input_signature])\n",
    "    def _wrapped_model(input_data):\n",
    "        return {output_name: model(input_data)}\n",
    "\n",
    "    tf2onnx.convert.from_function(\n",
    "        _wrapped_model, input_signature=[input_signature], output_path=destination_path\n",
    "    )"
   ]
  },
  {
   "cell_type": "code",
   "execution_count": null,
   "id": "bf169674-70d0-4a2a-90ca-e140a84a5a6a",
   "metadata": {},
   "outputs": [],
   "source": [
    "# load test geometry dataset\n",
    "geom = np.stack(list(tf.data.Dataset.load('datasets/geoms/test')))\n"
   ]
  },
  {
   "cell_type": "markdown",
   "id": "ef2d7451-c092-4c5a-aba6-7d1d4b5df7f1",
   "metadata": {},
   "source": [
    "#### Traditional internal coordinates (all bond distances, angles, and torsions)\n",
    "\n",
    "Run this section or the next one, consistently with [prepare.ipynb](prepare.ipynb)\n",
    "\n",
    "With this approach, the model is applicable to the molecule used for training only"
   ]
  },
  {
   "cell_type": "code",
   "execution_count": null,
   "id": "52d5340a-6e63-403b-bbc8-66a15f0e28d2",
   "metadata": {},
   "outputs": [],
   "source": [
    "# all internal cooridnates\n",
    "mol = asmsa.Molecule(pdb=conf,top=topol,ndx=index,fms=[sparse_dists])"
   ]
  },
  {
   "cell_type": "markdown",
   "id": "2850ed9b-7159-410f-80c5-47df8aa77ca9",
   "metadata": {},
   "source": [
    "#### Alternative: only backbone + Cbeta anlges and dihedrals"
   ]
  },
  {
   "cell_type": "code",
   "execution_count": null,
   "id": "00ff7222-af3b-423e-98c7-57bc2d9d2c39",
   "metadata": {},
   "outputs": [],
   "source": [
    "with open('backbone.ndx') as i:\n",
    "    i.readline()\n",
    "    bb = np.array([ int(j)-1 for j in \" \".join(i.readlines()).split() ])"
   ]
  },
  {
   "cell_type": "code",
   "execution_count": null,
   "id": "15ab05ef-ce76-4889-bc53-8f94eda19a17",
   "metadata": {},
   "outputs": [],
   "source": [
    "# backbone angles and dihedrals\n",
    "angles = np.array([ bb[i:i+3] for i in range(0,len(bb)-3) ])\n",
    "diheds = np.array([ bb[i:i+4] for i in range(0,len(bb)-4) ])\n",
    "# angles, diheds"
   ]
  },
  {
   "cell_type": "code",
   "execution_count": null,
   "id": "5db61485-16a6-4c5e-9f9e-25d191a591b6",
   "metadata": {},
   "outputs": [],
   "source": [
    "# XXX: select alpha carbons and matching betas\n",
    "tr1 = md.load(conf)\n",
    "cas = tr1.topology.select('name CA and not resname GLY')\n",
    "cbs = tr1.topology.select('name CB')\n",
    "assert(len(cas) == len(cbs))"
   ]
  },
  {
   "cell_type": "code",
   "execution_count": null,
   "id": "82ff82b0-01d1-48cf-a399-6271055cb07e",
   "metadata": {},
   "outputs": [],
   "source": [
    "# indices of CAs (non-GLY) on the backbone\n",
    "cai = np.argwhere(bb.reshape(1,-1) == cas.reshape(-1,1))[:,1]\n",
    "cai"
   ]
  },
  {
   "cell_type": "code",
   "execution_count": null,
   "id": "1ead9e08-37c0-45f8-89d1-5a4c88891343",
   "metadata": {
    "scrolled": true
   },
   "outputs": [],
   "source": [
    "# angles of CB-CA-X, where X is the next atom on the backbone\n",
    "cbangles = np.array([[ cbs[0], cas[0], bb[cai[0]+1] ]] +\n",
    "                   [[cbs[i], bb[cai[i]], bb[cai[i]-1] ] for i in range(1,len(cbs))])\n",
    "# just check \n",
    "# cbangles+1"
   ]
  },
  {
   "cell_type": "code",
   "execution_count": null,
   "id": "70603843-d4f4-44ce-b0a0-5579556ff31e",
   "metadata": {},
   "outputs": [],
   "source": [
    "cbdiheds = np.array([[ cbs[0], cas[0], bb[cai[0]+1], bb[cai[0]+2] ]] +\n",
    "                   [[cbs[i], bb[cai[i]], bb[cai[i]-1], bb[cai[i]-2]] for i in range(1,len(cbs))])\n",
    "#cbdiheds+1"
   ]
  },
  {
   "cell_type": "code",
   "execution_count": null,
   "id": "0d41b0ce-e5b1-480c-89c2-d5d512471b01",
   "metadata": {},
   "outputs": [],
   "source": [
    "# molecule model with explicit angles and dihedrals, and sparse distances\n",
    "# (don't bother with distances now)\n",
    "sparse_dists = asmsa.NBDistancesSparse(geom.shape[0], density=nb_density)\n",
    "mol=asmsa.Molecule(pdb=conf,n_atoms=geom.shape[0],\n",
    "                   angles=np.concatenate((angles,cbangles)),\n",
    "                   diheds=np.concatenate((diheds,cbdiheds)),\n",
    "                   fms=[sparse_dists]) "
   ]
  },
  {
   "cell_type": "code",
   "execution_count": null,
   "id": "51b1ec66-64dd-4165-9dba-977a39628aa9",
   "metadata": {},
   "outputs": [],
   "source": [
    "model = testm\n",
    "\n",
    "with tempfile.NamedTemporaryFile() as onnx:\n",
    "#    tf2onnx.convert.from_keras(model.enc,output_path=onnx.name)\n",
    "    _convert_to_onnx(model.enc,onnx.name)\n",
    "    torch_encoder = onnx2torch.convert(onnx.name)\n",
    "\n",
    "\n",
    "# XXX: we rely on determinism of the model creation, it must be the same as in prepare.ipynb\n",
    "# better to store it there in onnx, and reload here\n",
    "\n",
    "sparse_dists = asmsa.NBDistancesSparse(geom.shape[0], density=nb_density)\n",
    "\n",
    "mol_model = mol.get_model()"
   ]
  },
  {
   "cell_type": "code",
   "execution_count": null,
   "id": "49affbf5-4e2c-46d3-8b1c-d6cb1b3218e9",
   "metadata": {},
   "outputs": [],
   "source": [
    "test_geom = np.stack(list(tf.data.Dataset.load('datasets/geoms/test')))\n",
    "test_geom.shape"
   ]
  },
  {
   "cell_type": "code",
   "execution_count": null,
   "id": "67e57cba-b0a2-4c70-b6b6-02c767714bec",
   "metadata": {},
   "outputs": [],
   "source": [
    "mol_model = torch.jit.load('features.pt')\n",
    "torch_encoder = torch.jit.load('encoder.pt')"
   ]
  },
  {
   "cell_type": "code",
   "execution_count": null,
   "id": "67a611e5-ec9c-4f68-af90-10d2181cc906",
   "metadata": {},
   "outputs": [],
   "source": [
    "train_mean = np.loadtxt('datasets/intcoords/mean.txt',dtype=np.float32)\n",
    "train_scale = np.loadtxt('datasets/intcoords/scale.txt',dtype=np.float32)\n"
   ]
  },
  {
   "cell_type": "code",
   "execution_count": null,
   "id": "229cca43-7501-4a99-a031-97a9f9d7e1d3",
   "metadata": {},
   "outputs": [],
   "source": [
    "class CompleteModel(torch.nn.Module):\n",
    "    def __init__(self, mol_model, torch_encoder, train_mean, train_scale):\n",
    "        super(CompleteModel, self).__init__()\n",
    "        self.mol_model = mol_model\n",
    "        self.torch_encoder = torch_encoder\n",
    "        # Convert train_mean and train_scale from numpy to torch tensors\n",
    "        self.train_mean = torch.from_numpy(np.reshape(train_mean, (-1, 1)))\n",
    "        self.train_scale = torch.from_numpy(np.reshape(train_scale, (-1, 1)))\n",
    "\n",
    "    def forward(self, x):\n",
    "        mol_output = self.mol_model(x)\n",
    "        normalized = (mol_output - self.train_mean) / self.train_scale\n",
    "        reshaped = normalized.reshape(-1)\n",
    "        return self.torch_encoder(reshaped)\n",
    "\n",
    "# Initialize the CompleteModel class with your components\n",
    "complete_model = CompleteModel(mol_model, torch_encoder, train_mean, train_scale)\n",
    "\n",
    "# Save the Torch model using TorchScript trace\n",
    "example_input = torch.randn([test_geom.shape[0], test_geom.shape[1], 1])\n",
    "traced_script_module = torch.jit.trace(complete_model, example_input)\n",
    "\n",
    "model_file_name = \"model.pt\"\n",
    "traced_script_module.save(model_file_name)"
   ]
  },
  {
   "cell_type": "code",
   "execution_count": null,
   "id": "4693c35c-935d-49e8-a282-a62ae62074d7",
   "metadata": {},
   "outputs": [],
   "source": []
  }
 ],
 "metadata": {
  "kernelspec": {
   "display_name": "Python 3 (ipykernel)",
   "language": "python",
   "name": "python3"
  },
  "language_info": {
   "codemirror_mode": {
    "name": "ipython",
    "version": 3
   },
   "file_extension": ".py",
   "mimetype": "text/x-python",
   "name": "python",
   "nbconvert_exporter": "python",
   "pygments_lexer": "ipython3",
   "version": "3.10.11"
  }
 },
 "nbformat": 4,
 "nbformat_minor": 5
}
