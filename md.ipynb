{
 "cells": [
  {
   "cell_type": "markdown",
   "id": "e010668c-c7e3-4e1b-8491-72b0db91b5e1",
   "metadata": {},
   "source": [
    "# ASMSA: Run molecular dynamics with CV derived AAE model\n",
    "\n",
    "**Previous steps**\n",
    "- [prepare.ipynb](prepare.ipynb): Download and sanity check input files\n",
    "- [train.ipynb](train.ipynb): Use results of previous tuning in more thorough training|\n",
    "- [tune.ipynb](tune.ipynb): Perform initial hyperparameter tuning for this molecule\n",
    "\n"
   ]
  },
  {
   "cell_type": "code",
   "execution_count": null,
   "id": "3af4440f-7706-4fc6-b6b5-7287fae43fe4",
   "metadata": {},
   "outputs": [],
   "source": [
    "# %cd villin"
   ]
  },
  {
   "cell_type": "code",
   "execution_count": null,
   "id": "c8e433f2-99e6-4cd4-8a58-e5c614ffe5dd",
   "metadata": {},
   "outputs": [],
   "source": [
    "!cp ../*.mdp ."
   ]
  },
  {
   "cell_type": "code",
   "execution_count": 1,
   "id": "f6efc760-c93b-4848-89d0-442cfe37247d",
   "metadata": {},
   "outputs": [
    {
     "name": "stderr",
     "output_type": "stream",
     "text": [
      "2025-04-14 21:08:31.486011: E external/local_xla/xla/stream_executor/cuda/cuda_fft.cc:485] Unable to register cuFFT factory: Attempting to register factory for plugin cuFFT when one has already been registered\n",
      "2025-04-14 21:08:31.499929: E external/local_xla/xla/stream_executor/cuda/cuda_dnn.cc:8454] Unable to register cuDNN factory: Attempting to register factory for plugin cuDNN when one has already been registered\n",
      "2025-04-14 21:08:31.504053: E external/local_xla/xla/stream_executor/cuda/cuda_blas.cc:1452] Unable to register cuBLAS factory: Attempting to register factory for plugin cuBLAS when one has already been registered\n",
      "2025-04-14 21:08:31.514785: I tensorflow/core/platform/cpu_feature_guard.cc:210] This TensorFlow binary is optimized to use available CPU instructions in performance-critical operations.\n",
      "To enable the following instructions: AVX2 FMA, in other operations, rebuild TensorFlow with the appropriate compiler flags.\n",
      "2025-04-14 21:08:32.271044: W tensorflow/compiler/tf2tensorrt/utils/py_utils.cc:38] TF-TRT Warning: Could not find TensorRT\n"
     ]
    },
    {
     "data": {
      "text/plain": [
       "[LogicalDevice(name='/device:CPU:0', device_type='CPU')]"
      ]
     },
     "execution_count": 1,
     "metadata": {},
     "output_type": "execute_result"
    }
   ],
   "source": [
    "#avoid TF to consume GPU memory\n",
    "import tensorflow as tf\n",
    "tf.config.set_visible_devices([], 'GPU')\n",
    "tf.config.list_logical_devices()"
   ]
  },
  {
   "cell_type": "code",
   "execution_count": 2,
   "id": "abf8df38-2c34-4787-b9fc-e15f17440ea7",
   "metadata": {},
   "outputs": [
    {
     "name": "stdout",
     "output_type": "stream",
     "text": [
      "NOTE: Some configuration directories are not set up yet: \n",
      "\t/home/jovyan/.gromacswrapper\n",
      "\t/home/jovyan/.gromacswrapper/qscripts\n",
      "\t/home/jovyan/.gromacswrapper/templates\n",
      "NOTE: You can create the configuration file and directories with:\n",
      "\t>>> import gromacs\n",
      "\t>>> gromacs.config.setup()\n"
     ]
    },
    {
     "name": "stderr",
     "output_type": "stream",
     "text": [
      "pod/asmsa-gmx-34032-5d22x condition met\n",
      "pod/asmsa-gmx-34032-fbzt8 condition met\n"
     ]
    }
   ],
   "source": [
    "import asmsa\n",
    "import os\n",
    "import re\n",
    "import numpy as np\n",
    "import matplotlib.pyplot as plt\n",
    "import gromacs as gmx"
   ]
  },
  {
   "cell_type": "code",
   "execution_count": 3,
   "id": "e57cf932-74b9-4eba-9c6f-c9fa9109497d",
   "metadata": {},
   "outputs": [],
   "source": [
    "ompthreads=4\n",
    "mpiranks=1\n",
    "gpus=1"
   ]
  },
  {
   "cell_type": "code",
   "execution_count": 4,
   "id": "8d3e9146-c707-4d82-8b71-b5f0c5e0ca9c",
   "metadata": {},
   "outputs": [],
   "source": [
    "# Kubernetes deployment\n",
    "mdrunner=gmx.MDrunnerK8s()\n",
    "\n",
    "def mdrun(**kwargs):\n",
    "    mdrunner.run(pre={'omp':ompthreads,'mpi':mpiranks,'gpus':gpus}, mdrunargs={**kwargs,'ntomp':ompthreads,'pin':'on'},ncores=mpiranks)\n"
   ]
  },
  {
   "cell_type": "code",
   "execution_count": 5,
   "id": "6a9a6c92-cd12-4584-97d7-e7d5d942d922",
   "metadata": {},
   "outputs": [
    {
     "data": {
      "text/plain": [
       "\"\\nmdrunner=gmx.run.MDrunner()\\n\\n# XXX: no MPI support so far\\ndef mdrun(**kwargs):\\n    mdrunner.run(mdrunargs={**kwargs,'ntomp':ompthreads,'pin':'on'})\\n\""
      ]
     },
     "execution_count": 5,
     "metadata": {},
     "output_type": "execute_result"
    }
   ],
   "source": [
    "# alternative local deployment\n",
    "'''\n",
    "mdrunner=gmx.run.MDrunner()\n",
    "\n",
    "# XXX: no MPI support so far\n",
    "def mdrun(**kwargs):\n",
    "    mdrunner.run(mdrunargs={**kwargs,'ntomp':ompthreads,'pin':'on'})\n",
    "'''"
   ]
  },
  {
   "cell_type": "code",
   "execution_count": 6,
   "id": "07975d16-2fb2-4cce-8c00-235a40e88582",
   "metadata": {},
   "outputs": [],
   "source": [
    "exec(open('inputs.py').read())\n",
    "\n",
    "fulltop = base + '-full.top'"
   ]
  },
  {
   "cell_type": "code",
   "execution_count": 7,
   "id": "235b3686-bf64-4dac-8022-0a58186ee74c",
   "metadata": {},
   "outputs": [],
   "source": [
    "# on fresh run only!\n",
    "!cp {topol} {fulltop}"
   ]
  },
  {
   "cell_type": "code",
   "execution_count": 8,
   "id": "92fbf537-c055-4676-8ae7-eca3d2011369",
   "metadata": {},
   "outputs": [
    {
     "name": "stderr",
     "output_type": "stream",
     "text": [
      "pod/asmsa-gmx-34032-5d22x condition met\n",
      "pod/asmsa-gmx-34032-fbzt8 condition met\n"
     ]
    },
    {
     "name": "stdout",
     "output_type": "stream",
     "text": [
      "Note that major changes are planned in future for editconf, to improve usability and utility.\n",
      "Read 272 atoms\n",
      "Volume: 79.9182 nm^3, corresponds to roughly 35900 electrons\n",
      "No velocities found\n",
      "    system size :  1.786  2.082  1.574 (nm)\n",
      "    diameter    :  2.245               (nm)\n",
      "    center      :  2.159  2.162  2.161 (nm)\n",
      "    box vectors :  4.307  4.307  4.307 (nm)\n",
      "    box angles  :  90.00  90.00  90.00 (degrees)\n",
      "    box volume  :  79.92               (nm^3)\n",
      "    shift       :  2.525  2.522  0.047 (nm)\n",
      "new center      :  4.684  4.684  2.208 (nm)\n",
      "new box vectors :  6.245  6.245  6.245 (nm)\n",
      "new box angles  :  60.00  60.00  90.00 (degrees)\n",
      "new box volume  : 172.25               (nm^3)\n"
     ]
    },
    {
     "name": "stderr",
     "output_type": "stream",
     "text": [
      "            :-) GROMACS - gmx editconf, 2023.2-plumed_2.10.0_dev (-:\n",
      "\n",
      "Executable:   /gromacs/AVX2_256_ts/bin/gmx\n",
      "Data prefix:  /gromacs/AVX2_256_ts\n",
      "Working dir:  /mnt/ASMSA\n",
      "Command line:\n",
      "  gmx editconf -f ../ASMSA.final/trpcage_npt400_nH.gro -o ../ASMSA.final/trpcage_npt400_nH-box.gro -c -d 2.0 -bt dodecahedron\n",
      "\n",
      "\n",
      "GROMACS reminds you: \"Take away paradox from the thinker and you have a professor.\" (Soren Kirkegaard)\n",
      "\n"
     ]
    },
    {
     "data": {
      "text/plain": [
       "(0, None, None)"
      ]
     },
     "execution_count": 8,
     "metadata": {},
     "output_type": "execute_result"
    }
   ],
   "source": [
    "# Dodecahedron box of suitable size (adjust eventually)\n",
    "\n",
    "mdbox=2.0\n",
    "gmx.editconf(f=gro,o=f\"{base}-box.gro\",c=True,d=str(mdbox),bt=\"dodecahedron\")"
   ]
  },
  {
   "cell_type": "code",
   "execution_count": 9,
   "id": "959f7d2a-29d7-440a-b499-7163eb22f0c6",
   "metadata": {},
   "outputs": [
    {
     "name": "stderr",
     "output_type": "stream",
     "text": [
      "pod/asmsa-gmx-34032-5d22x condition met\n",
      "pod/asmsa-gmx-34032-fbzt8 condition met\n",
      "            :-) GROMACS - gmx solvate, 2023.2-plumed_2.10.0_dev (-:\n",
      "\n",
      "Executable:   /gromacs/AVX2_256_ts/bin/gmx\n",
      "Data prefix:  /gromacs/AVX2_256_ts\n",
      "Working dir:  /mnt/ASMSA\n",
      "Command line:\n",
      "  gmx solvate -cp ../ASMSA.final/trpcage_npt400_nH-box.gro -cs spc216.gro -o ../ASMSA.final/trpcage_npt400_nH-solv.gro -p ../ASMSA.final/trpcage_npt400_nH-full.top\n",
      "\n",
      "Reading solute configuration\n",
      "Reading solvent configuration\n",
      "\n",
      "Initialising inter-atomic distances...\n",
      "Generating solvent configuration\n",
      "Will generate new solvent configuration of 4x4x3 boxes\n",
      "Solvent box contains 20307 atoms in 6769 residues\n",
      "Removed 3384 solvent atoms due to solvent-solvent overlap\n",
      "Removed 258 solvent atoms due to solute-solvent overlap\n",
      "Sorting configuration\n",
      "Found 1 molecule type:\n",
      "    SOL (   3 atoms):  5555 residues\n",
      "Generated solvent containing 16665 atoms in 5555 residues\n",
      "Writing generated configuration to ../ASMSA.final/trpcage_npt400_nH-solv.gro\n",
      "\n",
      "Output configuration contains 16937 atoms in 5575 residues\n",
      "Volume                 :     172.248 (nm^3)\n",
      "Density                :     985.518 (g/l)\n",
      "Number of solvent molecules:   5555   \n",
      "\n",
      "Processing topology\n",
      "\n",
      "Back Off! I just backed up ../ASMSA.final/trpcage_npt400_nH-full.top to ../ASMSA.final/#trpcage_npt400_nH-full.top.1#\n",
      "\n",
      "GROMACS reminds you: \"I Need a Little Poison\" (Throwing Muses)\n",
      "\n"
     ]
    },
    {
     "name": "stdout",
     "output_type": "stream",
     "text": [
      "\n",
      "WARNING: Masses and atomic (Van der Waals) radii will be guessed\n",
      "         based on residue and atom names, since they could not be\n",
      "         definitively assigned from the information in your input\n",
      "         files. These guessed numbers might deviate from the mass\n",
      "         and radius of the atom type. Please check the output\n",
      "         files if necessary. Note, that this functionality may\n",
      "         be removed in a future GROMACS version. Please, consider\n",
      "         using another file format for your input.\n",
      "\n",
      "NOTE: From version 5.0 gmx solvate uses the Van der Waals radii\n",
      "from the source below. This means the results may be different\n",
      "compared to previous GROMACS versions.\n",
      "\n",
      "++++ PLEASE READ AND CITE THE FOLLOWING REFERENCE ++++\n",
      "A. Bondi\n",
      "van der Waals Volumes and Radii\n",
      "J. Phys. Chem. 68 (1964) pp. 441-451\n",
      "-------- -------- --- Thank You --- -------- --------\n",
      "\n",
      "Adding line for 5555 solvent molecules with resname (SOL) to topology file (../ASMSA.final/trpcage_npt400_nH-full.top)\n"
     ]
    },
    {
     "data": {
      "text/plain": [
       "(0, None, None)"
      ]
     },
     "execution_count": 9,
     "metadata": {},
     "output_type": "execute_result"
    }
   ],
   "source": [
    "# Solvate\n",
    "gmx.solvate(cp=f\"{base}-box.gro\",cs=\"spc216.gro\",o=f\"{base}-solv.gro\",p=fulltop)"
   ]
  },
  {
   "cell_type": "code",
   "execution_count": 10,
   "id": "22bcf6be-127d-43a0-bbf3-3a809b76c8f9",
   "metadata": {},
   "outputs": [
    {
     "name": "stderr",
     "output_type": "stream",
     "text": [
      "pod/asmsa-gmx-34032-5d22x condition met\n",
      "pod/asmsa-gmx-34032-fbzt8 condition met\n"
     ]
    },
    {
     "name": "stdout",
     "output_type": "stream",
     "text": [
      "Setting the LD random seed to -70274\n",
      "\n",
      "Generated 2145 of the 2145 non-bonded parameter combinations\n",
      "\n",
      "Generated 2145 of the 2145 1-4 parameter combinations\n",
      "\n",
      "Excluding 3 bonded neighbours molecule type 'Protein'\n",
      "\n",
      "Excluding 2 bonded neighbours molecule type 'SOL'\n",
      "Analysing residue names:\n",
      "There are:    20    Protein residues\n",
      "There are:  5555      Water residues\n",
      "Analysing Protein...\n",
      "\n",
      "This run will generate roughly 1 Mb of data\n"
     ]
    },
    {
     "name": "stderr",
     "output_type": "stream",
     "text": [
      "             :-) GROMACS - gmx grompp, 2023.2-plumed_2.10.0_dev (-:\n",
      "\n",
      "Executable:   /gromacs/AVX2_256_ts/bin/gmx\n",
      "Data prefix:  /gromacs/AVX2_256_ts\n",
      "Working dir:  /mnt/ASMSA\n",
      "Command line:\n",
      "  gmx grompp -f trpcage_md_data/ions.mdp -c ../ASMSA.final/trpcage_npt400_nH-solv.gro -p ../ASMSA.final/trpcage_npt400_nH-full.top -o ions.tpr\n",
      "\n",
      "Ignoring obsolete mdp entry 'ns_type'\n",
      "\n",
      "NOTE 1 [file trpcage_md_data/ions.mdp]:\n",
      "  With Verlet lists the optimal nstlist is >= 10, with GPUs >= 20. Note\n",
      "  that with the Verlet scheme, nstlist has no effect on the accuracy of\n",
      "  your simulation.\n",
      "\n",
      "Generating 1-4 interactions: fudge = 0.5\n",
      "\n",
      "NOTE 2 [file trpcage_npt400_nH-full.top, line 2701]:\n",
      "  System has non-zero total charge: -1.000000\n",
      "  Total charge should normally be an integer. See\n",
      "  http://www.gromacs.org/Documentation/Floating_Point_Arithmetic\n",
      "  for discussion on how close it should be to an integer.\n",
      "\n",
      "\n",
      "\n",
      "Number of degrees of freedom in T-Coupling group rest is 34143.00\n",
      "The integrator does not provide a ensemble temperature, there is no system ensemble temperature\n",
      "\n",
      "NOTE 3 [file trpcage_md_data/ions.mdp]:\n",
      "  You are using a plain Coulomb cut-off, which might produce artifacts.\n",
      "  You might want to consider using PME electrostatics.\n",
      "\n",
      "\n",
      "\n",
      "There were 3 NOTEs\n",
      "\n",
      "GROMACS reminds you: \"printf(\"%d is the year of the linux desktop\", year+1);\" (Anonymous)\n",
      "\n"
     ]
    },
    {
     "data": {
      "text/plain": [
       "(0, None, None)"
      ]
     },
     "execution_count": 10,
     "metadata": {},
     "output_type": "execute_result"
    }
   ],
   "source": [
    "# Add ions\n",
    "gmx.grompp(f='trpcage_md_data/ions.mdp',c=f\"{base}-solv.gro\",p=fulltop,o=\"ions.tpr\")"
   ]
  },
  {
   "cell_type": "code",
   "execution_count": 11,
   "id": "3bf326ec-13fe-4ade-809d-9b9d5147a0e6",
   "metadata": {},
   "outputs": [
    {
     "name": "stderr",
     "output_type": "stream",
     "text": [
      "pod/asmsa-gmx-34032-5d22x condition met\n",
      "pod/asmsa-gmx-34032-fbzt8 condition met\n",
      "             :-) GROMACS - gmx select, 2023.2-plumed_2.10.0_dev (-:\n",
      "\n",
      "Executable:   /gromacs/AVX2_256_ts/bin/gmx\n",
      "Data prefix:  /gromacs/AVX2_256_ts\n",
      "Working dir:  /mnt/ASMSA\n",
      "Command line:\n",
      "  gmx select -s ions.tpr -on sol.ndx -select SOL\n",
      "\n",
      "Reading file ions.tpr, VERSION 2023.2-plumed_2.10.0_dev (single precision)\n",
      "Reading file ions.tpr, VERSION 2023.2-plumed_2.10.0_dev (single precision)\n",
      "Analyzed topology coordinates\n",
      "\n",
      "GROMACS reminds you: \"There is just one thing I can promise you about the outer-space program: your tax dollar will go farther.\" (Wernher von Braun)\n",
      "\n",
      "pod/asmsa-gmx-34032-5d22x condition met\n",
      "pod/asmsa-gmx-34032-fbzt8 condition met\n"
     ]
    },
    {
     "name": "stdout",
     "output_type": "stream",
     "text": [
      "Will try to add 1 NA ions and 0 CL ions.\n",
      "Select a continuous group of solvent molecules\n",
      "\n",
      "Processing topology\n",
      "Replacing 1 solute molecules in topology file (../ASMSA.final/trpcage_npt400_nH-full.top)  by 1 NA and 0 CL ions.\n"
     ]
    },
    {
     "name": "stderr",
     "output_type": "stream",
     "text": [
      "             :-) GROMACS - gmx genion, 2023.2-plumed_2.10.0_dev (-:\n",
      "\n",
      "Executable:   /gromacs/AVX2_256_ts/bin/gmx\n",
      "Data prefix:  /gromacs/AVX2_256_ts\n",
      "Working dir:  /mnt/ASMSA\n",
      "Command line:\n",
      "  gmx genion -s ions.tpr -n sol.ndx -o ../ASMSA.final/trpcage_npt400_nH-ions.gro -p ../ASMSA.final/trpcage_npt400_nH-full.top -pname NA -nname CL -neutral\n",
      "\n",
      "Reading file ions.tpr, VERSION 2023.2-plumed_2.10.0_dev (single precision)\n",
      "Reading file ions.tpr, VERSION 2023.2-plumed_2.10.0_dev (single precision)\n",
      "Group     0 (            SOL) has 16665 elements\n",
      "There is one group in the index\n",
      "Number of (3-atomic) solvent molecules: 5555\n",
      "\n",
      "Back Off! I just backed up ../ASMSA.final/trpcage_npt400_nH-full.top to ../ASMSA.final/#trpcage_npt400_nH-full.top.2#\n",
      "Using random seed -8389410.\n",
      "Replacing solvent molecule 5498 (atom 16766) with NA\n",
      "\n",
      "\n",
      "GROMACS reminds you: \"You Could Make More Money As a Butcher\" (F. Zappa)\n",
      "\n"
     ]
    },
    {
     "data": {
      "text/plain": [
       "(0, None, None)"
      ]
     },
     "execution_count": 11,
     "metadata": {},
     "output_type": "execute_result"
    }
   ],
   "source": [
    "gmx.select(s=\"ions.tpr\",on='sol.ndx',select='SOL')\n",
    "gmx.genion(s=\"ions.tpr\",n=\"sol.ndx\",o=f\"{base}-ions.gro\",p=fulltop,pname=\"NA\",nname=\"CL\",neutral=True)"
   ]
  },
  {
   "cell_type": "code",
   "execution_count": 12,
   "id": "a317e83a-f032-4fa2-93b5-0d68dfb8b341",
   "metadata": {},
   "outputs": [
    {
     "name": "stderr",
     "output_type": "stream",
     "text": [
      "pod/asmsa-gmx-34032-5d22x condition met\n",
      "pod/asmsa-gmx-34032-fbzt8 condition met\n"
     ]
    },
    {
     "name": "stdout",
     "output_type": "stream",
     "text": [
      "Setting the LD random seed to -193609810\n",
      "\n",
      "Generated 2145 of the 2145 non-bonded parameter combinations\n",
      "\n",
      "Generated 2145 of the 2145 1-4 parameter combinations\n",
      "\n",
      "Excluding 3 bonded neighbours molecule type 'Protein'\n",
      "\n",
      "Excluding 2 bonded neighbours molecule type 'SOL'\n",
      "\n",
      "Excluding 1 bonded neighbours molecule type 'NA'\n",
      "Analysing residue names:\n",
      "There are:    20    Protein residues\n",
      "There are:  5554      Water residues\n",
      "There are:     1        Ion residues\n",
      "Analysing Protein...\n",
      "\n",
      "The largest distance between excluded atoms is 0.398 nm between atom 58 and 75\n",
      "Calculating fourier grid dimensions for X Y Z\n",
      "Using a fourier grid of 56x56x56, spacing 0.112 0.112 0.112\n",
      "\n",
      "Estimate for the relative computational load of the PME mesh part: 0.30\n",
      "\n",
      "This run will generate roughly 1 Mb of data\n"
     ]
    },
    {
     "name": "stderr",
     "output_type": "stream",
     "text": [
      "             :-) GROMACS - gmx grompp, 2023.2-plumed_2.10.0_dev (-:\n",
      "\n",
      "Executable:   /gromacs/AVX2_256_ts/bin/gmx\n",
      "Data prefix:  /gromacs/AVX2_256_ts\n",
      "Working dir:  /mnt/ASMSA\n",
      "Command line:\n",
      "  gmx grompp -f trpcage_md_data/minim-sol.mdp -c ../ASMSA.final/trpcage_npt400_nH-ions.gro -p ../ASMSA.final/trpcage_npt400_nH-full.top -o em.tpr\n",
      "\n",
      "Ignoring obsolete mdp entry 'ns_type'\n",
      "\n",
      "NOTE 1 [file trpcage_md_data/minim-sol.mdp]:\n",
      "  With Verlet lists the optimal nstlist is >= 10, with GPUs >= 20. Note\n",
      "  that with the Verlet scheme, nstlist has no effect on the accuracy of\n",
      "  your simulation.\n",
      "\n",
      "Generating 1-4 interactions: fudge = 0.5\n",
      "Number of degrees of freedom in T-Coupling group rest is 34140.00\n",
      "The integrator does not provide a ensemble temperature, there is no system ensemble temperature\n",
      "\n",
      "There was 1 NOTE\n",
      "\n",
      "GROMACS reminds you: \"We all understand the twinge of discomfort at the thought that we share a common ancestor with the apes. No one can embarrass you like a relative.\" (Neal DeGrasse Tyson)\n",
      "\n"
     ]
    },
    {
     "data": {
      "text/plain": [
       "(0, None, None)"
      ]
     },
     "execution_count": 12,
     "metadata": {},
     "output_type": "execute_result"
    }
   ],
   "source": [
    "# Energy minimization\n",
    "\n",
    "#gmx.start(f\"grompp -f minim-sol.mdp -c {base}-ions.gro -p {base}.top -o em.tpr\",wait=True,delete=True)\n",
    "gmx.grompp(f=\"trpcage_md_data/minim-sol.mdp\",c=f\"{base}-ions.gro\",p=fulltop,o=\"em.tpr\")"
   ]
  },
  {
   "cell_type": "code",
   "execution_count": 15,
   "id": "34cc303b-7354-4be0-88ad-691ef6faaf75",
   "metadata": {},
   "outputs": [
    {
     "name": "stdout",
     "output_type": "stream",
     "text": [
      "job.batch/gmx-e25bda9f-016b-4cb9-9a86-bcb1cdc1ba64 created\n"
     ]
    },
    {
     "name": "stderr",
     "output_type": "stream",
     "text": [
      "error: no matching resources found\n"
     ]
    },
    {
     "name": "stdout",
     "output_type": "stream",
     "text": [
      "job.batch \"gmx-e25bda9f-016b-4cb9-9a86-bcb1cdc1ba64\" deleted\n"
     ]
    },
    {
     "name": "stderr",
     "output_type": "stream",
     "text": [
      "Unable to use a TTY - input is not a terminal or the right kind of file\n",
      "Error from server (BadRequest): pod gmx-e25bda9f-016b-4cb9-9a86-bcb1cdc1ba64-8crs8 does not have a host assigned\n"
     ]
    }
   ],
   "source": [
    "# This job may run a bit longer, start it in background, with more cores and GPU\n",
    "\n",
    "#gmx.start(f\"mdrun -v -deffnm em -pin on\",cores=4,gpus=1)\n",
    "mdrun(deffnm=\"em\")"
   ]
  },
  {
   "cell_type": "code",
   "execution_count": null,
   "id": "1317b147-8b0f-4d9f-9a36-70ad3389e6e4",
   "metadata": {},
   "outputs": [],
   "source": [
    "# Isothermal-isochoric equilibration, following the same job pattern\n",
    "gmx.grompp(f=\"trpcage_md_data/nvt.mdp\",c=\"em.gro\",r=\"em.gro\",p=fulltop,o=\"nvt.tpr\")"
   ]
  },
  {
   "cell_type": "code",
   "execution_count": null,
   "id": "75563888-c51e-4450-b5f1-cadd7eda5eb3",
   "metadata": {},
   "outputs": [],
   "source": [
    "mdrun(deffnm='nvt')"
   ]
  },
  {
   "cell_type": "code",
   "execution_count": null,
   "id": "4dd09e4b-5595-4d93-a561-f3041f603bfb",
   "metadata": {},
   "outputs": [],
   "source": [
    "# And isothermal-isobaric equilibration\n",
    "gmx.grompp(f='npt.mdp',c='nvt.gro',r='nvt.gro',t='nvt.cpt',p=fulltop,o='npt.tpr')"
   ]
  },
  {
   "cell_type": "code",
   "execution_count": null,
   "id": "e0de4e93-247a-47e3-921f-d9104333d537",
   "metadata": {},
   "outputs": [],
   "source": [
    "mdrun(deffnm='npt')"
   ]
  },
  {
   "cell_type": "code",
   "execution_count": null,
   "id": "aa139581-58e9-4d49-a520-a57cb04f7f57",
   "metadata": {},
   "outputs": [],
   "source": [
    "# Extract temperature, pressure and density from the trajectories and plot them\n",
    "gmx.energy(f='npt.edr',o='press.xvg',input='Pressure')\n",
    "gmx.energy(f='npt.edr',o='dens.xvg',input='Density')\n",
    "gmx.energy(f='npt.edr',o='temp.xvg',input='Temperature')"
   ]
  },
  {
   "cell_type": "code",
   "execution_count": null,
   "id": "650c22c0-0579-4b02-ba22-5916cc301a76",
   "metadata": {},
   "outputs": [],
   "source": [
    "temp = np.loadtxt('temp.xvg',comments=['#','@'])\n",
    "press = np.loadtxt('press.xvg',comments=['#','@'])\n",
    "dens = np.loadtxt('dens.xvg',comments=['#','@'])\n",
    "\n",
    "plt.figure(figsize=(15,9))\n",
    "plt.subplot(311)\n",
    "plt.plot(press[:,0],press[:,1])\n",
    "plt.title('isothermal-isobaric equilibration')\n",
    "plt.grid()\n",
    "#plt.xlabel('time (ps)')\n",
    "plt.ylabel(\"pressure (bar)\")\n",
    "\n",
    "plt.subplot(312)\n",
    "plt.ylabel('density (kg/m3)')\n",
    "plt.grid()\n",
    "plt.plot(dens[:,0],dens[:,1])\n",
    "\n",
    "plt.subplot(313)\n",
    "plt.xlabel('time (ps)')\n",
    "plt.ylabel('temperature (K)')\n",
    "plt.grid()\n",
    "plt.plot(temp[:,0],temp[:,1])\n",
    "\n",
    "plt.show()"
   ]
  },
  {
   "cell_type": "code",
   "execution_count": null,
   "id": "19529117-aa22-4132-bf18-d090caea0f93",
   "metadata": {},
   "outputs": [],
   "source": [
    "# Now we are ready to run metadynamics with plumed.dat generated in train.ipynb\n",
    "# Checkpoints are stored, hence the simulation can be restarted if it gets killed\n",
    "#1 m\n",
    "\n",
    "#mdsteps=500000000\n",
    "\n",
    "# 500 ns\n",
    "mdsteps=250000000\n",
    "\n",
    "# 10 ns\n",
    "#mdsteps=5000000\n",
    "\n",
    "# 100 ps\n",
    "#mdsteps=50000"
   ]
  },
  {
   "cell_type": "code",
   "execution_count": null,
   "id": "3cf5499f-1467-47a1-9ca5-b2be7e9238f3",
   "metadata": {},
   "outputs": [],
   "source": [
    "with open('md.mdp','w') as mdp:\n",
    "    mdp.write(f'''\n",
    "integrator              = md        ; leap-frog integrator\n",
    "dt                      = 0.002     ; 2 fs\n",
    "; Output control\n",
    "nstxout                 = 0         ; suppress bulky .trr file by specifying \n",
    "nstvout                 = 0         ; 0 for output frequency of nstxout,\n",
    "nstfout                 = 0         ; nstvout, and nstfout\n",
    "nstenergy               = 5000      ; save energies every 10.0 ps\n",
    "nstlog                  = 5000      ; update log file every 10.0 ps\n",
    "nstxout-compressed      = 5000      ; save compressed coordinates every 10.0 ps\n",
    "; compressed-x-grps       = System    ; save the whole system\n",
    "compressed-x-grps = Protein\n",
    "; Bond parameters\n",
    "continuation            = yes       ; Restarting after NPT \n",
    "constraint_algorithm    = lincs     ; holonomic constraints \n",
    "constraints             = h-bonds   ; bonds involving H are constrained\n",
    "lincs_iter              = 1         ; accuracy of LINCS\n",
    "lincs_order             = 4         ; also related to accuracy\n",
    "; Neighborsearching\n",
    "cutoff-scheme           = Verlet    ; Buffered neighbor searching\n",
    "ns_type                 = grid      ; search neighboring grid cells\n",
    "nstlist                 = 10        ; 20 fs, largely irrelevant with Verlet scheme\n",
    "rcoulomb                = 1.0       ; short-range electrostatic cutoff (in nm)\n",
    "rvdw                    = 1.0       ; short-range van der Waals cutoff (in nm)\n",
    "; Electrostatics\n",
    "coulombtype             = PME       ; Particle Mesh Ewald for long-range electrostatics\n",
    "pme_order               = 4         ; cubic interpolation\n",
    "fourierspacing          = 0.16      ; grid spacing for FFT\n",
    "; Temperature coupling is on\n",
    "tcoupl                  = V-rescale             ; modified Berendsen thermostat\n",
    "tc-grps                 = Protein Non-Protein   ; two coupling groups - more accurate\n",
    "tau_t                   = 0.1     0.1           ; time constant, in ps\n",
    "ref_t                   = 300     300           ; reference temperature, one for each group, in K\n",
    "; Pressure coupling is on\n",
    "pcoupl                  = Parrinello-Rahman     ; Pressure coupling on in NPT\n",
    "pcoupltype              = isotropic             ; uniform scaling of box vectors\n",
    "tau_p                   = 2.0                   ; time constant, in ps\n",
    "ref_p                   = 1.0                   ; reference pressure, in bar\n",
    "compressibility         = 4.5e-5                ; isothermal compressibility of water, bar^-1\n",
    "; Periodic boundary conditions\n",
    "pbc                     = xyz       ; 3-D PBC\n",
    "; Dispersion correction\n",
    "DispCorr                = EnerPres  ; account for cut-off vdW scheme\n",
    "; Velocity generation\n",
    "gen_vel                 = no        ; Velocity generation is off \n",
    "\n",
    "nsteps = {mdsteps}\n",
    "''')"
   ]
  },
  {
   "cell_type": "code",
   "execution_count": null,
   "id": "687eba8e-9423-43a8-bb5b-3fca2d2d0608",
   "metadata": {},
   "outputs": [],
   "source": [
    "gmx.grompp(f='md.mdp',c='trpcage_md_data/npt.gro',t='trpcage_md_data/npt.cpt',p=fulltop,o='md.tpr')"
   ]
  },
  {
   "cell_type": "code",
   "execution_count": null,
   "id": "d6df7af8-1733-4c4b-8319-ceb6d0b9c20e",
   "metadata": {},
   "outputs": [],
   "source": [
    "!touch HILLS\n",
    "#mdrun(deffnm='md',plumed='plumed.dat',cpi='md.cpt')\n",
    "#mdrun(deffnm='md')"
   ]
  },
  {
   "cell_type": "code",
   "execution_count": null,
   "id": "ba874d7a-992a-4677-a594-03f25bafef76",
   "metadata": {},
   "outputs": [],
   "source": [
    "mdrunner.prehook(mpi=4,omp=4,gpus=1)"
   ]
  },
  {
   "cell_type": "code",
   "execution_count": null,
   "id": "12025b09-aa0f-4b22-aaff-31e6188e3e71",
   "metadata": {},
   "outputs": [],
   "source": [
    "gmx.trjconv(f='md.xtc',s=base+'-box.gro',pbc='nojump',input='Protein Protein'.split(),o='pbc.xtc')"
   ]
  },
  {
   "cell_type": "code",
   "execution_count": null,
   "id": "c9caa397-5ea7-47fb-a681-96bac3261a14",
   "metadata": {},
   "outputs": [],
   "source": [
    "gmx.trjconv(f='pbc.xtc',s=base+'-box.gro',fit='rot+trans',input='Protein Protein'.split(),o='fit.xtc')"
   ]
  },
  {
   "cell_type": "code",
   "execution_count": null,
   "id": "9ba3280c-4b1b-4057-a9f7-f0c20db3c508",
   "metadata": {},
   "outputs": [],
   "source": []
  },
  {
   "cell_type": "code",
   "execution_count": null,
   "id": "55f27c90-370a-431b-b612-5a0fb652017b",
   "metadata": {},
   "outputs": [],
   "source": [
    "import mdtraj as md\n",
    "tr = md.load('fit.xtc',top=base+'-box.gro')"
   ]
  },
  {
   "cell_type": "code",
   "execution_count": null,
   "id": "943f2cb5-7b83-422a-81c1-cf6fdb9b5cb4",
   "metadata": {},
   "outputs": [],
   "source": [
    "import nglview as nv\n",
    "nv.show_mdtraj(tr)"
   ]
  },
  {
   "cell_type": "code",
   "execution_count": null,
   "id": "a1d7e00d-df71-4ef3-9049-1b65fe2c2dcf",
   "metadata": {},
   "outputs": [],
   "source": [
    "mdrunner.prehook(mpi=2,omp=4,gpus=1)"
   ]
  },
  {
   "cell_type": "code",
   "execution_count": null,
   "id": "5960a14a-5fb0-4ec9-a6e4-7c2fca6e2acc",
   "metadata": {},
   "outputs": [],
   "source": []
  },
  {
   "cell_type": "code",
   "execution_count": null,
   "id": "8daed5cf-08b5-4114-b15a-d8e040c3379b",
   "metadata": {},
   "outputs": [],
   "source": [
    "gmx.convert_tpr(s='md.tpr',o='md-new.tpr',extend=100000)\n",
    "!mv md-new.tpr md.tpr"
   ]
  },
  {
   "cell_type": "code",
   "execution_count": null,
   "id": "8fdc5f37-99b5-4e1f-84f1-f59d584f4293",
   "metadata": {},
   "outputs": [],
   "source": [
    "mdrun(deffnm='md',plumed='plumed.dat',cpi='md.cpt')"
   ]
  },
  {
   "cell_type": "code",
   "execution_count": null,
   "id": "b7e80eb0-0fdf-4f16-9d48-ef2115d6b341",
   "metadata": {},
   "outputs": [],
   "source": []
  }
 ],
 "metadata": {
  "kernelspec": {
   "display_name": "Python 3 (ipykernel)",
   "language": "python",
   "name": "python3"
  },
  "language_info": {
   "codemirror_mode": {
    "name": "ipython",
    "version": 3
   },
   "file_extension": ".py",
   "mimetype": "text/x-python",
   "name": "python",
   "nbconvert_exporter": "python",
   "pygments_lexer": "ipython3",
   "version": "3.10.11"
  }
 },
 "nbformat": 4,
 "nbformat_minor": 5
}
