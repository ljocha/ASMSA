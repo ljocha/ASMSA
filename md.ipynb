{
 "cells": [
  {
   "cell_type": "markdown",
   "id": "0",
   "metadata": {},
   "source": [
    "# ASMSA: Run molecular dynamics with CV derived AAE model\n",
    "\n",
    "**Previous steps**\n",
    "- [prepare.ipynb](prepare.ipynb): Download and sanity check input files\n",
    "- [train.ipynb](train.ipynb): Use results of previous tuning in more thorough training|\n",
    "- [tune.ipynb](tune.ipynb): Perform initial hyperparameter tuning for this molecule\n",
    "\n"
   ]
  },
  {
   "cell_type": "code",
   "execution_count": null,
   "id": "1",
   "metadata": {},
   "outputs": [],
   "source": [
    "# %cd villin"
   ]
  },
  {
   "cell_type": "code",
   "execution_count": null,
   "id": "2",
   "metadata": {},
   "outputs": [],
   "source": [
    "!cp ../*.mdp ."
   ]
  },
  {
   "cell_type": "code",
   "execution_count": null,
   "id": "3",
   "metadata": {},
   "outputs": [],
   "source": [
    "#avoid TF to consume GPU memory\n",
    "import tensorflow as tf\n",
    "tf.config.set_visible_devices([], 'GPU')\n",
    "tf.config.list_logical_devices()"
   ]
  },
  {
   "cell_type": "code",
   "execution_count": null,
   "id": "4",
   "metadata": {},
   "outputs": [],
   "source": [
    "import asmsa\n",
    "import os\n",
    "import re\n",
    "import numpy as np\n",
    "import matplotlib.pyplot as plt\n",
    "import gromacs as gmx"
   ]
  },
  {
   "cell_type": "code",
   "execution_count": null,
   "id": "5",
   "metadata": {},
   "outputs": [],
   "source": [
    "ompthreads=4\n",
    "mpiranks=1\n",
    "gpus=1"
   ]
  },
  {
   "cell_type": "code",
   "execution_count": null,
   "id": "6",
   "metadata": {},
   "outputs": [],
   "source": [
    "# Kubernetes deployment\n",
    "mdrunner=gmx.MDrunnerK8s()\n",
    "\n",
    "def mdrun(**kwargs):\n",
    "    mdrunner.run(pre={'omp':ompthreads,'mpi':mpiranks,'gpus':gpus}, mdrunargs={**kwargs,'ntomp':ompthreads,'pin':'on'},ncores=mpiranks)\n"
   ]
  },
  {
   "cell_type": "code",
   "execution_count": null,
   "id": "7",
   "metadata": {},
   "outputs": [],
   "source": [
    "# alternative local deployment\n",
    "'''\n",
    "mdrunner=gmx.run.MDrunner()\n",
    "\n",
    "# XXX: no MPI support so far\n",
    "def mdrun(**kwargs):\n",
    "    mdrunner.run(mdrunargs={**kwargs,'ntomp':ompthreads,'pin':'on'})\n",
    "'''"
   ]
  },
  {
   "cell_type": "code",
   "execution_count": null,
   "id": "8",
   "metadata": {},
   "outputs": [],
   "source": [
    "exec(open('inputs.py').read())\n",
    "\n",
    "fulltop = base + '-full.top'"
   ]
  },
  {
   "cell_type": "code",
   "execution_count": null,
   "id": "9",
   "metadata": {},
   "outputs": [],
   "source": [
    "# on fresh run only!\n",
    "!cp {topol} {fulltop}"
   ]
  },
  {
   "cell_type": "code",
   "execution_count": null,
   "id": "10",
   "metadata": {},
   "outputs": [],
   "source": [
    "# Dodecahedron box of suitable size (adjust eventually)\n",
    "mdbox=2.0\n",
    "gmx.editconf(f=gro,o=f\"{base}-box.gro\",c=True,d=str(mdbox),bt=\"dodecahedron\")"
   ]
  },
  {
   "cell_type": "code",
   "execution_count": null,
   "id": "11",
   "metadata": {},
   "outputs": [],
   "source": [
    "# Solvate\n",
    "gmx.solvate(cp=f\"{base}-box.gro\",cs=\"spc216.gro\",o=f\"{base}-solv.gro\",p=fulltop)"
   ]
  },
  {
   "cell_type": "code",
   "execution_count": null,
   "id": "12",
   "metadata": {},
   "outputs": [],
   "source": [
    "# Add ions\n",
    "gmx.grompp(f='md_files/ions.mdp',c=f\"{base}-solv.gro\",p=fulltop,o=\"ions.tpr\")"
   ]
  },
  {
   "cell_type": "code",
   "execution_count": null,
   "id": "13",
   "metadata": {},
   "outputs": [],
   "source": [
    "gmx.select(s=\"ions.tpr\",on='sol.ndx',select='SOL')\n",
    "gmx.genion(s=\"ions.tpr\",n=\"sol.ndx\",o=f\"{base}-ions.gro\",p=fulltop,pname=\"NA\",nname=\"CL\",neutral=True)"
   ]
  },
  {
   "cell_type": "code",
   "execution_count": null,
   "id": "14",
   "metadata": {},
   "outputs": [],
   "source": [
    "# Energy minimization\n",
    "\n",
    "#gmx.start(f\"grompp -f minim-sol.mdp -c {base}-ions.gro -p {base}.top -o em.tpr\",wait=True,delete=True)\n",
    "gmx.grompp(f=\"md_files/minim-sol.mdp\",c=f\"{base}-ions.gro\",p=fulltop,o=\"em.tpr\")"
   ]
  },
  {
   "cell_type": "code",
   "execution_count": null,
   "id": "15",
   "metadata": {},
   "outputs": [],
   "source": [
    "# This job may run a bit longer, start it in background, with more cores and GPU\n",
    "\n",
    "#gmx.start(f\"mdrun -v -deffnm em -pin on\",cores=4,gpus=1)\n",
    "mdrun(deffnm=\"em\")"
   ]
  },
  {
   "cell_type": "code",
   "execution_count": null,
   "id": "16",
   "metadata": {},
   "outputs": [],
   "source": [
    "# Isothermal-isochoric equilibration, following the same job pattern\n",
    "gmx.grompp(f=\"md_files/nvt.mdp\",c=\"em.gro\",r=\"em.gro\",p=fulltop,o=\"nvt.tpr\")"
   ]
  },
  {
   "cell_type": "code",
   "execution_count": null,
   "id": "17",
   "metadata": {},
   "outputs": [],
   "source": [
    "mdrun(deffnm='nvt')"
   ]
  },
  {
   "cell_type": "code",
   "execution_count": null,
   "id": "18",
   "metadata": {},
   "outputs": [],
   "source": [
    "# And isothermal-isobaric equilibration\n",
    "gmx.grompp(f='md_files/npt.mdp',c='nvt.gro',r='nvt.gro',t='nvt.cpt',p=fulltop,o='npt.tpr')"
   ]
  },
  {
   "cell_type": "code",
   "execution_count": null,
   "id": "19",
   "metadata": {},
   "outputs": [],
   "source": [
    "mdrun(deffnm='npt')"
   ]
  },
  {
   "cell_type": "code",
   "execution_count": null,
   "id": "20",
   "metadata": {},
   "outputs": [],
   "source": [
    "# Extract temperature, pressure and density from the trajectories and plot them\n",
    "gmx.energy(f='npt.edr',o='press.xvg',input='Pressure')\n",
    "gmx.energy(f='npt.edr',o='dens.xvg',input='Density')\n",
    "gmx.energy(f='npt.edr',o='temp.xvg',input='Temperature')"
   ]
  },
  {
   "cell_type": "code",
   "execution_count": null,
   "id": "21",
   "metadata": {},
   "outputs": [],
   "source": [
    "temp = np.loadtxt('temp.xvg',comments=['#','@'])\n",
    "press = np.loadtxt('press.xvg',comments=['#','@'])\n",
    "dens = np.loadtxt('dens.xvg',comments=['#','@'])\n",
    "\n",
    "plt.figure(figsize=(15,9))\n",
    "plt.subplot(311)\n",
    "plt.plot(press[:,0],press[:,1])\n",
    "plt.title('isothermal-isobaric equilibration')\n",
    "plt.grid()\n",
    "#plt.xlabel('time (ps)')\n",
    "plt.ylabel(\"pressure (bar)\")\n",
    "\n",
    "plt.subplot(312)\n",
    "plt.ylabel('density (kg/m3)')\n",
    "plt.grid()\n",
    "plt.plot(dens[:,0],dens[:,1])\n",
    "\n",
    "plt.subplot(313)\n",
    "plt.xlabel('time (ps)')\n",
    "plt.ylabel('temperature (K)')\n",
    "plt.grid()\n",
    "plt.plot(temp[:,0],temp[:,1])\n",
    "\n",
    "plt.show()"
   ]
  },
  {
   "cell_type": "code",
   "execution_count": null,
   "id": "22",
   "metadata": {},
   "outputs": [],
   "source": [
    "# Now we are ready to run metadynamics with plumed.dat generated in train.ipynb\n",
    "# Checkpoints are stored, hence the simulation can be restarted if it gets killed\n",
    "#1 m\n",
    "\n",
    "#mdsteps=500000000\n",
    "\n",
    "# 500 ns\n",
    "mdsteps=250000000\n",
    "\n",
    "# 10 ns\n",
    "#mdsteps=5000000\n",
    "\n",
    "# 100 ps\n",
    "#mdsteps=50000"
   ]
  },
  {
   "cell_type": "code",
   "execution_count": null,
   "id": "23",
   "metadata": {},
   "outputs": [],
   "source": [
    "with open('md.mdp','w') as mdp:\n",
    "    mdp.write(f'''\n",
    "integrator              = md        ; leap-frog integrator\n",
    "dt                      = 0.002     ; 2 fs\n",
    "; Output control\n",
    "nstxout                 = 0         ; suppress bulky .trr file by specifying \n",
    "nstvout                 = 0         ; 0 for output frequency of nstxout,\n",
    "nstfout                 = 0         ; nstvout, and nstfout\n",
    "nstenergy               = 5000      ; save energies every 10.0 ps\n",
    "nstlog                  = 5000      ; update log file every 10.0 ps\n",
    "nstxout-compressed      = 5000      ; save compressed coordinates every 10.0 ps\n",
    "; compressed-x-grps       = System    ; save the whole system\n",
    "compressed-x-grps = Protein\n",
    "; Bond parameters\n",
    "continuation            = yes       ; Restarting after NPT \n",
    "constraint_algorithm    = lincs     ; holonomic constraints \n",
    "constraints             = h-bonds   ; bonds involving H are constrained\n",
    "lincs_iter              = 1         ; accuracy of LINCS\n",
    "lincs_order             = 4         ; also related to accuracy\n",
    "; Neighborsearching\n",
    "cutoff-scheme           = Verlet    ; Buffered neighbor searching\n",
    "ns_type                 = grid      ; search neighboring grid cells\n",
    "nstlist                 = 10        ; 20 fs, largely irrelevant with Verlet scheme\n",
    "rcoulomb                = 1.0       ; short-range electrostatic cutoff (in nm)\n",
    "rvdw                    = 1.0       ; short-range van der Waals cutoff (in nm)\n",
    "; Electrostatics\n",
    "coulombtype             = PME       ; Particle Mesh Ewald for long-range electrostatics\n",
    "pme_order               = 4         ; cubic interpolation\n",
    "fourierspacing          = 0.16      ; grid spacing for FFT\n",
    "; Temperature coupling is on\n",
    "tcoupl                  = V-rescale             ; modified Berendsen thermostat\n",
    "tc-grps                 = Protein Non-Protein   ; two coupling groups - more accurate\n",
    "tau_t                   = 0.1     0.1           ; time constant, in ps\n",
    "ref_t                   = 300     300           ; reference temperature, one for each group, in K\n",
    "; Pressure coupling is on\n",
    "pcoupl                  = Parrinello-Rahman     ; Pressure coupling on in NPT\n",
    "pcoupltype              = isotropic             ; uniform scaling of box vectors\n",
    "tau_p                   = 2.0                   ; time constant, in ps\n",
    "ref_p                   = 1.0                   ; reference pressure, in bar\n",
    "compressibility         = 4.5e-5                ; isothermal compressibility of water, bar^-1\n",
    "; Periodic boundary conditions\n",
    "pbc                     = xyz       ; 3-D PBC\n",
    "; Dispersion correction\n",
    "DispCorr                = EnerPres  ; account for cut-off vdW scheme\n",
    "; Velocity generation\n",
    "gen_vel                 = no        ; Velocity generation is off \n",
    "\n",
    "nsteps = {mdsteps}\n",
    "''')"
   ]
  },
  {
   "cell_type": "code",
   "execution_count": null,
   "id": "24",
   "metadata": {},
   "outputs": [],
   "source": [
    "gmx.grompp(f='md.mdp',c='../Thermal-unoflding/trpcage_md_data/npt.gro',t='../Thermal-unoflding/trpcage_md_data/npt.cpt',p=fulltop,o='md.tpr')"
   ]
  },
  {
   "cell_type": "code",
   "execution_count": null,
   "id": "25",
   "metadata": {},
   "outputs": [],
   "source": [
    "!touch HILLS\n",
    "#mdrun(deffnm='md',plumed='plumed.dat',cpi='md.cpt')\n",
    "#mdrun(deffnm='md')"
   ]
  },
  {
   "cell_type": "code",
   "execution_count": null,
   "id": "26",
   "metadata": {},
   "outputs": [],
   "source": [
    "mdrunner.prehook(mpi=4,omp=4,gpus=1)"
   ]
  },
  {
   "cell_type": "code",
   "execution_count": null,
   "id": "27",
   "metadata": {},
   "outputs": [],
   "source": [
    "gmx.trjconv(f='md.xtc',s=base+'-box.gro',pbc='nojump',input='Protein Protein'.split(),o='pbc.xtc')"
   ]
  },
  {
   "cell_type": "code",
   "execution_count": null,
   "id": "28",
   "metadata": {},
   "outputs": [],
   "source": [
    "gmx.trjconv(f='pbc.xtc',s=base+'-box.gro',fit='rot+trans',input='Protein Protein'.split(),o='fit.xtc')"
   ]
  },
  {
   "cell_type": "code",
   "execution_count": null,
   "id": "29",
   "metadata": {},
   "outputs": [],
   "source": []
  },
  {
   "cell_type": "code",
   "execution_count": null,
   "id": "30",
   "metadata": {},
   "outputs": [],
   "source": [
    "import mdtraj as md\n",
    "tr = md.load('fit.xtc',top=base+'-box.gro')"
   ]
  },
  {
   "cell_type": "code",
   "execution_count": null,
   "id": "31",
   "metadata": {},
   "outputs": [],
   "source": [
    "import nglview as nv\n",
    "nv.show_mdtraj(tr)"
   ]
  },
  {
   "cell_type": "code",
   "execution_count": null,
   "id": "32",
   "metadata": {},
   "outputs": [],
   "source": [
    "mdrunner.prehook(mpi=2,omp=4,gpus=1)"
   ]
  },
  {
   "cell_type": "code",
   "execution_count": null,
   "id": "33",
   "metadata": {},
   "outputs": [],
   "source": []
  },
  {
   "cell_type": "code",
   "execution_count": null,
   "id": "34",
   "metadata": {},
   "outputs": [],
   "source": [
    "gmx.convert_tpr(s='md.tpr',o='md-new.tpr',extend=100000)\n",
    "!mv md-new.tpr md.tpr"
   ]
  },
  {
   "cell_type": "code",
   "execution_count": null,
   "id": "35",
   "metadata": {},
   "outputs": [],
   "source": [
    "mdrun(deffnm='md',plumed='plumed.dat',cpi='md.cpt')"
   ]
  },
  {
   "cell_type": "code",
   "execution_count": null,
   "id": "36",
   "metadata": {},
   "outputs": [],
   "source": []
  }
 ],
 "metadata": {
  "kernelspec": {
   "display_name": "Python 3 (ipykernel)",
   "language": "python",
   "name": "python3"
  },
  "language_info": {
   "codemirror_mode": {
    "name": "ipython",
    "version": 3
   },
   "file_extension": ".py",
   "mimetype": "text/x-python",
   "name": "python",
   "nbconvert_exporter": "python",
   "pygments_lexer": "ipython3",
   "version": "3.10.11"
  }
 },
 "nbformat": 4,
 "nbformat_minor": 5
}
