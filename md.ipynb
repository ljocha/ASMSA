{
 "cells": [
  {
   "cell_type": "markdown",
   "id": "e010668c-c7e3-4e1b-8491-72b0db91b5e1",
   "metadata": {},
   "source": [
    "# ASMSA: Run molecular dynamics with CV derived AAE model\n",
    "\n",
    "**Previous steps**\n",
    "- [prepare.ipynb](prepare.ipynb): Download and sanity check input files\n",
    "- [train.ipynb](train.ipynb): Use results of previous tuning in more thorough training|\n",
    "- [tune.ipynb](tune.ipynb): Perform initial hyperparameter tuning for this molecule\n",
    "\n"
   ]
  },
  {
   "cell_type": "code",
   "execution_count": 1,
   "id": "f6efc760-c93b-4848-89d0-442cfe37247d",
   "metadata": {},
   "outputs": [
    {
     "name": "stderr",
     "output_type": "stream",
     "text": [
      "2024-10-16 13:58:10.178366: E external/local_xla/xla/stream_executor/cuda/cuda_fft.cc:485] Unable to register cuFFT factory: Attempting to register factory for plugin cuFFT when one has already been registered\n",
      "2024-10-16 13:58:10.372728: E external/local_xla/xla/stream_executor/cuda/cuda_dnn.cc:8454] Unable to register cuDNN factory: Attempting to register factory for plugin cuDNN when one has already been registered\n",
      "2024-10-16 13:58:10.474298: E external/local_xla/xla/stream_executor/cuda/cuda_blas.cc:1452] Unable to register cuBLAS factory: Attempting to register factory for plugin cuBLAS when one has already been registered\n",
      "2024-10-16 13:58:10.873202: I tensorflow/core/platform/cpu_feature_guard.cc:210] This TensorFlow binary is optimized to use available CPU instructions in performance-critical operations.\n",
      "To enable the following instructions: AVX2 FMA, in other operations, rebuild TensorFlow with the appropriate compiler flags.\n",
      "2024-10-16 13:58:26.274328: W tensorflow/compiler/tf2tensorrt/utils/py_utils.cc:38] TF-TRT Warning: Could not find TensorRT\n"
     ]
    },
    {
     "data": {
      "text/plain": [
       "[LogicalDevice(name='/device:CPU:0', device_type='CPU')]"
      ]
     },
     "execution_count": 1,
     "metadata": {},
     "output_type": "execute_result"
    }
   ],
   "source": [
    "#avoid TF to consume GPU memory\n",
    "import tensorflow as tf\n",
    "tf.config.set_visible_devices([], 'GPU')\n",
    "tf.config.list_logical_devices()"
   ]
  },
  {
   "cell_type": "code",
   "execution_count": null,
   "id": "abf8df38-2c34-4787-b9fc-e15f17440ea7",
   "metadata": {},
   "outputs": [],
   "source": [
    "import asmsa\n",
    "import os\n",
    "import re\n",
    "import numpy as np\n",
    "import matplotlib.pyplot as plt\n",
    "import gromacs as gmx"
   ]
  },
  {
   "cell_type": "code",
   "execution_count": null,
   "id": "e57cf932-74b9-4eba-9c6f-c9fa9109497d",
   "metadata": {},
   "outputs": [],
   "source": [
    "ompthreads=4\n",
    "mpiranks=1"
   ]
  },
  {
   "cell_type": "code",
   "execution_count": null,
   "id": "8d3e9146-c707-4d82-8b71-b5f0c5e0ca9c",
   "metadata": {},
   "outputs": [],
   "source": [
    "# Kubernetes deployment\n",
    "mdrunner=gmx.MDrunnerK8s()\n",
    "\n",
    "def mdrun(**kwargs):\n",
    "    mdrunner.run(pre={'omp':ompthreads,'mpi':mpiranks,'gpus':1}, mdrunargs={**kwargs,'ntomp':ompthreads,'pin':'on'},ncores=mpiranks)\n"
   ]
  },
  {
   "cell_type": "code",
   "execution_count": null,
   "id": "6a9a6c92-cd12-4584-97d7-e7d5d942d922",
   "metadata": {},
   "outputs": [],
   "source": [
    "# alternative local deployment\n",
    "'''\n",
    "mdrunner=gmx.run.MDrunner()\n",
    "\n",
    "# XXX: no MPI support so far\n",
    "def mdrun(**kwargs):\n",
    "    mdrunner.run(mdrunargs={**kwargs,'ntomp':ompthreads,'pin':'on'})\n",
    "'''"
   ]
  },
  {
   "cell_type": "code",
   "execution_count": 3,
   "id": "b83e9d7f-d626-406c-b419-146e94338711",
   "metadata": {},
   "outputs": [],
   "source": [
    "exec(open('inputs.py').read())\n",
    "\n",
    "fulltop = base + '-full.top'\n",
    "!cp {topol} {fulltop}"
   ]
  },
  {
   "cell_type": "code",
   "execution_count": null,
   "id": "92fbf537-c055-4676-8ae7-eca3d2011369",
   "metadata": {},
   "outputs": [],
   "source": [
    "# Dodecahedron box of suitable size (adjust eventually)\n",
    "\n",
    "mdbox=2.0\n",
    "gmx.editconf(f=gro,o=f\"{base}-box.gro\",c=True,d=str(mdbox),bt=\"dodecahedron\")"
   ]
  },
  {
   "cell_type": "code",
   "execution_count": null,
   "id": "959f7d2a-29d7-440a-b499-7163eb22f0c6",
   "metadata": {},
   "outputs": [],
   "source": [
    "# Solvate\n",
    "gmx.solvate(cp=f\"{base}-box.gro\",cs=\"spc216.gro\",o=f\"{base}-solv.gro\",p=fulltop)"
   ]
  },
  {
   "cell_type": "code",
   "execution_count": null,
   "id": "22bcf6be-127d-43a0-bbf3-3a809b76c8f9",
   "metadata": {},
   "outputs": [],
   "source": [
    "# Add ions\n",
    "gmx.grompp(f='ions.mdp',c=f\"{base}-solv.gro\",p=fulltop,o=\"ions.tpr\")"
   ]
  },
  {
   "cell_type": "code",
   "execution_count": null,
   "id": "3bf326ec-13fe-4ade-809d-9b9d5147a0e6",
   "metadata": {},
   "outputs": [],
   "source": [
    "gmx.select(s=\"ions.tpr\",on='sol.ndx',select='SOL')\n",
    "gmx.genion(s=\"ions.tpr\",n=\"sol.ndx\",o=f\"{base}-ions.gro\",p=fulltop,pname=\"NA\",nname=\"CL\",neutral=True)"
   ]
  },
  {
   "cell_type": "code",
   "execution_count": null,
   "id": "a317e83a-f032-4fa2-93b5-0d68dfb8b341",
   "metadata": {},
   "outputs": [],
   "source": [
    "# Energy minimization\n",
    "\n",
    "#gmx.start(f\"grompp -f minim-sol.mdp -c {base}-ions.gro -p {base}.top -o em.tpr\",wait=True,delete=True)\n",
    "gmx.grompp(f=\"minim-sol.mdp\",c=f\"{base}-ions.gro\",p=fulltop,o=\"em.tpr\")"
   ]
  },
  {
   "cell_type": "code",
   "execution_count": null,
   "id": "34cc303b-7354-4be0-88ad-691ef6faaf75",
   "metadata": {},
   "outputs": [],
   "source": [
    "# This job may run a bit longer, start it in background, with more cores and GPU\n",
    "\n",
    "#gmx.start(f\"mdrun -v -deffnm em -pin on\",cores=4,gpus=1)\n",
    "mdrun(deffnm=\"em\")"
   ]
  },
  {
   "cell_type": "code",
   "execution_count": null,
   "id": "1317b147-8b0f-4d9f-9a36-70ad3389e6e4",
   "metadata": {},
   "outputs": [],
   "source": [
    "# Isothermal-isochoric equilibration, following the same job pattern\n",
    "gmx.grompp(f=\"nvt.mdp\",c=\"em.gro\",r=\"em.gro\",p=fulltop,o=\"nvt.tpr\")"
   ]
  },
  {
   "cell_type": "code",
   "execution_count": null,
   "id": "75563888-c51e-4450-b5f1-cadd7eda5eb3",
   "metadata": {},
   "outputs": [],
   "source": [
    "mdrun(deffnm='nvt')"
   ]
  },
  {
   "cell_type": "code",
   "execution_count": null,
   "id": "4dd09e4b-5595-4d93-a561-f3041f603bfb",
   "metadata": {},
   "outputs": [],
   "source": [
    "# And isothermal-isobaric equilibration\n",
    "gmx.grompp(f='npt.mdp',c='nvt.gro',r='nvt.gro',t='nvt.cpt',p=fulltop,o='npt.tpr')"
   ]
  },
  {
   "cell_type": "code",
   "execution_count": null,
   "id": "e0de4e93-247a-47e3-921f-d9104333d537",
   "metadata": {},
   "outputs": [],
   "source": [
    "mdrun(deffnm='npt')"
   ]
  },
  {
   "cell_type": "code",
   "execution_count": null,
   "id": "aa139581-58e9-4d49-a520-a57cb04f7f57",
   "metadata": {},
   "outputs": [],
   "source": [
    "# Extract temperature, pressure and density from the trajectories and plot them\n",
    "gmx.energy(f='npt.edr',o='press.xvg',input='Pressure')\n",
    "gmx.energy(f='npt.edr',o='dens.xvg',input='Density')\n",
    "gmx.energy(f='npt.edr',o='temp.xvg',input='Temperature')"
   ]
  },
  {
   "cell_type": "code",
   "execution_count": null,
   "id": "650c22c0-0579-4b02-ba22-5916cc301a76",
   "metadata": {},
   "outputs": [],
   "source": [
    "temp = np.loadtxt('temp.xvg',comments=['#','@'])\n",
    "press = np.loadtxt('press.xvg',comments=['#','@'])\n",
    "dens = np.loadtxt('dens.xvg',comments=['#','@'])\n",
    "\n",
    "plt.figure(figsize=(15,9))\n",
    "plt.subplot(311)\n",
    "plt.plot(press[:,0],press[:,1])\n",
    "plt.title('isothermal-isobaric equilibration')\n",
    "plt.grid()\n",
    "#plt.xlabel('time (ps)')\n",
    "plt.ylabel(\"pressure (bar)\")\n",
    "\n",
    "plt.subplot(312)\n",
    "plt.ylabel('density (kg/m3)')\n",
    "plt.grid()\n",
    "plt.plot(dens[:,0],dens[:,1])\n",
    "\n",
    "plt.subplot(313)\n",
    "plt.xlabel('time (ps)')\n",
    "plt.ylabel('temperature (K)')\n",
    "plt.grid()\n",
    "plt.plot(temp[:,0],temp[:,1])\n",
    "\n",
    "plt.show()"
   ]
  },
  {
   "cell_type": "code",
   "execution_count": null,
   "id": "19529117-aa22-4132-bf18-d090caea0f93",
   "metadata": {},
   "outputs": [],
   "source": [
    "# Now we are ready to run metadynamics with plumed.dat generated in train.ipynb\n",
    "# Checkpoints are stored, hence the simulation can be restarted if it gets killed\n",
    "# 200 ns\n",
    "mdsteps=100000000\n",
    "\n",
    "# 10 ns\n",
    "#mdsteps=5000000\n",
    "\n",
    "# 100 ps\n",
    "#mdsteps=50000\n"
   ]
  },
  {
   "cell_type": "code",
   "execution_count": null,
   "id": "3cf5499f-1467-47a1-9ca5-b2be7e9238f3",
   "metadata": {},
   "outputs": [],
   "source": [
    "with open('md.mdp','w') as mdp:\n",
    "    mdp.write(f'''\n",
    "integrator              = md        ; leap-frog integrator\n",
    "dt                      = 0.002     ; 2 fs\n",
    "; Output control\n",
    "nstxout                 = 0         ; suppress bulky .trr file by specifying \n",
    "nstvout                 = 0         ; 0 for output frequency of nstxout,\n",
    "nstfout                 = 0         ; nstvout, and nstfout\n",
    "nstenergy               = 5000      ; save energies every 10.0 ps\n",
    "nstlog                  = 5000      ; update log file every 10.0 ps\n",
    "nstxout-compressed      = 5000      ; save compressed coordinates every 10.0 ps\n",
    "; compressed-x-grps       = System    ; save the whole system\n",
    "compressed-x-grps = Protein\n",
    "; Bond parameters\n",
    "continuation            = yes       ; Restarting after NPT \n",
    "constraint_algorithm    = lincs     ; holonomic constraints \n",
    "constraints             = h-bonds   ; bonds involving H are constrained\n",
    "lincs_iter              = 1         ; accuracy of LINCS\n",
    "lincs_order             = 4         ; also related to accuracy\n",
    "; Neighborsearching\n",
    "cutoff-scheme           = Verlet    ; Buffered neighbor searching\n",
    "ns_type                 = grid      ; search neighboring grid cells\n",
    "nstlist                 = 10        ; 20 fs, largely irrelevant with Verlet scheme\n",
    "rcoulomb                = 1.0       ; short-range electrostatic cutoff (in nm)\n",
    "rvdw                    = 1.0       ; short-range van der Waals cutoff (in nm)\n",
    "; Electrostatics\n",
    "coulombtype             = PME       ; Particle Mesh Ewald for long-range electrostatics\n",
    "pme_order               = 4         ; cubic interpolation\n",
    "fourierspacing          = 0.16      ; grid spacing for FFT\n",
    "; Temperature coupling is on\n",
    "tcoupl                  = V-rescale             ; modified Berendsen thermostat\n",
    "tc-grps                 = Protein Non-Protein   ; two coupling groups - more accurate\n",
    "tau_t                   = 0.1     0.1           ; time constant, in ps\n",
    "ref_t                   = 300     300           ; reference temperature, one for each group, in K\n",
    "; Pressure coupling is on\n",
    "pcoupl                  = Parrinello-Rahman     ; Pressure coupling on in NPT\n",
    "pcoupltype              = isotropic             ; uniform scaling of box vectors\n",
    "tau_p                   = 2.0                   ; time constant, in ps\n",
    "ref_p                   = 1.0                   ; reference pressure, in bar\n",
    "compressibility         = 4.5e-5                ; isothermal compressibility of water, bar^-1\n",
    "; Periodic boundary conditions\n",
    "pbc                     = xyz       ; 3-D PBC\n",
    "; Dispersion correction\n",
    "DispCorr                = EnerPres  ; account for cut-off vdW scheme\n",
    "; Velocity generation\n",
    "gen_vel                 = no        ; Velocity generation is off \n",
    "\n",
    "nsteps = {mdsteps}\n",
    "''')"
   ]
  },
  {
   "cell_type": "code",
   "execution_count": null,
   "id": "687eba8e-9423-43a8-bb5b-3fca2d2d0608",
   "metadata": {},
   "outputs": [],
   "source": [
    "gmx.grompp(f='md.mdp',c='npt.gro',t='npt.cpt',p=fulltop,o='md.tpr')"
   ]
  },
  {
   "cell_type": "code",
   "execution_count": null,
   "id": "d6df7af8-1733-4c4b-8319-ceb6d0b9c20e",
   "metadata": {},
   "outputs": [],
   "source": [
    "!touch HILLS\n",
    "mdrun(deffnm='md',plumed='plumed.dat')\n",
    "#mdrun(deffnm='md')"
   ]
  },
  {
   "cell_type": "code",
   "execution_count": null,
   "id": "12025b09-aa0f-4b22-aaff-31e6188e3e71",
   "metadata": {
    "jupyter": {
     "source_hidden": true
    }
   },
   "outputs": [],
   "source": [
    "gmx.trjconv(f='md.xtc',s=base+'-box.gro',pbc='nojump',input='Protein Protein'.split(),o='pbc.xtc')"
   ]
  },
  {
   "cell_type": "code",
   "execution_count": null,
   "id": "c9caa397-5ea7-47fb-a681-96bac3261a14",
   "metadata": {},
   "outputs": [],
   "source": [
    "gmx.trjconv(f='pbc.xtc',s=base+'-box.gro',fit='rot+trans',input='Protein Protein'.split(),o='fit.xtc')"
   ]
  },
  {
   "cell_type": "code",
   "execution_count": 4,
   "id": "55f27c90-370a-431b-b612-5a0fb652017b",
   "metadata": {},
   "outputs": [
    {
     "ename": "FileNotFoundError",
     "evalue": "[Errno 2] No such file or directory: 'trpcage-box.gro'",
     "output_type": "error",
     "traceback": [
      "\u001b[0;31m---------------------------------------------------------------------------\u001b[0m",
      "\u001b[0;31mFileNotFoundError\u001b[0m                         Traceback (most recent call last)",
      "Cell \u001b[0;32mIn[4], line 2\u001b[0m\n\u001b[1;32m      1\u001b[0m \u001b[38;5;28;01mimport\u001b[39;00m \u001b[38;5;21;01mmdtraj\u001b[39;00m \u001b[38;5;28;01mas\u001b[39;00m \u001b[38;5;21;01mmd\u001b[39;00m\n\u001b[0;32m----> 2\u001b[0m tr \u001b[38;5;241m=\u001b[39m \u001b[43mmd\u001b[49m\u001b[38;5;241;43m.\u001b[39;49m\u001b[43mload\u001b[49m\u001b[43m(\u001b[49m\u001b[38;5;124;43m'\u001b[39;49m\u001b[38;5;124;43mfit.xtc\u001b[39;49m\u001b[38;5;124;43m'\u001b[39;49m\u001b[43m,\u001b[49m\u001b[43mtop\u001b[49m\u001b[38;5;241;43m=\u001b[39;49m\u001b[43mbase\u001b[49m\u001b[38;5;241;43m+\u001b[39;49m\u001b[38;5;124;43m'\u001b[39;49m\u001b[38;5;124;43m-box.gro\u001b[39;49m\u001b[38;5;124;43m'\u001b[39;49m\u001b[43m)\u001b[49m\n",
      "File \u001b[0;32m/opt/conda/lib/python3.10/site-packages/mdtraj/core/trajectory.py:396\u001b[0m, in \u001b[0;36mload\u001b[0;34m(filename_or_filenames, discard_overlapping_frames, **kwargs)\u001b[0m\n\u001b[1;32m    394\u001b[0m topkwargs\u001b[38;5;241m.\u001b[39mpop(\u001b[38;5;124m\"\u001b[39m\u001b[38;5;124mstride\u001b[39m\u001b[38;5;124m\"\u001b[39m, \u001b[38;5;28;01mNone\u001b[39;00m)\n\u001b[1;32m    395\u001b[0m topkwargs\u001b[38;5;241m.\u001b[39mpop(\u001b[38;5;124m\"\u001b[39m\u001b[38;5;124mstart\u001b[39m\u001b[38;5;124m\"\u001b[39m, \u001b[38;5;28;01mNone\u001b[39;00m)\n\u001b[0;32m--> 396\u001b[0m kwargs[\u001b[38;5;124m\"\u001b[39m\u001b[38;5;124mtop\u001b[39m\u001b[38;5;124m\"\u001b[39m] \u001b[38;5;241m=\u001b[39m \u001b[43m_parse_topology\u001b[49m\u001b[43m(\u001b[49m\n\u001b[1;32m    397\u001b[0m \u001b[43m    \u001b[49m\u001b[43mkwargs\u001b[49m\u001b[38;5;241;43m.\u001b[39;49m\u001b[43mget\u001b[49m\u001b[43m(\u001b[49m\u001b[38;5;124;43m\"\u001b[39;49m\u001b[38;5;124;43mtop\u001b[39;49m\u001b[38;5;124;43m\"\u001b[39;49m\u001b[43m,\u001b[49m\u001b[43m \u001b[49m\u001b[43mfilename_or_filenames\u001b[49m\u001b[43m[\u001b[49m\u001b[38;5;241;43m0\u001b[39;49m\u001b[43m]\u001b[49m\u001b[43m)\u001b[49m\u001b[43m,\u001b[49m\n\u001b[1;32m    398\u001b[0m \u001b[43m    \u001b[49m\u001b[38;5;241;43m*\u001b[39;49m\u001b[38;5;241;43m*\u001b[39;49m\u001b[43mtopkwargs\u001b[49m\u001b[43m,\u001b[49m\n\u001b[1;32m    399\u001b[0m \u001b[43m\u001b[49m\u001b[43m)\u001b[49m\n\u001b[1;32m    401\u001b[0m \u001b[38;5;66;03m# get the right loader\u001b[39;00m\n\u001b[1;32m    402\u001b[0m \u001b[38;5;28;01mtry\u001b[39;00m:\n\u001b[1;32m    403\u001b[0m     \u001b[38;5;66;03m# loader = _LoaderRegistry[extension][0]\u001b[39;00m\n",
      "File \u001b[0;32m/opt/conda/lib/python3.10/site-packages/mdtraj/core/trajectory.py:179\u001b[0m, in \u001b[0;36m_parse_topology\u001b[0;34m(top, **kwargs)\u001b[0m\n\u001b[1;32m    177\u001b[0m     topology \u001b[38;5;241m=\u001b[39m load_mol2(top, \u001b[38;5;241m*\u001b[39m\u001b[38;5;241m*\u001b[39mkwargs)\u001b[38;5;241m.\u001b[39mtopology\n\u001b[1;32m    178\u001b[0m \u001b[38;5;28;01melif\u001b[39;00m \u001b[38;5;28misinstance\u001b[39m(top, (\u001b[38;5;28mstr\u001b[39m, os\u001b[38;5;241m.\u001b[39mPathLike)) \u001b[38;5;129;01mand\u001b[39;00m (ext \u001b[38;5;129;01min\u001b[39;00m [\u001b[38;5;124m\"\u001b[39m\u001b[38;5;124m.gro\u001b[39m\u001b[38;5;124m\"\u001b[39m]):\n\u001b[0;32m--> 179\u001b[0m     topology \u001b[38;5;241m=\u001b[39m \u001b[43mload_gro\u001b[49m\u001b[43m(\u001b[49m\u001b[43mtop\u001b[49m\u001b[43m,\u001b[49m\u001b[43m \u001b[49m\u001b[38;5;241;43m*\u001b[39;49m\u001b[38;5;241;43m*\u001b[39;49m\u001b[43mkwargs\u001b[49m\u001b[43m)\u001b[49m\u001b[38;5;241m.\u001b[39mtopology\n\u001b[1;32m    180\u001b[0m \u001b[38;5;28;01melif\u001b[39;00m \u001b[38;5;28misinstance\u001b[39m(top, (\u001b[38;5;28mstr\u001b[39m, os\u001b[38;5;241m.\u001b[39mPathLike)) \u001b[38;5;129;01mand\u001b[39;00m (ext \u001b[38;5;129;01min\u001b[39;00m [\u001b[38;5;124m\"\u001b[39m\u001b[38;5;124m.arc\u001b[39m\u001b[38;5;124m\"\u001b[39m]):\n\u001b[1;32m    181\u001b[0m     topology \u001b[38;5;241m=\u001b[39m load_arc(top, \u001b[38;5;241m*\u001b[39m\u001b[38;5;241m*\u001b[39mkwargs)\u001b[38;5;241m.\u001b[39mtopology\n",
      "File \u001b[0;32m/opt/conda/lib/python3.10/site-packages/mdtraj/formats/gro.py:83\u001b[0m, in \u001b[0;36mload_gro\u001b[0;34m(filename, stride, atom_indices, frame, top)\u001b[0m\n\u001b[1;32m     61\u001b[0m \u001b[38;5;129m@FormatRegistry\u001b[39m\u001b[38;5;241m.\u001b[39mregister_loader(\u001b[38;5;124m\"\u001b[39m\u001b[38;5;124m.gro\u001b[39m\u001b[38;5;124m\"\u001b[39m)\n\u001b[1;32m     62\u001b[0m \u001b[38;5;28;01mdef\u001b[39;00m \u001b[38;5;21mload_gro\u001b[39m(filename, stride\u001b[38;5;241m=\u001b[39m\u001b[38;5;28;01mNone\u001b[39;00m, atom_indices\u001b[38;5;241m=\u001b[39m\u001b[38;5;28;01mNone\u001b[39;00m, frame\u001b[38;5;241m=\u001b[39m\u001b[38;5;28;01mNone\u001b[39;00m, top\u001b[38;5;241m=\u001b[39m\u001b[38;5;28;01mNone\u001b[39;00m):\n\u001b[1;32m     63\u001b[0m \u001b[38;5;250m    \u001b[39m\u001b[38;5;124;03m\"\"\"Load a GROMACS GRO file.\u001b[39;00m\n\u001b[1;32m     64\u001b[0m \n\u001b[1;32m     65\u001b[0m \u001b[38;5;124;03m    Parameters\u001b[39;00m\n\u001b[0;32m   (...)\u001b[0m\n\u001b[1;32m     80\u001b[0m \u001b[38;5;124;03m        it saves time if you have to parse a big number of files\u001b[39;00m\n\u001b[1;32m     81\u001b[0m \u001b[38;5;124;03m    \"\"\"\u001b[39;00m\n\u001b[0;32m---> 83\u001b[0m     \u001b[38;5;28;01mwith\u001b[39;00m \u001b[43mGroTrajectoryFile\u001b[49m\u001b[43m(\u001b[49m\u001b[43mfilename\u001b[49m\u001b[43m,\u001b[49m\u001b[43m \u001b[49m\u001b[38;5;124;43m\"\u001b[39;49m\u001b[38;5;124;43mr\u001b[39;49m\u001b[38;5;124;43m\"\u001b[39;49m\u001b[43m,\u001b[49m\u001b[43m \u001b[49m\u001b[43mtop\u001b[49m\u001b[38;5;241;43m=\u001b[39;49m\u001b[43mtop\u001b[49m\u001b[43m)\u001b[49m \u001b[38;5;28;01mas\u001b[39;00m f:\n\u001b[1;32m     84\u001b[0m         \u001b[38;5;28;01mif\u001b[39;00m frame \u001b[38;5;129;01mis\u001b[39;00m \u001b[38;5;129;01mnot\u001b[39;00m \u001b[38;5;28;01mNone\u001b[39;00m:\n\u001b[1;32m     85\u001b[0m             f\u001b[38;5;241m.\u001b[39mseek(frame)\n",
      "File \u001b[0;32m/opt/conda/lib/python3.10/site-packages/mdtraj/formats/gro.py:137\u001b[0m, in \u001b[0;36mGroTrajectoryFile.__init__\u001b[0;34m(self, filename, mode, force_overwrite, top)\u001b[0m\n\u001b[1;32m    135\u001b[0m \u001b[38;5;28mself\u001b[39m\u001b[38;5;241m.\u001b[39m_open \u001b[38;5;241m=\u001b[39m \u001b[38;5;28;01mTrue\u001b[39;00m\n\u001b[1;32m    136\u001b[0m \u001b[38;5;28mself\u001b[39m\u001b[38;5;241m.\u001b[39m_frame_index \u001b[38;5;241m=\u001b[39m \u001b[38;5;241m0\u001b[39m\n\u001b[0;32m--> 137\u001b[0m \u001b[38;5;28mself\u001b[39m\u001b[38;5;241m.\u001b[39m_file \u001b[38;5;241m=\u001b[39m \u001b[38;5;28;43mopen\u001b[39;49m\u001b[43m(\u001b[49m\u001b[43mfilename\u001b[49m\u001b[43m)\u001b[49m\n\u001b[1;32m    138\u001b[0m \u001b[38;5;28;01mtry\u001b[39;00m:\n\u001b[1;32m    139\u001b[0m     \u001b[38;5;28;01mif\u001b[39;00m \u001b[38;5;28mself\u001b[39m\u001b[38;5;241m.\u001b[39mtopology \u001b[38;5;129;01mis\u001b[39;00m \u001b[38;5;28;01mNone\u001b[39;00m:\n",
      "\u001b[0;31mFileNotFoundError\u001b[0m: [Errno 2] No such file or directory: 'trpcage-box.gro'"
     ]
    }
   ],
   "source": [
    "import mdtraj as md\n",
    "tr = md.load('fit.xtc',top=base+'-box.gro')"
   ]
  },
  {
   "cell_type": "code",
   "execution_count": null,
   "id": "943f2cb5-7b83-422a-81c1-cf6fdb9b5cb4",
   "metadata": {},
   "outputs": [],
   "source": [
    "import nglview as nv\n",
    "nv.show_mdtraj(tr)"
   ]
  },
  {
   "cell_type": "code",
   "execution_count": null,
   "id": "a1d7e00d-df71-4ef3-9049-1b65fe2c2dcf",
   "metadata": {},
   "outputs": [],
   "source": []
  }
 ],
 "metadata": {
  "kernelspec": {
   "display_name": "Python 3 (ipykernel)",
   "language": "python",
   "name": "python3"
  },
  "language_info": {
   "codemirror_mode": {
    "name": "ipython",
    "version": 3
   },
   "file_extension": ".py",
   "mimetype": "text/x-python",
   "name": "python",
   "nbconvert_exporter": "python",
   "pygments_lexer": "ipython3",
   "version": "3.10.11"
  }
 },
 "nbformat": 4,
 "nbformat_minor": 5
}
